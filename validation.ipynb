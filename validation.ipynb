{
 "cells": [
  {
   "cell_type": "markdown",
   "metadata": {},
   "source": [
    "# Validation"
   ]
  },
  {
   "cell_type": "markdown",
   "metadata": {},
   "source": [
    "[Zelle # 1] - Modul für die Aggregation des Korpus von gelabelte Daten\n",
    "\n",
    "1 - 5: Funktion für das Löschen der alte Dateien.\n",
    "\n",
    "6 -62: Aggregation der Datei 'episode_temp_valid.csv'. Die  im Ordner 'Repository' anggelegte TXT Dateien werden in der CSV Datei agregiert und in das Repositorium neben den Validation-Notebook verlegt.\n",
    "\n",
    "63 - 69: Umwandlung 'episode_temp_valid.csv' in die Datei 'episode_string_valid.csv'.\n",
    "\n",
    "70: Unnötige Aggregation wird gelöscht."
   ]
  },
  {
   "cell_type": "code",
   "execution_count": null,
   "metadata": {},
   "outputs": [],
   "source": [
    "def entfernen(var):\n",
    "    import os\n",
    "    if os.path.exists(var):\n",
    "        os.remove(var)\n",
    "entfernen(\"episode_string_valid.csv\")\n",
    "import glob\n",
    "def word_to_lex(word):\n",
    "    ret=(word) \n",
    "    return ret\n",
    "def write_back(words):\n",
    "    with open(\"episode_temp_valid.csv\",\"a\", encoding='utf-8') as output:\n",
    "        for word in words:\n",
    "            as_lex = word_to_lex(word[0])\n",
    "            full_word = '\"' + as_lex + '\"'\n",
    "            for sub_word in word[1:]:\n",
    "                full_word += \" , \"  '\"' + sub_word + '\"'\n",
    "            full_word +=\"\\n\"\n",
    "            output.write(full_word)\n",
    "def clean(line):\n",
    "    line = line.replace(\"\\n\",\" \").strip()\n",
    "    line = line.replace(\"ä\",\"ae\").replace(\"ü\",\"ue\").replace(\"ö\",\"oe\")\n",
    "    line = line.replace(\"ß\",\"ss\").replace(\",\",\"\").replace(\"«\",\"\")\n",
    "    line = line.replace(\"»\",\"\").replace(\".\",\"\").replace(\":\",\"\")\n",
    "    line = line.replace(\";\",\"\").replace('\"',\"\")\n",
    "    line = line.replace(\"?\",\"\").replace(\"!\",\"\").replace(\"á\",\"a\")\n",
    "    line = line.replace(\",\",\"\").replace(\"\\t\",\" \").replace(\"'\",\"\")\n",
    "    line = line.replace(\"‹\",\"\").replace(\"›\",\"\").replace(\"-\",\" \")\n",
    "    line = line.replace(\"'('\",\"\").replace(\"')'\",\"\").replace('>','')\n",
    "    line = line.replace(\"    \",\" \").replace(\"   \",\" \").replace(\"  \",\" \")\n",
    "    line = line.replace('–','').replace('—','').replace('<','')\n",
    "    line = line.replace(\"Â\", \"A\").replace(\"ø\", \"oe\").replace('“','')\n",
    "    line = line.replace('„','').replace('(','').replace(')','')\n",
    "    line = line.replace(\"‚\", \"\").replace(']','').replace('[','')\n",
    "    if line == \"\": \n",
    "        return\n",
    "    line=line.split(\"|\")\n",
    "    line[0]=line[0].split(\"|\")[0]\n",
    "    for i, _ in enumerate(line):\n",
    "        if (i !=0) and (i!=2):\n",
    "            line[i]=line[i].lower()\n",
    "    flex=[]\n",
    "    try:\n",
    "        flex=line[1].split(\"\")\n",
    "    except:\n",
    "        pass\n",
    "    value=str(line)\n",
    "    line=str(line)   \n",
    "    flex.append(line)\n",
    "    ret=[]\n",
    "    for i in flex:\n",
    "        ret.append((i,value[0]))\n",
    "    return ret\n",
    "with open(\"episode_temp_valid.csv\", \"w\", encoding='utf-8') as output:\n",
    "    output.write (\"quelle,episode,index_string,index_binar\\n\")\n",
    "pairs = []\n",
    "for file in glob.glob(\"Forschungsdaten/*.txt\"):\n",
    "        with open(file, 'r', encoding='utf-8', errors='ignore') as episode:\n",
    "            for line in episode.readlines():\n",
    "                clean_words = clean(line)\n",
    "                pairs = pairs + clean_words\n",
    "write_back(pairs)\n",
    "fin = open(\"episode_temp_valid.csv\",'r', encoding ='utf-8')\n",
    "fout = open('episode_string_valid.csv', \"wt\", encoding ='utf-8')\n",
    "for kfz in fin:\n",
    "    fout.write(kfz.replace(', \"[\"',\"\").replace('\"[', \"\")\n",
    "               .replace(']\"',\"\").replace(\"', '\", \"','\")\n",
    "               .replace(\" '\", \"'\").replace(\"'\",\"\"))                      \n",
    "fin.close()\n",
    "fout.close()\n",
    "entfernen(\"episode_temp_valid.csv\")"
   ]
  },
  {
   "cell_type": "markdown",
   "metadata": {},
   "source": [
    "[Zelle # 2] - Modul für die Aggregation der im Markup vorhandene Episodenliste\n",
    "\n",
    "1: Alte Liste löschen (falls vorhanden).\n",
    "\n",
    "2 - 23: Episodenliste in eine CSV-Tempdatei anlegen, von der zusätzliche Zeichen bereinigen und in die Datei 'liste_string_valid.csv' anlegen. \n",
    "\n",
    "24: Unnötige Aggregation wird gelöscht."
   ]
  },
  {
   "cell_type": "code",
   "execution_count": null,
   "metadata": {},
   "outputs": [],
   "source": [
    "entfernen('liste_markup_valid.csv' )\n",
    "import glob\n",
    "import csv \n",
    "import shutil, os\n",
    "def write_back(lines):\n",
    "    with open(\"liste_temp_valid.csv\",\"a\", encoding='utf-8') as output:\n",
    "        for line in lines:        \n",
    "            output.write(line)\n",
    "with open(\"liste_temp_valid.csv\", \"w\", encoding='utf-8') as output:\n",
    "    output.write (\"index_string\\n\")\n",
    "markup = []\n",
    "for file in glob.glob(\"Markup/*.txt\"): \n",
    "        with open(file, 'r', encoding='utf-8', errors='ignore') as episode:\n",
    "            for line in episode.readlines():\n",
    "                if line.startswith( \"e\" ) and '__' not in line:\n",
    "                    markup.append(line)\n",
    "write_back(markup)\n",
    "fin = open('liste_temp_valid.csv','r', encoding ='utf-8')\n",
    "fout = open('liste_markup_valid.csv', \"wt\", encoding ='utf-8')\n",
    "for kfz in fin:\n",
    "    fout.write(kfz.replace(\"'\",\"\"))                      \n",
    "fin.close()\n",
    "fout.close()\n",
    "entfernen('liste_temp_valid.csv')"
   ]
  },
  {
   "cell_type": "markdown",
   "metadata": {},
   "source": [
    "[Zelle # 3] - Modul für die Gegenüberstellung der Markupliste und der Labels \n",
    "\n",
    "1 - 13: Rotmarkierte Werte stellen die Labels aus den Textdaten dar, die in den Markupliste keine adäquate Werte haben und umgekehrt, grüne Werte stellen die Elemente aus der Markupliste dar, die keine adäquate Werte in Textdaten haben. Im idealen Fall muss es keine rote Labels geben (ausgenomen Episoden mit einem '_a_' Suffix."
   ]
  },
  {
   "cell_type": "code",
   "execution_count": null,
   "metadata": {
    "scrolled": true
   },
   "outputs": [],
   "source": [
    "import pandas as pd\n",
    "df1 = pd.read_csv(\"episode_string_valid.csv\", encoding='utf-8')\n",
    "df2 = pd.read_csv(\"liste_markup_valid.csv\", encoding='utf-8')\n",
    "listA=(df1['index_string'])\n",
    "listB=(df2['index_string'])\n",
    "from termcolor import colored\n",
    "AB=sorted(list(set(listA) ^ set(listB)))\n",
    "nurB=sorted(list(set(AB) & set(listB)))\n",
    "nurA=sorted(list(set(AB) & set(listA)))\n",
    "for elementA in nurA:\n",
    "    print(colored(elementA,\"red\"))\n",
    "for elementB in nurB:\n",
    "    print(colored(elementB,\"green\"))"
   ]
  },
  {
   "cell_type": "markdown",
   "metadata": {},
   "source": [
    "[Zelle #4] - Extraliste für die bestimte Episodengruppe\n",
    "\n",
    "1: Episodengruppe bestimmen\n",
    "\n",
    "2: Labels von Textdateien ('listA') oder Elemente aus dem Markup ('listB' bestimmen  \n",
    "\n",
    "3-4: In der Zeile 2 bestimmte Liste abrufen"
   ]
  },
  {
   "cell_type": "code",
   "execution_count": null,
   "metadata": {
    "scrolled": true
   },
   "outputs": [],
   "source": [
    "egruppe='e650A_'\n",
    "for find in listB: # alternativ 'lisA'\n",
    "    if egruppe in find:\n",
    "        print(find)"
   ]
  },
  {
   "cell_type": "markdown",
   "metadata": {},
   "source": [
    "### Ende"
   ]
  }
 ],
 "metadata": {
  "kernelspec": {
   "display_name": "Python 3 (ipykernel)",
   "language": "python",
   "name": "python3"
  },
  "language_info": {
   "codemirror_mode": {
    "name": "ipython",
    "version": 3
   },
   "file_extension": ".py",
   "mimetype": "text/x-python",
   "name": "python",
   "nbconvert_exporter": "python",
   "pygments_lexer": "ipython3",
   "version": "3.9.7"
  }
 },
 "nbformat": 4,
 "nbformat_minor": 4
}
