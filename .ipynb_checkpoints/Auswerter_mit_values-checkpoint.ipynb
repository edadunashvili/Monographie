{
 "cells": [
  {
   "cell_type": "markdown",
   "metadata": {},
   "source": [
    "# Modul für die Auswertund der annotierten Textdaten"
   ]
  },
  {
   "cell_type": "markdown",
   "metadata": {},
   "source": [
    "## Textkorpus aggregieren"
   ]
  },
  {
   "cell_type": "markdown",
   "metadata": {},
   "source": [
    "1 - Den Korpusbestand bestimmen. Die Variable 'tupNum' und 'repert' gelten für die Auswähl der in dem Trainingsdatenrepositorium angelegte Texte mit dem gesuchten Typ und dem Herkunftsrepertoire. Sowohl die Variable 'typNum' ails auch 'repert' kann mit leeren Anführungszeichen dargestellt werden.\n",
    "\n",
    "Die Variablen: 'episode_roh_auswerter' und 'episode_string_auswerter' beziehen sich auf die gleichnamigen CSV Dateien, die aus den im Ordner „Trainingsdaten“ angelegte TXT Dateien aggregiert und in das root Repositorium angelegt werden. Zunächst entsteht 'episode_roh_auswerter.csv' Datei, die dann in bereinigten 'episode_string_auswerter.csv' Datei umgewandelt wird. "
   ]
  },
  {
   "cell_type": "code",
   "execution_count": 36,
   "metadata": {},
   "outputs": [],
   "source": [
    "typNum='300'\n",
    "repert=''\n",
    "ausnahme='xxyyzz'\n",
    "episode_string_auswerter = \"episode_string_auswerter.csv\"\n",
    "episode_roh_auswerter = \"episode_roh_auswerter.csv\""
   ]
  },
  {
   "cell_type": "markdown",
   "metadata": {},
   "source": [
    "2 - Jedes Mal bei der Aggregation des Korpus von Trainingsdaten wird der gleichnamige alte Korpus gelöscht (falls vorhanden, andernfalls erscheint die Meldung „Die Datei existiert nicht“). "
   ]
  },
  {
   "cell_type": "code",
   "execution_count": 37,
   "metadata": {},
   "outputs": [],
   "source": [
    "import os\n",
    "if os.path.exists(episode_string_auswerter):\n",
    "    os.remove(episode_string_auswerter)\n",
    "else:\n",
    "    print(\"Diese Datei existiert nicht\")"
   ]
  },
  {
   "cell_type": "markdown",
   "metadata": {},
   "source": [
    "3 - Aggregation der episode_roh_auswerter.csv Datei."
   ]
  },
  {
   "cell_type": "code",
   "execution_count": 38,
   "metadata": {},
   "outputs": [],
   "source": [
    "import glob\n",
    "def word_to_lex(word):\n",
    "    ret=(word) \n",
    "    return ret\n",
    "def write_back(words):\n",
    "    with open(episode_roh_auswerter,\"a\", encoding='utf-8', errors='ignore') as output:\n",
    "        for word in words:\n",
    "            #print(word)\n",
    "            as_lex = word_to_lex(word[0])\n",
    "            full_word = '\"' + as_lex + '\"'\n",
    "            for sub_word in word[1:]:\n",
    "                full_word += \" , \"  '\"' + sub_word + '\"'\n",
    "            full_word +=\"\\n\"\n",
    "            output.write(full_word)\n",
    "def clean(line):\n",
    "    line = line.replace(\"\\n\",\" \").strip()\n",
    "    line = line.replace(\"ä\",\"ae\").replace(\"ü\",\"ue\").replace(\"ö\",\"oe\")\n",
    "    line = line.replace(\"ß\",\"ss\").replace(\",\",\"\").replace(\"«\",\"\")\n",
    "    line = line.replace(\"»\",\"\").replace(\".\",\"\").replace(\":\",\"\")\n",
    "    line = line.replace(\";\",\"\").replace('\"',\"\")\n",
    "    line = line.replace(\"?\",\"\").replace(\"!\",\"\").replace(\"á\",\"a\")\n",
    "    line = line.replace(\",\",\"\").replace(\"\\t\",\" \").replace(\"'\",\"\")\n",
    "    line = line.replace(\"‹\",\"\").replace(\"›\",\"\").replace(\"-\",\" \")\n",
    "    line = line.replace(\"'('\",\"\").replace(\"')'\",\"\").replace('>','')\n",
    "    line = line.replace(\"    \",\" \").replace(\"   \",\" \").replace(\"  \",\" \")\n",
    "    line = line.replace('–','').replace('—','').replace('<','')\n",
    "    line = line.replace(\"Â\", \"A\").replace(\"ø\", \"oe\").replace('“','')\n",
    "    line = line.replace('„','').replace('(','').replace(')','')\n",
    "    line = line.replace(\"‚\", \"\").replace(']','').replace('[','')\n",
    "    if line == \"\": \n",
    "        return\n",
    "    line=line.split(\"|\")\n",
    "    line[0]=line[0].split(\"|\")[0]\n",
    "    for i, _ in enumerate(line):\n",
    "        if (i !=0) and (i!=2):\n",
    "            line[i]=line[i].lower()\n",
    "    flex=[]\n",
    "    try:\n",
    "        flex=line[1].split(\"\")\n",
    "    except:\n",
    "        pass\n",
    "    value=str(line)\n",
    "    line=str(line)   \n",
    "    flex.append(line)\n",
    "    ret=[]\n",
    "    for i in flex:\n",
    "        ret.append((i,value[0]))\n",
    "    return ret\n",
    "    for i in flex:\n",
    "        ret.append((i,value[0]))\n",
    "    return ret\n",
    "with open(episode_roh_auswerter, \"w\", encoding='utf-8', errors='ignore') as output:\n",
    "    output.write (\"quelle,episode,index_string,index_binar\\n\")\n",
    "pairs = []\n",
    "for file in glob.glob(\"Forschungsdaten/*.txt\"):  \n",
    "    if typNum in file and repert in file and not ausnahme in file:\n",
    "        with open(file, 'r', encoding='utf-8', errors='ignore') as episode:\n",
    "            for line in episode.readlines():\n",
    "                clean_words = clean(line)\n",
    "                pairs = pairs + clean_words\n",
    "write_back(pairs)"
   ]
  },
  {
   "cell_type": "markdown",
   "metadata": {},
   "source": [
    "4 - Aggregation der episode_string_auswerter.csv Datei."
   ]
  },
  {
   "cell_type": "code",
   "execution_count": 39,
   "metadata": {},
   "outputs": [],
   "source": [
    "fin = open(episode_roh_auswerter,'r', encoding ='utf-8')\n",
    "fout = open(episode_string_auswerter, \"wt\", encoding ='utf-8')\n",
    "for kfz in fin:\n",
    "    fout.write(kfz.replace(', \"[\"',\"\").replace('\"[', \"\")\n",
    "               .replace(']\"',\"\").replace(\"', '\", \"','\")\n",
    "               .replace(\" '\", \"'\").replace(\"'\",\"\")\n",
    "               .replace ('\"',''))                      \n",
    "fin.close()\n",
    "fout.close()"
   ]
  },
  {
   "cell_type": "markdown",
   "metadata": {},
   "source": [
    "5 - Liste der der in den Textdaten vorhanden Annotationen (diese Zelle hat nur eine anschaunliche Funktion)."
   ]
  },
  {
   "cell_type": "code",
   "execution_count": 40,
   "metadata": {},
   "outputs": [
    {
     "name": "stdout",
     "output_type": "stream",
     "text": [
      "Counter({'e300_e_vorfeld_des_kampfes_bis_zum_sieg': 65, 'e300_c_anfangssituation_ankunft_und_erkundigung_der_not': 60, 'e300_o_auftritt_des_HD_vor_dem_AG_bis_zur_erkennung_seiner_heldentat': 58, 'e554_e_leistung_des_HD_gegenueber_dem_tier_und_aussprechen_der_dankbarkeit': 35, 'e300_g_nach_dem_sieg_bis_zur_trennung_des_HD_und_des_OB': 33, 'e300_k_misshandlung_des_FH_bis_zur_hochzeitstag': 30, 'e300_i_rueckkehr_des_OB_und_die_suche_nach_dem_HD': 28, 'e300_q_von_der_begegnung_mit_dem_vogel_bis_zum_ende_des_fluges': 27, 'eCoM_c_conceptia_magica': 24, 'e301_o_von_der_rueckkehr_an_die_oberflaeche_bis_zur_loesung_der_durch_den_raub_ausgeloesten_krise': 22, 'e301_k_empfang_des_OB_und_verrat_vom_FH': 21, 'e301_e_vom_beginn_der_aktivitaet_bis_zum_finden_der_raststaette_oder_eines_einganges': 20, 'e301_i_vom_betreten_des_wohnsitzes_des_AN_bis_zur_befreiehung_des_OB': 20, 'eUNDF_a_': 20, 'e303_c_eingangssituation_bis_zur_trennung': 20, 'e301_m_entkommen_aus_dem_haus_des_AN': 19, 'e300_m_rueckkehr_des_HD_und_erkundung_ueber_die_hochzeit_bis_zum_wiedergewinn_der_aufmerksamkeit': 19, 'e303_g_erstes_treffen_mit_dem_AN': 18, 'e303_i_vom_erkundigung_der_not_bis_zum_aufbruch_des_HF_zum_AN': 17, 'e301_c_verlust_des_OB': 16, 'e303_k_vom_aufbruch_zum_AN_bis_zur_seiner_ueberweltigung': 16, 'e301_g_vom_finder_einer_nachtrast_bis_zum_betreten_der_welt_des_AN': 14, 'e516_k_gewinnung_des_OB': 14, 'e516_e_fernliebe_bis_zum_aufbruch_zur_suche_des_OB': 13, 'e315_a_': 12, 'e300_l_wiederbelebung_des_HD': 11, 'e516_m_rueckkehr_und_belauschung_des_ST': 7, 'e550_a_': 7, 'e516_o_abwehr_der_vorletzten_gefahr': 6, 'e516_q_abwehr_der_letzten_gefahr': 6, 'e516_s_erklaerung_und_konsequenzen': 6, 'e516_u_erfahren_ueber_das_erloesungsmittel_bis_zum_erloesung': 6, 'e303_m_eifersucht': 6, 'e516_w_glueckliches_ende': 5, 'e303_q_rueckkehr_und_finale': 5, 'e328_a_': 4, 'e562_a_': 4, 'e516_a_': 3, 'e302_m_kampf_bis_zum_sieg': 3, 'e650A_c_von_geburt_des_HD_bis_zum_verlassen_des_hauses': 3, 'e650A_g_zum_besuch_beim_AN_und_die_reaktion_des_AN': 3, 'e650A_k_die_letzte_aufgabe': 3, 'e650A_m_nach_der_erfuellung_der_letzte_aufgabe_bis_zum_ende_der_geschichte': 3, 'e316_a_': 3, 'e567_a_': 3, 'e302_k_erkundigung_ueber_den_aufenthaltsort_des_lebens_des_AN': 2, 'e302_c_verlust_des_OB_wird_artikuliert': 2, 'e650A_e_verlassen_des_hauses_bis_zum_treffen_mit_dem_AN': 2, 'e650A_i_eine_der_vorlezten_aufgabe': 2, 'e554_g_verstoss_auf_die_herausforderungen_bis_zum_beginn_der_loesungsmassnahmen': 2, 'e554_k_der_HD_geniesst_die_gegenleistung_des_tieres': 2, 'e567_a_Das_wunderbare_Vogelherz': 2, 'e513a_a_Sechse_kommen_durch_die_ganze_Welt': 1, 'e302_o_befreiung_des_OB_bis_zur_belohnung_des_HD_oder_erneuten_mangelsituation': 1, 'e312d_a_ ': 1, 'e327a_a_Haensel_und_Gretel': 1, 'e314a_a_Der_Hirt_und_die_drei_Riesen': 1, 'e315a_a_Menschenfressende_Schwester': 1, 'e313_a_Die_magische_Flucht': 1, 'e530_a_Die_Koenigstochter_auf_dem_Glasberg ': 1, 'e513a_a_': 1, 'e314_a_': 1, 'e850_a_': 1, 'e303_o_erloesung_des_AN': 1, 'e554_m_nach_der_erfuellung_der_letzten_aufgabe_bis_zum_ende_der_geschichte': 1, 'e590_a_': 1})\n"
     ]
    }
   ],
   "source": [
    "import pandas as pd\n",
    "df = pd.read_csv(episode_string_auswerter, encoding='utf-8')\n",
    "from collections import Counter\n",
    "indexliste=Counter(df.index_string)\n",
    "print(indexliste, sep='\\n') # alternativ kann man vor dem 'indexliste' ein Sternchen (*) setzen"
   ]
  },
  {
   "cell_type": "markdown",
   "metadata": {},
   "source": [
    "## Auswertungsergebnisse in der Liste"
   ]
  },
  {
   "cell_type": "markdown",
   "metadata": {},
   "source": [
    "6 - Das Skript sorgt dafür die in den betrachteten Texten vorhandene Annotationen in eine Kette der vorherigen, der gesuchten und der folgenden Episode als Gliedern der gesamten Kette umzuwandeln."
   ]
  },
  {
   "cell_type": "code",
   "execution_count": 41,
   "metadata": {},
   "outputs": [],
   "source": [
    "import pandas as pd\n",
    "df = pd.read_csv('episode_string_auswerter.csv', encoding='utf-8')\n",
    "from collections import Counter\n",
    "def ep_format(ep_full):\n",
    "    return (ep_full.split('_'))[0]\n",
    "def ep_name_format(ep_full):\n",
    "    sublist = (ep_full.split('_'))[0:2]\n",
    "    name = \"\"\n",
    "    for strg in sublist:\n",
    "        name += strg+'_'\n",
    "    return name\n",
    "# def ep_name_vollformat(ep_full):\n",
    "#     sublist = (ep_full.split())\n",
    "#     vollname = \"\"\n",
    "#     for strg in sublist:\n",
    "#         vollname += strg\n",
    "#     return vollname\n",
    "def quellenvergleich (df, i1, i2):\n",
    "    return df.quelle[i1]==df.quelle[i2]\n",
    "def ast(gesep, df):\n",
    "    ep_tree = {}\n",
    "    a_liste = []\n",
    "    z_liste = []  \n",
    "    df_len = len(df.index_string)\n",
    "    for i, ep in enumerate(df.index_string):\n",
    "        if gesep == ep:\n",
    "            if (i > 0)&(quellenvergleich(df, i, i-1)):\n",
    "                a = df.index_string[i-1]\n",
    "            else:\n",
    "                a = 'eAnfang_a_'\n",
    "            if (i < df_len - 1):\n",
    "                if not (quellenvergleich(df, i, i+1)):\n",
    "                    z = 'eEnde_a_'\n",
    "                else:        \n",
    "                    z = df.index_string[i+1]\n",
    "            else:\n",
    "                z = 'eEnde_a_'\n",
    "            a_liste.append(a)\n",
    "            z_liste.append(z)\n",
    "    return {gesep: [Counter(a_liste), Counter(z_liste)]}"
   ]
  },
  {
   "cell_type": "markdown",
   "metadata": {},
   "source": [
    "7 - Das Skript extrachiert die im Korpus vorhandene alle Episoden."
   ]
  },
  {
   "cell_type": "code",
   "execution_count": 42,
   "metadata": {},
   "outputs": [],
   "source": [
    "def alle_aeste(gesep, df):\n",
    "    episoden_baeume = {} \n",
    "    ep_list = []\n",
    "    for ep_full in df.index_string:         \n",
    "        ep = ep_format(ep_full)      \n",
    "        if gesep == ep:                      \n",
    "            ep_list.append(ep_full)\n",
    "    for ep in set(ep_list):\n",
    "        episoden_baeume.update(ast(ep,df))\n",
    "    return episoden_baeume"
   ]
  },
  {
   "cell_type": "markdown",
   "metadata": {},
   "source": [
    "8 - Die extrahierte Episoden werden an die Glieder der Episodenkette des gesuchten Typs umlegen."
   ]
  },
  {
   "cell_type": "code",
   "execution_count": 43,
   "metadata": {},
   "outputs": [],
   "source": [
    "def key_val_printer(d):\n",
    "    for k, v in d.items():\n",
    "        print(v, k, sep=':')\n",
    "def baum_printer(baeume: dict, baum: str):\n",
    "    key_val_printer (baeume[baum][0])\n",
    "    print(65*'-')\n",
    "    print(sum(baeume[baum][0].values()),':', baum)\n",
    "    print(65*'-')\n",
    "    key_val_printer(baeume[baum][1]) \n",
    "def wald_printer(wald: dict):\n",
    "    for baum in sorted(wald.keys()): # for baum in (wald.keys()):\n",
    "        baum_printer (wald, baum)\n",
    "        print(65*'=')\n",
    "def key_val_printer(d):\n",
    "    for k, v in d.items():\n",
    "        print(v, k, sep=':')             "
   ]
  },
  {
   "cell_type": "markdown",
   "metadata": {},
   "source": [
    "9 - Hier wird die gesuchte Episode allein oder mit der Episodengruppen aus dem kombinierten Typ bestimmt. Nach der Ausführung der Zelle wird entsprechende Episodenkette ausgewertet. Die dabei enrschienene Liste besteht aus Tripletten (die auseinander mit doppelter Linien getrennte Zeilengruppe). Jede Triplett besteht aus mittlerer Episode (die  mit einfachen Linien umgebene Zeilen) welche mit eine bzw. mehrere obere und untere Episoden umgeben wird. Jedes Glied aus der gesuchten Episodengruppe soll als Triplett aller diese drei Mitglieder dargestellt werden. Hat eine Episode keine Anfangs- oder Ergänzungsglied so werden an der entsprechende Stelle der Liste jeweils eine synthetische Episode: ‘eAnfang_a_‘ oder ‘eEnde_a_‘ generiert. Somit stellt jede Episode des gesuchten Typs eine Mittlere Episode dar und tritt in Bezug auf andere Episode der gleichen oder anderer Kategorie als deren vorläufige oder/und nachfolgende Episode auf.\n",
    "\n",
    "* Zeile 1 = Eingabefeld für die gesuchte Episodengruppe\n",
    "\n",
    "* Zeile 2 =  Eingabefeld für kombinierten Episodengruppen (das Eingabefeld <graph.update(alle_aeste(\"'\", df)> kann kopiert und vervielfacht werden. Bei der eingabe des gesuchten Wertes muss man darauf achten, dass das einfache Anführungszeichen (') links von dem eingetragener Wert bestehen bleibt."
   ]
  },
  {
   "cell_type": "code",
   "execution_count": 44,
   "metadata": {},
   "outputs": [
    {
     "name": "stdout",
     "output_type": "stream",
     "text": [
      "1:e302_m_kampf_bis_zum_sieg\n",
      "18:e301_m_entkommen_aus_dem_haus_des_AN\n",
      "1:e327a_a_Haensel_und_Gretel\n",
      "2:e301_k_empfang_des_OB_und_verrat_vom_FH\n",
      "8:e554_e_leistung_des_HD_gegenueber_dem_tier_und_aussprechen_der_dankbarkeit\n",
      "1:e302_c_verlust_des_OB_wird_artikuliert\n",
      "1:e314_a_\n",
      "4:e315_a_\n",
      "8:e303_c_eingangssituation_bis_zur_trennung\n",
      "1:e303_i_vom_erkundigung_der_not_bis_zum_aufbruch_des_HF_zum_AN\n",
      "6:eUNDF_a_\n",
      "2:eAnfang_a_\n",
      "1:e550_a_\n",
      "2:e650A_k_die_letzte_aufgabe\n",
      "2:e562_a_\n",
      "1:e590_a_\n",
      "1:e300_e_vorfeld_des_kampfes_bis_zum_sieg\n",
      "-----------------------------------------------------------------\n",
      "60 : e300_c_anfangssituation_ankunft_und_erkundigung_der_not\n",
      "-----------------------------------------------------------------\n",
      "57:e300_e_vorfeld_des_kampfes_bis_zum_sieg\n",
      "1:e302_m_kampf_bis_zum_sieg\n",
      "1:e554_g_verstoss_auf_die_herausforderungen_bis_zum_beginn_der_loesungsmassnahmen\n",
      "1:eEnde_a_\n",
      "=================================================================\n",
      "57:e300_c_anfangssituation_ankunft_und_erkundigung_der_not\n",
      "2:e300_k_misshandlung_des_FH_bis_zur_hochzeitstag\n",
      "1:e315_a_\n",
      "1:e550_a_\n",
      "2:eUNDF_a_\n",
      "1:e554_m_nach_der_erfuellung_der_letzten_aufgabe_bis_zum_ende_der_geschichte\n",
      "1:eAnfang_a_\n",
      "-----------------------------------------------------------------\n",
      "65 : e300_e_vorfeld_des_kampfes_bis_zum_sieg\n",
      "-----------------------------------------------------------------\n",
      "31:e300_g_nach_dem_sieg_bis_zur_trennung_des_HD_und_des_OB\n",
      "23:e300_i_rueckkehr_des_OB_und_die_suche_nach_dem_HD\n",
      "1:e300_k_misshandlung_des_FH_bis_zur_hochzeitstag\n",
      "5:e300_o_auftritt_des_HD_vor_dem_AG_bis_zur_erkennung_seiner_heldentat\n",
      "1:e300_l_wiederbelebung_des_HD\n",
      "3:eUNDF_a_\n",
      "1:e300_c_anfangssituation_ankunft_und_erkundigung_der_not\n",
      "=================================================================\n",
      "31:e300_e_vorfeld_des_kampfes_bis_zum_sieg\n",
      "1:e300_k_misshandlung_des_FH_bis_zur_hochzeitstag\n",
      "1:e300_l_wiederbelebung_des_HD\n",
      "-----------------------------------------------------------------\n",
      "33 : e300_g_nach_dem_sieg_bis_zur_trennung_des_HD_und_des_OB\n",
      "-----------------------------------------------------------------\n",
      "27:e300_k_misshandlung_des_FH_bis_zur_hochzeitstag\n",
      "2:e300_i_rueckkehr_des_OB_und_die_suche_nach_dem_HD\n",
      "1:e300_l_wiederbelebung_des_HD\n",
      "1:eEnde_a_\n",
      "1:e300_q_von_der_begegnung_mit_dem_vogel_bis_zum_ende_des_fluges\n",
      "1:e300_o_auftritt_des_HD_vor_dem_AG_bis_zur_erkennung_seiner_heldentat\n",
      "=================================================================\n",
      "2:e300_k_misshandlung_des_FH_bis_zur_hochzeitstag\n",
      "23:e300_e_vorfeld_des_kampfes_bis_zum_sieg\n",
      "2:e300_g_nach_dem_sieg_bis_zur_trennung_des_HD_und_des_OB\n",
      "1:e300_q_von_der_begegnung_mit_dem_vogel_bis_zum_ende_des_fluges\n",
      "-----------------------------------------------------------------\n",
      "28 : e300_i_rueckkehr_des_OB_und_die_suche_nach_dem_HD\n",
      "-----------------------------------------------------------------\n",
      "27:e300_o_auftritt_des_HD_vor_dem_AG_bis_zur_erkennung_seiner_heldentat\n",
      "1:e300_k_misshandlung_des_FH_bis_zur_hochzeitstag\n",
      "=================================================================\n",
      "27:e300_g_nach_dem_sieg_bis_zur_trennung_des_HD_und_des_OB\n",
      "1:e300_e_vorfeld_des_kampfes_bis_zum_sieg\n",
      "1:e300_i_rueckkehr_des_OB_und_die_suche_nach_dem_HD\n",
      "1:eAnfang_a_\n",
      "-----------------------------------------------------------------\n",
      "30 : e300_k_misshandlung_des_FH_bis_zur_hochzeitstag\n",
      "-----------------------------------------------------------------\n",
      "2:e300_i_rueckkehr_des_OB_und_die_suche_nach_dem_HD\n",
      "8:e300_l_wiederbelebung_des_HD\n",
      "2:e300_e_vorfeld_des_kampfes_bis_zum_sieg\n",
      "1:e850_a_\n",
      "1:e300_g_nach_dem_sieg_bis_zur_trennung_des_HD_und_des_OB\n",
      "10:e300_m_rueckkehr_des_HD_und_erkundung_ueber_die_hochzeit_bis_zum_wiedergewinn_der_aufmerksamkeit\n",
      "1:e303_c_eingangssituation_bis_zur_trennung\n",
      "4:e300_o_auftritt_des_HD_vor_dem_AG_bis_zur_erkennung_seiner_heldentat\n",
      "1:eEnde_a_\n",
      "=================================================================\n",
      "8:e300_k_misshandlung_des_FH_bis_zur_hochzeitstag\n",
      "1:e300_g_nach_dem_sieg_bis_zur_trennung_des_HD_und_des_OB\n",
      "1:e300_e_vorfeld_des_kampfes_bis_zum_sieg\n",
      "1:eAnfang_a_\n",
      "-----------------------------------------------------------------\n",
      "11 : e300_l_wiederbelebung_des_HD\n",
      "-----------------------------------------------------------------\n",
      "8:e300_m_rueckkehr_des_HD_und_erkundung_ueber_die_hochzeit_bis_zum_wiedergewinn_der_aufmerksamkeit\n",
      "2:e300_o_auftritt_des_HD_vor_dem_AG_bis_zur_erkennung_seiner_heldentat\n",
      "1:e300_g_nach_dem_sieg_bis_zur_trennung_des_HD_und_des_OB\n",
      "=================================================================\n",
      "8:e300_l_wiederbelebung_des_HD\n",
      "10:e300_k_misshandlung_des_FH_bis_zur_hochzeitstag\n",
      "1:e303_c_eingangssituation_bis_zur_trennung\n",
      "-----------------------------------------------------------------\n",
      "19 : e300_m_rueckkehr_des_HD_und_erkundung_ueber_die_hochzeit_bis_zum_wiedergewinn_der_aufmerksamkeit\n",
      "-----------------------------------------------------------------\n",
      "19:e300_o_auftritt_des_HD_vor_dem_AG_bis_zur_erkennung_seiner_heldentat\n",
      "=================================================================\n",
      "27:e300_i_rueckkehr_des_OB_und_die_suche_nach_dem_HD\n",
      "19:e300_m_rueckkehr_des_HD_und_erkundung_ueber_die_hochzeit_bis_zum_wiedergewinn_der_aufmerksamkeit\n",
      "2:e300_l_wiederbelebung_des_HD\n",
      "5:e300_e_vorfeld_des_kampfes_bis_zum_sieg\n",
      "4:e300_k_misshandlung_des_FH_bis_zur_hochzeitstag\n",
      "1:e300_g_nach_dem_sieg_bis_zur_trennung_des_HD_und_des_OB\n",
      "-----------------------------------------------------------------\n",
      "58 : e300_o_auftritt_des_HD_vor_dem_AG_bis_zur_erkennung_seiner_heldentat\n",
      "-----------------------------------------------------------------\n",
      "23:e554_e_leistung_des_HD_gegenueber_dem_tier_und_aussprechen_der_dankbarkeit\n",
      "1:e314a_a_Der_Hirt_und_die_drei_Riesen\n",
      "11:eEnde_a_\n",
      "15:e303_g_erstes_treffen_mit_dem_AN\n",
      "1:e303_c_eingangssituation_bis_zur_trennung\n",
      "1:e303_i_vom_erkundigung_der_not_bis_zum_aufbruch_des_HF_zum_AN\n",
      "2:e315_a_\n",
      "1:e300_q_von_der_begegnung_mit_dem_vogel_bis_zum_ende_des_fluges\n",
      "2:eUNDF_a_\n",
      "1:e562_a_\n",
      "=================================================================\n",
      "23:e554_e_leistung_des_HD_gegenueber_dem_tier_und_aussprechen_der_dankbarkeit\n",
      "1:eAnfang_a_\n",
      "1:e300_g_nach_dem_sieg_bis_zur_trennung_des_HD_und_des_OB\n",
      "1:e300_o_auftritt_des_HD_vor_dem_AG_bis_zur_erkennung_seiner_heldentat\n",
      "1:eUNDF_a_\n",
      "-----------------------------------------------------------------\n",
      "27 : e300_q_von_der_begegnung_mit_dem_vogel_bis_zum_ende_des_fluges\n",
      "-----------------------------------------------------------------\n",
      "1:e301_m_entkommen_aus_dem_haus_des_AN\n",
      "20:e301_o_von_der_rueckkehr_an_die_oberflaeche_bis_zur_loesung_der_durch_den_raub_ausgeloesten_krise\n",
      "1:e315_a_\n",
      "1:e300_i_rueckkehr_des_OB_und_die_suche_nach_dem_HD\n",
      "1:e550_a_\n",
      "2:e650A_m_nach_der_erfuellung_der_letzte_aufgabe_bis_zum_ende_der_geschichte\n",
      "1:eEnde_a_\n",
      "=================================================================\n"
     ]
    }
   ],
   "source": [
    "graph = alle_aeste(\"e300\", df)\n",
    "graph.update(alle_aeste(\"\", df))\n",
    "graph.update(alle_aeste(\"\", df))\n",
    "wald_printer(graph)"
   ]
  },
  {
   "cell_type": "markdown",
   "metadata": {},
   "source": [
    "## Auswertung durch die Graphen"
   ]
  },
  {
   "cell_type": "markdown",
   "metadata": {},
   "source": [
    "10 - Die in obiger Liste Dargestellte Begegnungen von Typen bzw. Episoden."
   ]
  },
  {
   "cell_type": "code",
   "execution_count": 45,
   "metadata": {},
   "outputs": [],
   "source": [
    "import matplotlib.pyplot as plt\n",
    "import networkx as nx\n",
    "def cutoff_ast_data(wuerzel, graph, nachbar_liste, cutoff = 0):\n",
    "    vor = graph[wuerzel][0]\n",
    "    zurueck = graph[wuerzel][1]\n",
    "    nachbarn = vor.copy()\n",
    "    nachbarn.update(zurueck)\n",
    "    for ast_name, ast_gewicht in sorted(nachbarn.items()):\n",
    "        if (ast_gewicht >= cutoff):\n",
    "             nachbar_liste.append([ep_name_format(wuerzel), \n",
    "                                   ep_name_format(ast_name), ast_gewicht])  \n",
    "def cutoff_ast_volldata(wuerzel, graph, nachbar_liste, cutoff = 0):\n",
    "    vor = graph[wuerzel][0]\n",
    "    zurueck = graph[wuerzel][1]\n",
    "    nachbarn = vor.copy()\n",
    "    nachbarn.update(zurueck)\n",
    "    for ast_name, ast_gewicht in sorted(nachbarn.items()):\n",
    "        if (ast_gewicht >= cutoff):\n",
    "             #nachbar_liste.append([ep_name_vollformat(wuerzel), ep_name_vollformat(ast_name), ast_gewicht])\n",
    "            nachbar_liste.append([wuerzel, ast_name, ast_gewicht]) \n",
    "def cutoff_graph_data(graph, cutoff = 0):\n",
    "    nachbar_liste = []\n",
    "    for i, (k, v) in enumerate(sorted(graph.items())):\n",
    "        cutoff_ast_data(k, graph, nachbar_liste, cutoff)\n",
    "    neue_nachbar_liste = [[i, nachbar] for i, nachbar in enumerate(nachbar_liste)]\n",
    "    return neue_nachbar_liste\n",
    "def cutoff_graph_volldata(graph, cutoff = 0):\n",
    "    nachbar_liste = []\n",
    "    for i, (k, v) in enumerate(sorted(graph.items())):\n",
    "        cutoff_ast_volldata(k, graph, nachbar_liste, cutoff)\n",
    "    neue_nachbar_liste = [[i, nachbar] for i, nachbar in enumerate(nachbar_liste)]\n",
    "    return neue_nachbar_liste\n",
    "def interactive_graph_data(graph_data, loesch_index, gew_dict):\n",
    "    for k, v in gew_dict.items():\n",
    "        graph_data[k][1][2] = v\n",
    "    neue_nachbar_liste = [[i, nachbar[1]] for i, \n",
    "                          nachbar in enumerate(graph_data) if i not in loesch_index]\n",
    "    return neue_nachbar_liste\n",
    "def graph_bauer(graph_data):\n",
    "    G = nx.Graph()\n",
    "    w_liste=[]\n",
    "    for el in graph_data:\n",
    "        n1 = el[1][0]\n",
    "        n2 = el[1][1]\n",
    "        w = el[1][2]\n",
    "        w_liste.append(w)\n",
    "        G.add_edge(n1, n2, weight=w)\n",
    "    return G,w_liste\n",
    "def show_graph(G,w):\n",
    "    fh = open(\"edgelist.utf-8\", \"wb\")\n",
    "    nx.write_multiline_adjlist(G, fh, \n",
    "                               delimiter=\"\\t\", encoding=\"utf-8\")\n",
    "    fh = open(\"edgelist.utf-8\", \"rb\")\n",
    "    H = nx.read_multiline_adjlist(fh, \n",
    "                                  delimiter=\"\\t\", encoding=\"utf-8\")\n",
    "    for n in G.nodes():\n",
    "        if n not in H:\n",
    "            print(False)\n",
    "    pos = nx.spring_layout(G)\n",
    "#     for k, v in pos:\n",
    "#         pos[k] = np.array([1, v[2]])\n",
    "    q = max(w)\n",
    "    klein = q //3\n",
    "    gross = q //2  \n",
    "    wenig = [(u, v) for (u, v, d) in G.edges(data=True) \n",
    "             if d[\"weight\"] <klein]\n",
    "    mehr = [(u, v) for (u, v, d) in G.edges(data=True) \n",
    "            if klein <= d[\"weight\"] <=gross]\n",
    "    viel = [(u, v) for (u, v, d) in G.edges(data=True) \n",
    "            if d[\"weight\"] >gross]\n",
    "    nx.draw(G, pos, edgelist=wenig, font_size=8, \n",
    "            edge_color=\"g\", width=1, with_labels=False)\n",
    "    nx.draw(G, pos, edgelist=mehr, font_size=8, \n",
    "            edge_color=\"b\", width=1, with_labels=False)\n",
    "    nx.draw(G, pos, edgelist=viel, font_size=8, \n",
    "            edge_color=\"r\", width=1, with_labels=False)\n",
    "    for p in pos:  # raise text positions\n",
    "        pos[p][1] +=0.04\n",
    "\n",
    "    nx.draw_networkx_labels(G, pos,  font_size=10)\n",
    "    plt.show()"
   ]
  },
  {
   "cell_type": "markdown",
   "metadata": {},
   "source": [
    "11 - Häufigkeitsindex anpassen und die Knoten betrachten. Am Ende der Zeile steht die Häufigkeitsindex."
   ]
  },
  {
   "cell_type": "code",
   "execution_count": 46,
   "metadata": {},
   "outputs": [
    {
     "data": {
      "text/plain": [
       "[[0, ['e300_c_', 'e300_e_', 58]],\n",
       " [1, ['e300_c_', 'e301_m_', 18]],\n",
       " [2, ['e300_c_', 'e303_c_', 8]],\n",
       " [3, ['e300_c_', 'e315_a_', 4]],\n",
       " [4, ['e300_c_', 'e554_e_', 8]],\n",
       " [5, ['e300_c_', 'eUNDF_a_', 6]],\n",
       " [6, ['e300_e_', 'e300_c_', 58]],\n",
       " [7, ['e300_e_', 'e300_g_', 31]],\n",
       " [8, ['e300_e_', 'e300_i_', 23]],\n",
       " [9, ['e300_e_', 'e300_k_', 3]],\n",
       " [10, ['e300_e_', 'e300_o_', 5]],\n",
       " [11, ['e300_e_', 'eUNDF_a_', 5]],\n",
       " [12, ['e300_g_', 'e300_e_', 31]],\n",
       " [13, ['e300_g_', 'e300_k_', 28]],\n",
       " [14, ['e300_i_', 'e300_e_', 23]],\n",
       " [15, ['e300_i_', 'e300_k_', 3]],\n",
       " [16, ['e300_i_', 'e300_o_', 27]],\n",
       " [17, ['e300_k_', 'e300_e_', 3]],\n",
       " [18, ['e300_k_', 'e300_g_', 28]],\n",
       " [19, ['e300_k_', 'e300_i_', 3]],\n",
       " [20, ['e300_k_', 'e300_l_', 8]],\n",
       " [21, ['e300_k_', 'e300_m_', 10]],\n",
       " [22, ['e300_k_', 'e300_o_', 4]],\n",
       " [23, ['e300_l_', 'e300_k_', 8]],\n",
       " [24, ['e300_l_', 'e300_m_', 8]],\n",
       " [25, ['e300_m_', 'e300_k_', 10]],\n",
       " [26, ['e300_m_', 'e300_l_', 8]],\n",
       " [27, ['e300_m_', 'e300_o_', 19]],\n",
       " [28, ['e300_o_', 'e300_e_', 5]],\n",
       " [29, ['e300_o_', 'e300_i_', 27]],\n",
       " [30, ['e300_o_', 'e300_k_', 4]],\n",
       " [31, ['e300_o_', 'e300_m_', 19]],\n",
       " [32, ['e300_o_', 'e303_g_', 15]],\n",
       " [33, ['e300_o_', 'e554_e_', 23]],\n",
       " [34, ['e300_o_', 'eEnde_a_', 11]],\n",
       " [35, ['e300_q_', 'e301_o_', 20]],\n",
       " [36, ['e300_q_', 'e554_e_', 23]]]"
      ]
     },
     "execution_count": 46,
     "metadata": {},
     "output_type": "execute_result"
    }
   ],
   "source": [
    "haeufigkeit=3\n",
    "auto_graph=cutoff_graph_data(graph, haeufigkeit)\n",
    "auto_graph"
   ]
  },
  {
   "cell_type": "markdown",
   "metadata": {},
   "source": [
    "12 - Visualisierung der Normalform des Typs durch die Graphen.\n",
    "\n",
    "Die Farben der Kanten sind von folgenden Bedeutung:\n",
    "\n",
    "•\tgrün = selten (<=33%)\n",
    "\n",
    "•\tblau = mittel (>33% & <50%)\n",
    "\n",
    "•\trot = häufig (>= 50%)\n"
   ]
  },
  {
   "cell_type": "code",
   "execution_count": 47,
   "metadata": {},
   "outputs": [
    {
     "name": "stdout",
     "output_type": "stream",
     "text": [
      "e300_c_ : e300_c_anfangssituation_ankunft_und_erkundigung_der_not\n",
      "e300_e_ : e300_e_vorfeld_des_kampfes_bis_zum_sieg\n",
      "e300_g_ : e300_g_nach_dem_sieg_bis_zur_trennung_des_HD_und_des_OB\n",
      "e300_i_ : e300_i_rueckkehr_des_OB_und_die_suche_nach_dem_HD\n",
      "e300_k_ : e300_k_misshandlung_des_FH_bis_zur_hochzeitstag\n",
      "e300_l_ : e300_l_wiederbelebung_des_HD\n",
      "e300_m_ : e300_m_rueckkehr_des_HD_und_erkundung_ueber_die_hochzeit_bis_zum_wiedergewinn_der_aufmerksamkeit\n",
      "e300_o_ : e300_o_auftritt_des_HD_vor_dem_AG_bis_zur_erkennung_seiner_heldentat\n",
      "e300_q_ : e300_q_von_der_begegnung_mit_dem_vogel_bis_zum_ende_des_fluges\n",
      "e301_m_ : e301_m_entkommen_aus_dem_haus_des_AN\n",
      "e301_o_ : e301_o_von_der_rueckkehr_an_die_oberflaeche_bis_zur_loesung_der_durch_den_raub_ausgeloesten_krise\n",
      "e303_c_ : e303_c_eingangssituation_bis_zur_trennung\n",
      "e303_g_ : e303_g_erstes_treffen_mit_dem_AN\n",
      "e315_a_ : e315_a_\n",
      "e554_e_ : e554_e_leistung_des_HD_gegenueber_dem_tier_und_aussprechen_der_dankbarkeit\n",
      "eEnde_a_ : eEnde_a_\n",
      "eUNDF_a_ : eUNDF_a_\n",
      "e300_c_anfangssituation_ankunft_und_erkundigung_der_not\n",
      "e300_e_vorfeld_des_kampfes_bis_zum_sieg\n",
      "e300_g_nach_dem_sieg_bis_zur_trennung_des_HD_und_des_OB\n",
      "e300_i_rueckkehr_des_OB_und_die_suche_nach_dem_HD\n",
      "e300_k_misshandlung_des_FH_bis_zur_hochzeitstag\n",
      "e300_l_wiederbelebung_des_HD\n",
      "e300_m_rueckkehr_des_HD_und_erkundung_ueber_die_hochzeit_bis_zum_wiedergewinn_der_aufmerksamkeit\n",
      "e300_o_auftritt_des_HD_vor_dem_AG_bis_zur_erkennung_seiner_heldentat\n",
      "e300_q_von_der_begegnung_mit_dem_vogel_bis_zum_ende_des_fluges\n",
      "e301_m_entkommen_aus_dem_haus_des_AN\n",
      "e301_o_von_der_rueckkehr_an_die_oberflaeche_bis_zur_loesung_der_durch_den_raub_ausgeloesten_krise\n",
      "e303_c_eingangssituation_bis_zur_trennung\n",
      "e303_g_erstes_treffen_mit_dem_AN\n",
      "e315_a_\n",
      "e554_e_leistung_des_HD_gegenueber_dem_tier_und_aussprechen_der_dankbarkeit\n",
      "eEnde_a_\n",
      "eUNDF_a_\n"
     ]
    }
   ],
   "source": [
    "graph_data = cutoff_graph_volldata(graph, haeufigkeit)\n",
    "chosen_vertices=list(make_set_of_chosen_vertives(graph_data))\n",
    "chosen_vertices.sort()\n",
    "\n",
    "for vertex_name in chosen_vertices:\n",
    "    print(ep_name_format(vertex_name) ,':',vertex_name)\n",
    "    \n",
    "print(*chosen_vertices, sep='\\n')"
   ]
  },
  {
   "cell_type": "code",
   "execution_count": 48,
   "metadata": {},
   "outputs": [
    {
     "data": {
      "image/png": "[encoded data removed]",
      "text/plain": [
       "<Figure size 432x288 with 1 Axes>"
      ]
     },
     "metadata": {},
     "output_type": "display_data"
    }
   ],
   "source": [
    "G,W = graph_bauer(auto_graph)\n",
    "show_graph(G,W)"
   ]
  },
  {
   "cell_type": "markdown",
   "metadata": {},
   "source": [
    "13 - Graphen im Text."
   ]
  },
  {
   "cell_type": "markdown",
   "metadata": {},
   "source": [
    "### Ende"
   ]
  },
  {
   "cell_type": "code",
   "execution_count": 49,
   "metadata": {},
   "outputs": [],
   "source": [
    "def make_set_of_chosen_vertives(graph_edge_data):\n",
    "    chosen_vertices=set()\n",
    "    for sub_list in graph_edge_data:\n",
    "        sub_sub_list = sub_list[1]\n",
    "        chosen_vertices.add(sub_sub_list[0])\n",
    "        chosen_vertices.add(sub_sub_list[1])\n",
    "    return chosen_vertices\n",
    "\n",
    "def write_nodes_code_in_js(chosen_vertices):\n",
    "    nodes= \"var nodes = [\"\n",
    "    for k, v in graph.items():\n",
    "    #for k in chosen_vertices:\n",
    "        id_ = ep_name_format(k)\n",
    "        value = 0\n",
    "        for nn in v:\n",
    "            value += list(dict(nn).values())[0]\n",
    "        title = f\"{k} ({value})\"\n",
    "        node_string = f\"{{id:'{id_}',  label:'{id_}', title:'{title}',  value:{value} }},\"\n",
    "        nodes+=node_string\n",
    "    nodes+=\"];\"\n",
    "    return nodes\n",
    "    "
   ]
  },
  {
   "cell_type": "code",
   "execution_count": 50,
   "metadata": {},
   "outputs": [],
   "source": [
    "def write_edges_code_in_js(graph_data):\n",
    "    edges = \"var edges = [\"\n",
    "    edge_names = set()\n",
    "    for els in graph_data:\n",
    "        el = els[1]\n",
    "        id1 = ep_name_format(el[0])\n",
    "        id2 = ep_name_format(el[1])\n",
    "        name_list = [id1, id2]\n",
    "        name_list.sort()\n",
    "        edge_name = \"_\".join(name_list)\n",
    "        if edge_name not in edge_names:\n",
    "            edge_names.add(edge_name)\n",
    "            value = el[2]\n",
    "            title = el[2]\n",
    "            edge_string = f\"{{from:'{id1}', to:'{id2}', value:{value}, title:'{title}' }},\"\n",
    "            edges+=edge_string\n",
    "    edges+=\"];\"    \n",
    "    return edges\n",
    "#     print(edge_string)"
   ]
  },
  {
   "cell_type": "code",
   "execution_count": 51,
   "metadata": {},
   "outputs": [],
   "source": [
    "def make_html_file_for_graphs(graph_data, destination):\n",
    "    chosen_vertices=make_set_of_chosen_vertives(graph_data)\n",
    "    nodes = write_nodes_code_in_js(chosen_vertices)\n",
    "    edges = write_edges_code_in_js(graph_data)\n",
    "    graph_html_string =\"\"\"<html>\n",
    "    <head>\n",
    "        <title>ATUDe1=40</title>\n",
    "\n",
    "        <style type=\"text/css\">\n",
    "            #mynetwork {\n",
    "                width: auto;\n",
    "                height: auto;\n",
    "                border: 1px solid lightgray;\n",
    "            }</style>\n",
    "\n",
    "        <script type=\"text/javascript\" src=\"vis/dist/vis.js\"></script>\n",
    "        <link href=\"vis/dist/vis-network.min.css\" rel=\"stylesheet\" type=\"text/css\" />\n",
    "\n",
    "        <script type=\"text/javascript\">\n",
    "        function draw() {\n",
    "    \"\"\" + nodes + \"\"\" \n",
    "    \n",
    "    \"\"\"+ edges + \"\"\"\n",
    "    var container = document.getElementById('mynetwork');\n",
    "            var data = {\n",
    "                nodes: nodes,\n",
    "                edges: edges\n",
    "            };\n",
    "            var options = {\n",
    "                nodes: {\n",
    "                    shape: 'dot',\n",
    "                    size: 16\n",
    "                },\n",
    "                physics: {\n",
    "                    forceAtlas2Based: {\n",
    "                        gravitationalConstant: -21,\n",
    "                        centralGravity: 0.005,\n",
    "                        springLength: 80,\n",
    "                        springConstant: 0.23\n",
    "                    },\n",
    "                    maxVelocity: 146,\n",
    "                    solver: 'forceAtlas2Based',\n",
    "                    timestep: 0.11,\n",
    "                    stabilization: {iterations: 150}\n",
    "                }\n",
    "            };\n",
    "            var network = new vis.Network(container, data, options);\n",
    "\n",
    "        }\n",
    "    </script>\n",
    "\n",
    "    </head>\n",
    "\n",
    "    <body onload=\"draw()\"> Graphenanalyse der ATU Typenaffinität des Repertoires der deutschsprachigen Zaubermärchen (1=40)\n",
    "            <br /><a href=\"http://www.dglab.uni-jena.de/atu/kont/zeichenerklaerung.html\"\n",
    "            target=\"_blank\"\n",
    "            onclick=\"window.open(this.href,this.target,'width=640,height=720'); return false;\"\n",
    "            >Zeichenerklärung</a> | <a\n",
    "            href=\"http://www.dglab.uni-jena.de/wiki/doku.php?id=visualisierung:graphen\">Zurück zu\n",
    "            Wiki</a>\n",
    "        <div id=\"mynetwork\"></div>\n",
    "    </body>\n",
    "</html>\n",
    "    \"\"\"\n",
    "    with open(destination, \"w\") as save_file:\n",
    "        print(graph_html_string, file=save_file)"
   ]
  },
  {
   "cell_type": "code",
   "execution_count": 52,
   "metadata": {},
   "outputs": [],
   "source": [
    "graph_data = cutoff_graph_volldata(graph, haeufigkeit)\n",
    "make_html_file_for_graphs(graph_data, \"C:/Users/elguj/Documents/GitHub/Auswertung_Web/atu_automation_test.html\")"
   ]
  },
  {
   "cell_type": "code",
   "execution_count": null,
   "metadata": {},
   "outputs": [],
   "source": []
  }
 ],
 "metadata": {
  "kernelspec": {
   "display_name": "Python 3 (ipykernel)",
   "language": "python",
   "name": "python3"
  },
  "language_info": {
   "codemirror_mode": {
    "name": "ipython",
    "version": 3
   },
   "file_extension": ".py",
   "mimetype": "text/x-python",
   "name": "python",
   "nbconvert_exporter": "python",
   "pygments_lexer": "ipython3",
   "version": "3.9.7"
  }
 },
 "nbformat": 4,
 "nbformat_minor": 2
}
