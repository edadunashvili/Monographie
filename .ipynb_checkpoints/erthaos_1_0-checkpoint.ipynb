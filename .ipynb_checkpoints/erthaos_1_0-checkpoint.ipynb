{
 "cells": [
  {
   "cell_type": "markdown",
   "metadata": {},
   "source": [
    "# Elguja Dadunashvili: Machine-Learning-Verfahren für die typologisch-vergleichenden Märchenforschung - Teil 1"
   ]
  },
  {
   "cell_type": "markdown",
   "metadata": {},
   "source": [
    "## Modul für die Aggregation des Korpus von Trainingsdaten "
   ]
  },
  {
   "cell_type": "markdown",
   "metadata": {},
   "source": [
    "[Zelle # 1]\n",
    "\n",
    "1-3: Die Variable 'tupNum', 'repert' und 'ausnahme' gelten für die Auswahl der in dem Trainingsdatenrepositorium angelegte Texte mit dem gesuchten Typ und dem Herkunftsrepertoire. Sowohl die Variable 'typNum' ails auch 'repert' kann mit leeren Anführungszeichen dargestellt werden, für die Variable 'ausnahme' ist entweder ein unwahrscheinlicher Wert (z.B. 'xxyyzz') oder der Wert womit man eine bestimmte Gruppe  von Daten aus der Wahl ausschließen kann eine Pflicht.\n",
    "\n",
    "4-8: Jedes Mal bei der Aggregation des Korpus von Trainingsdaten wird der gleichnamige alte Korpus gelöscht.\n"
   ]
  },
  {
   "cell_type": "code",
   "execution_count": 1,
   "metadata": {},
   "outputs": [],
   "source": [
    "typNum='300_'\n",
    "repert=''\n",
    "ausnahme='xxyyzz'\n",
    "def entfernen(var):\n",
    "    import os\n",
    "    if os.path.exists(var):\n",
    "        os.remove(var)\n",
    "entfernen('episode_binar_train.csv')"
   ]
  },
  {
   "cell_type": "markdown",
   "metadata": {},
   "source": [
    "[Zelle # 2]\n",
    "\n",
    "1-61: Aggregation der Datei 'episode_temp_train.csv' (eine Funktion). Die im Ordner „Trainingsdaten“ angelegte TXT Dateien werden in der CSV Datei aggregiert und in das root Repositorium verlegt. \n",
    "\n",
    "62-68: Umwandlung 'episode_temp_train.csv' in die Datei 'episode_string_train.csv'.\n",
    "\n",
    "69-74: 'episode_string_train.csv' laden, von den überflüssigen Zeichen bereinigen und ins Trainingsdatenkorpus 'episode_binar_train.csv' umwandeln.\n",
    "\n",
    "75-76: Unnotige Aggregationen werden gelöscht."
   ]
  },
  {
   "cell_type": "code",
   "execution_count": 2,
   "metadata": {},
   "outputs": [],
   "source": [
    "def aggreg():\n",
    "    import glob\n",
    "    def word_to_lex(word):\n",
    "        ret=(word) \n",
    "        return ret\n",
    "    def write_back(words):\n",
    "        with open(temp, \"a\", encoding='utf-8') as output:      \n",
    "            for word in words:\n",
    "                as_lex = word_to_lex(word[0])\n",
    "                full_word = '\"' + as_lex + '\"'\n",
    "                for sub_word in word[1:]:\n",
    "                    full_word += \" , \"  '\"' + sub_word + '\"'\n",
    "                full_word +=\"\\n\"\n",
    "                output.write(full_word)\n",
    "    def clean(line):\n",
    "        line = line.replace(\"\\n\",\" \").strip()\n",
    "        line = line.replace(\"ä\",\"ae\").replace(\"ü\",\"ue\").replace(\"ö\",\"oe\")\n",
    "        line = line.replace(\"ß\",\"ss\").replace(\",\",\"\").replace(\"«\",\"\")\n",
    "        line = line.replace(\"»\",\"\").replace(\".\",\"\").replace(\":\",\"\")\n",
    "        line = line.replace(\";\",\"\").replace('\"',\"\")\n",
    "        line = line.replace(\"?\",\"\").replace(\"!\",\"\").replace(\"á\",\"a\")\n",
    "        line = line.replace(\",\",\"\").replace(\"\\t\",\" \").replace(\"'\",\"\")\n",
    "        line = line.replace(\"‹\",\"\").replace(\"›\",\"\").replace(\"-\",\" \")\n",
    "        line = line.replace(\"'('\",\"\").replace(\"')'\",\"\").replace('>','')\n",
    "        line = line.replace(\"    \",\" \").replace(\"   \",\" \").replace(\"  \",\" \")\n",
    "        line = line.replace('–','').replace('—','').replace('<','')\n",
    "        line = line.replace(\"Â\", \"A\").replace(\"ø\", \"oe\").replace('“','')\n",
    "        line = line.replace('„','').replace('(','').replace(')','')\n",
    "        line = line.replace(\"‚\", \"\").replace(']','').replace('[','')\n",
    "        if line == \"\": \n",
    "            return\n",
    "        line=line.split(\"|\")\n",
    "        line[0]=line[0].split(\"|\")[0]\n",
    "        for i, _ in enumerate(line):\n",
    "            if (i !=0) and (i!=2):\n",
    "                line[i]=line[i].lower()\n",
    "        flex=[]\n",
    "        try:\n",
    "            flex=line[1].split(\"\")\n",
    "        except:\n",
    "            pass\n",
    "        value=str(line)\n",
    "        line=str(line)   \n",
    "        flex.append(line)\n",
    "        ret=[]\n",
    "        for i in flex:\n",
    "            ret.append((i,value[0]))\n",
    "        return ret\n",
    "    with open(temp, \"w\", encoding='utf-8') as output:\n",
    "        output.write (\"quelle,episode,index_string,index_binar\\n\")\n",
    "    pairs = []\n",
    "    for file in glob.glob(ordner):\n",
    "        if typNum in file and repert in file and not ausnahme in file:\n",
    "            with open(file, 'r', encoding='utf-8', errors='ignore') as episode:\n",
    "                for line in episode.readlines():\n",
    "                    clean_words = clean(line)\n",
    "                    pairs = pairs + clean_words\n",
    "    write_back(pairs)\n",
    "temp = \"episode_temp_train.csv\"\n",
    "ordner = \"Trainingsdaten/*.txt\"\n",
    "aggreg()\n",
    "fin = open('episode_temp_train.csv','r', encoding ='utf-8')\n",
    "fout = open('episode_string_train.csv', \"wt\", encoding ='utf-8')\n",
    "for kfz in fin:\n",
    "    fout.write(kfz.replace(', \"[\"',\"\").replace('\"[', \"\").replace(']\"',\"\")\n",
    "               .replace(\"', '\", \"','\").replace(\" '\", \"'\"))\n",
    "fin.close()\n",
    "fout.close()\n",
    "fin = open('episode_string_train.csv','r', encoding='utf-8') \n",
    "fout = open('episode_binar_train.csv', \"wt\", encoding='utf-8')\n",
    "for efz in fin:\n",
    "    fout.write(efz.replace(\"'\",\"\"))             \n",
    "fin.close()\n",
    "fout.close()\n",
    "entfernen('episode_temp_train.csv')\n",
    "entfernen('episode_string_train.csv')"
   ]
  },
  {
   "cell_type": "markdown",
   "metadata": {},
   "source": [
    "##  Herstellung des Modells und der prototypischen Metaepisode "
   ]
  },
  {
   "cell_type": "markdown",
   "metadata": {},
   "source": [
    "[Zelle # 3]\n",
    "\n",
    "1-5: Trainingdatenkorpus zugreiffen und der im Datenfeld 'index_string' eingetragene Merkmalen mitsamt der Vorkommenshäufigkeitsrate einbelden."
   ]
  },
  {
   "cell_type": "code",
   "execution_count": 3,
   "metadata": {},
   "outputs": [
    {
     "name": "stdout",
     "output_type": "stream",
     "text": [
      "Counter({'e300_e_vorfeld_des_kampfes_bis_zum_sieg': 41, 'e300_c_anfangssituation_ankunft_und_erkundigung_der_not': 36, 'e300_o_auftritt_des_HD_vor_dem_AG_bis_zur_erkennung_seiner_heldentat': 34, 'e300_g_nach_dem_sieg_bis_zur_trennung_des_HD_und_des_OB': 29, 'e300_k_misshandlung_des_FH_bis_zur_hochzeit': 27, 'e300_m_rueckkehr_des_HD_und_erkundung_ueber_die_hochzeit_bis_zum_wiedergewinn_der_aufmerksamkeit': 18, 'e303_c_eingangssituation_bis_zur_trennung': 18, 'eUNDF_a_': 16, 'e303_g_erstes_treffen_mit_dem_AN': 16, 'e303_i_von_der_erkundigung_der_not_bis_zum_aufbruch_des_HF_zum_AN': 15, 'e303_k_vom_aufbruch_zum_AN_bis_zum_sieg_ueber_ihn': 15, 'e554_e_leistung_des_HD_gegenueber_dem_tier_und_aussprechen_der_dankbarkeit': 12, 'e315_a_': 12, 'eCoM_c_conceptia_magica': 11, 'e300_l_wiederbelebung_des_HD': 9, 'e300_i_rueckkehr_des_OB_und_die_suche_nach_dem_HD': 7, 'e300_q_von_der_begegnung_mit_dem_vogel_bis_zum_ende_des_fluges': 7, 'e550_a_': 7, 'e303_m_eifersucht': 5, 'e328_a_': 4, 'e303_q_rueckkehr_und_finale': 4, 'e562_a_': 4, 'e516_a_': 3, 'e301_o_von_der_rueckkehr_an_die_oberflaeche_bis_zur_loesung_der_durch_den_raub_verursachten_krise': 3, 'e301_e_vom_beginn_der_reise_bis_zum_finden_der_raststaette_oder_eines_eingangs': 3, 'e301_k_empfang_des_OB_und_verrat_des_FH': 3, 'e316_a_': 3, 'e567_a_': 3, 'e513a_a_': 2, 'e302_m_kampf_bis_zum_sieg': 2, 'e301_g_vom_finder_einer_nachtrast_bis_zum_betreten_der_welt_des_AN': 2, 'e301_i_vom_betreten_des_wohnsitzes_des_AN_bis_zur_befreiehung_des_OB': 2, 'e554_g_verstoss_auf_die_herausforderungen_bis_zum_beginn_der_loesungsmassnahmen': 2, 'e554_k_der_HD_geniesst_die_gegenleistung_des_tieres': 2, 'e302_k_erkundigung_ueber_den_aufenthaltsort_der_lebensenergie_des_AN': 1, 'e301_m_entkommen_aus_dem_haus_des_AN': 1, 'e302_c_verlust_des_OB_wird_artikuliert': 1, 'e314_a_': 1, 'e850_a_': 1, 'e303_o_erloesung_des_AN': 1, 'e554_m_nach_der_erfuellung_der_letzten_aufgabe_bis_zum_ende_der_geschichte': 1, 'e590_a_': 1})\n"
     ]
    }
   ],
   "source": [
    "import pandas as pd\n",
    "from collections import Counter\n",
    "df = pd.read_csv('episode_binar_train.csv',  encoding='utf-8')\n",
    "indexliste=Counter(df.index_string)\n",
    "print(indexliste, sep='\\n')"
   ]
  },
  {
   "cell_type": "markdown",
   "metadata": {},
   "source": [
    "[Zelle # 4]\n",
    "\n",
    "1: In den obeneingeblendete Merkmalen eine Episode Kopieren und hier als Wert der Variable 'gesep' einfügen. "
   ]
  },
  {
   "cell_type": "code",
   "execution_count": 4,
   "metadata": {},
   "outputs": [],
   "source": [
    "gesep = 'e300_e_vorfeld_des_kampfes_bis_zum_sieg'"
   ]
  },
  {
   "cell_type": "markdown",
   "metadata": {},
   "source": [
    "[Zelle # 5]\n",
    "\n",
    "1-6: In Trainingsdaten die gesuchte Episode ('gesep') mit Einsen (1), den Rest mit Nullen (0) etikettieren und die Änderung speichern."
   ]
  },
  {
   "cell_type": "code",
   "execution_count": 5,
   "metadata": {},
   "outputs": [],
   "source": [
    "for i, gesuchte_episode in enumerate(df.index_string):\n",
    "    if (gesuchte_episode == gesep):\n",
    "        df.index_binar[i]='1'\n",
    "    else: \n",
    "            df.index_binar[i]='0'\n",
    "df.to_csv('episode_binar_train.csv', encoding='utf-8', index=False)"
   ]
  },
  {
   "cell_type": "markdown",
   "metadata": {},
   "source": [
    "[Zelle # 6]\n",
    "\n",
    "1-4: Im Trainingsdatenkorpus die Datenfelder für Probetexte (X_train) und für die Merkmalen (y_train) bestimmen und die Bilanz zwischen negativ (0) und positiv (1) etikettierten Datensätzen betrachten ( s. Counter)."
   ]
  },
  {
   "cell_type": "code",
   "execution_count": 6,
   "metadata": {},
   "outputs": [
    {
     "name": "stdout",
     "output_type": "stream",
     "text": [
      "Counter({'0': 344, '1': 41})\n"
     ]
    }
   ],
   "source": [
    "X_train=(df['episode'])\n",
    "y_train=(df['index_binar'])\n",
    "indexliste=Counter(df.index_binar)\n",
    "print(indexliste, sep='\\n')"
   ]
  },
  {
   "cell_type": "markdown",
   "metadata": {},
   "source": [
    "[Zelle # 7]\n",
    "\n",
    "1: Die in die eckige Klammern eingetragene Wörter werden zusätzlich in die vorhandene Stopwörter-Liste eingefügt. Einzelnes Wort muss dabei mit Anführungszeichen umgeschlossen und von andren Wörter durch das Komma getrennt werden, ein Beispiel: ['mein','dein']. \n",
    "\n",
    "2-6: Datenfeld 'episode' von konwentionelen und von uns eingegebenen Stoppwörter bereinigen. "
   ]
  },
  {
   "cell_type": "code",
   "execution_count": 7,
   "metadata": {},
   "outputs": [
    {
     "name": "stderr",
     "output_type": "stream",
     "text": [
      "[nltk_data] Downloading package stopwords to\n",
      "[nltk_data]     C:\\Users\\elguj\\AppData\\Roaming\\nltk_data...\n",
      "[nltk_data]   Package stopwords is already up-to-date!\n"
     ]
    }
   ],
   "source": [
    "custom_stop_word_list=[]\n",
    "import nltk\n",
    "nltk.download('stopwords')\n",
    "from nltk.corpus import stopwords\n",
    "NLTK_stop_words_list=stopwords.words('german')\n",
    "de = custom_stop_word_list + NLTK_stop_words_list"
   ]
  },
  {
   "cell_type": "markdown",
   "metadata": {},
   "source": [
    "[Zelle # 8]\n",
    "\n",
    "1-8: Einrichtung einer sciki-learn Pipeline mit Klassen LogisticRegression, TfidVectorizer und GridSearchCV. \n",
    "\n",
    "9-10: Modell auswerten (s. Bester Score aus der Kreuzvalidierung:)."
   ]
  },
  {
   "cell_type": "code",
   "execution_count": 8,
   "metadata": {},
   "outputs": [
    {
     "name": "stdout",
     "output_type": "stream",
     "text": [
      "Bester Score aus der Kreuzvalidierung: 0.94\n"
     ]
    }
   ],
   "source": [
    "from sklearn.feature_extraction.text import TfidfVectorizer\n",
    "from sklearn.linear_model import LogisticRegression\n",
    "from sklearn.model_selection import GridSearchCV\n",
    "from sklearn.pipeline import make_pipeline\n",
    "pipe = make_pipeline(TfidfVectorizer(min_df=2, stop_words=de, ngram_range=(1,1), norm=None), \n",
    "                     LogisticRegression())\n",
    "param_grid = {'logisticregression__C': [0.001, 0.01, 0.1, 1, 10]}     \n",
    "grid = GridSearchCV(pipe, param_grid, cv=5)\n",
    "grid.fit(X_train, y_train)\n",
    "print(\"Bester Score aus der Kreuzvalidierung: {:.2f}\".format(grid.best_score_))"
   ]
  },
  {
   "cell_type": "markdown",
   "metadata": {},
   "source": [
    "[Zelle # 9]\n",
    "\n",
    "1-6: Aus dem Modell die Liste der positiven und negativen Merkmalen extrachieren, Zahl der Merkmalen einblenden (s. Gesamte Anzahl der Wörter:)."
   ]
  },
  {
   "cell_type": "code",
   "execution_count": 9,
   "metadata": {},
   "outputs": [
    {
     "name": "stdout",
     "output_type": "stream",
     "text": [
      "Gesamte Anzahl der Wörter: 3608\n"
     ]
    },
    {
     "name": "stderr",
     "output_type": "stream",
     "text": [
      "C:\\Users\\elguj\\anaconda3\\lib\\site-packages\\sklearn\\utils\\deprecation.py:87: FutureWarning: Function get_feature_names is deprecated; get_feature_names is deprecated in 1.0 and will be removed in 1.2. Please use get_feature_names_out instead.\n",
      "  warnings.warn(msg, category=FutureWarning)\n"
     ]
    }
   ],
   "source": [
    "import numpy as np\n",
    "vectorizer = grid.best_estimator_.named_steps[\"tfidfvectorizer\"]\n",
    "max_value = vectorizer.transform(X_train).max(axis=0).toarray().ravel()\n",
    "sorted_by_tfidf = max_value.argsort()\n",
    "feature_names = np.array(vectorizer.get_feature_names())\n",
    "print(\"Gesamte Anzahl der Wörter: {}\".format(len(vectorizer.vocabulary_)))"
   ]
  },
  {
   "cell_type": "markdown",
   "metadata": {},
   "source": [
    "[Zelle # 10]\n",
    "\n",
    "1-7: Merkmalen mit höchsten Koeffizienten visualisieren (blau=positiv, rot=negativ). Variable 's_zahl' stellt fest wieviel Merkmalen von beiden Kategorien eingeblendet werden muss. "
   ]
  },
  {
   "cell_type": "code",
   "execution_count": 10,
   "metadata": {},
   "outputs": [
    {
     "data": {
      "image/png": "[encoded data removed]",
      "text/plain": [
       "<Figure size 1080x360 with 1 Axes>"
      ]
     },
     "metadata": {
      "needs_background": "light"
     },
     "output_type": "display_data"
    }
   ],
   "source": [
    "s_zahl = 200\n",
    "import matplotlib.pyplot as plt\n",
    "import mglearn\n",
    "mglearn.tools.visualize_coefficients(\n",
    "    grid.best_estimator_.named_steps[\"logisticregression\"].coef_,\n",
    "    feature_names,  n_top_features=s_zahl)\n",
    "plt.grid()"
   ]
  },
  {
   "cell_type": "markdown",
   "metadata": {},
   "source": [
    "[Zelle # 11]\n",
    "\n",
    "1-5: Anpassung zwischen minimaler und maximaler Koeffizienten für die Merkmalen. Je nach der Episode kann die Kurve der expotentielle Abnahme unterschiedlich sein, dementsprechend entscheidet man für größere oder kleinere Zahl der relevante Merkmale. Diese wird durch die Variable 'n_zahl' einegstellt (Zeile 1).\n",
    "\n",
    "6-7: Visualisierung der ausgewählten Merkmalen. "
   ]
  },
  {
   "cell_type": "code",
   "execution_count": 11,
   "metadata": {
    "scrolled": true
   },
   "outputs": [
    {
     "name": "stdout",
     "output_type": "stream",
     "text": [
      "Positive Merkmale:\n",
      "['ab' 'zeigen' 'gewehr' 'bube' 'kapelle' 'wartete' 'herauskam'\n",
      " 'koenigstochter' 'lindwurm' 'sechs' 'saebel' 'ungetuem' 'wagen'\n",
      " 'angefahren' 'befreite' 'juengling' 'gewartet' 'dukaten' 'neun' 'grossem'\n",
      " 'schlug' 'tot' 'schaden' 'adler' 'koepfe' 'schoss' 'schwert' 'kam'\n",
      " 'bursch' 'hoehle' 'drachen' 'drache']\n",
      "Negative Merkmale:\n",
      "['koenig' 'bruder' 'tochter' 'jahr' 'hochzeit' 'sagte' 'freude' 'alte'\n",
      " 'frau' 'leute' 'hause' 'leben' 'hast' 'zeit' 'fragte' 'mutter' 'trauer'\n",
      " 'sei' 'nest' 'toete' 'niemand' 'schnitt' 'befreit' 'stadt' 'sprach'\n",
      " 'antwortete' 'brueder' 'geben' 'gvelegapi' 'koenigs' 'knaben' 'warum']\n"
     ]
    }
   ],
   "source": [
    "n_zahl = 32\n",
    "gio=(grid.best_estimator_.named_steps[\"logisticregression\"].coef_[0])\n",
    "n_top=np.argsort(gio)\n",
    "text_pos=feature_names[n_top[-n_zahl:]]\n",
    "text_neg=feature_names[n_top[0:n_zahl]]\n",
    "print(\"Positive Merkmale:\\n{}\".format(text_pos))\n",
    "print (\"Negative Merkmale:\\n{}\".format(text_neg))"
   ]
  },
  {
   "cell_type": "markdown",
   "metadata": {},
   "source": [
    "[Zelle # 12]\n",
    "\n",
    "1-17: Bestimmte Merkmale in die neue txt Datei speichern(1-7) gesamte Information durch die Datenfelder strukturieren (8-12) und  nach dem Löschen der alten Datei (13) in Messdatenordner anlegen (14-17)."
   ]
  },
  {
   "cell_type": "code",
   "execution_count": 12,
   "metadata": {},
   "outputs": [],
   "source": [
    "import csv \n",
    "import shutil, os\n",
    "filename = '0_'+gesep\n",
    "tit=(text_pos)\n",
    "with open (filename+'.txt', 'wt', encoding='utf-8') as f:\n",
    "    writer = csv.writer(f, delimiter=' ')\n",
    "    writer.writerow(tit)\n",
    "with open(filename+'.txt', 'r') as file:\n",
    "    file_contents = file.read().replace(\"\\n\", \"\")\n",
    "    frt_contents = filename+'|'+file_contents+'|0|0'\n",
    "with open(filename+'.txt', 'wt', encoding='utf-8') as f:\n",
    "        f.write(frt_contents)\n",
    "entfernen('Messdaten/'+filename+'.txt')\n",
    "import glob\n",
    "files = glob.glob(filename+'.txt')\n",
    "for f in files:\n",
    "    shutil.move(f, 'Messdaten/')"
   ]
  },
  {
   "cell_type": "markdown",
   "metadata": {},
   "source": [
    "##  Herstellung des Messdatenkorpus "
   ]
  },
  {
   "cell_type": "markdown",
   "metadata": {},
   "source": [
    "[Zelle # 13]\n",
    "\n",
    "1-3: Die Variable 'tupNum', 'repert' und 'ausnahme' gelten für die Auswahl der in dem Messdatenrepositorium angelegte Texte mit dem konkretem Typ und dem Herkunftsrepertoire. Sowohl die Variable 'typNum' ails auch 'repert' kann mit leeren Anführungszeichen dargestellt werden. Für die Variable 'ausnahme' ist entweder ein unwahrscheinlicher Wert (z.B. 'xxyyzz') oder der Wert womit man eine bestimmte Gruppe von Daten aus der Wahl ausschließen kann eine Pflicht.\n",
    "\n",
    "4: Der vorhandene Messdaten-Korpus löschen (falls vorhanden)\n",
    "\n",
    "5-7: In dem Messdatenordner Messdaten parsen und einen 'episode_temp_mess.csv' Korpus aggregieren.\n",
    "\n",
    "8-16: 'episode_temp_mess.csv' von den überflussigen Zeichen bereinigen und ins  Messdatenkorpus - 'episode_binar_mess.csv' umwandeln.\n",
    "\n",
    "17-21: Datenfelder deklarieren und Datensätzen zählen (s. Counter), anschließend unnotige Temp-Aggregation löschen.\n",
    "\n",
    "22-29: Messdatenkopus aus den Epsoden bestimmen und alle andere Datenfelder ignorieren"
   ]
  },
  {
   "cell_type": "code",
   "execution_count": 13,
   "metadata": {},
   "outputs": [
    {
     "name": "stdout",
     "output_type": "stream",
     "text": [
      "Counter({0: 105})\n"
     ]
    }
   ],
   "source": [
    "typNum=''\n",
    "repert=''\n",
    "ausnahme='xxyyzz'\n",
    "entfernen('episode_binar_mess.csv')\n",
    "temp = \"episode_temp_mess.csv\"\n",
    "ordner = \"Messdaten/*.txt\"\n",
    "aggreg()\n",
    "from collections import Counter\n",
    "fin = open(\"episode_temp_mess.csv\",'r', encoding ='utf-8')\n",
    "fout = open('episode_binar_mess.csv', \"wt\", encoding ='utf-8')\n",
    "for efz in fin:\n",
    "    fout.write(efz.replace(', \"[\"',\"\").replace('\"[', \"\")\n",
    "               .replace(']\"',\"\").replace(\"', '\", \"','\")\n",
    "               .replace(\" '\", \"'\").replace(\"'\",\"\"))   \n",
    "fin.close()\n",
    "fout.close()\n",
    "df = pd.read_csv('episode_binar_mess.csv', encoding='utf-8')\n",
    "from collections import Counter\n",
    "indexliste=Counter(df.index_binar)\n",
    "print(indexliste)\n",
    "entfernen('episode_temp_mess.csv')\n",
    "t_corpus = []\n",
    "file = 'episode_binar_mess.csv'\n",
    "with open(file, \"r\", encoding='utf-8') as maerchen:\n",
    "    maerchen = df.episode\n",
    "    reader = csv.reader(maerchen, delimiter = \"|\") \n",
    "    for row in reader:       \n",
    "        lst = str(row)\n",
    "        t_corpus.append(lst)"
   ]
  },
  {
   "cell_type": "markdown",
   "metadata": {},
   "source": [
    "## Vorhersage durch LOGISTICREGRESSION"
   ]
  },
  {
   "cell_type": "markdown",
   "metadata": {},
   "source": [
    "[Zelle # 14]\n",
    "\n",
    "1-2: Vorhersage treffen.\n",
    "\n",
    "3: Der synthetische Datensätzen wird ausgeschloßen. \n",
    "\n",
    "4: Jeder positiv bewerteter Datensatz wird extra eingebledet."
   ]
  },
  {
   "cell_type": "code",
   "execution_count": 14,
   "metadata": {},
   "outputs": [
    {
     "name": "stdout",
     "output_type": "stream",
     "text": [
      "Positiv bewerteter Datensatz:(33, '1')\n"
     ]
    }
   ],
   "source": [
    "mod_pred=grid.predict(t_corpus)\n",
    "for index in enumerate(mod_pred): \n",
    "    if '1' in (index) and index[0]>0:            \n",
    "        print ('Positiv bewerteter Datensatz:{}'.format(index))"
   ]
  },
  {
   "cell_type": "markdown",
   "metadata": {},
   "source": [
    "[Zelle # 15]\n",
    "\n",
    "1-7: Alle probabilitische Vorhersagen abruffen. Durch das Manipulieren der Variable 'pos>=' in der Zeile 6 wird der minimale Score angepasst."
   ]
  },
  {
   "cell_type": "code",
   "execution_count": 15,
   "metadata": {
    "scrolled": true
   },
   "outputs": [
    {
     "name": "stdout",
     "output_type": "stream",
     "text": [
      "33 - 0.9795719815222406 - mess_47 - nun waren die drachen noch uebrig zu erlegen  wohl die schwerste und gefaehrlichste arbeit der schneider liess sich nun einen eisernen wagen machen der bis auf eine kleine oeffnung ganz verschlossen war in diesen stieg er am dritten tage und liess sich zur hoehle der drachen fahren kaum war er dort angekommen so fuhr einer der drachen heraus zerfleischte die beyden rosse vor dem wagen und stuerzte den wagen um da indessen der kopf des drachen in die naehe der oeffnung gekommen war so stiess ihm der schneider sein schwert bis an das heft hinein und toedtete so das unthier da sah er auf sein rothes band welches er um den leib hatte und siehe die worte waren verschwunden statt deren aber stand geschrieben gehe nur in die hoehle hinein die uebrigen sechs drachen koennen dir nichts mehr anhaben weil du den ersten davon erschlagen hast er stieg daher aus dem wagen und trat in die hoehle und toedtete die sechs drachen welche 285 sich wirklich nicht bewegen konnten die koepfe aber brachte er dem koenige welcher ihm nicht dank genug zu beweisen wusste und ihm noch an selbigem abende die koenigstochter zur ehe gab wobey es gar herrlich und froehlich herging weil jeder einwohner an der freude ueber die rettung aus noth und gefahr den innigsten antheil nahm \n",
      "\n",
      "17 - 0.09865846772724271 - mess_45 - ein jahr war verflossen seit helmerich ausgezogen die prinzess zu erloesen und noch immer war bei den eltern kein sechsspaenniger wagen angelangt ach sprach der vater waere nur der ungeschickte hans ausgezogen statt unsres besten buben da waere das unglueck doch geringer  vater sagte hans lass mich hinziehn ich wills auch probieren aber der vater wollte nicht denn was dem klugen misslingt wie fuehrte das der ungeschickte zu ende da der vater ihm ross und wehr versagte machte hans sich heimlich auf und wanderte wohl drei tage denselben weg zu fuss den der bruder an einem geritten war aber er fuerchtete sich nicht und schlief des nachts auf dem weichen moos unter den gruenen zweigen so sanft wie unter dem dach seiner eltern die voegel des waldes scheuten sich nicht vor ihm sondern sangen ihn in schlaf mit ihren besten weisen als er nun an die ameisen kam die beschaeftigt 47 waren ihren neuen bau zu vollenden stoerte er sie nicht sondern wollte ihnen helfen und die tierchen die an ihm hinaufkrochen las er ab ohne sie zu toeten wenn sie ihn auch bissen die enten lockte er auch ans ufer aber um sie mit brosamen zu fuettern den bienen warf er die frischen blumen hin die er am wege gepflueckt hatte so kam er froehlich an das koenigsschloss und pochte bescheiden am schalter gleich tat die tuere sich auf und die alte fragte nach seinem begehr wenn ich nicht zu gering bin moechte ich es auch versuchen die schoene prinzess zu erloesen sagte er versuche es mein sohn sagte die alte aber wenn du die drei proben nicht bestehst kostet es dein leben wohlan muetterlein sprach hans sage was ich tun soll jetzt gab die alte ihm die probe mit dem leinsamen hans war nicht faul sich zu buecken doch schon schlug es drei viertel und das faesschen war noch nicht halb voll da wollte er schier verzagen aber auf einmal kamen schwarze ameisen mehr als genug und in wenigen minuten lag kein koernlein mehr auf der wiese als die alte kam sagte sie das ist gut und warf die zwoelf schluessel in den teich die sollte er in einer stunde herausholen aber hans brachte keinen schluessel aus der tiefe so tief er auch tauchte er kam nicht an den grund verzweifelnd setzte er sich ans ufer da kamen die zwoelf entchen herangeschwommen jede mit 48 einem goldenen schluesselchen im schnabel die warfen sie ins feuchte gras so war auch diese probe geloest als die alte wiederkam um ihn nun in den saal zu fuehren wo die dritte und schwerste probe seiner harrte verzagend sah hans auf die drei gleichen schleiergestalten wer sollte ihm hier helfen da kam ein bienenschwarm durchs offene fenster geflogen die kreisten durch den saal und summten um den mund der drei verhuellten aber von rechts und links flogen sie schnell wieder zurueck denn die drachen rochen nach pech und schwefel wovon sie leben die gestalt in der mitte umkreisten sie alle und surrten und schwirrten leise die mittle die mittle denn da duftete ihnen der geruch ihres eigenen honigs entgegen den die koenigstochter so gern ass also da die alte wiederkam nach einer stunde sprach hans ganz getrost ich waehle die mittle und da fuhren die boesen drachen zum fenster hinaus die schoene koenigstochter aber warf ihren schleier ab und freute sich der erloesung und ihres schoenen braeutigams und hans sandte dem vater der prinzess den schnellsten boten und zu seinen eltern einen goldenen wagen mit sechs pferden bespannt und sie alle lebten herrlich und in freuden und wenn sie nicht gestorben sind leben sie heute noch \n",
      "\n",
      "62 - 0.07448622545727737 - mess_23 - er ging meeresstrand dort koenigstochter drachen verschlungen sollte der soldat versprach retten das maedchen bat ihn fortzugehen ging nicht er stellte zuerst kleinen hund wache auf geriet grosse not drachen zurueckhalten konnte dann schickte mittleren hund hin konnte nicht da schickte dritten hund hin hielt zurueck der soldat sagte die koepfe drachen duerft zerreissen sollt drachen toeten sie toeteten drachen liessen koepfe ganz da nahm soldat kopfe zunge heraus legte buendel zusammen steckte tasche \n",
      "\n",
      "47 - 0.03454521983844205 - mess_48 - am zweiten tag ging der soldat wieder in das wirtshaus die wirtin machte es ihm gerade so wie das erstemal und gab ihm schlaftrunk er setzte sich darauf an die strasse und schlief wieder ein um 11 uhr kam die koenigstochter gefahren die chaise war mit vier fuchsen bespannt und rot behangen der soldat sah und hoerte aber nichts am dritten abend dachte er heute nacht komme ich doch mit er nahm den knecht mit hinaus dass dieser ihn wecke wenn er wieder schlafe die wirtin hatte ihn nocheinmal betrogen als die prinzessin angefahren kam hingen vier schimmeln an der chaise und diese war weiss behangen er aber sass dort und schlief sie stieg aus wollte ihn wach bringen ebenso der knecht doch sie konnten ihn nicht aufwecken als die prinzessin von der kirche zurueckkam stieg sie wieder aus und gab sich nocheinmal die muehe ihn aufzuwecken doch alles war vergeblich sie zog nun seinen saebel aus der scheide und schrieb mit goldenen buchstaben darauf hier hast du meinen goldenen ring zum andenken dann fuhr sie fort frueh morgens rief der soldat den knecht und fragte wo sein goldener ring sei der knecht musste den goldenen 9 ring hergeben worauf der soldat ihm den kopf abhieb dann rief er der wirtin sagte zu ihr sie sei eine hexe und habe gemacht dass er nicht mit der koenigstochter in die kirche gekommen sei der soldat nahm jetzt seinen saebel wieder und hieb der wirtin auch den kopf ab dann rief er die magd zu dieser sagte er sie solle das anwesen haben darauf machte er sich auf und ging fort \n",
      "\n",
      "32 - 0.0280723633604006 - mess_47 - des anderen tages liess der schneider ein grosses fass machen aussen voll eiserner spitzen nahm sein schwert und kroch in das fass dieses fass liess er dann unter den baum bringen welcher der schlange als wohnung diente wie die schlange den geruch von menschenfleisch in die nase bekam stuerzte sie vom 284 baume herab und zu dem fasse hin in welchem der schneider ein loch gelassen hatte die schlange bog eben ihren rachen ueber diese oeffnung da nahm der schneider die gelegenheit wahr und stiess ihr das schwert bis in den hals hinein dass sie sich in schmerz und wuth um das fass in vielen ringen herumwand sich aber an jedem eisernen zacken spiesste und bald tod war da stieg der held aus dem fasse schlug der schlange den kopf ab und brachte ihn dem koenige als siegeszeichen welcher heute eine viel groessere freude hatte als gestern \n",
      "\n",
      "51 - 0.027442519980828136 - mess_49 - als hans ueber den wald hinaus geflogen war guckte er sich um und als er nichts verdaechtiges mehr sah flog er auf die erde und machte sich wieder zu einem menschen als er so dahinging war ihm doch nicht recht wohl denn er dachte sich dass ihn der hexenmeister auf schritt und tritt verfolgen werde auf einmal sah er ueber sich einen geier fliegen und hans erkannte seinen herrn hans machte sich zu einem gaul und fing an und jackte galoppierte was er konnte waehrend er so dahinjackte sah er einen bauern gehen auf diesen hielt er zu und da der bauer dachte es sei ein durchgegangener gaul so fing er ihn was sich hans ruhig gefallen liess als der bauer so mit hans dahin ging kam ein nobler herr zu ihnen der wollte den gaul kaufen dem 16 hans wurde angst und bang er kannte den nobeln herrn es war der hexenmeister hans sagte leis zum bauern verkaufe mich nicht darueber waere der bauer bald omich worn ein gaul der reden konnte war ihm was neues der bauer verkaufte den gaul nun erst recht nicht denn einen gaul der reden konnte hatte nicht jeder mensch er fuehrte also den hans heim in seinen stall im stalle litt es hans nicht lange er machte sich zu einer fliege und flog durch einen fensterritz davon wie er so dahin flog sah er unter sich den hexenmeister gehen aber auch dieser hatte den hans bald bemerkt er machte sich zu einer schwalbe und flog dem hans nach bald haette er den hans erschnappt aber hans machte sich zu einem fingerle fingerringlein und fiel vor einem maedchen nieder das gerade daher ging das maedchen sah das fingerle hob es auf und steckte es an seinen finger wohin es recht schoen passte alle tage kam nun ein mann der dem maedchen das ringlein abkaufen wollte doch das maedchen gab es nicht her eines tages als der mann wieder lange umsonst gehandelt hatte wollte er dem maedchen das ringlein mit gewalt nehmen da fiel das ringlein auf den boden und wurde zu lauter hirsekoernern der fremde mann es war der hexenmeister machte sich zu einem goehger hahn und frass die hirsekoerner auf dann flog er davon die sache hatte aber doch einen haken gehabt der hexenmeister glaubte er haette den hans vertilgt aber der hans lebte noch ein hirsekoernlein welches der hans selbst war hatte der hexenmeister uebersehen dies hirsekoernlein war in des maedchens pantoffel gefallen und dort hatte es der hexenmeister nicht gesehen hans verwandelte sich wieder in seine richtige gestalt und freite um das maedchen das ihn schon als ring an der hand getragen hatte das maedchen fand gefallen an hans und wurde seine frau \n",
      "\n",
      "103 - 0.022370633044021995 - mess_46 - der junge mann aber trat ein ohne sein schwert draussen zu lassen er zog sein schwert brachte die lamia um und befreite seinen bruder und alle anderen \n",
      "\n",
      "91 - 0.01385479122629973 - mess_46 - sobald sie sich ihnen naeherte nahm der junge mann das schwert das er hinter einigen steinen versteckt hatte warf die lamia zu boden und toetete sie daraufhin ging er und oeffnete die quellen seitdem hatten sie in der gegend wieder wasser \n",
      "\n",
      "67 - 0.01248351922111675 - mess_23 - aber koenigstochter verzaubert worden gleich hochzeit toetete gatten schlug schwert kopf ab da erfuhren hunde dass herr getoetet war fiel ein dass salbenflasche teufelsschloss mitgekommen war \n",
      "\n"
     ]
    }
   ],
   "source": [
    "all_pred=grid.predict_proba(t_corpus) \n",
    "sort_index=np.flip(all_pred[:,1].argsort())\n",
    "for num_pos in sort_index:\n",
    "    pos=all_pred[num_pos][1]\n",
    "    for i,t_corpus_element in enumerate(t_corpus):\n",
    "        if i==num_pos  and num_pos>0 and pos>=0.01:\n",
    "            print(num_pos,'-', pos,'-', df.quelle[num_pos],'-', df.episode[num_pos],'\\n')"
   ]
  },
  {
   "cell_type": "markdown",
   "metadata": {},
   "source": [
    "##  Vorhersage durch die COSINE-SIMILARITY"
   ]
  },
  {
   "cell_type": "markdown",
   "metadata": {},
   "source": [
    "[Zelle # 16]\n",
    "\n",
    "1-14: Daten im Messdatenkorpus Vektorisieren, Transformieren und die Metrik für die Vorhersagefunktion definieren."
   ]
  },
  {
   "cell_type": "code",
   "execution_count": 16,
   "metadata": {},
   "outputs": [],
   "source": [
    "from sklearn.feature_extraction.text import TfidfVectorizer\n",
    "from sklearn.feature_extraction.text import CountVectorizer\n",
    "from sklearn.metrics.pairwise import cosine_similarity\n",
    "vectorizer = TfidfVectorizer\n",
    "vectorizers = vectorizer(analyzer='word', ngram_range=(1,1), \n",
    "                         min_df = 2, stop_words = de)\n",
    "vokabular =  vectorizers.fit_transform(t_corpus)\n",
    "metrik = cosine_similarity\n",
    "def find_similar(vokabular, index, top_n =-1):   \n",
    "    metriks = metrik(vokabular[index:index+1], vokabular).flatten()\n",
    "    related_docs_indices = [i for i in metriks.argsort()[::-1] \n",
    "                            if i != index]\n",
    "    return [(index, metriks[index]) for index \n",
    "            in related_docs_indices][0:top_n]"
   ]
  },
  {
   "cell_type": "markdown",
   "metadata": {},
   "source": [
    "[Zelle # 17]\n",
    "\n",
    "1-3: Gesuchte Episode (Zielepisode) einblenden. Die gesuchte Episode wird wird die 'n_te'-Variable bestimmt. Manuell eingepflegte Zielepisoden sollen deshalb immer in der ersten Reihen der Korpusdatensätzen stehen. Wir empfehlen deshalb, dass diese Daten mit dem Prefix '0_' benannt wird.)\n",
    "\n",
    "4: Synthetische Datei aus dem Messdatenordner entfernen."
   ]
  },
  {
   "cell_type": "code",
   "execution_count": 17,
   "metadata": {
    "scrolled": true
   },
   "outputs": [
    {
     "name": "stdout",
     "output_type": "stream",
     "text": [
      "0_e300_e_vorfeld_des_kampfes_bis_zum_sieg - ['ab zeigen gewehr bube kapelle wartete herauskam koenigstochter lindwurm sechs saebel ungetuem wagen angefahren befreite juengling gewartet dukaten neun grossem schlug tot schaden adler koepfe schoss schwert kam bursch hoehle drachen drache']\n"
     ]
    }
   ],
   "source": [
    "n_te = 0\n",
    "synt = t_corpus[n_te]\n",
    "print(df.quelle[n_te],'-', synt)\n",
    "entfernen('Messdaten/'+'0_'+gesep+'.txt')"
   ]
  },
  {
   "cell_type": "markdown",
   "metadata": {},
   "source": [
    "[Zelle # 18]\n",
    "\n",
    "1-3: Suchen starten und die Ergebnisse einblenden."
   ]
  },
  {
   "cell_type": "code",
   "execution_count": 18,
   "metadata": {
    "scrolled": true
   },
   "outputs": [
    {
     "name": "stdout",
     "output_type": "stream",
     "text": [
      "33 - 0.290085464518331 - mess_47 - ['nun waren die drachen noch uebrig zu erlegen  wohl die schwerste und gefaehrlichste arbeit der schneider liess sich nun einen eisernen wagen machen der bis auf eine kleine oeffnung ganz verschlossen war in diesen stieg er am dritten tage und liess sich zur hoehle der drachen fahren kaum war er dort angekommen so fuhr einer der drachen heraus zerfleischte die beyden rosse vor dem wagen und stuerzte den wagen um da indessen der kopf des drachen in die naehe der oeffnung gekommen war so stiess ihm der schneider sein schwert bis an das heft hinein und toedtete so das unthier da sah er auf sein rothes band welches er um den leib hatte und siehe die worte waren verschwunden statt deren aber stand geschrieben gehe nur in die hoehle hinein die uebrigen sechs drachen koennen dir nichts mehr anhaben weil du den ersten davon erschlagen hast er stieg daher aus dem wagen und trat in die hoehle und toedtete die sechs drachen welche 285 sich wirklich nicht bewegen konnten die koepfe aber brachte er dem koenige welcher ihm nicht dank genug zu beweisen wusste und ihm noch an selbigem abende die koenigstochter zur ehe gab wobey es gar herrlich und froehlich herging weil jeder einwohner an der freude ueber die rettung aus noth und gefahr den innigsten antheil nahm'] - 0 - 0 \n",
      "\n",
      "63 - 0.17122709676015804 - mess_23 - ['im gebuesch mann wache als soldat fort war nahm koepfe drachen band buendel zusammen ging hin koenig zeigen und tochter wurde gezwungen mann heiraten'] - 0 - 0 \n",
      "\n",
      "103 - 0.16974020780646426 - mess_46 - ['der junge mann aber trat ein ohne sein schwert draussen zu lassen er zog sein schwert brachte die lamia um und befreite seinen bruder und alle anderen'] - 0 - 0 \n",
      "\n",
      "62 - 0.16564771732607872 - mess_23 - ['er ging meeresstrand dort koenigstochter drachen verschlungen sollte der soldat versprach retten das maedchen bat ihn fortzugehen ging nicht er stellte zuerst kleinen hund wache auf geriet grosse not drachen zurueckhalten konnte dann schickte mittleren hund hin konnte nicht da schickte dritten hund hin hielt zurueck der soldat sagte die koepfe drachen duerft zerreissen sollt drachen toeten sie toeteten drachen liessen koepfe ganz da nahm soldat kopfe zunge heraus legte buendel zusammen steckte tasche'] - 0 - 0 \n",
      "\n",
      "31 - 0.16005607442233377 - mess_47 - ['der schneider liess sich nun ein schwert geben welches er leicht handhaben konnte und legte den harnisch zur seite womit man ihn bekleiden wollte denn das zeug war sehr schwer und hinderte ihn am gehen darauf ging er der riesenhoehle zu welche er eben verlassen hatte da er auch die zeit wusste wann die riesen in ihren festen schlaf versenkt waeren so betrat er nach sechs uhr die hoehle und schlug ihnen allen den kopf ab die augen und die zungen schnitt er ihnen heraus und brachte sie als wahrzeichen dem koenige welcher grosse freude darueber hatte'] - 0 - 0 \n",
      "\n",
      "71 - 0.149916158957478 - mess_23 - ['danach fragte soldat hunde was gutes dafuer tun dass leben gerettet habt sie antworteten nichts weiter dass kopf abschlaegst  einen lohn gebe nicht meinte soldat da sagten hunde wenn tust reissen kopf ab da schlug erst kleinen hund kopf ab wurde kleiner knabe dann schlug schon bereitwilliger beiden koepfe ab auf weise wurden hunden menschen'] - 0 - 0 \n",
      "\n",
      "67 - 0.138694870543294 - mess_23 - ['aber koenigstochter verzaubert worden gleich hochzeit toetete gatten schlug schwert kopf ab da erfuhren hunde dass herr getoetet war fiel ein dass salbenflasche teufelsschloss mitgekommen war'] - 0 - 0 \n",
      "\n",
      "29 - 0.13841942829092957 - mess_47 - ['nun sey das loos auf die koenigstochter gefallen283 dass sie des uebermorgigen tages den drachen geopfert werden solle der koenig habe zwar verkuenden lassen dass wer diese ungeheuer erlegen wuerde die koenigstochter zur ehe und spaeter das koenigreich als erbe haben sollte aber niemand finde sich der ein so gefaehrliches unternehmen wagen wollte'] - 0 - 0 \n",
      "\n",
      "93 - 0.10498556727790309 - mess_46 - ['dann kam der tag an dem der koenig seinem schwiegersohn das ganze koenigreich zeigen wollte sie reisten fort und kamen eines tages vor eine riesige burg'] - 0 - 0 \n",
      "\n",
      "47 - 0.10333203561075414 - mess_48 - ['am zweiten tag ging der soldat wieder in das wirtshaus die wirtin machte es ihm gerade so wie das erstemal und gab ihm schlaftrunk er setzte sich darauf an die strasse und schlief wieder ein um 11 uhr kam die koenigstochter gefahren die chaise war mit vier fuchsen bespannt und rot behangen der soldat sah und hoerte aber nichts am dritten abend dachte er heute nacht komme ich doch mit er nahm den knecht mit hinaus dass dieser ihn wecke wenn er wieder schlafe die wirtin hatte ihn nocheinmal betrogen als die prinzessin angefahren kam hingen vier schimmeln an der chaise und diese war weiss behangen er aber sass dort und schlief sie stieg aus wollte ihn wach bringen ebenso der knecht doch sie konnten ihn nicht aufwecken als die prinzessin von der kirche zurueckkam stieg sie wieder aus und gab sich nocheinmal die muehe ihn aufzuwecken doch alles war vergeblich sie zog nun seinen saebel aus der scheide und schrieb mit goldenen buchstaben darauf hier hast du meinen goldenen ring zum andenken dann fuhr sie fort frueh morgens rief der soldat den knecht und fragte wo sein goldener ring sei der knecht musste den goldenen 9 ring hergeben worauf der soldat ihm den kopf abhieb dann rief er der wirtin sagte zu ihr sie sei eine hexe und habe gemacht dass er nicht mit der koenigstochter in die kirche gekommen sei der soldat nahm jetzt seinen saebel wieder und hieb der wirtin auch den kopf ab dann rief er die magd zu dieser sagte er sie solle das anwesen haben darauf machte er sich auf und ging fort'] - 0 - 0 \n",
      "\n",
      "17 - 0.10313142044513987 - mess_45 - ['ein jahr war verflossen seit helmerich ausgezogen die prinzess zu erloesen und noch immer war bei den eltern kein sechsspaenniger wagen angelangt ach sprach der vater waere nur der ungeschickte hans ausgezogen statt unsres besten buben da waere das unglueck doch geringer  vater sagte hans lass mich hinziehn ich wills auch probieren aber der vater wollte nicht denn was dem klugen misslingt wie fuehrte das der ungeschickte zu ende da der vater ihm ross und wehr versagte machte hans sich heimlich auf und wanderte wohl drei tage denselben weg zu fuss den der bruder an einem geritten war aber er fuerchtete sich nicht und schlief des nachts auf dem weichen moos unter den gruenen zweigen so sanft wie unter dem dach seiner eltern die voegel des waldes scheuten sich nicht vor ihm sondern sangen ihn in schlaf mit ihren besten weisen als er nun an die ameisen kam die beschaeftigt 47 waren ihren neuen bau zu vollenden stoerte er sie nicht sondern wollte ihnen helfen und die tierchen die an ihm hinaufkrochen las er ab ohne sie zu toeten wenn sie ihn auch bissen die enten lockte er auch ans ufer aber um sie mit brosamen zu fuettern den bienen warf er die frischen blumen hin die er am wege gepflueckt hatte so kam er froehlich an das koenigsschloss und pochte bescheiden am schalter gleich tat die tuere sich auf und die alte fragte nach seinem begehr wenn ich nicht zu gering bin moechte ich es auch versuchen die schoene prinzess zu erloesen sagte er versuche es mein sohn sagte die alte aber wenn du die drei proben nicht bestehst kostet es dein leben wohlan muetterlein sprach hans sage was ich tun soll jetzt gab die alte ihm die probe mit dem leinsamen hans war nicht faul sich zu buecken doch schon schlug es drei viertel und das faesschen war noch nicht halb voll da wollte er schier verzagen aber auf einmal kamen schwarze ameisen mehr als genug und in wenigen minuten lag kein koernlein mehr auf der wiese als die alte kam sagte sie das ist gut und warf die zwoelf schluessel in den teich die sollte er in einer stunde herausholen aber hans brachte keinen schluessel aus der tiefe so tief er auch tauchte er kam nicht an den grund verzweifelnd setzte er sich ans ufer da kamen die zwoelf entchen herangeschwommen jede mit 48 einem goldenen schluesselchen im schnabel die warfen sie ins feuchte gras so war auch diese probe geloest als die alte wiederkam um ihn nun in den saal zu fuehren wo die dritte und schwerste probe seiner harrte verzagend sah hans auf die drei gleichen schleiergestalten wer sollte ihm hier helfen da kam ein bienenschwarm durchs offene fenster geflogen die kreisten durch den saal und summten um den mund der drei verhuellten aber von rechts und links flogen sie schnell wieder zurueck denn die drachen rochen nach pech und schwefel wovon sie leben die gestalt in der mitte umkreisten sie alle und surrten und schwirrten leise die mittle die mittle denn da duftete ihnen der geruch ihres eigenen honigs entgegen den die koenigstochter so gern ass also da die alte wiederkam nach einer stunde sprach hans ganz getrost ich waehle die mittle und da fuhren die boesen drachen zum fenster hinaus die schoene koenigstochter aber warf ihren schleier ab und freute sich der erloesung und ihres schoenen braeutigams und hans sandte dem vater der prinzess den schnellsten boten und zu seinen eltern einen goldenen wagen mit sechs pferden bespannt und sie alle lebten herrlich und in freuden und wenn sie nicht gestorben sind leben sie heute noch'] - 0 - 0 \n",
      "\n",
      "26 - 0.10310980220826305 - mess_47 - ['so kamen sie in die hoehle und der riese erzaehlte seinen genossen was der erdwurm bisher alles gethan habe sie hiessen ihn daher willkommen und behielten ihn bey sich ohne ihm etwas leides zu thun sie gingen oft auf raub aus manchmal nahmen sie ihn auf ihre streifereyen mit meistens aber musste er zurueckbleiben wo sie ihn dann einsperrten alle abende aber mit dem schlage sechs uhr verfielen sie in schlaf aus 282 welchem sie nicht zu wecken waren bis sie nicht volle zwoelf stunden geschlafen hatten so hatte er zwar zu leben aber auch viele langweile als daher einmal die riesen wieder ausgezogen waren besah er sich die hoehle recht genau ob denn kein entkommen moeglich waere da entdeckte er eine thuere welche in einen langen dunklen gang fuehrte er ging hinein und mehrere stunden in grosser finsterniss fort bis endlich helle ihn umfloss und er sich wieder oben auf freyer erde sah'] - 0 - 0 \n",
      "\n",
      "92 - 0.07845320142138348 - mess_46 - ['dann kehrte er in die huette der alten frau zurueck sie kuesste ihn dankte ihm und schlug ihm vor mit ihr weiter zusammen zu wohnen die koenigstochter aber verliebte sich in ihn und wollte ihn zu ihrem mann haben er war einverstanden sie heirateten und lebten gluecklich miteinander'] - 0 - 0 \n",
      "\n",
      "32 - 0.07709969658305409 - mess_47 - ['des anderen tages liess der schneider ein grosses fass machen aussen voll eiserner spitzen nahm sein schwert und kroch in das fass dieses fass liess er dann unter den baum bringen welcher der schlange als wohnung diente wie die schlange den geruch von menschenfleisch in die nase bekam stuerzte sie vom 284 baume herab und zu dem fasse hin in welchem der schneider ein loch gelassen hatte die schlange bog eben ihren rachen ueber diese oeffnung da nahm der schneider die gelegenheit wahr und stiess ihr das schwert bis in den hals hinein dass sie sich in schmerz und wuth um das fass in vielen ringen herumwand sich aber an jedem eisernen zacken spiesste und bald tod war da stieg der held aus dem fasse schlug der schlange den kopf ab und brachte ihn dem koenige als siegeszeichen welcher heute eine viel groessere freude hatte als gestern'] - 0 - 0 \n",
      "\n",
      "70 - 0.0765140273069316 - mess_23 - ['unterdessen koenigstochter tode verurteilt worden gatten getoetet hatte sie eben richtstaette gefuehrt worden pferd mehr hause alter schimmel der soldat nahm schimmel fuhr hin weib retten schon henker beil erhoben brachen gericht ab koenigstochter blieb leben'] - 0 - 0 \n",
      "\n",
      "64 - 0.07572751426971377 - mess_23 - ['aber kam soldat ebenfalls bei hochzeit fuerchtete junge mann dass soldat kommen moechte stellte toren wachen auf sollten niemanden hereinlassen als soldat kam liess bloss schwert blinken lagen wachen wuerste'] - 0 - 0 \n",
      "\n",
      "102 - 0.07518278003637208 - mess_46 - [' wenn du waffen hast leg sie ab und komm herein'] - 0 - 0 \n",
      "\n",
      "96 - 0.07045456165685265 - mess_46 - ['er schlug an die pforte und hoerte eine kraeftige stimme von innen'] - 0 - 0 \n",
      "\n",
      "98 - 0.06830375410169048 - mess_46 - ['er legte sein schwert ab trat ein und kaempfte lange zeit erbittert mit der lamia er schaffte es aber nicht sie zu besiegen so wurde auch er einer ihrer gefangenen in dem augenblick in dem der junge mann gefangen genommen wurde fiel zu hause das zeichen von der ablage als das seine mutter sah begann sie zu weinen und alle glaubten dass er verloren gegangen waere'] - 0 - 0 \n",
      "\n",
      "24 - 0.06276518970918095 - mess_47 - ['nun bekam der riese schon eine bessere meynung von seinem kleinen reisegefaehrten und bot ihm an ihn in seine hoehle zu nehmen wo ihrer zwoelf beysammen waeren er selber aber sey koenig'] - 0 - 0 \n",
      "\n",
      "68 - 0.06100473562824915 - mess_23 - ['da rannten schleunigst hin dort teufel lebendig geworden vergessen teufels grossmutter toeten salbe lebendig gemacht die hunde bissen tot grossmutter dann nahmen salbenflasche liefen groesster eile koenigsschloss zurueck'] - 0 - 0 \n",
      "\n",
      "28 - 0.0598793841969448 - mess_47 - ['dieser aber war in die stadt getreten wo er alles in bestuerzung und trauer fand alle fenster waren mit schwarzen tuechern verhangen er erkundigte sich daher was die ursache solcher trauer waere und erfuhr dass riesen in der naehe wohnten welche die stadt immer in angst und schrecken hielten und dass sieben drachen in einer nahen hoehle hausten welchen sie jeden tag einen menschen opfern muessten  und endlich sey eine schlange nicht weit auf einem baume welche alle menschen verzehre die ungluecklicher weise in ihr bereich kaemen niemand aber waere zu finden welcher die stadt von diesen ungeheuern befreyen wollte'] - 0 - 0 \n",
      "\n",
      "5 - 0.05778540083549434 - mess_44 - ['bald darauf war eine hochzeit auf einem schlosse in der naehe der prinz fuhr auch hin viele leute liefen um dem tanze zuzusehen aschenpuester bat den koch auch um die erlaubniss zusehen zu duerfen da lief sie zu der eiche zog das silberne kleid an und wuenschte sich einen wagen in dem sie nach dem schlosse fuhr der prinz sah sie und tanzte mit ihr aber nach ein paar taenzen war sie verschwunden setzte sich auf ihren wagen und sprach'] - 0 - 0 \n",
      "\n",
      "66 - 0.05711045403440363 - mess_23 - ['darauf schrieb koenig brief dass kate kommen moege liess brief hund hinbringen da koenigstochter mitgehen aber koenig sagte was willst dort gewiss ende sein aber maedchen sprang hinten wagen fuhren hin da erzaehlte koenigstochter vater dass soldat gerettet habe wie moeglich sein meinte koenig wo drachenkoepfe hat  die mag haben einzigen zunge sie gingen hin nachzusehen nahmen soldaten mit in einzigen kopf zunge der soldat zog freudig zungenbuendel tasche sagte hier zungen da haengten betrueger feierten neuem hochzeit soldaten'] - 0 - 0 \n",
      "\n",
      "57 - 0.05363882431617405 - mess_23 - ['dann gingen schwertkammer der teufel sagte wieder weisst du gemacht wird  ihr seid viele leute braucht viele schwerter darunter groesseres schwert weisst du wozu gebraucht wird wurde gefragt das braucht ihr gewiss selbst  das schwert blinken laesst muessen sterben'] - 0 - 0 \n",
      "\n",
      "48 - 0.049666574654530504 - mess_48 - ['der soldat hatte noch drei brueder als er zum ersten kam sagte er zu ihm gruess gott bruder lebst du noch der antwortete ja darauf fragte der soldat ob er nicht wuesste wo der goldene berg sei der bruder antwortete wo der goldene berg sei wuesste er nicht er koenne aber die voegel zitieren wenn die es nicht wuessten er wuesste es nicht jetzt zitierte er die voegel miteinander aber keiner wusste etwas von dem goldenen berg da nahm er den staerksten vogel davon setzte den soldaten darauf und befahl dem vogel ihn so weit zu tragen als er koenne und ihn dann abzusetzen dann reiste der soldat weiter und kam zu seinem zweiten bruder er sagte zu ihm gruess gott bruder lebst du noch der antwortete ja er fragte ihn nun ob er nicht wuesste wo der goldene berg sei der antwortete nein aber das wildbret wilpert koenne er miteinander zitieren wenn das es nicht wuesste er wuesste es nicht jetzt zitierte der bruder das wildbret aber keines wusste etwas vom goldenen berg da nahm er das staerkste getier davon und setzte den soldaten darauf das musste diesen wieder so weit tragen als es konnte hierauf reiste der soldat weiter und kam zu seinem dritten bruder den gruesste er auch wie die andern zwei dann fragte dieser ihn wo er herkomme der soldat legte ihm aus wie es ihm seither erging dann fragte er seinen bruder auch ob er nicht wisse wo der goldene berg sei dieser sagte er wuesste nichts vom goldenen berg aber die wolken koenne er zitieren wenn die es nicht wuessten so sei er angefuehrt jetzt zitierte sein bruder die wolken es kam immer eine um die andere und keine wusste etwas vom goldenen berg hintennach kam noch so ein schwarzes poepela woelkchen sein bruder fragte es ob es nichts vom goldenen berg wuesste das antwortete ja es wuesste wo der goldene berg sei und morgen haette die koenigstochter hochzeit da sagte des soldaten bruder es solle den soldaten aufpacken und solle mit ihm fort so schnell es koenne damit es noch vor der hochzeit ankaeme und es kam auch richtig vor der hochzeit mit dem soldaten hin dieser ging gleich vor die residenz und liess drinnen sagen die koenigstochter solle einmal herausgehen als sie kam zeigte er ihr den saebel mit den goldenen buchstaben und den goldenen ring der andere braeutigam musste darauf fort und der soldat bekam die koenigstochter zur frau'] - 0 - 0 \n",
      "\n",
      "87 - 0.04589596514482276 - mess_46 - ['da brach er auf und ging an den ort an dem man die koenigstochter behuetete und wo die lamia sie fressen wuerde'] - 0 - 0 \n",
      "\n",
      "9 - 0.04571513257892367 - mess_44 - ['am naechsten abend wurde wieder getanzt und aschenpuester bat den koch wieder um erlaubniss diesmal zog sie das goldene kleid an und fuhr im wagen dahin der prinz hatte schon nach ihr ausgeschaut und wurde sehr vergnuegt als sie kam beim tanze fragte er sie wo sie zu hause sei in stiefelschmeiss antwortete sie sie blieb eine stunde da dann verschwand sie umsonst fragte der prinz wo stiefelschmeiss laege niemand konnte es ihm sagen'] - 0 - 0 \n",
      "\n",
      "15 - 0.04437134420717486 - mess_45 - ['als helmerich nun bei sinkender sonne das praechtige schloss erreicht hatte darin die prinzessin verzaubert war klopfte er gewaltig an die geschlossene pforte alles war still immer heftiger pochte der reiter endlich tat sich ein schiebefenster auf und hervor sah ein altes muetterlein mit spinnewebfarbigem gesichte die fragte verdriesslich was er begehre die prinzess will ich erloesen rief helmerich geschwind macht mir auf eile mit weile mein sohn sprach die alte morgen ist auch ein tag um neun uhr werde ich dich hier erwarten damit schloss sie den schalter'] - 0 - 0 \n",
      "\n",
      "14 - 0.04362471409459346 - mess_45 - ['nun begab es sich dass das jahr einmal ein mehr als gewoehnlich teures war und dem meister der beutel leer ward ei dachte er man muss zu leben wissen sind die kunden 44 doch so oft zu dir gekommen nun ist es an dir hoeflich zu sein und dich zu ihnen zu bemuehen gesagt getan frueh morgens zog er aus und klopfte an mancher stattlichen tuer aber wie es sich denn so trifft dass die stattlichsten herren nicht die besten zahler sind die rechnung zu bezahlen hatte niemand lust so kam der handwerksmann muede und matt des abends in seine heimat und truebselig setzte er sich vor die tuere der schenke ganz allein denn er hatte weder das herz mit den zechgaesten zu plaudern noch freute er sich sehr auf das lange gesicht seines weibes aber wie er da sass in gedanken versunken konnte er doch nicht lassen hinzuhoeren auf das gespraech das drinnen gefuehrt ward ein fremder der eben aus der hauptstadt angelangt war erzaehlte dass die schoene koenigstochter von einem boesen zauberer gefangen gesetzt sei und muesse im kerker bleiben ihr lebelang wenn nicht jemand sich faende der die drei proben loeste welche der zauberer gesetzt hatte faende sich aber einer so waere die prinzess sein und ihr ganzes herrliches schloss mit all seinen schaetzen das hoerte der meister an zuerst mit halbem ohr dann mit dem ganzen und zuletzt mit allen beiden denn er dachte mein sohn helmerich ist ein aufgeweckter kopf der wohl den ziegenbock barbieren moechte so das einer von ihm heischte was gilts er loest die proben und wird der gemahl der schoenen prinzess und herr ueber land und leute denn also hatte der koenig ihr vater verkuendigen lassen  schleunig kehrte er nach haus und vergass seine schulden und kunden ueber der neuen maer die er eilig seiner frau hinterbrachte des andern 45 morgens schon sprach er zum helmerich dass er ihn mit ross und wehr ausruesten wolle zu der fahrt und wie schnell machte der sich auf die reise als er abschied nahm versprach er seinen eltern er wolle sie samt dem dummen bruder hans gleich holen lassen in einem sechsspaennigen wagen denn er meinte schon er waere koenig übermuetig wie er dahinzog liess er seinen mutwillen aus an allem was ihm in den weg kam die voegel die auf den zweigen sassen und den herrgott lobten mit gesang wie sie es verstanden scheuchte er mit der gerte von den ästen und kein getier kam ihm in den weg daran er nicht seinen schabernack ausgelassen haetteund zum ersten begegnete er einem ameisenhaufen den liess er sein ross zertreten und die ameisen die erzuernt an sein ross und an ihn selbst krochen und pferd und mann bissen erschlug und erdrueckte er alle weiter kam er an einen klaren teich in dem schwammen zwoelf enten helmerich lockte sie ans ufer und toetete deren elf nur die zwoelfte entkam endlich traf er auch einen schoenen bienenstock da machte er es den bienen wie er es den ameisen gemacht und so war seine freude die unschuldige kreatur nicht sich zum nutzen sondern aus blosser tuecke zu plagen und zu zerstoeren'] - 0 - 0 \n",
      "\n",
      "36 - 0.04080809469824837 - mess_47 - ['der schneider wurde inne dass ihn die koenigstochter hasse und den grund warum wie er daher wieder zu bette ging stellte er sich als traeume er wieder und diesesmal von lauter schlachten und siegen'] - 0 - 0 \n",
      "\n",
      "65 - 0.03969262180147188 - mess_23 - ['nachdem weise weg gereinigt hatte ging kate er sagte kaetner auf weise koennte wohl hochzeitshaus beste essen bekommen haben  rede zeug meinte alte kaetner sorg nur dass frieden bleiben kannst doch soldat steckte kleinen hund taschentuch maul lief braut legte schmeichelnd fuessen die braut erkannte hund sogleich hals goldkette trug angelegt hatte sie band taschentuch beste tische war als hund kate zurueckkam setzten soldat alte kaetner essen soldat schickte kleinen hund fort krug voll getraenke holen auch bekam er aber merkte braeutigam geschichte hund kannte schickte soldaten aus gegner toeten eine ganze kompanie wurde entgegengeschickt liess schwert blinken fielen tot hin'] - 0 - 0 \n",
      "\n",
      "34 - 0.03896106486645308 - mess_47 - ['da nun der schneider beylager mit der koenigstochter hielt und eingeschlafen war traeumte ihm von seinem handwerk von nadel scheere buegeleisen und da er laut traeumte hoerte die prinzessin welche wach war alles und gerieth in grosse besorgniss es moege ihr gatte doch wohl nicht mehr als ein schneider seyn kaum war es morgen so ging sie zu dem koenige und klagte diesem ihren argwohn und erklaerte ihm nie und nimmer die schande ertragen zu koennen als koenigstochter die frau eines schneiders zu seyn'] - 0 - 0 \n",
      "\n",
      "91 - 0.038852265668994586 - mess_46 - ['sobald sie sich ihnen naeherte nahm der junge mann das schwert das er hinter einigen steinen versteckt hatte warf die lamia zu boden und toetete sie daraufhin ging er und oeffnete die quellen seitdem hatten sie in der gegend wieder wasser'] - 0 - 0 \n",
      "\n",
      "61 - 0.03719678156393831 - mess_23 - ['sie nahmen mann hand fuehrten galgen der grosse teufel guckte bloss treppe zu da fragte soldat darf drei seufzer tun sitte ist das wollten kleinen teufel erlauben grosse teufel gab zu da blies soldat erstenmal floete oeffnete tuer kleinen hundes dieser lief tuer mittleren hundes sagte o weh o weh herr grosser not der hund antwortete was dabei tun eingeschlossen der soldat blies zweitenmal oeffnete tuer als beiden hunde tuer grossen hundes kamen blies soldat drittenmal da liefen hunde davon bissen teufel tot der soldat nahm kleid grossen teufels mit flinte schwert vergass salbenflasche dann ging weg ochsen lag mehr'] - 0 - 0 \n",
      "\n",
      "77 - 0.03501034173189248 - mess_46 - ['als er am abend nach hause kam und seiner frau erzaehlte was er gesehen und gehoert hatte wurde sie boese weil sie nichts zu essen hatten'] - 0 - 0 \n",
      "\n",
      "46 - 0.03479272390486758 - mess_48 - ['auf dem wege zu dieser kirche stand ein wirtshaus da hinein ging der soldat und logierte sich ein auf die nacht verlangte er zu trinken da sagte die wirtin das wasser in dem brunnen sei nicht gesund sie wolle ihm zitronenwasser geben sie aber gab ihm einen schlaftrunk er ging zwar hinaus setzte sich an den weg schlief aber ein um 11 uhr kam die koenigstochter gefahren mit vier rappen und die chaise war schwarz behangen'] - 0 - 0 \n",
      "\n",
      "50 - 0.03474253829628337 - mess_49 - ['als sie in die wirtsstube kamen sassen schon verschiedene leute drin und als die wirtin kam waere hans bald omicht ohnmaechtig geworden so toll sah sie aus das ist eine hexe dachte hans bei sich sein herr tat aber sehr gemeinschaeftlich mit der wirtin die kennen einander gut dachte sich hans no bas kann mir dro gelich nun was kann mir dran liegen er ass und trank was heilges zeug heisst denn so gut hatte er in seinem leben noch nie gegessen und getrunken bald darauf musste er sich niederlegen was ihm ganz recht war in einem so schoenen und weichen bett hatte hans auch in seinem leben nie geschlafen er war also recht zufrieden und dachte es ist doch schoener als bei dir daheim frueh beizeit kam sein herr und weckte ihn auf allo hans raus sprach er jetzt gehts weiter hans riebelte sich die augen aus stand auf und tat zog sich an und als sie gefruehstueckt hatten ging es weiter lange liefen sie im wald fort und hans kannte sie gar nicht mehr aus endlich kamen sie an ein haeuslein so jetzt sind wir daheim das ist mein haus sprach der herr zu hans dann schloss er die tuer auf und ging mit hans ins haeuslein hinein bei mir hast du es gut sprach der herr zu hans essen und trinken darfst du was dir schmeckt und die arbeit ist auch nicht schwer du musst die katz fuettern aber lasse sie ja keinen hunger leiden holz musst du im wald suchen und es klein machen und wenn ich fort bin musst du dir halt selber kochen wenn ich daheim bin koche ich dazu musst 15 du mir bloss holz und wasser beitragen die erdaepfel schaelen und feuer anmachen hans tat alles was ihm sein herr hiess und der herr war zufrieden mit hans eines tages sprach der herr zu hans hoere hans ich gehe fort und du musst allein daheim bleiben schliesse abends immer gut zu und lass keinen menschen ins haus kochen kannst du dir was du willst zeug ist da dazu hans versprach alles richtig zu tun dann ging der herr fort ich werde lange ausbleiben sagte er noch zu hans die erste zeit krabbelte hans so im haus herum aber allmaehlich wurde ihm doch die zeit lang als er nun wieder einmal so alles im hause herumstuerte fand er in einem laedle truehlein buecher gott sei dank sagte hans jetzt hab ich doch aebbes zum lesen hans fing an in den buechern zu lesen aber da ging es ihm nicht zum besten vieles verstand er nicht und dann waren so viel haken und schnoerkel drinnen welche er auch nicht kannte dem hans ging ein licht auf sein herr war ein hexenmeister ein zauberer sobald nun hans allemal seine arbeit getan hatte setzte er sich ueber die buecher simulierte und gruebelte drin rum ueber dem gruebeln verging dem hans die zeit und er wurde es so gar nicht weiss dass er allein war nach einem halben jahre konnte hans die ganzen buecher auswendig und konnte auch das hexen perfekt eines tages ging er ein stueck in den wald hinein um holz zu lesen und als er wieder heimkehrte wunderte er sich dass die tuer auf war er wusste doch dass er zugeschlossen hatte als er in die stube kam stand sein herr darin hatte ein buch in der hand und bitzelte vor zorn du schlingel sprach er du hast in meinen buechern gelesen ich habe es daran gesehen wahrscheinlich hast du auch das hexen gelernt hans spannte dass die geschichte dreckig werden koennte und schlitzte aus er dachte das ausreissen hat kein dummer erdacht aber hier nuetzte es nichts denn hans war noch nicht vor die tuer gekommen so war der hexenmeister hinter ihm hans besann sich nicht lange machte sich zu einem adler und flog auf und davon der hexenmeister ging in die stube holte ein gewehr und schoss auf hans aber hans hatte sich kugelsicher gemacht die kugel tat ihm nichts und er flog ruhig weiter der hexenmeister sprach der kanns besse bi wie ich den muss ich mit list dro krieg gewalt hilft da nichts'] - 0 - 0 \n",
      "\n",
      "16 - 0.03375471270326634 - mess_45 - ['am andern morgen um neun uhr als helmerich wieder 46 erschien stand das muetterchen schon seiner gewaertig mit einem faesschen voll leinsamen den sie ausstreute auf eine schoene wiese lies die koerner zusammen sprach sie zu dem reiter in einer stunde komme ich wieder da muss die arbeit getan sein  helmerich aber dachte das sei ein alberner spass und lohne es nicht sich darum zu buecken er ging derweil spazieren und als die alte wiederkam war das faesschen so leer wie vorher das ist nicht gut sagte sie darauf nahm sie zwoelf goldene schluesselchen aus der tasche und warf sie einzeln in den tiefen dunklen schlossteich hole die schluessel herauf sprach sie in einer stunde komme ich wieder da muss die arbeit getan sein helmerich lachte und tat wie vorher  als die alte wiederkam und auch diese aufgabe nicht geloest war da rief sie zweimal nicht gut nicht gut doch nahm sie ihn bei der hand und fuehrte ihn die treppe hinauf in den grossen saal des schlosses da sassen drei frauenbilder alle drei in dichte schleier verhuellt waehle mein sohn sprach die alte aber sieh dich vor dass du recht waehlst in einer stunde komme ich wieder helmerich war nicht klueger da sie wiederkam als da sie wegging uebermuetig aber rief er aufs geratewohle die zur rechten waehl ich  da warfen alle drei die schleier zurueck in der mitte sass die holdselige prinzess rechts und links zwei scheussliche drachen und der zur rechten packte den helmerich in seine krallen und warf ihn durch das fenster in den tiefen abgrund'] - 0 - 0 \n",
      "\n",
      "2 - 0.0328260260850138 - mess_43 - ['die beiden liebenden setzten nun ihren weg fort und kamen auch gluecklich in die heimat des koenigssohns vor dem thore verabredeten sie die braut solle noch draussen bleiben waehrend er hineingehe er traf nur seine mutter noch am leben sein vater war gestorben grosser jubel empfing ihn bei seiner rueckkehr und grosse feste wurden veranstaltet so dass er seine braut ganz vergass und ihm zuletzt sein ganzes erlebniss im walde wie ein traum erschien die braut wartete draussen bis an den verabredeten tag als er da nicht kam verkleidete sie sich und ging ins schloss wo sie sich als kammerzofe verdingte und durch ihre geschicklichkeit und bescheidenheit sich bald die gunst der koenigin erwarb es gelang ihr aber nicht ihren geliebten zu gesicht zu bekommen da wuenschte 478 sie sich eines tages ein prachtvolles kleid auf dem der ganze sternenhimmel zu sehen war und weil sie eine zauberin war bekam sie es auch das zeigte sie der koenigin und diese ganz entzueckt darueber wollte es ihr abkaufen das maedchen aber wollte es fuer geld nicht hergeben sondern es ihr schenken unter der bedingung dass sie eine nacht im schlafgemache des koenigs zubringen duerfe das gewaehrte die koenigin sie gab aber ihrem sohne vorher einen schlaftrunk damit er von der gegenwart der zofe nichts bemerke das maedchen suchte ihn durch weinen und wimmern zuletzt durch schuetteln und ruetteln zu erwecken es gelang ihr aber nicht sondern er schlief bis zum vollen tage wo sie das zimmer wieder verlassen musste da wuenschte sie sich ein prachtvolles tuch mit gold und perlen besetzt dass es wie die sonne leuchtete das zeigte sie wieder der koenigin und schenkte es ihr unter der gleichen bedingung diesmal aber nahm der koenig den schlaftrunk nicht weil ihm einer seiner diener verrathen was die koenigin das vorige mal gethan hatte wie nun das maedchen wieder in seinem zimmer weinte und wimmerte erwachte er und erkannte sie wieder und nun erkannte er auch dass was er im walde erlebt kein traum gewesen war erinnerte sich seines versprechens und nahm am andern tage das maedchen zu seiner frau und beide lebten gluecklich mit einander'] - 0 - 0 \n",
      "\n",
      "100 - 0.030856808225214735 - mess_46 - ['von dort begab sich der zwillingsbruder zum palast des koenigs als ihn die frau seines bruders sah hielt sie ihn fuer ihren mann am morgen ging er hinaus und tat so als wuerde er auf jagd gehen zufaellig schlug er denselben weg ein der zur burg fuehrte als er nach seinem bruder suchte stand er mit einem mal vor der grossen burg in der die lamia wohnte'] - 0 - 0 \n",
      "\n",
      "41 - 0.02948280057081386 - mess_47 - ['so wurden die feinde geschlagen und ihnen ein grosser theil ihres landes abgenommen der schneider 287 aber kehrte wohlbehalten an ehren reich zurueck und wurde auch von dem koenige mit allen ehren von der koenigstochter aber mit liebe empfangen denn diese hatte nun ihren gatten achten gelernt'] - 0 - 0 \n",
      "\n",
      "37 - 0.028895567428319748 - mess_47 - ['da wurde die koenigstochter noch trauriger und ging 286 am morgen wieder zum koenige und meldete ihm was ihr gatte heute nacht getraeumt habe worueber aber ihr das herz brechen wollte das erfuellte das herz des koenigs mit freude'] - 0 - 0 \n",
      "\n",
      "84 - 0.025394060522119698 - mess_46 - [' ach mein kind wir haben hier kein wasser in dieser gegend hier lebt eine lamia die das wasser unter verschluss haelt wir bekommen nichts wenn sie nicht jeden tag ein maedchen zu fressen bekommt und morgen wird sie die koenigstochter rodanthi fressen'] - 0 - 0 \n",
      "\n",
      "99 - 0.020878854295855318 - mess_46 - ['da begab sich sein bruder auf den weg um nach ihm zu suchen zufaellig kam auch er an der alten frau vorbei die seinen bruder bewirtet hatte sie dachte dass es sich um seinen bruder handelte der die lamia umgebracht hatte und dankte ihm'] - 0 - 0 \n",
      "\n",
      "8 - 0.02056978325317417 - mess_44 - ['am andern morgen war der prinz sehr uebler laune er hatte die ganze nacht gewacht und immer an seine schoene taenzerin gedacht aschenpuester musste ihm die stiefel putzen das that sie auch aber ein kleiner flecken an den zehen blieb ungeputzt das bemerkte der prinz kam zornig in die kueche hinein und warf ihr den stiefel an den kopf'] - 0 - 0 \n",
      "\n",
      "53 - 0.02029432352921497 - mess_49 - ['seine hexenkunst hat hans nie mehr ausgeuebt da er bei seinem ersten versuch so viel angst hat ausstehen muessen und wenn einmal die rede aufs hexen kam soll hans immer gesagt haben das ist nichts fuer rechtschaffene leute'] - 0 - 0 \n",
      "\n",
      "54 - 0.01650279323345818 - mess_23 - ['ein koenig drei soehne die beschimpften alten bettler frueheren soldaten verzauberte hunde sagte ihr sollt lange hunde bleiben soldaten koenig macht die jungen wurden stelle hunden grossen hund mittleren hund kleinen hund streiften lande umher da kam soldat krieg zurueck ging wald er kam schloss teufels niemand hause dort grosser viehhof schrecklich grossen ochsen er stahl ochsen ging fort da begegnete vogelsteller drei hunde sich der jaeger fragte ihn ochsen drei hunde vertauschen wolle er vertauschte ochsen dachte dass ja teufelsschloss ochsen bekommen koenne'] - 0 - 0 \n",
      "\n",
      "18 - 0.016400399242715347 - mess_47 - ['es war einmal ein schneider klein von gestalt der auf der welt in der fremde herumwanderte wie er eines tages so dahin ging kam er in einen wald und in diesem zu einer quelle neben welcher er ein rothseidenes band fand auf dem die worte standen sieben auf einen schlag wer macht es mir nach der schneider hob es auf und band es sich um den leib'] - 0 - 0 \n",
      "\n",
      "19 - 0.016091387858265874 - mess_47 - ['280 da er schon lange weiter gewandert war kam ihm ploetzlich ein riese entgegen der ihn hart anfuhr und ihm fuerchterlich drohte der schneider aber gedachte seines bandes und der worte die darauf standen und machte sich nicht viel aus den drohungen des riesen so zankend und streitend kamen sie zu einem kirschenbaum der voll reifer kirschen hing da sagte der riese hoehnisch halt ich will dir die aeste des baumes herabbiegen damit du von den kirschen essen kannst lass es dir noch schmecken denn wenn du gegessen hast will ich dich umbringen'] - 0 - 0 \n",
      "\n",
      "4 - 0.014021246630801424 - mess_44 - ['479 nun wohnte in einem lande ein schoener prinz der hatte von der schoenheit des maedchens vernommen sie nahm die ruthe in die hand die kleider auf die schulter und wuenschte sich in die naehe von dem schloss des prinzen alsbald war sie in dem schlossgarten da wuenschte sie sich einen schrank in einer eiche des gartens that ihre kleider hinein zog den kraehenpelz an und ging in die schlosskueche wo sie sich fuer einen armen knaben ausgab der dienst suche dich kann ich gebrauchen sagte der koch du sollst aschenpuester werden nach ein paar tagen kam der prinz in die kueche und brachte ein erlegtes wild hin sie sah ihn und er gefiel ihr ueber die massen'] - 0 - 0 \n",
      "\n",
      "20 - 0.013755508860372679 - mess_47 - ['der riese bog also den baum hernieder und der schneider hielt sich fest an dem gipfel desselben um bequem die ueppigen kirschen verspeisen zu koennen aber zu gleicher zeit liess der riese den baum wieder los und der gute schneider ward hoch in die luft hinaufgeschleudert er hatte es dem bande zu danken dass er unversehrt auf der anderen seite wieder zur erde kam da bekam der schneider muth der riese aber gerieth in erstaunen und liess den kleinen mann von nun an neben sich herziehen'] - 0 - 0 \n",
      "\n",
      "44 - 0.00781562706333908 - mess_48 - ['die soldaten gingen nun wieder gegen ihre heimat zu und hielten alle tage ball es ging aber ihr geld doch zu ende da hielten sie rat und beschlossen wieder zum schlosse zu gehen und fuehrten den entschluss auch richtig aus als sie hinkamen war die fallbruecke wieder hinaufgezogen nachdem sie ein wenig dagestanden waren ging der verschlag die fallbruecke herunter sie gingen hinein zogen den tischkasten auf und taten die karten heraus als sie diese heraus getan hatten kam das alte maennlein wieder und sagte hab ich es euch nicht gesagt dass ihr nimmer kommen sollt jetzt muss einer da bleiben die drei soldaten losten untereinander und der den das los traf blieb da die anderen steckten soviel edelsteine ein als sie konnten und gingen auf die heimat zu zu dem der dableiben musste sagte das maennlein jetzt muesse er jahr und tag am falltor schildwache stehen die zeit vergehe ihm aber schnell sobald es ihn hungere sei sie herum das war richtig so als ihm der hunger kam war die zeit herum und er ging ins schloss zurueck das maennlein wies ihm ein zimmer an und sagte in dem zimmer muesste er drei naechte liegen dabei sah der soldat unter der bodenstiege drei schwaene sitzen das maennlein sagte noch in der ersten nacht die er in dem zimmer zubringe kaemen maenner die fragen wuerden wie viel schlaege er haben wolle und da solle er sagen einen schlag sie wuerden ihm wohl mehr anbieten er aber solle nicht mehr sagen als einen schlag nachts um 11 uhr kamen sie auch und frugen wie viele schlaege er haben wolle da sagte er einen schlag sie sprachen er muesste mehr annehmen er aber blieb dabei nicht mehr als einen schlag nehmen zu wollen um 12 uhr verliessen ihn die maenner als er frueh herunterkam waren die schwaene schwane unter der bodenstiege schon etwas schoener vor der zweiten nacht sagte das maennlein heute antwortest du zwei schlaege um 11 uhr nachts kamen sie wieder und fragten wie viele schlaege er haben wolle er antwortete zwei schlaege sie boten ihm zwar mehr an er aber blieb auf seiner aussage stehen um 12 uhr gingen sie wieder fort frueh als er herabkam waren die drei schwaene wieder schoener jetzt sagte das maennlein zu ihm heut ist die letzte nacht heute sagst du drei schlaege aber nur fest darauf geblieben sie werden dann messer heraus tuen und sie wetzen als wenn sie dich umbringen wollten um 11 uhr kamen sie wieder miteinander und fragten wieviel schlaege er wolle er sprach drei schlaege sie aber sagten er muesse mehr haben sie taten ihre messer heraus und machten sie scharf aber um 12 uhr nachts gingen sie fort frueh als er erwachte war das zimmer an den waenden golden er blieb noch etwas liegen und betrachtete das veraenderte zimmer'] - 0 - 0 \n",
      "\n",
      "43 - 0.007174678562239187 - mess_48 - ['drei desertierte soldaten gingen in eine wildnis hinein in dieser wildnis stand ein schloss die fallbruecke war aber aufgezogen als sie so beim schlosse stehen blieben und es betrachteten gab sich die fallbruecke herunter sie gingen darueber und in das schloss hinein und gelangten in die stube hunger und durst hatten sie auch darum zogen sie den tischkasten auf es lag aber nur ein kartenspiel darinnen und darauf stand geschrieben nikloes da sagten sie zu einander fuer unsern hunger und durst wollen wir einmal karten als sie anfingen zu karten kam so ein altes maennlein hinein und frug was ihr begehren sei sie antworteten ihm sie haetten hunger und durst und weil sonst nichts da sei so wollten sie karten da sagte das maennlein essen koenne er ihnen keines geben aber geld koennten sie haben so viel sie wollten er fuehrte sie darauf in die silbergrube sie steckten ein soviel sie konnten dann fuehrte er sie in die goldgrube da warfen sie das silber weg und steckten dafuer gold ein zuletzt fuehrte er sie zu den edelsteinen nun warfen sie das gold weg und packten edelsteine ein als sie fertig waren sprach das alte maennlein jetzt habt ihr soviel als eine ganze stadt waehrschaft hat kommt aber nicht mehr'] - 0 - 0 \n",
      "\n",
      "51 - 0.007001681183965983 - mess_49 - ['als hans ueber den wald hinaus geflogen war guckte er sich um und als er nichts verdaechtiges mehr sah flog er auf die erde und machte sich wieder zu einem menschen als er so dahinging war ihm doch nicht recht wohl denn er dachte sich dass ihn der hexenmeister auf schritt und tritt verfolgen werde auf einmal sah er ueber sich einen geier fliegen und hans erkannte seinen herrn hans machte sich zu einem gaul und fing an und jackte galoppierte was er konnte waehrend er so dahinjackte sah er einen bauern gehen auf diesen hielt er zu und da der bauer dachte es sei ein durchgegangener gaul so fing er ihn was sich hans ruhig gefallen liess als der bauer so mit hans dahin ging kam ein nobler herr zu ihnen der wollte den gaul kaufen dem 16 hans wurde angst und bang er kannte den nobeln herrn es war der hexenmeister hans sagte leis zum bauern verkaufe mich nicht darueber waere der bauer bald omich worn ein gaul der reden konnte war ihm was neues der bauer verkaufte den gaul nun erst recht nicht denn einen gaul der reden konnte hatte nicht jeder mensch er fuehrte also den hans heim in seinen stall im stalle litt es hans nicht lange er machte sich zu einer fliege und flog durch einen fensterritz davon wie er so dahin flog sah er unter sich den hexenmeister gehen aber auch dieser hatte den hans bald bemerkt er machte sich zu einer schwalbe und flog dem hans nach bald haette er den hans erschnappt aber hans machte sich zu einem fingerle fingerringlein und fiel vor einem maedchen nieder das gerade daher ging das maedchen sah das fingerle hob es auf und steckte es an seinen finger wohin es recht schoen passte alle tage kam nun ein mann der dem maedchen das ringlein abkaufen wollte doch das maedchen gab es nicht her eines tages als der mann wieder lange umsonst gehandelt hatte wollte er dem maedchen das ringlein mit gewalt nehmen da fiel das ringlein auf den boden und wurde zu lauter hirsekoernern der fremde mann es war der hexenmeister machte sich zu einem goehger hahn und frass die hirsekoerner auf dann flog er davon die sache hatte aber doch einen haken gehabt der hexenmeister glaubte er haette den hans vertilgt aber der hans lebte noch ein hirsekoernlein welches der hans selbst war hatte der hexenmeister uebersehen dies hirsekoernlein war in des maedchens pantoffel gefallen und dort hatte es der hexenmeister nicht gesehen hans verwandelte sich wieder in seine richtige gestalt und freite um das maedchen das ihn schon als ring an der hand getragen hatte das maedchen fand gefallen an hans und wurde seine frau'] - 0 - 0 \n",
      "\n",
      "1 - 0.006939842116944196 - mess_43 - ['es war einmal ein koenigssohn der ritt mit seinen dienern auf die jagd er hatte schon den ganzen tag gejagt ohne etwas zu treffen er war im begriffe heimzukehren als eine ricke ihm aufstiess um doch wenigstens etwas nach hause zu bringen setzte er ihr nach aber immer wenn er sie nahe genug glaubte um seinen speer werfen zu koennen war sie ihm wieder entschwunden dabei verlor er seine gefaehrten ganz die denn ohne ihn heimkehrten die ricke lief endlich ueber eine bruecke der koenigssohn hinter ihr her kaum war er hinueber als die bruecke hinter ihm abbrach und vor ihm stand statt der ricke ein altes haessliches weib das ihn aufforderte zu folgen er musste ihr gehorchen er mochte wollen oder nicht sie fuehrte ihn in ein schloss mitten im walde das sie mit ihren drei toechtern bewohnte die beiden aeltesten waren so haesslich wie ihre mutter und ebenso unfreundlich gegen ihn die juengste aber huebsch und freundlich nach einiger zeit forderte die alte ihn auf 477 ihre aelteste tochter zu heiraten dagegen weigerte er sich aber und erbot sich die juengste zu nehmen das wollte jedoch die alte nicht und er wurde von ihr und den beiden aelteren schwestern scharf bewacht damit er nicht entrinne er fand aber doch gelegenheit der juengsten seine liebe zu gestehen die sie ihrerseits herzlich erwiderte beide beschlossen zu entfliehen im herbste liefen sie eines nachts davon aber am morgen setzte ihnen die mittlere schwester nach wie die juengste bemerkte dass sie verfolgt wurden verwandelte sie sich in einen rosenstock und ihren geliebten in eine rose da kehrte die schwester um und erzaehlte sie habe die fluechtlinge nicht finden koennen und zugleich dass sie mitten im walde einen rosenstock gesehen haette da wurde sie von ihrer mutter und schwester gescholten dass sie den rosenstock nicht mitgebracht hatte nun wurde die aelteste tochter nachgeschickt als sie den verfolgten auf die spur kam verwandelte ihre schwester sich in ein caroussel und ihren geliebten in den besitzer desselben der in der mitte sitzend in einem buche las da kehrte die aelteste um und berichtete dass sie nichts gefunden und was sie im walde gesehen nun eilte die alte ihnen selbst nach diesmal verwandelte sich die juengste tochter in einen see und den koenigssohn in eine ente die auf dem see schwamm vorher aber hatte sie ihn gewarnt dem ufer nicht zu nahe zu kommen die alte lockte die ente mit brot und einmal glaubte sie sie so nahe dass sie mit der hand darnach griff da verlor sie aber das gleichgewicht und fiel ins wasser und ertrank'] - 0 - 0 \n",
      "\n",
      "49 - 0.005287656320859876 - mess_49 - ['es war einmal ein vater der hatte drei soehne joerg michel und hans der joerg und michel waren tuechtige fleissige und vigilante 14 flinke ruehrige kerl aber mit dem hans hatte der vater sein kreuz und quaestion zu allen arbeiten stellte er sich ungeschickt und es war gar nichts rechtes mit ihm anzufangen den ganzen tag strabanzte er herum gaukelte alleweil mit hunden und katzen denen er allerlei kunststuecke lernte oder er guckte den himmel an wobei er sich gern auf den buckel legte deswegen wurde er auch nur der himmelsgucker geheissen der vater waere froh gewesen wenn er den hans vom brote gehabt haette aber kein mensch wollte ihn in den dienst nehmen eines tages musste hans in den wald hinaus um holz zu lesen da kam ein mann zu ihm und fragte ihn nach seinem aus und an verhaeltnissen hans erzaehlte treuherzig wie es mit ihm stehe dass man ihn nur den dummen hans und den himmelsgucker heisse einen solchen kerl kann ich brauchen sagte der mann zu sich den ding ich mir der mann ging mit hans heim und sprach mit seinem vater der alte war froh den hans los zu werden und so war er bald mit dem fremden mann ueberein gekommen und handeleins hans musste nun seinen buendel zusammenpacken und dahin ging er mit dem fremden mann es tat ihm gar nicht leid da er daheim nur gezankt worden war und auch oft hiebe kriegt hatte lange waren hans und der fremde mann gegangen und hans war schon ganz kaput da kamen sie an einen wald hier wollte sich hans niedersetzen gehts nicht noch e bissle sagte sein herr zu hans wir kommen bald zu einem wirtshause dort essen und trinken wir und bleiben auch uebernacht hans schleppte sich fort und war herzlich froh als sie an das wirtshaus kamen'] - 0 - 0 \n",
      "\n",
      "3 - 0.0 - mess_44 - ['ein reicher mann der witwer geworden hatte eine einzige tochter die schoen und lieblich heranwuchs da wurde des vaters herz von unreiner liebe zu ihr entzuendet sie aber widerstand seinem begehren da drohte er ihr mit gewalt und nun sann sie auf list sie versprach ihm zu willen zu sein wenn er ihr ein kleid gebe das von silber stehen koenne als sie das bekommen verlangte sie eins das von golde steif sei und zum drittenmale eins das von gesteinen stehen koenne wie sie auch das erlangt sagte sie nun fehlt mir noch ein kraehenpelz und endlich hatte sie noch einen wunsch eine gluecksruthe auch die bekam sie'] - 0 - 0 \n",
      "\n",
      "30 - 0.0 - mess_47 - ['da meynte der schneider er waere nicht abgeneigt das wagestueck zu unternehmen man moege ihn nur zum koenige fuehren so wurde er denn zum koenige gefuehrt und dieser versprach ihm aufs neue seine tochter und sein reich als lohn wenn ihm die that gelingen wuerde'] - 0 - 0 \n",
      "\n",
      "6 - 0.0 - mess_44 - ['hinter mir dunkel und vorne mir klar'] - 0 - 0 \n",
      "\n",
      "27 - 0.0 - mess_47 - ['vor seinen augen lag eine stadt er ging also auf sie zu unterdessen waren die riesen nach hause gekommen sie fanden den kleinen mann zwar nicht bekuemmerten sich aber auch nicht viel um sein verschwinden denn sie dachten der erdwurm werde sich irgendwo verkrochen haben und schon wieder zum vorschein kommen wenn ihn hungere'] - 0 - 0 \n",
      "\n",
      "7 - 0.0 - mess_44 - ['dass niemand sehe wohin ich fahr'] - 0 - 0 \n",
      "\n",
      "25 - 0.0 - mess_47 - ['wieder gingen sie einige zeit des weges da lag ein kaeslaibchen auf der strasse welches der schneider gleichfalls aufhob und in der hand behielt bald darauf hob der riese einen stein auf und drueckte ihn in seiner gewaltigen faust so fest dass wasser heraus trat der schneider bueckte sich nun auch that als naehme er einen stein von der erde auf und drueckte dann das kaeselaibchen das er in der hand trug so fest dass milch herausdrang neckisch frug er den riesen ob er es auch so koenne dieser war nun voll erstaunen ueber die kraft des zwerges wie er meynte'] - 0 - 0 \n",
      "\n",
      "23 - 0.0 - mess_47 - ['da bueckte sich auch der schneider als wolle er einen stein aufheben liess aber den vogel fliegen dieser flog so weit dass der riese gar nicht bemerken konnte wo der stein zur erde fiel'] - 0 - 0 \n",
      "\n",
      "22 - 0.0 - mess_47 - ['auf diese weise waren sie eine bedeutende strecke gegangen da hob der riese einen stein auf und sagte zu seinem gefaehrten nun wollen wir in die wette werfen und sehen wer weiter wirft und er warf 281 und der stein flog so weit dass ihn die augen des schneiders gerade noch ersehen konnten'] - 0 - 0 \n",
      "\n",
      "10 - 0.0 - mess_44 - ['der prinz that die nacht wieder kein auge zu und war noch verdriesslicher als am tage vorher aschenpuester musste ihm den rock buersten sie konnte es ihm aber nicht recht machen und zuletzt warf er ihr die buerste an den kopf'] - 0 - 0 \n",
      "\n",
      "11 - 0.0 - mess_44 - ['480 am dritten abend als aschenpuester sich wieder erlaubniss zum zusehen erbeten hatte zog sie ihr kleid mit den edelsteinen an der prinz fragte sie beim tanze wo sie wohne in buerstenschmeiss gab sie zur antwort wer du auch seist sprach er nimm diesen ring von mir sie liess sich den ring an die hand stecken dann wollte sie entschluepfen aber der prinz passte ihr auf und fuhr dicht hinter ihr her sie stieg bei der eiche aus hatte aber nicht zeit das kleid abzulegen sondern zog nur in eile den kraehenpelz drueber'] - 0 - 0 \n",
      "\n",
      "12 - 0.0 - mess_44 - ['als am andern morgen der koch die suppe bereitete liess aschenpuester den ring hineinfallen der prinz fand ihn und fragte wer in der kueche gewesen niemand als ich und aschenpuester erwiderte er er liess aschenpuester kommen mich juckts auf dem kopfe sprach er zu ihr sieh nach ob ungeziefer drauf ist aschenpuester gehorchte wie sie aber vor ihm stand da sah er unter dem abgenutzten kraehenpelz das demantkleid hervorschimmern da erkannte er sie nun bist du mein sprach er und er machte sie zu seiner frau und sie lebten gluecklich zusammen bis an ihr ende'] - 0 - 0 \n",
      "\n",
      "13 - 0.0 - mess_45 - ['es war einmal ein armer handwerksmann der hatte zwei soehne einen guten der hiess hans und einen boesen der hiess helmerich wie das aber wohl geht in der welt der vater haette den boesen mehr lieb als den guten'] - 0 - 0 \n",
      "\n",
      "21 - 0.0 - mess_47 - ['wie der schneider nun so hinter dem riesen einherging lief ihm ein spatz unter den fuessen herum er bueckte sich ergriff den vogel und trug ihn ohne dass der riese es sah fortan in der hand'] - 0 - 0 \n",
      "\n",
      "104 - 0.0 - mess_46 - ['sie kehrten in den palast zurueck auch ihre eltern kamen dorthin und sie lebten alle zusammen gut und wir leben noch besser'] - 0 - 0 \n",
      "\n",
      "35 - 0.0 - mess_47 - ['der koenig aber troestete sie und sagte er wolle ihn zum feldherrn machen und gegen die feinde schicken und ihn an die aeusserste spitze stellen damit er gleich im anfange zu grunde gehe sein wort aber das er ihm gegeben und wodurch er sein eidam geworden koenne er nicht zuruecknehmen mithin auch die ehe nicht loesen'] - 0 - 0 \n",
      "\n",
      "78 - 0.0 - mess_46 - ['am naechsten morgen ging der fischer wieder zum fischen und fing das goldene fischchen noch einmal da sagte es ihm'] - 0 - 0 \n",
      "\n",
      "101 - 0.0 - mess_46 - ['er klopfte an die pforte und auch er hoerte eine kraeftige stimme'] - 0 - 0 \n",
      "\n",
      "97 - 0.0 - mess_46 - [' wenn du waffen hast dann wirf sie nieder und komm rein'] - 0 - 0 \n",
      "\n",
      "95 - 0.0 - mess_46 - ['der junge mann aber beachtete den hinweis nicht weiter den ihm der koenig gegeben hatte und zog am naechsten tag los um alle leute zu befreien die die lamia gefangen hielt'] - 0 - 0 \n",
      "\n",
      "94 - 0.0 - mess_46 - [' geh niemals in diese burg hinein denn dort versteckt sich eine lamia die alle gefangen nimmt die hineinkommen sagte der koenig zu seinem schwiegersohn'] - 0 - 0 \n",
      "\n",
      "90 - 0.0 - mess_46 - [' oha sagte sie da heute werde ich gleich zwei zu fressen haben'] - 0 - 0 \n",
      "\n",
      "89 - 0.0 - mess_46 - ['kurz darauf hoerte er ein droehnen und sah die lamia kommen'] - 0 - 0 \n",
      "\n",
      "88 - 0.0 - mess_46 - [' ich werde dich retten sagte er ihr du musst nicht weinen'] - 0 - 0 \n",
      "\n",
      "86 - 0.0 - mess_46 - [' dort drueben sagte sie'] - 0 - 0 \n",
      "\n",
      "85 - 0.0 - mess_46 - ['als der junge mann das hoerte fragte er wo denn die lamia waere'] - 0 - 0 \n",
      "\n",
      "83 - 0.0 - mess_46 - ['er brach auf und zog sehr weit fort unterwegs traf er eine alte frau die ihn in ihrer huette aufnahm und bewirtete als sie ihm zu essen gab bat der junge um etwas wasser und da sagte ihm die alte frau'] - 0 - 0 \n",
      "\n",
      "82 - 0.0 - mess_46 - [' mutter ich habe ein zeichen in die ablage gemacht solange das zeichen dort ist geht es mir gut wenn es herunterfaellt dann schick meinen bruder um nach mir zu suchen denn dann befinde ich mich in gefahr'] - 0 - 0 \n",
      "\n",
      "81 - 0.0 - mess_46 - ['eines tages sahen sie noch etwas seltsames zusammen mit den wurzeln der zypressen die vor ihrem hause gewachsen waren sprossen auch zwei schwerter als die kinder groesser waren wollte eines von ihnen auswandern da nahm das kind eines der pferde einen der hunde und eines der schwerter bevor es loszog sagt es zu seiner mutter'] - 0 - 0 \n",
      "\n",
      "80 - 0.0 - mess_46 - ['und so geschah es nach einiger zeit bekamen sie zwei jungen zwillinge die beiden aehnelten einander so sehr dass man sie nicht voneinander unterscheiden konnte und auch die huendin und die katze bekamen zwillinge'] - 0 - 0 \n",
      "\n",
      "79 - 0.0 - mess_46 - [' jetzt gehoere ich dir du kannst mich essen aber bevor du mich isst werde ich dir einen ratschlag geben den du in deinem eigenen interesse befolgen solltest iss ein stueckchen und gib deiner frau auch eines zu essen dann wird sie zwillinge gebaeren danach nimm meine graeten und vergrab sie vor deinem haus dann werden zwei zypressen daraus spriessen dann nimm ein paar von ihren blaettern und fuettere alle tiere die du hast und sie werden auch zwillinge gebaeren'] - 0 - 0 \n",
      "\n",
      "76 - 0.0 - mess_46 - ['er nahm ihn also vom haken und warf ihn wieder ins meer'] - 0 - 0 \n",
      "\n",
      "38 - 0.0 - mess_47 - ['er ertheilte noch am naemlichen tage dem eidam den befehl das heer gegen den feind zu fuehren liess ihm aber doch seiner tochter zu gefallen die schlechteste ruestung und das schlechteste pferd geben zugleich befahl er ihm stets an der spitze des heeres zu bleiben'] - 0 - 0 \n",
      "\n",
      "75 - 0.0 - mess_46 - [' na gut sagte sich der fischer da ich lass ihn wieder frei'] - 0 - 0 \n",
      "\n",
      "74 - 0.0 - mess_46 - [' lass mich noch einen tag wachsen dann kannst du mich fangen und essen'] - 0 - 0 \n",
      "\n",
      "73 - 0.0 - mess_46 - ['eines tages versuchte er fische zu fangen aber es biss einfach keiner an doch so gegen abend schliesslich als er schon seine siebensachen packen und fortgehen wollte ging ihm ein fisch an die angel er zog ihn hinaus und was sah er da ein ganz und gar goldenes fischlein da hoerte er wie der fisch zu ihm sprach'] - 0 - 0 \n",
      "\n",
      "72 - 0.0 - mess_46 - ['es war einmal in einem kleinen fischerdorf ein armer fischer der dort mit seiner frau lebte sie hatten keine kinder'] - 0 - 0 \n",
      "\n",
      "69 - 0.0 - mess_23 - ['dann nahm grosse hund koerper soldaten mittlere nahm kopf kleine hund strich salbe risse da lebte soldat wurde gesund'] - 0 - 0 \n",
      "\n",
      "60 - 0.0 - mess_23 - ['dann gingen seilkammer da strick ganz besonderer art fragte teufel wieder weisst du wozu gebraucht wird  den braucht ihr gewiss selbst  das strick aufgehaengt wirst sprach teufel warf strick hals dann brachte hof schrecklich kleine teufel warteten'] - 0 - 0 \n",
      "\n",
      "59 - 0.0 - mess_23 - ['darauf gingen kammer floeten waren weisst du wozu sind fragte teufel wieder ihr seid viele leute braucht viele floeten unter ganz besonders schoene floete weisst du gemacht wird  die braucht ihr gewiss selbst antwortete soldat das floete dreimal hineinblaest oeffnet jedesmal eiserne tuer da fiel soldaten ein halt hunde muessen irgendeiner eisernen tuere sein nirgends sehe steckte floete heimlich tasche'] - 0 - 0 \n",
      "\n",
      "58 - 0.0 - mess_23 - ['danach gingen salbenflaschenkammer diese voll salbenflaschen darunter flasche groesser andern weisst du gemacht wird  die braucht ihr gewiss selbst der teufel antwortete die salbe heilt alles menschen ganz stuecke hacktest einsalbst gesund'] - 0 - 0 \n",
      "\n",
      "56 - 0.0 - mess_23 - ['der grosse teufel zeigte raeume zuerst fuehrte kleiderkammer dort riesige menge kleider weisst du wozu gebraucht werden fragte teufel ihr seid viele leute braucht viele kleider antwortete mann dann besonderes kleidungsstueck weisst du wozu gebraucht wird fragte teufel der soldat antwortete das braucht ihr gewiss selbst da sprach teufel wenn uebeiziehst macht ueber dich flinte nichts dann gingen flintenkammer weisst du gemacht wird fragte teufel wieder ihr seid viele leute braucht viele flinten nun grosse flinte fragte teufel wieder weisst du hiermit gemacht wird  die braucht ihr gewiss selbst antwortete soldat das flinte sagte teufel die schiesst umreisst weit knall hoert'] - 0 - 0 \n",
      "\n",
      "55 - 0.0 - mess_23 - ['er ging schloss zurueck teufel schon hause im schlosse teufel richtiges altes luder forderte hereinzukommen sie nahmen freundlich auf luden essen ein essen durfte ausruhen aber unterdessen versteckten boesewichte hunde keller die kleinen teufel hofe beschaeftigt galgen fuer bauen'] - 0 - 0 \n",
      "\n",
      "45 - 0.0 - mess_48 - ['die drei schwaene unter der stiege aber waren drei verwuenschte koenigstoechter sie kamen jetzt weil sie erloest waren in sein zimmer und sagten zum soldaten er solle nun aufstehen als er aufgestanden war sprachen sie zu ihm er haette jetzt die wahl unter ihnen drei er nahm die vom goldenen berg diese sagte wir sind immer als noch nicht fertig wir muessen in drei naechten zwischen 11 und 12 uhr in jene kirche gehen'] - 0 - 0 \n",
      "\n",
      "42 - 0.0 - mess_47 - ['von da an lebten sie noch lange und gluecklich tiefenbach'] - 0 - 0 \n",
      "\n",
      "40 - 0.0 - mess_47 - ['er zog also getrost aus da sein pferd aber sehr matt ging so blieb er haeufig zurueck und so auch in dem augenblicke wo die feinde lauter heiden an der seite herankamen eben strauchelte das pferd und riss im fallen ein kreuz um welches an dem wege stand das kreuz aber fiel auf den schneider welcher es fasste und weil es nicht schwer war in der hand behielt so ging es gegen den feind dieser aber wurde kaum des kreuzes ansichtig welches der schneider an der spitze des heeres trug als sie in wilder flucht umkehrten und dem schneider den vollstaendigsten sieg ueberliessen sie hatten naemlich vermeynt dass der gott der christen mit diesen streite und gegen einen gott koennten menschen nicht kaempfen'] - 0 - 0 \n",
      "\n",
      "39 - 0.0 - mess_47 - ['der schneider aber machte sich nicht viel daraus sondern band sein rothes band um den leib und wie er es betrachtete las er die worte du wirst sieger seyn'] - 0 - 0 \n",
      "\n"
     ]
    }
   ],
   "source": [
    "for index, score in (find_similar(vokabular, n_te)):\n",
    "     if (df.index_string[index]==0 and index>0):\n",
    "        print(index,'-', score,'-', df.quelle[index],'-', \n",
    "           t_corpus[index], '-',  df.index_binar[index],'-', df.index_binar[index],'\\n' )"
   ]
  },
  {
   "cell_type": "markdown",
   "metadata": {},
   "source": [
    "## Ende "
   ]
  },
  {
   "cell_type": "code",
   "execution_count": null,
   "metadata": {},
   "outputs": [],
   "source": []
  }
 ],
 "metadata": {
  "kernelspec": {
   "display_name": "Python 3 (ipykernel)",
   "language": "python",
   "name": "python3"
  },
  "language_info": {
   "codemirror_mode": {
    "name": "ipython",
    "version": 3
   },
   "file_extension": ".py",
   "mimetype": "text/x-python",
   "name": "python",
   "nbconvert_exporter": "python",
   "pygments_lexer": "ipython3",
   "version": "3.9.7"
  }
 },
 "nbformat": 4,
 "nbformat_minor": 2
}
