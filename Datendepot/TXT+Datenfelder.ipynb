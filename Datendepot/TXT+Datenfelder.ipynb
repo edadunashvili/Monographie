{
 "cells": [
  {
   "cell_type": "markdown",
   "metadata": {},
   "source": [
    "# TXT in TXT mit Datenfelder"
   ]
  },
  {
   "cell_type": "markdown",
   "metadata": {},
   "source": [
    "Einfache Textdatein aus dem ausgewählten Ordner (Variable 'instanz') werden in den Ordner, in dem sich der vorliegende Skript beindet, in strukturierten Dateien mit dem DatenFrame angelegt.\n",
    "\n",
    "der Ordner von einem Autor beschaffen > in Ordner alle Dateien mit seriallen Namen versehen > der Datei-Name für die Quelle verwenden. \n",
    "\n",
    "Nach dem Annotation der Datei sie mit dem ID versehen und Typnummer als Name eingeben > die ID in der Bibliographie eintragen > nach der Annotation der Messdatei kann sie in Messdaten-Ordner eingetragen und der vorhandenen überschrieben werden"
   ]
  },
  {
   "cell_type": "code",
   "execution_count": 2,
   "metadata": {},
   "outputs": [],
   "source": [
    "from os import listdir\n",
    "from os.path import isfile, join\n",
    "from bs4 import BeautifulSoup\n",
    "import bs4 as bs\n",
    "import urllib.request\n",
    "instanz='bechstein_prose_130'\n",
    "path = instanz \n",
    "jede_file = ([f for f in listdir(path) if isfile(join(path, f))]) \n",
    "jeder_text = ''\n",
    "for file in jede_file:\n",
    "    file_path = f'{path}/{file}'\n",
    "    current_text = open(file_path, encoding=\"UTF-8\").read()\n",
    "    jeder_text =(\"\".join([current_text]))\n",
    "    #print(all_text)\n",
    "    with open(file, 'wt', encoding='utf-8') as f:\n",
    "        f.write(current_text)\n",
    "    with open(file,\"r\",encoding='utf-8') as infile:\n",
    "        article = infile.read()\n",
    "    parsed_article = bs.BeautifulSoup(article,'lxml')\n",
    "    #print(parsed_article.string)\n",
    "    paragraphs = parsed_article.string.split('\\n')\n",
    "    article_text = \"\"\n",
    "    for p in paragraphs:\n",
    "        #print(p)\n",
    "        if p:\n",
    "            article_text += file+'|'+ p +'|0|0\\n'\n",
    "    with open(file, 'w', encoding='utf-8') as f:\n",
    "        f.write(article_text)"
   ]
  }
 ],
 "metadata": {
  "kernelspec": {
   "display_name": "Python 3 (ipykernel)",
   "language": "python",
   "name": "python3"
  },
  "language_info": {
   "codemirror_mode": {
    "name": "ipython",
    "version": 3
   },
   "file_extension": ".py",
   "mimetype": "text/x-python",
   "name": "python",
   "nbconvert_exporter": "python",
   "pygments_lexer": "ipython3",
   "version": "3.9.7"
  }
 },
 "nbformat": 4,
 "nbformat_minor": 2
}
