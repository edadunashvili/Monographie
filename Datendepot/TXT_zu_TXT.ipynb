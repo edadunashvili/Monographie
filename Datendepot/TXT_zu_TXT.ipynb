{
 "cells": [
  {
   "cell_type": "markdown",
   "metadata": {},
   "source": [
    "# TXT_zu_TXT"
   ]
  },
  {
   "cell_type": "code",
   "execution_count": 3,
   "metadata": {},
   "outputs": [],
   "source": [
    "from os import listdir\n",
    "from os.path import isfile, join\n",
    "from bs4 import BeautifulSoup\n",
    "import bs4 as bs\n",
    "import urllib.request\n",
    "instanz='Test_Folder'\n",
    "path = instanz \n",
    "jede_file = ([f for f in listdir(path) if isfile(join(path, f))]) \n",
    "jeder_text = ''\n",
    "for file in jede_file:\n",
    "    file_path = f'{path}/{file}'\n",
    "    current_text = open(file_path, encoding=\"UTF-8\").read()\n",
    "    jeder_text =(\"\".join([current_text]))\n",
    "    #print(all_text)\n",
    "    with open(file, 'wt', encoding='utf-8') as f:\n",
    "        f.write(current_text)\n",
    "\n",
    "    with open(file,\"r\",encoding='utf-8') as infile:\n",
    "        article = infile.read()\n",
    "\n",
    "    parsed_article = bs.BeautifulSoup(article,'lxml')\n",
    "    #print(parsed_article.string)\n",
    "    paragraphs = parsed_article.string.split('\\n')\n",
    "    article_text = \"\"\n",
    "    for p in paragraphs:\n",
    "        #print(p)\n",
    "        if p:\n",
    "            article_text += file+'|'+ p +'|0|0\\n'\n",
    "    with open(file, 'w', encoding='utf-8') as f:\n",
    "        f.write(article_text)"
   ]
  }
 ],
 "metadata": {
  "kernelspec": {
   "display_name": "Python 3",
   "language": "python",
   "name": "python3"
  },
  "language_info": {
   "codemirror_mode": {
    "name": "ipython",
    "version": 3
   },
   "file_extension": ".py",
   "mimetype": "text/x-python",
   "name": "python",
   "nbconvert_exporter": "python",
   "pygments_lexer": "ipython3",
   "version": "3.8.8"
  }
 },
 "nbformat": 4,
 "nbformat_minor": 2
}
