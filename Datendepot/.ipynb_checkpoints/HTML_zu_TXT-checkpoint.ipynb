{
 "cells": [
  {
   "cell_type": "markdown",
   "metadata": {},
   "source": [
    "### HTML_zu_TXT"
   ]
  },
  {
   "cell_type": "code",
   "execution_count": 1,
   "metadata": {},
   "outputs": [],
   "source": [
    "import bs4 as bs\n",
    "import urllib.request\n",
    "quelle = 'UNDF_deu_ID123'\n",
    "link = 'https://textgridrep.org/browse/t5wk.0'\n",
    "scrapped_data = urllib.request.urlopen(link)\n",
    "article = scrapped_data .read()\n",
    "parsed_article = bs.BeautifulSoup(article,'lxml')\n",
    "paragraphs = parsed_article.find_all('p')\n",
    "article_text = \"\"\n",
    "for p in paragraphs:\n",
    "    article_text = quelle+'|'+ p.text +'|0|0'+'\\n'\n",
    "    with open(quelle+'.txt', 'a', encoding='utf-8') as f:\n",
    "        f.write(article_text)"
   ]
  },
  {
   "cell_type": "markdown",
   "metadata": {},
   "source": [
    "# XML Erzeuger"
   ]
  },
  {
   "cell_type": "code",
   "execution_count": 48,
   "metadata": {},
   "outputs": [],
   "source": [
    "import bs4 as bs\n",
    "import urllib.request\n",
    "quelle = 'udf_deu_123'\n",
    "link = 'https://textgridrep.org/browse/t5wk.0'\n",
    "scrapped_data = urllib.request.urlopen(link)\n",
    "article = scrapped_data.read()\n",
    "parsed_article = bs.BeautifulSoup(article,'lxml')\n",
    "paragraphs = parsed_article.find_all('p')\n",
    "article_text = \"\"\n",
    "for p in paragraphs:\n",
    "    article_text = '<p><quelle>'+quelle+'</quelle><episode>'+p.text+'</episode><indx_strg>0</indx_strg><indx_bnr>0</indx_bnr></p>'+'\\n'\n",
    "    with open(\"quelle\"+'.xml', 'a', encoding='utf-8') as f:\n",
    "        f.write (article_text)\n",
    "        "
   ]
  },
  {
   "cell_type": "code",
   "execution_count": null,
   "metadata": {},
   "outputs": [],
   "source": []
  }
 ],
 "metadata": {
  "kernelspec": {
   "display_name": "Python 3",
   "language": "python",
   "name": "python3"
  },
  "language_info": {
   "codemirror_mode": {
    "name": "ipython",
    "version": 3
   },
   "file_extension": ".py",
   "mimetype": "text/x-python",
   "name": "python",
   "nbconvert_exporter": "python",
   "pygments_lexer": "ipython3",
   "version": "3.9.5"
  }
 },
 "nbformat": 4,
 "nbformat_minor": 2
}
