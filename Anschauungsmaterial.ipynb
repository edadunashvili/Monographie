{
 "cells": [
  {
   "cell_type": "markdown",
   "metadata": {},
   "source": [
    "# Anschauungsmaterial"
   ]
  },
  {
   "cell_type": "code",
   "execution_count": 1,
   "metadata": {},
   "outputs": [],
   "source": [
    "from sklearn.feature_extraction.text import TfidfVectorizer\n",
    "from sklearn.feature_extraction.text import CountVectorizer\n",
    "from sklearn.pipeline import Pipeline\n",
    "import numpy as np\n",
    "corpus = [\"Anwalt wird als Dieb bezeichnet\",\n",
    "        \"Anwalt der scheintoten Frau\",\n",
    "        \"Dieb gibt sich als Frau aus\",\n",
    "        \"Dieb geht zum Anwalt und trifft einen anderen Dieb\"]"
   ]
  },
  {
   "cell_type": "code",
   "execution_count": 2,
   "metadata": {},
   "outputs": [
    {
     "name": "stderr",
     "output_type": "stream",
     "text": [
      "[nltk_data] Downloading package stopwords to\n",
      "[nltk_data]     C:\\Users\\elguj\\AppData\\Roaming\\nltk_data...\n",
      "[nltk_data]   Package stopwords is already up-to-date!\n"
     ]
    }
   ],
   "source": [
    "import nltk\n",
    "from nltk.corpus import stopwords\n",
    "nltk.download('stopwords')\n",
    "sw = stopwords.words('german')"
   ]
  },
  {
   "cell_type": "code",
   "execution_count": 3,
   "metadata": {},
   "outputs": [
    {
     "name": "stdout",
     "output_type": "stream",
     "text": [
      "{'anwalt': 2, 'wird': 15, 'als': 0, 'dieb': 6, 'bezeichnet': 4, 'der': 5, 'scheintoten': 11, 'frau': 8, 'gibt': 10, 'sich': 12, 'aus': 3, 'geht': 9, 'zum': 16, 'und': 14, 'trifft': 13, 'einen': 7, 'anderen': 1}\n",
      "  (0, 2)\t1\n",
      "  (0, 15)\t1\n",
      "  (0, 0)\t1\n",
      "  (0, 6)\t1\n",
      "  (0, 4)\t1\n",
      "  (1, 2)\t1\n",
      "  (1, 5)\t1\n",
      "  (1, 11)\t1\n",
      "  (1, 8)\t1\n",
      "  (2, 0)\t1\n",
      "  (2, 6)\t1\n",
      "  (2, 8)\t1\n",
      "  (2, 10)\t1\n",
      "  (2, 12)\t1\n",
      "  (2, 3)\t1\n",
      "  (3, 2)\t1\n",
      "  (3, 6)\t2\n",
      "  (3, 9)\t1\n",
      "  (3, 16)\t1\n",
      "  (3, 14)\t1\n",
      "  (3, 13)\t1\n",
      "  (3, 7)\t1\n",
      "  (3, 1)\t1\n"
     ]
    }
   ],
   "source": [
    "vectorizerCount = CountVectorizer()\n",
    "vocabularyCount = vectorizerCount.fit_transform(corpus)\n",
    "print(vectorizerCount.vocabulary_)\n",
    "print(vocabularyCount)"
   ]
  },
  {
   "cell_type": "code",
   "execution_count": 14,
   "metadata": {},
   "outputs": [
    {
     "name": "stdout",
     "output_type": "stream",
     "text": [
      "{'anwalt': 0, 'dieb': 1, 'frau': 2}\n",
      "  (0, 0)\t1\n",
      "  (0, 1)\t1\n",
      "  (1, 0)\t1\n",
      "  (1, 2)\t1\n",
      "  (2, 1)\t1\n",
      "  (2, 2)\t1\n",
      "  (3, 0)\t1\n",
      "  (3, 1)\t2\n"
     ]
    }
   ],
   "source": [
    "vectorizerCount = CountVectorizer(stop_words=sw, min_df=2)\n",
    "vocabularyCount = vectorizerCount.fit_transform(corpus)\n",
    "print(vectorizerCount.vocabulary_)\n",
    "print(vocabularyCount)"
   ]
  },
  {
   "cell_type": "code",
   "execution_count": 15,
   "metadata": {},
   "outputs": [
    {
     "name": "stdout",
     "output_type": "stream",
     "text": [
      "[[1 1 0]\n",
      " [1 0 1]\n",
      " [0 1 1]\n",
      " [1 2 0]]\n"
     ]
    }
   ],
   "source": [
    "array=vectorizerCount.transform(corpus).toarray()\n",
    "print(array)"
   ]
  },
  {
   "cell_type": "code",
   "execution_count": 16,
   "metadata": {},
   "outputs": [
    {
     "name": "stdout",
     "output_type": "stream",
     "text": [
      "{'anwalt': 0, 'dieb': 1, 'frau': 2}\n",
      "  (0, 1)\t1.2231435513142097\n",
      "  (0, 0)\t1.2231435513142097\n",
      "  (1, 2)\t1.5108256237659907\n",
      "  (1, 0)\t1.2231435513142097\n",
      "  (2, 2)\t1.5108256237659907\n",
      "  (2, 1)\t1.2231435513142097\n",
      "  (3, 1)\t2.4462871026284194\n",
      "  (3, 0)\t1.2231435513142097\n"
     ]
    }
   ],
   "source": [
    "vectorizerTfidf = TfidfVectorizer(max_df=1.0,min_df=2,norm=False, use_idf=True, sublinear_tf=False, stop_words=sw)\n",
    "vocabularyTfidf = vectorizerTfidf.fit_transform(corpus)\n",
    "print(vectorizerTfidf.vocabulary_)\n",
    "print(vocabularyTfidf)"
   ]
  },
  {
   "cell_type": "code",
   "execution_count": 7,
   "metadata": {},
   "outputs": [
    {
     "name": "stdout",
     "output_type": "stream",
     "text": [
      "{'anwalt': 0, 'dieb': 1, 'frau': 2}\n",
      "  (0, 1)\t0.7071067811865475\n",
      "  (0, 0)\t0.7071067811865475\n",
      "  (1, 2)\t0.7772211620785797\n",
      "  (1, 0)\t0.6292275146695526\n",
      "  (2, 2)\t0.7772211620785797\n",
      "  (2, 1)\t0.6292275146695526\n",
      "  (3, 1)\t0.8944271909999159\n",
      "  (3, 0)\t0.4472135954999579\n"
     ]
    }
   ],
   "source": [
    "vectorizerTfidf = TfidfVectorizer(max_df=1.0,min_df=2, norm='l2', use_idf=True, sublinear_tf=False, stop_words=sw)\n",
    "vocabularyTfidf = vectorizerTfidf.fit_transform(corpus)\n",
    "print(vectorizerTfidf.vocabulary_)\n",
    "print(vocabularyTfidf)"
   ]
  },
  {
   "cell_type": "code",
   "execution_count": 25,
   "metadata": {},
   "outputs": [
    {
     "name": "stdout",
     "output_type": "stream",
     "text": [
      "{'anwalt': 2, 'wird': 15, 'als': 0, 'dieb': 6, 'bezeichnet': 4, 'der': 5, 'scheintoten': 11, 'frau': 8, 'gibt': 10, 'sich': 12, 'aus': 3, 'geht': 9, 'zum': 16, 'und': 14, 'trifft': 13, 'einen': 7, 'anderen': 1}\n",
      "{'anwalt': 0, 'dieb': 1, 'frau': 2}\n",
      "  (0, 1)\t1.2231435513142097\n",
      "  (0, 0)\t1.2231435513142097\n",
      "  (1, 2)\t1.5108256237659907\n",
      "  (1, 0)\t1.2231435513142097\n",
      "  (2, 2)\t1.5108256237659907\n",
      "  (2, 1)\t1.2231435513142097\n",
      "  (3, 1)\t2.4462871026284194\n",
      "  (3, 0)\t1.2231435513142097\n",
      "  (0, 2)\t1\n",
      "  (0, 15)\t1\n",
      "  (0, 0)\t1\n",
      "  (0, 6)\t1\n",
      "  (0, 4)\t1\n",
      "  (1, 2)\t1\n",
      "  (1, 5)\t1\n",
      "  (1, 11)\t1\n",
      "  (1, 8)\t1\n",
      "  (2, 0)\t1\n",
      "  (2, 6)\t1\n",
      "  (2, 8)\t1\n",
      "  (2, 10)\t1\n",
      "  (2, 12)\t1\n",
      "  (2, 3)\t1\n",
      "  (3, 2)\t1\n",
      "  (3, 6)\t2\n",
      "  (3, 9)\t1\n",
      "  (3, 16)\t1\n",
      "  (3, 14)\t1\n",
      "  (3, 13)\t1\n",
      "  (3, 7)\t1\n",
      "  (3, 1)\t1\n",
      "[[1 0 1 0 1 0 1 0 0 0 0 0 0 0 0 1 0]\n",
      " [0 0 1 0 0 1 0 0 1 0 0 1 0 0 0 0 0]\n",
      " [1 0 0 1 0 0 1 0 1 0 1 0 1 0 0 0 0]\n",
      " [0 1 1 0 0 0 2 1 0 1 0 0 0 1 1 0 1]]\n"
     ]
    }
   ],
   "source": [
    "vectorizerTfidf = TfidfVectorizer(max_df=1.0,min_df=2,norm=False, use_idf=True, sublinear_tf=False, stop_words=sw)\n",
    "vectorizerCount = CountVectorizer()\n",
    "vocabularyTfidf = vectorizerTfidf.fit_transform(corpus)\n",
    "vocabularyCount = vectorizerCount.fit_transform(corpus)\n",
    "array=vectorizerCount.transform(corpus).toarray()\n",
    "print(vectorizerCount.vocabulary_)\n",
    "print(vectorizerTfidf.vocabulary_)\n",
    "print(vocabularyTfidf)\n",
    "print(vocabularyCount)\n",
    "print(array)"
   ]
  }
 ],
 "metadata": {
  "kernelspec": {
   "display_name": "Python 3 (ipykernel)",
   "language": "python",
   "name": "python3"
  },
  "language_info": {
   "codemirror_mode": {
    "name": "ipython",
    "version": 3
   },
   "file_extension": ".py",
   "mimetype": "text/x-python",
   "name": "python",
   "nbconvert_exporter": "python",
   "pygments_lexer": "ipython3",
   "version": "3.9.7"
  }
 },
 "nbformat": 4,
 "nbformat_minor": 2
}
