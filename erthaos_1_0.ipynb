{
 "cells": [
  {
   "cell_type": "markdown",
   "metadata": {},
   "source": [
    "## Google Colab Arbeitplatz vorbereiten"
   ]
  },
  {
   "cell_type": "code",
   "execution_count": null,
   "metadata": {},
   "outputs": [],
   "source": [
    "!git clone https://github.com/edadunashvili/Monographie.git"
   ]
  },
  {
   "cell_type": "code",
   "execution_count": null,
   "metadata": {},
   "outputs": [],
   "source": [
    "cd /content/Monographie"
   ]
  },
  {
   "cell_type": "code",
   "execution_count": null,
   "metadata": {},
   "outputs": [],
   "source": [
    "!pip install scikit-learn==1.1"
   ]
  },
  {
   "cell_type": "code",
   "execution_count": null,
   "metadata": {},
   "outputs": [],
   "source": [
    "!pip install mglearn"
   ]
  },
  {
   "cell_type": "code",
   "execution_count": null,
   "metadata": {},
   "outputs": [],
   "source": [
    "!pip install --upgrade joblib==1.1.1"
   ]
  },
  {
   "cell_type": "code",
   "execution_count": null,
   "metadata": {},
   "outputs": [],
   "source": [
    "from IPython.display import HTML, display\n",
    "\n",
    "def set_css():\n",
    "  display(HTML('''\n",
    "  <style>\n",
    "    pre {\n",
    "        white-space: pre-wrap;\n",
    "    }\n",
    "  </style>\n",
    "  '''))\n",
    "get_ipython().events.register('pre_run_cell', set_css)"
   ]
  },
  {
   "cell_type": "markdown",
   "metadata": {},
   "source": [
    "# Elguja Dadunashvili: Machine-Learning-Verfahren für die typologisch-vergleichenden Märchenforschung - Teil 1"
   ]
  },
  {
   "cell_type": "markdown",
   "metadata": {},
   "source": [
    "## Modul für die Aggregation des Korpus von Trainingsdaten "
   ]
  },
  {
   "cell_type": "markdown",
   "metadata": {},
   "source": [
    "[Zelle # 1]\n",
    "\n",
    "1-3: Die Variable 'tupNum', 'repert' und 'ausnahme' gelten für die Auswahl der in dem Trainingsdatenrepositorium angelegte Texte mit dem gesuchten Typ und dem Herkunftsrepertoire. Sowohl die Variable 'typNum' ails auch 'repert' kann mit leeren Anführungszeichen dargestellt werden, für die Variable 'ausnahme' ist entweder ein unwahrscheinlicher Wert (z.B. 'xxyyzz') oder der Wert womit man eine bestimmte Gruppe  von Daten aus der Wahl ausschließen kann eine Pflicht.\n",
    "\n",
    "4-8: Jedes Mal bei der Aggregation des Korpus von Trainingsdaten wird der gleichnamige alte Korpus gelöscht.\n"
   ]
  },
  {
   "cell_type": "code",
   "execution_count": 2,
   "metadata": {},
   "outputs": [],
   "source": [
    "typNum='300'\n",
    "repert=''\n",
    "ausnahme='xxyyzz'\n",
    "def entfernen(var):\n",
    "    import os\n",
    "    if os.path.exists(var):\n",
    "        os.remove(var)\n",
    "entfernen('episode_binar_train.csv')"
   ]
  },
  {
   "cell_type": "code",
   "execution_count": 3,
   "metadata": {},
   "outputs": [],
   "source": [
    "def clean(line):\n",
    "    line = line.replace(\"\\n\",\" \").strip()\n",
    "    line = line.replace(\"ä\",\"ae\").replace(\"ü\",\"ue\").replace(\"ö\",\"oe\")\n",
    "    line = line.replace(\"ß\",\"ss\").replace(\",\",\"\").replace(\"«\",\"\")\n",
    "    line = line.replace(\"»\",\"\").replace(\".\",\"\").replace(\":\",\"\")\n",
    "    line = line.replace(\";\",\"\").replace('\"',\"\")\n",
    "    line = line.replace(\"?\",\"\").replace(\"!\",\"\").replace(\"á\",\"a\")\n",
    "    line = line.replace(\",\",\"\").replace(\"\\t\",\" \").replace(\"'\",\"\")\n",
    "    line = line.replace(\"‹\",\"\").replace(\"›\",\"\").replace(\"-\",\" \")\n",
    "    line = line.replace(\"'('\",\"\").replace(\"')'\",\"\").replace('>','')\n",
    "    line = line.replace(\"    \",\" \").replace(\"   \",\" \").replace(\"  \",\" \")\n",
    "    line = line.replace('–','').replace('—','').replace('<','')\n",
    "    line = line.replace(\"Â\", \"A\").replace(\"ø\", \"oe\").replace('“','')\n",
    "    line = line.replace('„','').replace('(','').replace(')','')\n",
    "    line = line.replace(\"‚\", \"\").replace(']','').replace('[','')\n",
    "    if line == \"\": \n",
    "        return\n",
    "    line=line.split(\"|\")\n",
    "    line[0]=line[0].split(\"|\")[0]\n",
    "    for i, _ in enumerate(line):\n",
    "        if (i !=0) and (i!=2):\n",
    "            line[i]=line[i].lower()\n",
    "    flex=[]\n",
    "    try:\n",
    "        flex=line[1].split(\"\")\n",
    "    except:\n",
    "        pass\n",
    "    value=str(line)\n",
    "    line=str(line)   \n",
    "    flex.append(line)\n",
    "    ret=[]\n",
    "    for i in flex:\n",
    "        ret.append((i,value[0]))\n",
    "    return ret\n",
    "def write_back(words, temp):\n",
    "    with open(temp, \"a\", encoding='utf-8') as output:      \n",
    "        for word in words:\n",
    "            as_lex = word[0]\n",
    "            full_word = '\"' + as_lex + '\"'\n",
    "            for sub_word in word[1:]:\n",
    "                full_word += \" , \"  '\"' + sub_word + '\"'\n",
    "            full_word +=\"\\n\"\n",
    "            output.write(full_word)\n",
    "def aggreg(temp, ordner):\n",
    "    import glob\n",
    "    with open(temp, \"w\", encoding='utf-8') as output:\n",
    "        output.write (\"quelle,episode,index_string,index_binar\\n\")\n",
    "    sorted_files=sorted(glob.glob(ordner))\n",
    "    pairs = []\n",
    "    for file in sorted_files:\n",
    "        if typNum in file and repert in file and not ausnahme in file:\n",
    "            with open(file, 'r', encoding='utf-8', errors='ignore') as episode:\n",
    "                for line in episode.readlines():\n",
    "                    clean_words = clean(line)\n",
    "                    pairs = pairs + clean_words\n",
    "    write_back(pairs, temp)\n",
    "temp = \"episode_temp_train.csv\"\n",
    "ordner = \"Trainingsdaten/*.txt\"\n",
    "aggreg(temp, ordner)\n",
    "fin = open('episode_temp_train.csv','r', encoding ='utf-8')\n",
    "fout = open('episode_string_train.csv', \"wt\", encoding ='utf-8')\n",
    "for kfz in fin:\n",
    "    fout.write(kfz.replace(', \"[\"',\"\").replace('\"[', \"\").replace(']\"',\"\")\n",
    "               .replace(\"', '\", \"','\").replace(\" '\", \"'\"))\n",
    "fin.close()\n",
    "fout.close()\n",
    "fin = open('episode_string_train.csv','r', encoding='utf-8') \n",
    "fout = open('episode_binar_train.csv', \"wt\", encoding='utf-8')\n",
    "for efz in fin:\n",
    "    fout.write(efz.replace(\"'\",\"\"))             \n",
    "fin.close()\n",
    "fout.close()\n",
    "entfernen('episode_temp_train.csv')\n",
    "entfernen('episode_string_train.csv')"
   ]
  },
  {
   "cell_type": "markdown",
   "metadata": {},
   "source": [
    "[Zelle # 2]\n",
    "\n",
    "1-59: Aggregation der Datei 'episode_temp_train.csv' (eine Funktion). Die im Ordner „Trainingsdaten“ angelegte TXT Dateien werden in der CSV Datei aggregiert und in das root Repositorium verlegt. \n",
    "\n",
    "60-66: Umwandlung 'episode_temp_train.csv' in die Datei 'episode_string_train.csv'.\n",
    "\n",
    "67-72: 'episode_string_train.csv' laden, von den überflüssigen Zeichen bereinigen und ins Trainingsdatenkorpus 'episode_binar_train.csv' umwandeln.\n",
    "\n",
    "ab-73: Unnotige Aggregationen werden gelöscht."
   ]
  },
  {
   "cell_type": "markdown",
   "metadata": {},
   "source": [
    "##  Herstellung des Modells und der prototypischen Metaepisode "
   ]
  },
  {
   "cell_type": "markdown",
   "metadata": {},
   "source": [
    "[Zelle # 3]\n",
    "\n",
    "1-5: Trainingdatenkorpus zugreiffen und der im Datenfeld 'index_string' eingetragene Merkmalen mitsamt der Vorkommenshäufigkeitsrate einbelden."
   ]
  },
  {
   "cell_type": "code",
   "execution_count": 4,
   "metadata": {},
   "outputs": [
    {
     "name": "stdout",
     "output_type": "stream",
     "text": [
      "Counter({'e300_e_vorfeld_des_kampfes_bis_zum_sieg': 41, 'e300_c_anfangssituation_ankunft_und_erkundigung_der_not': 36, 'e300_o_auftritt_des_HD_vor_dem_AG_bis_zur_erkennung_seiner_heldentat': 34, 'e300_g_nach_dem_sieg_bis_zur_trennung_des_HD_und_des_OB': 29, 'e300_k_misshandlung_des_FH_bis_zur_hochzeit': 27, 'e300_m_rueckkehr_des_HD_und_erkundung_ueber_die_hochzeit_bis_zum_wiedergewinn_der_aufmerksamkeit': 18, 'e303_c_eingangssituation_bis_zur_trennung': 18, 'eUNDF_a_': 16, 'e303_g_erstes_treffen_mit_dem_AN': 16, 'e303_i_von_der_erkundigung_der_not_bis_zum_aufbruch_des_HF_zum_AN': 15, 'e303_k_vom_aufbruch_zum_AN_bis_zum_sieg_ueber_ihn': 15, 'e554_e_leistung_des_HD_gegenueber_dem_tier_und_aussprechen_der_dankbarkeit': 12, 'e315_a_': 12, 'eCoM_c_conceptia_magica': 11, 'e300_l_wiederbelebung_des_HD': 9, 'e300_i_rueckkehr_des_OB_und_die_suche_nach_dem_HD': 7, 'e300_q_von_der_begegnung_mit_dem_vogel_bis_zum_ende_des_fluges': 7, 'e550_a_': 7, 'e303_m_eifersucht': 5, 'e328_a_': 4, 'e303_q_rueckkehr_und_finale': 4, 'e562_a_': 4, 'e516_a_': 3, 'e301_o_von_der_rueckkehr_an_die_oberflaeche_bis_zur_loesung_der_durch_den_raub_verursachten_krise': 3, 'e301_e_vom_beginn_der_reise_bis_zum_finden_der_raststaette_oder_eines_eingangs': 3, 'e301_k_empfang_des_OB_und_verrat_des_FH': 3, 'e316_a_': 3, 'e567_a_': 3, 'e513a_a_': 2, 'e302_m_kampf_bis_zum_sieg': 2, 'e301_g_vom_finder_einer_nachtrast_bis_zum_betreten_der_welt_des_AN': 2, 'e301_i_vom_betreten_des_wohnsitzes_des_AN_bis_zur_befreiehung_des_OB': 2, 'e554_g_verstoss_auf_die_herausforderungen_bis_zum_beginn_der_loesungsmassnahmen': 2, 'e554_k_der_HD_geniesst_die_gegenleistung_des_tieres': 2, 'e302_k_erkundigung_ueber_den_aufenthaltsort_der_lebensenergie_des_AN': 1, 'e301_m_entkommen_aus_dem_haus_des_AN': 1, 'e302_c_verlust_des_OB_wird_artikuliert': 1, 'e314_a_': 1, 'e850_a_': 1, 'e303_o_erloesung_des_AN': 1, 'e554_m_nach_der_erfuellung_der_letzten_aufgabe_bis_zum_ende_der_geschichte': 1, 'e590_a_': 1})\n"
     ]
    }
   ],
   "source": [
    "import pandas as pd\n",
    "from collections import Counter\n",
    "df = pd.read_csv('episode_binar_train.csv',  encoding='utf-8')\n",
    "indexliste=Counter(df.index_string)\n",
    "print(indexliste, sep='\\n')"
   ]
  },
  {
   "cell_type": "markdown",
   "metadata": {},
   "source": [
    "[Zelle # 4]\n",
    "\n",
    "1: In den obeneingeblendete Merkmalen eine Episode Kopieren und hier als Wert der Variable 'gesep' einfügen. "
   ]
  },
  {
   "cell_type": "code",
   "execution_count": 5,
   "metadata": {},
   "outputs": [],
   "source": [
    "gesep = 'e300_m_rueckkehr_des_HD_und_erkundung_ueber_die_hochzeit_bis_zum_wiedergewinn_der_aufmerksamkeit'"
   ]
  },
  {
   "cell_type": "markdown",
   "metadata": {},
   "source": [
    "[Zelle # 5]\n",
    "\n",
    "1-6: In Trainingsdaten die gesuchte Episode ('gesep') mit Einsen (1), den Rest mit Nullen (0) etikettieren und die Änderung speichern."
   ]
  },
  {
   "cell_type": "code",
   "execution_count": 6,
   "metadata": {},
   "outputs": [],
   "source": [
    "for i, gesuchte_episode in enumerate(df.index_string):\n",
    "    if (gesuchte_episode == gesep):\n",
    "        df.index_binar[i]='1'\n",
    "    else: \n",
    "            df.index_binar[i]='0'\n",
    "df.to_csv('episode_binar_train.csv', encoding='utf-8', index=False)"
   ]
  },
  {
   "cell_type": "markdown",
   "metadata": {},
   "source": [
    "[Zelle # 6]\n",
    "\n",
    "1-4: Im Trainingsdatenkorpus die Datenfelder für Probetexte (X_train) und für die Merkmalen (y_train) bestimmen und die Bilanz zwischen negativ (0) und positiv (1) etikettierten Datensätzen betrachten ( s. Counter)."
   ]
  },
  {
   "cell_type": "code",
   "execution_count": 7,
   "metadata": {},
   "outputs": [
    {
     "name": "stdout",
     "output_type": "stream",
     "text": [
      "Counter({'0': 367, '1': 18})\n"
     ]
    }
   ],
   "source": [
    "X_train=(df['episode'])\n",
    "y_train=(df['index_binar'])\n",
    "indexliste=Counter(df.index_binar)\n",
    "print(indexliste, sep='\\n')"
   ]
  },
  {
   "cell_type": "markdown",
   "metadata": {},
   "source": [
    "[Zelle # 7]\n",
    "\n",
    "1: Die in die eckige Klammern eingetragene Wörter werden zusätzlich in die vorhandene Stopwörter-Liste eingefügt. Einzelnes Wort muss dabei mit Anführungszeichen umgeschlossen und von andren Wörter durch das Komma getrennt werden, ein Beispiel: ['mein','dein']. \n",
    "\n",
    "2-6: Datenfeld 'episode' von konwentionelen und von uns eingegebenen Stoppwörter bereinigen. "
   ]
  },
  {
   "cell_type": "code",
   "execution_count": 8,
   "metadata": {},
   "outputs": [
    {
     "name": "stderr",
     "output_type": "stream",
     "text": [
      "[nltk_data] Downloading package stopwords to\n",
      "[nltk_data]     C:\\Users\\elguj\\AppData\\Roaming\\nltk_data...\n",
      "[nltk_data]   Package stopwords is already up-to-date!\n"
     ]
    }
   ],
   "source": [
    "custom_stop_word_list=[]\n",
    "import nltk\n",
    "nltk.download('stopwords')\n",
    "from nltk.corpus import stopwords\n",
    "NLTK_stop_words_list=stopwords.words('german')\n",
    "de = custom_stop_word_list + NLTK_stop_words_list"
   ]
  },
  {
   "cell_type": "markdown",
   "metadata": {},
   "source": [
    "[Zelle # 8]\n",
    "\n",
    "1-8: Einrichtung einer sciki-learn Pipeline mit Klassen LogisticRegression, TfidVectorizer und GridSearchCV. \n",
    "\n",
    "9-10: Modell auswerten (s. Bester Score aus der Kreuzvalidierung:)."
   ]
  },
  {
   "cell_type": "code",
   "execution_count": 9,
   "metadata": {},
   "outputs": [
    {
     "name": "stdout",
     "output_type": "stream",
     "text": [
      "Bester Score aus der Kreuzvalidierung: 0.97\n"
     ]
    }
   ],
   "source": [
    "from sklearn.feature_extraction.text import TfidfVectorizer\n",
    "from sklearn.linear_model import LogisticRegression\n",
    "from sklearn.model_selection import GridSearchCV\n",
    "from sklearn.pipeline import make_pipeline\n",
    "pipe = make_pipeline(TfidfVectorizer(min_df=3, stop_words=de, ngram_range=(1,1), norm=None), \n",
    "                     LogisticRegression())\n",
    "param_grid = {'logisticregression__C': [0.001, 0.01, 0.1, 1, 10]}     \n",
    "grid = GridSearchCV(pipe, param_grid, cv=5)\n",
    "grid.fit(X_train, y_train)\n",
    "print(\"Bester Score aus der Kreuzvalidierung: {:.2f}\".format(grid.best_score_))"
   ]
  },
  {
   "cell_type": "markdown",
   "metadata": {},
   "source": [
    "[Zelle # 9]\n",
    "\n",
    "1-6: Aus dem Modell die Liste der positiven und negativen Merkmalen extrachieren, Zahl der Merkmalen einblenden (s. Gesamte Anzahl der Wörter:)."
   ]
  },
  {
   "cell_type": "code",
   "execution_count": 10,
   "metadata": {},
   "outputs": [
    {
     "name": "stdout",
     "output_type": "stream",
     "text": [
      "Gesamte Anzahl der Wörter: 2365\n"
     ]
    }
   ],
   "source": [
    "import numpy as np\n",
    "vectorizer = grid.best_estimator_.named_steps[\"tfidfvectorizer\"]\n",
    "max_value = vectorizer.transform(X_train).max(axis=0).toarray().ravel()\n",
    "sorted_by_tfidf = max_value.argsort()\n",
    "feature_names = np.array(vectorizer.get_feature_names_out())\n",
    "print(\"Gesamte Anzahl der Wörter: {}\".format(len(vectorizer.vocabulary_)))"
   ]
  },
  {
   "cell_type": "markdown",
   "metadata": {},
   "source": [
    "[Zelle # 10]\n",
    "\n",
    "1-7: Merkmalen mit höchsten Koeffizienten visualisieren (blau=positiv, rot=negativ). Variable 's_zahl' stellt fest wieviel Merkmalen von beiden Kategorien eingeblendet werden muss. "
   ]
  },
  {
   "cell_type": "code",
   "execution_count": 12,
   "metadata": {},
   "outputs": [
    {
     "data": {
      "image/png": "[encoded data removed]",
      "text/plain": [
       "<Figure size 1080x360 with 1 Axes>"
      ]
     },
     "metadata": {
      "needs_background": "light"
     },
     "output_type": "display_data"
    }
   ],
   "source": [
    "s_zahl = 28\n",
    "import matplotlib.pyplot as plt\n",
    "import mglearn\n",
    "mglearn.tools.visualize_coefficients(\n",
    "    grid.best_estimator_.named_steps[\"logisticregression\"].coef_,\n",
    "    feature_names,  n_top_features=s_zahl)\n",
    "plt.grid()\n",
    "plt.savefig(gesep+'.jpg', dpi=80)"
   ]
  },
  {
   "cell_type": "markdown",
   "metadata": {},
   "source": [
    "[Zelle # 11]\n",
    "\n",
    "1-5: Anpassung zwischen minimaler und maximaler Koeffizienten für die Merkmalen. Je nach der Episode kann die Kurve der expotentielle Abnahme unterschiedlich sein, dementsprechend entscheidet man für größere oder kleinere Zahl der relevante Merkmale. Diese wird durch die Variable 'n_zahl' einegstellt (Zeile 1).\n",
    "\n",
    "6-7: Visualisierung der ausgewählten Merkmalen. "
   ]
  },
  {
   "cell_type": "code",
   "execution_count": 586,
   "metadata": {
    "scrolled": true
   },
   "outputs": [
    {
     "name": "stdout",
     "output_type": "stream",
     "text": [
      "Positive Merkmale:\n",
      "['brief' 'herrn' 'saale' 'gehn' 'jahr' 'drachens' 'befreit' 'leute'\n",
      " 'drauf' 'thieren' 'koenigs' 'strassen' 'wohnte' 'weshalb'\n",
      " 'koenigstoechter' 'hund' 'heute' 'hochzeit' 'fraeulein' 'lakei' 'schoen'\n",
      " 'hinkam' 'erfuhr' 'stadt' 'korb']\n",
      "Negative Merkmale:\n",
      "['drache' 'frau' 'bruder' 'ging' 'toechter' 'zungen' 'wurde' 'wasser'\n",
      " 'drachen' 'fand' 'lange' 'warum' 'alte' 'befreien' 'sieben' 'traurig'\n",
      " 'sei' 'schon' 'gar' 'schwert' 'darauf' 'immer' 'jungfrau' 'sagte'\n",
      " 'hausknecht']\n"
     ]
    }
   ],
   "source": [
    "n_zahl = 25\n",
    "gio=(grid.best_estimator_.named_steps[\"logisticregression\"].coef_[0])\n",
    "n_top=np.argsort(gio)\n",
    "text_pos=feature_names[n_top[-n_zahl:]]\n",
    "text_neg=feature_names[n_top[0:n_zahl]]\n",
    "print(\"Positive Merkmale:\\n{}\".format(text_pos))\n",
    "print (\"Negative Merkmale:\\n{}\".format(text_neg))"
   ]
  },
  {
   "cell_type": "markdown",
   "metadata": {},
   "source": [
    "[Zelle # 12]\n",
    "\n",
    "1-17: Bestimmte Merkmale in die neue txt Datei speichern(1-7) gesamte Information durch die Datenfelder strukturieren (8-12) und  nach dem Löschen der alten Datei (13) in Messdatenordner anlegen (14-17)."
   ]
  },
  {
   "cell_type": "code",
   "execution_count": 587,
   "metadata": {},
   "outputs": [],
   "source": [
    "import csv \n",
    "import shutil, os\n",
    "filename = '0_'+gesep\n",
    "tit=(text_pos)\n",
    "with open (filename+'.txt', 'wt', encoding='utf-8') as f:\n",
    "    writer = csv.writer(f, delimiter=' ')\n",
    "    writer.writerow(tit)\n",
    "with open(filename+'.txt', 'r') as file:\n",
    "    file_contents = file.read().replace(\"\\n\", \"\")\n",
    "    frt_contents = filename+'|'+file_contents+'|0|0'\n",
    "with open(filename+'.txt', 'wt', encoding='utf-8') as f:\n",
    "        f.write(frt_contents)\n",
    "entfernen('Messdaten/'+filename+'.txt')\n",
    "import glob\n",
    "files = glob.glob(filename+'.txt')\n",
    "for f in files:\n",
    "    shutil.move(f, 'Messdaten/')"
   ]
  },
  {
   "cell_type": "markdown",
   "metadata": {},
   "source": [
    "##  Herstellung des Messdatenkorpus "
   ]
  },
  {
   "cell_type": "markdown",
   "metadata": {},
   "source": [
    "[Zelle # 13]\n",
    "\n",
    "1-3: Die Variable 'tupNum', 'repert' und 'ausnahme' gelten für die Auswahl der in dem Messdatenrepositorium angelegte Texte mit dem konkretem Typ und dem Herkunftsrepertoire. Sowohl die Variable 'typNum' ails auch 'repert' kann mit leeren Anführungszeichen dargestellt werden. Für die Variable 'ausnahme' ist entweder ein unwahrscheinlicher Wert (z.B. 'xxyyzz') oder der Wert womit man eine bestimmte Gruppe von Daten aus der Wahl ausschließen kann eine Pflicht.\n",
    "\n",
    "4: Der vorhandene Messdaten-Korpus löschen (falls vorhanden)\n",
    "\n",
    "5-7: In dem Messdatenordner Messdaten parsen und einen 'episode_temp_mess.csv' Korpus aggregieren.\n",
    "\n",
    "8-16: 'episode_temp_mess.csv' von den überflussigen Zeichen bereinigen und ins  Messdatenkorpus - 'episode_binar_mess.csv' umwandeln.\n",
    "\n",
    "17-21: Datenfelder deklarieren und Datensätzen zählen (s. Counter), anschließend unnotige Temp-Aggregation löschen.\n",
    "\n",
    "22-29: Messdatenkopus aus den Epsoden bestimmen und alle andere Datenfelder ignorieren"
   ]
  },
  {
   "cell_type": "code",
   "execution_count": 588,
   "metadata": {
    "scrolled": true
   },
   "outputs": [
    {
     "name": "stdout",
     "output_type": "stream",
     "text": [
      "Counter({0: 105})\n"
     ]
    }
   ],
   "source": [
    "typNum=''\n",
    "repert=''\n",
    "ausnahme='xxyyzz'\n",
    "entfernen('episode_binar_mess.csv')\n",
    "temp = \"episode_temp_mess.csv\"\n",
    "ordner = \"Messdaten/*.txt\"\n",
    "aggreg(temp, ordner)\n",
    "from collections import Counter\n",
    "fin = open(\"episode_temp_mess.csv\",'r', encoding ='utf-8')\n",
    "fout = open('episode_binar_mess.csv', \"wt\", encoding ='utf-8')\n",
    "for efz in fin:\n",
    "    fout.write(efz.replace(', \"[\"',\"\").replace('\"[', \"\")\n",
    "               .replace(']\"',\"\").replace(\"', '\", \"','\")\n",
    "               .replace(\" '\", \"'\").replace(\"'\",\"\"))   \n",
    "fin.close()\n",
    "fout.close()\n",
    "df = pd.read_csv('episode_binar_mess.csv', encoding='utf-8')\n",
    "from collections import Counter\n",
    "indexliste=Counter(df.index_binar)\n",
    "print(indexliste)\n",
    "entfernen('episode_temp_mess.csv')\n",
    "t_corpus = []\n",
    "file = 'episode_binar_mess.csv'\n",
    "with open(file, \"r\", encoding='utf-8') as maerchen:\n",
    "    maerchen = df.episode\n",
    "    reader = csv.reader(maerchen, delimiter = \"|\") \n",
    "    for row in reader:       \n",
    "        lst = str(row)\n",
    "        t_corpus.append(lst)"
   ]
  },
  {
   "cell_type": "markdown",
   "metadata": {},
   "source": [
    "## Vorhersage durch LOGISTICREGRESSION"
   ]
  },
  {
   "cell_type": "markdown",
   "metadata": {},
   "source": [
    "[Zelle # 14]\n",
    "\n",
    "1-2: Vorhersage treffen.\n",
    "\n",
    "3: Der synthetische Datensätzen wird ausgeschloßen. \n",
    "\n",
    "4: Jeder positiv bewerteter Datensatz wird extra eingebledet."
   ]
  },
  {
   "cell_type": "code",
   "execution_count": 589,
   "metadata": {},
   "outputs": [],
   "source": [
    "mod_pred=grid.predict(t_corpus)\n",
    "for index in enumerate(mod_pred): \n",
    "    if '1' in (index) and index[0]>0:   \n",
    "        print ('Positiv bewerteter Datensatz:{}'.format(index))"
   ]
  },
  {
   "cell_type": "markdown",
   "metadata": {},
   "source": [
    "[Zelle # 15]\n",
    "\n",
    "1-7: Alle probabilitische Vorhersagen abruffen. Durch das Manipulieren der Variable 'pos>=' in der Zeile 6 wird der minimale Score angepasst."
   ]
  },
  {
   "cell_type": "code",
   "execution_count": 590,
   "metadata": {
    "scrolled": true
   },
   "outputs": [
    {
     "name": "stdout",
     "output_type": "stream",
     "text": [
      "65 - 0.02830579203229902 - mess_23 - nachdem er auf diese weise den weg gereinigt hatte ging er in eine kate er sagte zu dem kaetner auf welche weise koennte ich wohl jetzt aus dem hochzeitshaus das beste essen bekommen das sie dort haben  rede doch nicht solches zeug meinte der alte kaetner sorg nur dass du sonst in frieden bleiben kannst doch der soldat steckte dem kleinen hund ein taschentuch ins maul und dieser lief zu der braut und legte sich ihr schmeichelnd zu fuessen die braut erkannte den hund sogleich weil er um den hals eine goldkette trug die sie ihm angelegt hatte sie band in das taschentuch das beste was auf dem tische war als der hund in die kate zurueckkam setzten sich der soldat und der alte kaetner zum essen und der soldat schickte den kleinen hund wieder fort um einen krug voll getraenke zu holen auch das bekam er aber da merkte der braeutigam die geschichte weil er den hund kannte und er schickte soldaten aus seinen gegner zu toeten eine ganze kompanie wurde ihm entgegengeschickt aber der liess nur sein schwert blinken und alle fielen tot hin \n",
      "\n",
      "28 - 0.015797485036868123 - mess_47 - dieser aber war in die stadt getreten wo er alles in bestuerzung und trauer fand alle fenster waren mit schwarzen tuechern verhangen er erkundigte sich daher was die ursache solcher trauer waere und erfuhr dass riesen in der naehe wohnten welche die stadt immer in angst und schrecken hielten und dass sieben drachen in einer nahen hoehle hausten welchen sie jeden tag einen menschen opfern muessten  und endlich sey eine schlange nicht weit auf einem baume welche alle menschen verzehre die ungluecklicher weise in ihr bereich kaemen niemand aber waere zu finden welcher die stadt von diesen ungeheuern befreyen wollte \n",
      "\n",
      "54 - 0.01308379578297681 - mess_23 - ein koenig hatte drei soehne die beschimpften einmal einen alten bettler einen frueheren soldaten und dieser verzauberte sie in hunde und sagte ihr sollt so lange hunde bleiben bis ihr einen soldaten zum koenig macht die jungen wurden auf der stelle zu hunden zu einem grossen hund einem mittleren hund und einem kleinen hund und sie streiften im lande umher da kam einmal ein soldat aus dem krieg zurueck und ging durch den wald er kam an das schloss des teufels aber es war niemand zu hause dort war ein grosser viehhof mit schrecklich grossen ochsen er stahl sich dort einen ochsen und ging fort da begegnete ihm ein vogelsteller der hatte die drei hunde bei sich der jaeger fragte ihn ob er ihm nicht den ochsen gegen die drei hunde vertauschen wolle er vertauschte ihm den ochsen weil er dachte dass er ja aus dem teufelsschloss andere ochsen bekommen koenne \n",
      "\n",
      "39 - 0.01292634303788617 - mess_47 - der schneider aber machte sich nicht viel daraus sondern band sein rothes band um den leib und wie er es betrachtete las er die worte du wirst sieger seyn \n",
      "\n",
      "37 - 0.012670781945053215 - mess_47 - da wurde die koenigstochter noch trauriger und ging 286 am morgen wieder zum koenige und meldete ihm was ihr gatte heute nacht getraeumt habe worueber aber ihr das herz brechen wollte das erfuellte das herz des koenigs mit freude \n",
      "\n",
      "5 - 0.011405557034328724 - mess_44 - bald darauf war eine hochzeit auf einem schlosse in der naehe der prinz fuhr auch hin viele leute liefen um dem tanze zuzusehen aschenpuester bat den koch auch um die erlaubniss zusehen zu duerfen da lief sie zu der eiche zog das silberne kleid an und wuenschte sich einen wagen in dem sie nach dem schlosse fuhr der prinz sah sie und tanzte mit ihr aber nach ein paar taenzen war sie verschwunden setzte sich auf ihren wagen und sprach \n",
      "\n",
      "67 - 0.011118349142067573 - mess_23 - aber die koenigstochter war verzaubert worden und gleich nach der hochzeit toetete sie ihren gatten sie schlug ihm mit dem schwert den kopf ab da erfuhren die hunde dass ihr herr getoetet war und es fiel ihnen ein dass die salbenflasche aus dem teufelsschloss nicht mitgekommen war \n",
      "\n",
      "66 - 0.010972534485849249 - mess_23 - darauf schrieb er an den koenig einen brief dass er in die kate kommen moege und liess den brief durch den hund hinbringen da wollte die koenigstochter auch mitgehen aber der koenig sagte was willst du denn dort es wird gewiss auch mein ende sein aber das maedchen sprang hinten auf den wagen und so fuhren sie hin da erzaehlte die koenigstochter ihrem vater dass sie der soldat gerettet habe wie kann denn das moeglich sein meinte der koenig wo der andere die drachenkoepfe hat  die mag er haben aber in keinem einzigen ist die zunge sie gingen hin um nachzusehen und nahmen den soldaten mit in keinem einzigen kopf war eine zunge der soldat zog aber freudig sein zungenbuendel aus der tasche und sagte hier sind die zungen da haengten sie den betrueger auf und feierten von neuem hochzeit mit dem soldaten \n",
      "\n",
      "69 - 0.010586724098301172 - mess_23 - dann nahm der grosse hund den koerper des soldaten der mittlere nahm seinen kopf und der kleine hund strich die salbe in die risse da lebte der soldat wieder auf und wurde wieder gesund \n",
      "\n",
      "102 - 0.009191017855419984 - mess_46 -  wenn du waffen hast leg sie ab und komm herein \n",
      "\n",
      "55 - 0.008528130683760024 - mess_23 - er ging zum schloss zurueck aber da waren die teufel schon zu hause im schlosse war ein teufel ein richtiges altes luder der forderte ihn auf hereinzukommen sie nahmen ihn freundlich auf luden ihn zum essen ein und nach dem essen durfte er sich etwas ausruhen aber unterdessen versteckten die boesewichte seine hunde in einen keller die kleinen teufel aber waren im hofe damit beschaeftigt einen galgen fuer ihn zu bauen \n",
      "\n",
      "35 - 0.008466966160081269 - mess_47 - der koenig aber troestete sie und sagte er wolle ihn zum feldherrn machen und gegen die feinde schicken und ihn an die aeusserste spitze stellen damit er gleich im anfange zu grunde gehe sein wort aber das er ihm gegeben und wodurch er sein eidam geworden koenne er nicht zuruecknehmen mithin auch die ehe nicht loesen \n",
      "\n",
      "80 - 0.008462554427073003 - mess_46 - und so geschah es nach einiger zeit bekamen sie zwei jungen zwillinge die beiden aehnelten einander so sehr dass man sie nicht voneinander unterscheiden konnte und auch die huendin und die katze bekamen zwillinge \n",
      "\n",
      "90 - 0.008329028040139016 - mess_46 -  oha sagte sie da heute werde ich gleich zwei zu fressen haben \n",
      "\n",
      "68 - 0.008213628892176115 - mess_23 - da rannten sie schleunigst hin dort waren alle teufel wieder lebendig geworden denn sie hatten vergessen des teufels grossmutter zu toeten die hatte die andern mit der salbe wieder lebendig gemacht die hunde bissen wieder alle tot auch die grossmutter dann nahmen sie die salbenflasche und liefen in groesster eile ins koenigsschloss zurueck \n",
      "\n",
      "100 - 0.008071523906140066 - mess_46 - von dort begab sich der zwillingsbruder zum palast des koenigs als ihn die frau seines bruders sah hielt sie ihn fuer ihren mann am morgen ging er hinaus und tat so als wuerde er auf jagd gehen zufaellig schlug er denselben weg ein der zur burg fuehrte als er nach seinem bruder suchte stand er mit einem mal vor der grossen burg in der die lamia wohnte \n",
      "\n",
      "104 - 0.007584732036672578 - mess_46 - sie kehrten in den palast zurueck auch ihre eltern kamen dorthin und sie lebten alle zusammen gut und wir leben noch besser \n",
      "\n",
      "70 - 0.007528471802689165 - mess_23 - unterdessen war die koenigstochter zum tode verurteilt worden weil sie ihren gatten getoetet hatte sie war eben zur richtstaette gefuehrt worden und es war kein pferd mehr zu hause als ein alter schimmel der soldat nahm den schimmel und fuhr hin um sein weib zu retten schon hatte der henker das beil erhoben da brachen sie das gericht ab und die koenigstochter blieb am leben \n",
      "\n",
      "60 - 0.007484143519494209 - mess_23 - dann gingen sie in die seilkammer da war ein strick von ganz besonderer art da fragte der teufel wieder weisst du wozu der gebraucht wird  den braucht ihr gewiss selbst  das ist der strick mit dem du aufgehaengt wirst sprach der teufel und warf ihm den strick um den hals dann brachte er ihn in den hof und dort waren schrecklich viel kleine teufel die auf ihn warteten \n",
      "\n",
      "53 - 0.0074341580785739665 - mess_49 - seine hexenkunst hat hans nie mehr ausgeuebt da er bei seinem ersten versuch so viel angst hat ausstehen muessen und wenn einmal die rede aufs hexen kam soll hans immer gesagt haben das ist nichts fuer rechtschaffene leute \n",
      "\n",
      "64 - 0.007380087940826316 - mess_23 - aber da kam der soldat ebenfalls bei der hochzeit fuerchtete der junge mann dass der soldat kommen moechte und er stellte an allen toren wachen auf die sollten niemanden hereinlassen als der soldat kam liess er bloss sein schwert blinken da lagen die wachen da wie wuerste \n",
      "\n",
      "43 - 0.007355379849022119 - mess_48 - drei desertierte soldaten gingen in eine wildnis hinein in dieser wildnis stand ein schloss die fallbruecke war aber aufgezogen als sie so beim schlosse stehen blieben und es betrachteten gab sich die fallbruecke herunter sie gingen darueber und in das schloss hinein und gelangten in die stube hunger und durst hatten sie auch darum zogen sie den tischkasten auf es lag aber nur ein kartenspiel darinnen und darauf stand geschrieben nikloes da sagten sie zu einander fuer unsern hunger und durst wollen wir einmal karten als sie anfingen zu karten kam so ein altes maennlein hinein und frug was ihr begehren sei sie antworteten ihm sie haetten hunger und durst und weil sonst nichts da sei so wollten sie karten da sagte das maennlein essen koenne er ihnen keines geben aber geld koennten sie haben so viel sie wollten er fuehrte sie darauf in die silbergrube sie steckten ein soviel sie konnten dann fuehrte er sie in die goldgrube da warfen sie das silber weg und steckten dafuer gold ein zuletzt fuehrte er sie zu den edelsteinen nun warfen sie das gold weg und packten edelsteine ein als sie fertig waren sprach das alte maennlein jetzt habt ihr soviel als eine ganze stadt waehrschaft hat kommt aber nicht mehr \n",
      "\n",
      "27 - 0.00723856746045502 - mess_47 - vor seinen augen lag eine stadt er ging also auf sie zu unterdessen waren die riesen nach hause gekommen sie fanden den kleinen mann zwar nicht bekuemmerten sich aber auch nicht viel um sein verschwinden denn sie dachten der erdwurm werde sich irgendwo verkrochen haben und schon wieder zum vorschein kommen wenn ihn hungere \n",
      "\n",
      "6 - 0.007059890914170478 - mess_44 - hinter mir dunkel und vorne mir klar \n",
      "\n",
      "21 - 0.0070368392696059 - mess_47 - wie der schneider nun so hinter dem riesen einherging lief ihm ein spatz unter den fuessen herum er bueckte sich ergriff den vogel und trug ihn ohne dass der riese es sah fortan in der hand \n",
      "\n",
      "8 - 0.007029739942780637 - mess_44 - am andern morgen war der prinz sehr uebler laune er hatte die ganze nacht gewacht und immer an seine schoene taenzerin gedacht aschenpuester musste ihm die stiefel putzen das that sie auch aber ein kleiner flecken an den zehen blieb ungeputzt das bemerkte der prinz kam zornig in die kueche hinein und warf ihr den stiefel an den kopf \n",
      "\n",
      "86 - 0.006911601259887022 - mess_46 -  dort drueben sagte sie \n",
      "\n",
      "59 - 0.006890000528197903 - mess_23 - darauf gingen sie in eine kammer wo floeten waren weisst du wozu die da sind fragte der teufel wieder ihr seid viele leute da braucht ihr viele floeten unter ihnen war eine ganz besonders schoene floete weisst du was damit gemacht wird  die braucht ihr gewiss selbst antwortete der soldat das ist eine floete wenn du da dreimal hineinblaest so oeffnet sich jedesmal eine eiserne tuer da fiel dem soldaten ein halt meine hunde muessen hinter irgendeiner eisernen tuere sein da ich sie nirgends sehe und er steckte die floete heimlich in die tasche \n",
      "\n",
      "97 - 0.00681539389376229 - mess_46 -  wenn du waffen hast dann wirf sie nieder und komm rein \n",
      "\n",
      "36 - 0.006787230733736384 - mess_47 - der schneider wurde inne dass ihn die koenigstochter hasse und den grund warum wie er daher wieder zu bette ging stellte er sich als traeume er wieder und diesesmal von lauter schlachten und siegen \n",
      "\n",
      "38 - 0.006757400793350867 - mess_47 - er ertheilte noch am naemlichen tage dem eidam den befehl das heer gegen den feind zu fuehren liess ihm aber doch seiner tochter zu gefallen die schlechteste ruestung und das schlechteste pferd geben zugleich befahl er ihm stets an der spitze des heeres zu bleiben \n",
      "\n",
      "94 - 0.006708310415376013 - mess_46 -  geh niemals in diese burg hinein denn dort versteckt sich eine lamia die alle gefangen nimmt die hineinkommen sagte der koenig zu seinem schwiegersohn \n",
      "\n",
      "76 - 0.006688185113833623 - mess_46 - er nahm ihn also vom haken und warf ihn wieder ins meer \n",
      "\n",
      "62 - 0.006633956155353595 - mess_23 - er ging zum meeresstrand dort war eine koenigstochter die von einem drachen verschlungen werden sollte der soldat versprach sie zu retten das maedchen bat ihn doch fortzugehen aber er ging nicht er stellte zuerst den kleinen hund als wache auf aber der geriet in grosse not weil er den drachen nicht zurueckhalten konnte dann schickte er den mittleren hund hin aber der konnte es auch noch nicht da schickte er den dritten hund hin der hielt ihn zurueck der soldat sagte die koepfe des drachen duerft ihr nicht zerreissen ihr sollt den drachen nur toeten sie toeteten den drachen und liessen die koepfe ganz da nahm der soldat aus jedem kopfe die zunge heraus legte sie zu einem buendel zusammen und steckte sie in die tasche \n",
      "\n",
      "7 - 0.00650664538053257 - mess_44 - dass niemand sehe wohin ich fahr \n",
      "\n",
      "101 - 0.0064350584320519945 - mess_46 - er klopfte an die pforte und auch er hoerte eine kraeftige stimme \n",
      "\n",
      "10 - 0.006389632670863901 - mess_44 - der prinz that die nacht wieder kein auge zu und war noch verdriesslicher als am tage vorher aschenpuester musste ihm den rock buersten sie konnte es ihm aber nicht recht machen und zuletzt warf er ihr die buerste an den kopf \n",
      "\n",
      "93 - 0.006284623423309205 - mess_46 - dann kam der tag an dem der koenig seinem schwiegersohn das ganze koenigreich zeigen wollte sie reisten fort und kamen eines tages vor eine riesige burg \n",
      "\n",
      "87 - 0.006196989824195563 - mess_46 - da brach er auf und ging an den ort an dem man die koenigstochter behuetete und wo die lamia sie fressen wuerde \n",
      "\n",
      "96 - 0.006076981424890136 - mess_46 - er schlug an die pforte und hoerte eine kraeftige stimme von innen \n",
      "\n",
      "75 - 0.006058918187668433 - mess_46 -  na gut sagte sich der fischer da ich lass ihn wieder frei \n",
      "\n",
      "3 - 0.0059897948380418856 - mess_44 - ein reicher mann der witwer geworden hatte eine einzige tochter die schoen und lieblich heranwuchs da wurde des vaters herz von unreiner liebe zu ihr entzuendet sie aber widerstand seinem begehren da drohte er ihr mit gewalt und nun sann sie auf list sie versprach ihm zu willen zu sein wenn er ihr ein kleid gebe das von silber stehen koenne als sie das bekommen verlangte sie eins das von golde steif sei und zum drittenmale eins das von gesteinen stehen koenne wie sie auch das erlangt sagte sie nun fehlt mir noch ein kraehenpelz und endlich hatte sie noch einen wunsch eine gluecksruthe auch die bekam sie \n",
      "\n",
      "85 - 0.0059863748901109745 - mess_46 - als der junge mann das hoerte fragte er wo denn die lamia waere \n",
      "\n",
      "74 - 0.005970559120021021 - mess_46 -  lass mich noch einen tag wachsen dann kannst du mich fangen und essen \n",
      "\n",
      "89 - 0.0059569918852159605 - mess_46 - kurz darauf hoerte er ein droehnen und sah die lamia kommen \n",
      "\n",
      "88 - 0.005837117903845355 - mess_46 -  ich werde dich retten sagte er ihr du musst nicht weinen \n",
      "\n",
      "22 - 0.005812702366659157 - mess_47 - auf diese weise waren sie eine bedeutende strecke gegangen da hob der riese einen stein auf und sagte zu seinem gefaehrten nun wollen wir in die wette werfen und sehen wer weiter wirft und er warf 281 und der stein flog so weit dass ihn die augen des schneiders gerade noch ersehen konnten \n",
      "\n",
      "42 - 0.005757028401145837 - mess_47 - von da an lebten sie noch lange und gluecklich tiefenbach \n",
      "\n",
      "18 - 0.00572863305275988 - mess_47 - es war einmal ein schneider klein von gestalt der auf der welt in der fremde herumwanderte wie er eines tages so dahin ging kam er in einen wald und in diesem zu einer quelle neben welcher er ein rothseidenes band fand auf dem die worte standen sieben auf einen schlag wer macht es mir nach der schneider hob es auf und band es sich um den leib \n",
      "\n",
      "95 - 0.005655983926781554 - mess_46 - der junge mann aber beachtete den hinweis nicht weiter den ihm der koenig gegeben hatte und zog am naechsten tag los um alle leute zu befreien die die lamia gefangen hielt \n",
      "\n",
      "58 - 0.005593855952269667 - mess_23 - danach gingen sie in die salbenflaschenkammer diese war voll von salbenflaschen darunter war wieder eine flasche die war groesser als die andern weisst du was damit gemacht wird  die braucht ihr gewiss selbst der teufel antwortete die salbe heilt alles und wenn du einen menschen ganz in stuecke hacktest wenn du ihn damit einsalbst so wird er wieder gesund \n",
      "\n",
      "23 - 0.005576257385607906 - mess_47 - da bueckte sich auch der schneider als wolle er einen stein aufheben liess aber den vogel fliegen dieser flog so weit dass der riese gar nicht bemerken konnte wo der stein zur erde fiel \n",
      "\n",
      "13 - 0.005493816567194077 - mess_45 - es war einmal ein armer handwerksmann der hatte zwei soehne einen guten der hiess hans und einen boesen der hiess helmerich wie das aber wohl geht in der welt der vater haette den boesen mehr lieb als den guten \n",
      "\n",
      "72 - 0.005484824383098756 - mess_46 - es war einmal in einem kleinen fischerdorf ein armer fischer der dort mit seiner frau lebte sie hatten keine kinder \n",
      "\n",
      "78 - 0.005452245762128661 - mess_46 - am naechsten morgen ging der fischer wieder zum fischen und fing das goldene fischchen noch einmal da sagte es ihm \n",
      "\n",
      "41 - 0.005400962130264413 - mess_47 - so wurden die feinde geschlagen und ihnen ein grosser theil ihres landes abgenommen der schneider 287 aber kehrte wohlbehalten an ehren reich zurueck und wurde auch von dem koenige mit allen ehren von der koenigstochter aber mit liebe empfangen denn diese hatte nun ihren gatten achten gelernt \n",
      "\n",
      "45 - 0.005311979452139264 - mess_48 - die drei schwaene unter der stiege aber waren drei verwuenschte koenigstoechter sie kamen jetzt weil sie erloest waren in sein zimmer und sagten zum soldaten er solle nun aufstehen als er aufgestanden war sprachen sie zu ihm er haette jetzt die wahl unter ihnen drei er nahm die vom goldenen berg diese sagte wir sind immer als noch nicht fertig wir muessen in drei naechten zwischen 11 und 12 uhr in jene kirche gehen \n",
      "\n",
      "46 - 0.005267807702627848 - mess_48 - auf dem wege zu dieser kirche stand ein wirtshaus da hinein ging der soldat und logierte sich ein auf die nacht verlangte er zu trinken da sagte die wirtin das wasser in dem brunnen sei nicht gesund sie wolle ihm zitronenwasser geben sie aber gab ihm einen schlaftrunk er ging zwar hinaus setzte sich an den weg schlief aber ein um 11 uhr kam die koenigstochter gefahren mit vier rappen und die chaise war schwarz behangen \n",
      "\n",
      "82 - 0.005262563727051034 - mess_46 -  mutter ich habe ein zeichen in die ablage gemacht solange das zeichen dort ist geht es mir gut wenn es herunterfaellt dann schick meinen bruder um nach mir zu suchen denn dann befinde ich mich in gefahr \n",
      "\n",
      "24 - 0.005171314844455843 - mess_47 - nun bekam der riese schon eine bessere meynung von seinem kleinen reisegefaehrten und bot ihm an ihn in seine hoehle zu nehmen wo ihrer zwoelf beysammen waeren er selber aber sey koenig \n",
      "\n",
      "57 - 0.00500893693741065 - mess_23 - dann gingen sie in die schwertkammer der teufel sagte wieder weisst du was damit gemacht wird  ihr seid viele leute da braucht ihr viele schwerter darunter war ein groesseres schwert weisst du wozu das gebraucht wird wurde er wie der gefragt das braucht ihr gewiss selbst  das ist ein schwert wenn man das blinken laesst so muessen alle sterben \n",
      "\n"
     ]
    }
   ],
   "source": [
    "all_pred=grid.predict_proba(t_corpus) \n",
    "sort_index=np.flip(all_pred[:,1].argsort())\n",
    "for num_pos in sort_index:\n",
    "    pos=all_pred[num_pos][1]\n",
    "    for i,t_corpus_element in enumerate(t_corpus):\n",
    "        if i==num_pos  and num_pos>0 and pos>=0.005:\n",
    "            print(num_pos,'-', pos,'-', df.quelle[num_pos],'-', df.episode[num_pos],'\\n')"
   ]
  },
  {
   "cell_type": "markdown",
   "metadata": {},
   "source": [
    "##  Vorhersage durch die COSINE-SIMILARITY"
   ]
  },
  {
   "cell_type": "markdown",
   "metadata": {},
   "source": [
    "[Zelle # 16]\n",
    "\n",
    "1-14: Daten im Messdatenkorpus Vektorisieren, Transformieren und die Metrik für die Vorhersagefunktion definieren."
   ]
  },
  {
   "cell_type": "code",
   "execution_count": 591,
   "metadata": {},
   "outputs": [],
   "source": [
    "from sklearn.feature_extraction.text import TfidfVectorizer\n",
    "from sklearn.feature_extraction.text import CountVectorizer\n",
    "from sklearn.metrics.pairwise import cosine_similarity\n",
    "vectorizer = TfidfVectorizer\n",
    "vectorizers = vectorizer(analyzer='word', ngram_range=(1,1),\n",
    "                         min_df = 2, stop_words = de)\n",
    "vokabular =  vectorizers.fit_transform (t_corpus)\n",
    "metrik = cosine_similarity\n",
    "def find_similar(vokabular, index, top_n =-1):   \n",
    "    metriks = metrik(vokabular[index:index+1], vokabular).flatten()\n",
    "    related_docs_indices = [i for i in metriks.argsort()[::-1] \n",
    "                            if i != index]\n",
    "    return [(index, metriks[index]) for index \n",
    "            in related_docs_indices][0:top_n]"
   ]
  },
  {
   "cell_type": "markdown",
   "metadata": {},
   "source": [
    "[Zelle # 17]\n",
    "\n",
    "1-3: Gesuchte Episode (Zielepisode) einblenden. Die gesuchte Episode wird wird die 'n_te'-Variable bestimmt. Manuell eingepflegte Zielepisoden sollen deshalb immer in der ersten Reihen der Korpusdatensätzen stehen. Wir empfehlen deshalb, dass diese Daten mit dem Prefix '0_' benannt wird.)\n",
    "\n",
    "4: Synthetische Datei aus dem Messdatenordner entfernen."
   ]
  },
  {
   "cell_type": "code",
   "execution_count": 592,
   "metadata": {
    "scrolled": true
   },
   "outputs": [
    {
     "name": "stdout",
     "output_type": "stream",
     "text": [
      "0_e300_m_rueckkehr_des_HD_und_erkundung_ueber_die_hochzeit_bis_zum_wiedergewinn_der_aufmerksamkeit - ['brief herrn saale gehn jahr drachens befreit leute drauf thieren koenigs strassen wohnte weshalb koenigstoechter hund heute hochzeit fraeulein lakei schoen hinkam erfuhr stadt korb']\n"
     ]
    }
   ],
   "source": [
    "n_te = 0\n",
    "synt = t_corpus[n_te]\n",
    "print(df.quelle[n_te],'-', synt)\n",
    "entfernen('Messdaten/'+'0_'+gesep+'.txt')"
   ]
  },
  {
   "cell_type": "markdown",
   "metadata": {},
   "source": [
    "[Zelle # 18]\n",
    "\n",
    "1-3: Suchen starten und die Ergebnisse einblenden."
   ]
  },
  {
   "cell_type": "code",
   "execution_count": 593,
   "metadata": {
    "scrolled": true
   },
   "outputs": [
    {
     "name": "stdout",
     "output_type": "stream",
     "text": [
      "28 - 0.18341433272334132 - mess_47 - ['dieser aber war in die stadt getreten wo er alles in bestuerzung und trauer fand alle fenster waren mit schwarzen tuechern verhangen er erkundigte sich daher was die ursache solcher trauer waere und erfuhr dass riesen in der naehe wohnten welche die stadt immer in angst und schrecken hielten und dass sieben drachen in einer nahen hoehle hausten welchen sie jeden tag einen menschen opfern muessten  und endlich sey eine schlange nicht weit auf einem baume welche alle menschen verzehre die ungluecklicher weise in ihr bereich kaemen niemand aber waere zu finden welcher die stadt von diesen ungeheuern befreyen wollte'] - 0 - 0 \n",
      "\n",
      "66 - 0.1572595136781638 - mess_23 - ['darauf schrieb er an den koenig einen brief dass er in die kate kommen moege und liess den brief durch den hund hinbringen da wollte die koenigstochter auch mitgehen aber der koenig sagte was willst du denn dort es wird gewiss auch mein ende sein aber das maedchen sprang hinten auf den wagen und so fuhren sie hin da erzaehlte die koenigstochter ihrem vater dass sie der soldat gerettet habe wie kann denn das moeglich sein meinte der koenig wo der andere die drachenkoepfe hat  die mag er haben aber in keinem einzigen ist die zunge sie gingen hin um nachzusehen und nahmen den soldaten mit in keinem einzigen kopf war eine zunge der soldat zog aber freudig sein zungenbuendel aus der tasche und sagte hier sind die zungen da haengten sie den betrueger auf und feierten von neuem hochzeit mit dem soldaten'] - 0 - 0 \n",
      "\n",
      "37 - 0.13568617389850113 - mess_47 - ['da wurde die koenigstochter noch trauriger und ging 286 am morgen wieder zum koenige und meldete ihm was ihr gatte heute nacht getraeumt habe worueber aber ihr das herz brechen wollte das erfuellte das herz des koenigs mit freude'] - 0 - 0 \n",
      "\n",
      "100 - 0.10803346772877467 - mess_46 - ['von dort begab sich der zwillingsbruder zum palast des koenigs als ihn die frau seines bruders sah hielt sie ihn fuer ihren mann am morgen ging er hinaus und tat so als wuerde er auf jagd gehen zufaellig schlug er denselben weg ein der zur burg fuehrte als er nach seinem bruder suchte stand er mit einem mal vor der grossen burg in der die lamia wohnte'] - 0 - 0 \n",
      "\n",
      "90 - 0.10533654926914092 - mess_46 - [' oha sagte sie da heute werde ich gleich zwei zu fressen haben'] - 0 - 0 \n",
      "\n",
      "65 - 0.10453800753659037 - mess_23 - ['nachdem er auf diese weise den weg gereinigt hatte ging er in eine kate er sagte zu dem kaetner auf welche weise koennte ich wohl jetzt aus dem hochzeitshaus das beste essen bekommen das sie dort haben  rede doch nicht solches zeug meinte der alte kaetner sorg nur dass du sonst in frieden bleiben kannst doch der soldat steckte dem kleinen hund ein taschentuch ins maul und dieser lief zu der braut und legte sich ihr schmeichelnd zu fuessen die braut erkannte den hund sogleich weil er um den hals eine goldkette trug die sie ihm angelegt hatte sie band in das taschentuch das beste was auf dem tische war als der hund in die kate zurueckkam setzten sich der soldat und der alte kaetner zum essen und der soldat schickte den kleinen hund wieder fort um einen krug voll getraenke zu holen auch das bekam er aber da merkte der braeutigam die geschichte weil er den hund kannte und er schickte soldaten aus seinen gegner zu toeten eine ganze kompanie wurde ihm entgegengeschickt aber der liess nur sein schwert blinken und alle fielen tot hin'] - 0 - 0 \n",
      "\n",
      "69 - 0.10397784265078794 - mess_23 - ['dann nahm der grosse hund den koerper des soldaten der mittlere nahm seinen kopf und der kleine hund strich die salbe in die risse da lebte der soldat wieder auf und wurde wieder gesund'] - 0 - 0 \n",
      "\n",
      "27 - 0.07729427738445958 - mess_47 - ['vor seinen augen lag eine stadt er ging also auf sie zu unterdessen waren die riesen nach hause gekommen sie fanden den kleinen mann zwar nicht bekuemmerten sich aber auch nicht viel um sein verschwinden denn sie dachten der erdwurm werde sich irgendwo verkrochen haben und schon wieder zum vorschein kommen wenn ihn hungere'] - 0 - 0 \n",
      "\n",
      "62 - 0.06907444550199308 - mess_23 - ['er ging zum meeresstrand dort war eine koenigstochter die von einem drachen verschlungen werden sollte der soldat versprach sie zu retten das maedchen bat ihn doch fortzugehen aber er ging nicht er stellte zuerst den kleinen hund als wache auf aber der geriet in grosse not weil er den drachen nicht zurueckhalten konnte dann schickte er den mittleren hund hin aber der konnte es auch noch nicht da schickte er den dritten hund hin der hielt ihn zurueck der soldat sagte die koepfe des drachen duerft ihr nicht zerreissen ihr sollt den drachen nur toeten sie toeteten den drachen und liessen die koepfe ganz da nahm der soldat aus jedem kopfe die zunge heraus legte sie zu einem buendel zusammen und steckte sie in die tasche'] - 0 - 0 \n",
      "\n",
      "5 - 0.06839554080041431 - mess_44 - ['bald darauf war eine hochzeit auf einem schlosse in der naehe der prinz fuhr auch hin viele leute liefen um dem tanze zuzusehen aschenpuester bat den koch auch um die erlaubniss zusehen zu duerfen da lief sie zu der eiche zog das silberne kleid an und wuenschte sich einen wagen in dem sie nach dem schlosse fuhr der prinz sah sie und tanzte mit ihr aber nach ein paar taenzen war sie verschwunden setzte sich auf ihren wagen und sprach'] - 0 - 0 \n",
      "\n",
      "45 - 0.060858043186396066 - mess_48 - ['die drei schwaene unter der stiege aber waren drei verwuenschte koenigstoechter sie kamen jetzt weil sie erloest waren in sein zimmer und sagten zum soldaten er solle nun aufstehen als er aufgestanden war sprachen sie zu ihm er haette jetzt die wahl unter ihnen drei er nahm die vom goldenen berg diese sagte wir sind immer als noch nicht fertig wir muessen in drei naechten zwischen 11 und 12 uhr in jene kirche gehen'] - 0 - 0 \n",
      "\n",
      "54 - 0.058410139976208364 - mess_23 - ['ein koenig hatte drei soehne die beschimpften einmal einen alten bettler einen frueheren soldaten und dieser verzauberte sie in hunde und sagte ihr sollt so lange hunde bleiben bis ihr einen soldaten zum koenig macht die jungen wurden auf der stelle zu hunden zu einem grossen hund einem mittleren hund und einem kleinen hund und sie streiften im lande umher da kam einmal ein soldat aus dem krieg zurueck und ging durch den wald er kam an das schloss des teufels aber es war niemand zu hause dort war ein grosser viehhof mit schrecklich grossen ochsen er stahl sich dort einen ochsen und ging fort da begegnete ihm ein vogelsteller der hatte die drei hunde bei sich der jaeger fragte ihn ob er ihm nicht den ochsen gegen die drei hunde vertauschen wolle er vertauschte ihm den ochsen weil er dachte dass er ja aus dem teufelsschloss andere ochsen bekommen koenne'] - 0 - 0 \n",
      "\n",
      "95 - 0.05816263677637763 - mess_46 - ['der junge mann aber beachtete den hinweis nicht weiter den ihm der koenig gegeben hatte und zog am naechsten tag los um alle leute zu befreien die die lamia gefangen hielt'] - 0 - 0 \n",
      "\n",
      "67 - 0.056087090376374216 - mess_23 - ['aber die koenigstochter war verzaubert worden und gleich nach der hochzeit toetete sie ihren gatten sie schlug ihm mit dem schwert den kopf ab da erfuhren die hunde dass ihr herr getoetet war und es fiel ihnen ein dass die salbenflasche aus dem teufelsschloss nicht mitgekommen war'] - 0 - 0 \n",
      "\n",
      "64 - 0.05603847729916925 - mess_23 - ['aber da kam der soldat ebenfalls bei der hochzeit fuerchtete der junge mann dass der soldat kommen moechte und er stellte an allen toren wachen auf die sollten niemanden hereinlassen als der soldat kam liess er bloss sein schwert blinken da lagen die wachen da wie wuerste'] - 0 - 0 \n",
      "\n",
      "3 - 0.05422349028892036 - mess_44 - ['ein reicher mann der witwer geworden hatte eine einzige tochter die schoen und lieblich heranwuchs da wurde des vaters herz von unreiner liebe zu ihr entzuendet sie aber widerstand seinem begehren da drohte er ihr mit gewalt und nun sann sie auf list sie versprach ihm zu willen zu sein wenn er ihr ein kleid gebe das von silber stehen koenne als sie das bekommen verlangte sie eins das von golde steif sei und zum drittenmale eins das von gesteinen stehen koenne wie sie auch das erlangt sagte sie nun fehlt mir noch ein kraehenpelz und endlich hatte sie noch einen wunsch eine gluecksruthe auch die bekam sie'] - 0 - 0 \n",
      "\n",
      "12 - 0.05396324146715816 - mess_44 - ['als am andern morgen der koch die suppe bereitete liess aschenpuester den ring hineinfallen der prinz fand ihn und fragte wer in der kueche gewesen niemand als ich und aschenpuester erwiderte er er liess aschenpuester kommen mich juckts auf dem kopfe sprach er zu ihr sieh nach ob ungeziefer drauf ist aschenpuester gehorchte wie sie aber vor ihm stand da sah er unter dem abgenutzten kraehenpelz das demantkleid hervorschimmern da erkannte er sie nun bist du mein sprach er und er machte sie zu seiner frau und sie lebten gluecklich zusammen bis an ihr ende'] - 0 - 0 \n",
      "\n",
      "4 - 0.05037725755462387 - mess_44 - ['479 nun wohnte in einem lande ein schoener prinz der hatte von der schoenheit des maedchens vernommen sie nahm die ruthe in die hand die kleider auf die schulter und wuenschte sich in die naehe von dem schloss des prinzen alsbald war sie in dem schlossgarten da wuenschte sie sich einen schrank in einer eiche des gartens that ihre kleider hinein zog den kraehenpelz an und ging in die schlosskueche wo sie sich fuer einen armen knaben ausgab der dienst suche dich kann ich gebrauchen sagte der koch du sollst aschenpuester werden nach ein paar tagen kam der prinz in die kueche und brachte ein erlegtes wild hin sie sah ihn und er gefiel ihr ueber die massen'] - 0 - 0 \n",
      "\n"
     ]
    }
   ],
   "source": [
    "for index, score in (find_similar(vokabular, n_te)):\n",
    "    if (df.index_string[index]==0 and score>0.05):\n",
    "        print(index,'-', score,'-', df.quelle[index],'-', \n",
    "           t_corpus[index], '-',  df.index_binar[index],'-', df.index_binar[index],'\\n' )"
   ]
  },
  {
   "cell_type": "markdown",
   "metadata": {},
   "source": [
    "## Ende "
   ]
  },
  {
   "cell_type": "code",
   "execution_count": null,
   "metadata": {},
   "outputs": [],
   "source": []
  },
  {
   "cell_type": "code",
   "execution_count": null,
   "metadata": {},
   "outputs": [],
   "source": []
  },
  {
   "cell_type": "code",
   "execution_count": null,
   "metadata": {},
   "outputs": [],
   "source": []
  }
 ],
 "metadata": {
  "kernelspec": {
   "display_name": "Python 3 (ipykernel)",
   "language": "python",
   "name": "python3"
  },
  "language_info": {
   "codemirror_mode": {
    "name": "ipython",
    "version": 3
   },
   "file_extension": ".py",
   "mimetype": "text/x-python",
   "name": "python",
   "nbconvert_exporter": "python",
   "pygments_lexer": "ipython3",
   "version": "3.9.7"
  }
 },
 "nbformat": 4,
 "nbformat_minor": 2
}
