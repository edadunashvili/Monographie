{
<<<<<<< HEAD
 "cells": [
  {
   "cell_type": "markdown",
   "metadata": {},
   "source": [
    "## Google Colab Arbeitplatz vorbereiten"
   ]
  },
  {
   "cell_type": "code",
   "execution_count": null,
   "metadata": {},
   "outputs": [],
   "source": [
    "!git clone https://github.com/edadunashvili/Monographie.git"
   ]
  },
  {
   "cell_type": "code",
   "execution_count": null,
   "metadata": {},
   "outputs": [],
   "source": [
    "cd /content/Monographie"
   ]
  },
  {
   "cell_type": "code",
   "execution_count": null,
   "metadata": {},
   "outputs": [],
   "source": [
    "!pip install mglearn"
   ]
  },
  {
   "cell_type": "code",
   "execution_count": null,
   "metadata": {},
   "outputs": [],
   "source": [
    "!pip install --upgrade joblib==1.1.0"
   ]
  },
  {
   "cell_type": "code",
   "execution_count": null,
   "metadata": {},
   "outputs": [],
   "source": [
    "from IPython.display import HTML, display\n",
    "\n",
    "def set_css():\n",
    "  display(HTML('''\n",
    "  <style>\n",
    "    pre {\n",
    "        white-space: pre-wrap;\n",
    "    }\n",
    "  </style>\n",
    "  '''))\n",
    "get_ipython().events.register('pre_run_cell', set_css)"
   ]
  },
  {
   "cell_type": "code",
   "execution_count": null,
   "metadata": {},
   "outputs": [],
   "source": []
  },
  {
   "cell_type": "markdown",
   "metadata": {},
   "source": [
    "# Elguja Dadunashvili: Machine-Learning-Verfahren für die typologisch-vergleichenden Märchenforschung - Teil 1"
   ]
  },
  {
   "cell_type": "markdown",
   "metadata": {},
   "source": [
    "## Modul für die Aggregation des Korpus von Trainingsdaten "
   ]
  },
  {
   "cell_type": "markdown",
   "metadata": {},
   "source": [
    "[Zelle # 1]\n",
    "\n",
    "1-3: Die Variable 'tupNum', 'repert' und 'ausnahme' gelten für die Auswahl der in dem Trainingsdatenrepositorium angelegte Texte mit dem gesuchten Typ und dem Herkunftsrepertoire. Sowohl die Variable 'typNum' ails auch 'repert' kann mit leeren Anführungszeichen dargestellt werden, für die Variable 'ausnahme' ist entweder ein unwahrscheinlicher Wert (z.B. 'xxyyzz') oder der Wert womit man eine bestimmte Gruppe  von Daten aus der Wahl ausschließen kann eine Pflicht.\n",
    "\n",
    "4-8: Jedes Mal bei der Aggregation des Korpus von Trainingsdaten wird der gleichnamige alte Korpus gelöscht.\n"
   ]
  },
  {
   "cell_type": "code",
   "execution_count": 1,
   "metadata": {},
   "outputs": [],
   "source": [
    "typNum='300'\n",
    "repert=''\n",
    "ausnahme='xxyyzz'\n",
    "def entfernen(var):\n",
    "    import os\n",
    "    if os.path.exists(var):\n",
    "        os.remove(var)\n",
    "entfernen('episode_binar_train.csv')"
   ]
  },
  {
   "cell_type": "markdown",
   "metadata": {},
   "source": [
    "[Zelle # 2]\n",
    "\n",
    "1-59: Aggregation der Datei 'episode_temp_train.csv' (eine Funktion). Die im Ordner „Trainingsdaten“ angelegte TXT Dateien werden in der CSV Datei aggregiert und in das root Repositorium verlegt. \n",
    "\n",
    "60-66: Umwandlung 'episode_temp_train.csv' in die Datei 'episode_string_train.csv'.\n",
    "\n",
    "67-72: 'episode_string_train.csv' laden, von den überflüssigen Zeichen bereinigen und ins Trainingsdatenkorpus 'episode_binar_train.csv' umwandeln.\n",
    "\n",
    "ab-73: Unnotige Aggregationen werden gelöscht."
   ]
  },
  {
   "cell_type": "code",
   "execution_count": 5,
   "metadata": {},
   "outputs": [],
   "source": [
    "def clean(line):\n",
    "    line = line.replace(\"\\n\",\" \").strip()\n",
    "    line = line.replace(\"ä\",\"ae\").replace(\"ü\",\"ue\").replace(\"ö\",\"oe\")\n",
    "    line = line.replace(\"ß\",\"ss\").replace(\",\",\"\").replace(\"«\",\"\")\n",
    "    line = line.replace(\"»\",\"\").replace(\".\",\"\").replace(\":\",\"\")\n",
    "    line = line.replace(\";\",\"\").replace('\"',\"\")\n",
    "    line = line.replace(\"?\",\"\").replace(\"!\",\"\").replace(\"á\",\"a\")\n",
    "    line = line.replace(\",\",\"\").replace(\"\\t\",\" \").replace(\"'\",\"\")\n",
    "    line = line.replace(\"‹\",\"\").replace(\"›\",\"\").replace(\"-\",\" \")\n",
    "    line = line.replace(\"'('\",\"\").replace(\"')'\",\"\").replace('>','')\n",
    "    line = line.replace(\"    \",\" \").replace(\"   \",\" \").replace(\"  \",\" \")\n",
    "    line = line.replace('–','').replace('—','').replace('<','')\n",
    "    line = line.replace(\"Â\", \"A\").replace(\"ø\", \"oe\").replace('“','')\n",
    "    line = line.replace('„','').replace('(','').replace(')','')\n",
    "    line = line.replace(\"‚\", \"\").replace(']','').replace('[','')\n",
    "    if line == \"\": \n",
    "        return\n",
    "    line=line.split(\"|\")\n",
    "    line[0]=line[0].split(\"|\")[0]\n",
    "    for i, _ in enumerate(line):\n",
    "        if (i !=0) and (i!=2):\n",
    "            line[i]=line[i].lower()\n",
    "    flex=[]\n",
    "    try:\n",
    "        flex=line[1].split(\"\")\n",
    "    except:\n",
    "        pass\n",
    "    value=str(line)\n",
    "    line=str(line)   \n",
    "    flex.append(line)\n",
    "    ret=[]\n",
    "    for i in flex:\n",
    "        ret.append((i,value[0]))\n",
    "    return ret\n",
    "def write_back(words, temp):\n",
    "    with open(temp, \"a\", encoding='utf-8') as output:      \n",
    "        for word in words:\n",
    "            as_lex = word[0]\n",
    "            full_word = '\"' + as_lex + '\"'\n",
    "            for sub_word in word[1:]:\n",
    "                full_word += \" , \"  '\"' + sub_word + '\"'\n",
    "            full_word +=\"\\n\"\n",
    "            output.write(full_word)\n",
    "def aggreg(temp, ordner):\n",
    "    import glob\n",
    "    with open(temp, \"w\", encoding='utf-8') as output:\n",
    "        output.write (\"quelle,episode,index_string,index_binar\\n\")\n",
    "    sorted_files=sorted(glob.glob(ordner))\n",
    "    pairs = []\n",
    "    for file in sorted_files:\n",
    "        if typNum in file and repert in file and not ausnahme in file:\n",
    "            with open(file, 'r', encoding='utf-8', errors='ignore') as episode:\n",
    "                for line in episode.readlines():\n",
    "                    clean_words = clean(line)\n",
    "                    pairs = pairs + clean_words\n",
    "    write_back(pairs, temp)\n",
    "temp = \"episode_temp_train.csv\"\n",
    "ordner = \"Trainingsdaten/*.txt\"\n",
    "aggreg(temp, ordner)\n",
    "fin = open('episode_temp_train.csv','r', encoding ='utf-8')\n",
    "fout = open('episode_string_train.csv', \"wt\", encoding ='utf-8')\n",
    "for kfz in fin:\n",
    "    fout.write(kfz.replace(', \"[\"',\"\").replace('\"[', \"\").replace(']\"',\"\")\n",
    "               .replace(\"', '\", \"','\").replace(\" '\", \"'\"))\n",
    "fin.close()\n",
    "fout.close()\n",
    "fin = open('episode_string_train.csv','r', encoding='utf-8') \n",
    "fout = open('episode_binar_train.csv', \"wt\", encoding='utf-8')\n",
    "for efz in fin:\n",
    "    fout.write(efz.replace(\"'\",\"\"))             \n",
    "fin.close()\n",
    "fout.close()\n",
    "entfernen('episode_temp_train.csv')\n",
    "entfernen('episode_string_train.csv')"
   ]
  },
  {
   "cell_type": "markdown",
   "metadata": {},
   "source": [
    "##  Herstellung des Modells und der prototypischen Metaepisode "
   ]
  },
  {
   "cell_type": "markdown",
   "metadata": {},
   "source": [
    "[Zelle # 3]\n",
    "\n",
    "1-5: Trainingdatenkorpus zugreiffen und der im Datenfeld 'index_string' eingetragene Merkmalen mitsamt der Vorkommenshäufigkeitsrate einbelden."
   ]
  },
  {
   "cell_type": "code",
   "execution_count": 6,
   "metadata": {},
   "outputs": [
    {
     "name": "stdout",
     "output_type": "stream",
     "text": [
      "Counter({'e300_e_vorfeld_des_kampfes_bis_zum_sieg': 41, 'e300_c_anfangssituation_ankunft_und_erkundigung_der_not': 36, 'e300_o_auftritt_des_HD_vor_dem_AG_bis_zur_erkennung_seiner_heldentat': 34, 'e300_g_nach_dem_sieg_bis_zur_trennung_des_HD_und_des_OB': 29, 'e300_k_misshandlung_des_FH_bis_zur_hochzeit': 27, 'e300_m_rueckkehr_des_HD_und_erkundung_ueber_die_hochzeit_bis_zum_wiedergewinn_der_aufmerksamkeit': 18, 'e303_c_eingangssituation_bis_zur_trennung': 18, 'eUNDF_a_': 16, 'e303_g_erstes_treffen_mit_dem_AN': 16, 'e303_i_von_der_erkundigung_der_not_bis_zum_aufbruch_des_HF_zum_AN': 15, 'e303_k_vom_aufbruch_zum_AN_bis_zum_sieg_ueber_ihn': 15, 'e554_e_leistung_des_HD_gegenueber_dem_tier_und_aussprechen_der_dankbarkeit': 12, 'e315_a_': 12, 'eCoM_c_conceptia_magica': 11, 'e300_l_wiederbelebung_des_HD': 9, 'e300_i_rueckkehr_des_OB_und_die_suche_nach_dem_HD': 7, 'e300_q_von_der_begegnung_mit_dem_vogel_bis_zum_ende_des_fluges': 7, 'e550_a_': 7, 'e303_m_eifersucht': 5, 'e328_a_': 4, 'e303_q_rueckkehr_und_finale': 4, 'e562_a_': 4, 'e516_a_': 3, 'e301_o_von_der_rueckkehr_an_die_oberflaeche_bis_zur_loesung_der_durch_den_raub_verursachten_krise': 3, 'e301_e_vom_beginn_der_reise_bis_zum_finden_der_raststaette_oder_eines_eingangs': 3, 'e301_k_empfang_des_OB_und_verrat_des_FH': 3, 'e316_a_': 3, 'e567_a_': 3, 'e513a_a_': 2, 'e302_m_kampf_bis_zum_sieg': 2, 'e301_g_vom_finder_einer_nachtrast_bis_zum_betreten_der_welt_des_AN': 2, 'e301_i_vom_betreten_des_wohnsitzes_des_AN_bis_zur_befreiehung_des_OB': 2, 'e554_g_verstoss_auf_die_herausforderungen_bis_zum_beginn_der_loesungsmassnahmen': 2, 'e554_k_der_HD_geniesst_die_gegenleistung_des_tieres': 2, 'e302_k_erkundigung_ueber_den_aufenthaltsort_der_lebensenergie_des_AN': 1, 'e301_m_entkommen_aus_dem_haus_des_AN': 1, 'e302_c_verlust_des_OB_wird_artikuliert': 1, 'e314_a_': 1, 'e850_a_': 1, 'e303_o_erloesung_des_AN': 1, 'e554_m_nach_der_erfuellung_der_letzten_aufgabe_bis_zum_ende_der_geschichte': 1, 'e590_a_': 1})\n"
     ]
    }
   ],
   "source": [
    "import pandas as pd\n",
    "from collections import Counter\n",
    "df = pd.read_csv('episode_binar_train.csv',  encoding='utf-8')\n",
    "indexliste=Counter(df.index_string)\n",
    "print(indexliste, sep='\\n')"
   ]
  },
  {
   "cell_type": "markdown",
   "metadata": {},
   "source": [
    "[Zelle # 4]\n",
    "\n",
    "1: In den obeneingeblendete Merkmalen eine Episode Kopieren und hier als Wert der Variable 'gesep' einfügen. "
   ]
  },
  {
   "cell_type": "code",
   "execution_count": 7,
   "metadata": {},
   "outputs": [],
   "source": [
    "gesep = 'e300_c_anfangssituation_ankunft_und_erkundigung_der_not'"
   ]
  },
  {
   "cell_type": "markdown",
   "metadata": {},
   "source": [
    "[Zelle # 5]\n",
    "\n",
    "1-6: In Trainingsdaten die gesuchte Episode ('gesep') mit Einsen (1), den Rest mit Nullen (0) etikettieren und die Änderung speichern."
   ]
  },
  {
   "cell_type": "code",
   "execution_count": 8,
   "metadata": {},
   "outputs": [],
   "source": [
    "for i, gesuchte_episode in enumerate(df.index_string):\n",
    "    if (gesuchte_episode == gesep):\n",
    "        df.index_binar[i]='1'\n",
    "    else: \n",
    "            df.index_binar[i]='0'\n",
    "df.to_csv('episode_binar_train.csv', encoding='utf-8', index=False)"
   ]
  },
  {
   "cell_type": "markdown",
   "metadata": {},
   "source": [
    "[Zelle # 6]\n",
    "\n",
    "1-4: Im Trainingsdatenkorpus die Datenfelder für Probetexte (X_train) und für die Merkmalen (y_train) bestimmen und die Bilanz zwischen negativ (0) und positiv (1) etikettierten Datensätzen betrachten ( s. Counter)."
   ]
  },
  {
   "cell_type": "code",
   "execution_count": 9,
   "metadata": {},
   "outputs": [
    {
     "name": "stdout",
     "output_type": "stream",
     "text": [
      "Counter({'0': 349, '1': 36})\n"
     ]
    }
   ],
   "source": [
    "X_train=(df['episode'])\n",
    "y_train=(df['index_binar'])\n",
    "indexliste=Counter(df.index_binar)\n",
    "print(indexliste, sep='\\n')"
   ]
  },
  {
   "cell_type": "markdown",
   "metadata": {},
   "source": [
    "[Zelle # 7]\n",
    "\n",
    "1: Die in die eckige Klammern eingetragene Wörter werden zusätzlich in die vorhandene Stopwörter-Liste eingefügt. Einzelnes Wort muss dabei mit Anführungszeichen umgeschlossen und von andren Wörter durch das Komma getrennt werden, ein Beispiel: ['mein','dein']. \n",
    "\n",
    "2-6: Datenfeld 'episode' von konwentionelen und von uns eingegebenen Stoppwörter bereinigen. "
   ]
  },
  {
   "cell_type": "code",
   "execution_count": 10,
   "metadata": {},
   "outputs": [
    {
     "name": "stderr",
     "output_type": "stream",
     "text": [
      "[nltk_data] Downloading package stopwords to\n",
      "[nltk_data]     C:\\Users\\elguj\\AppData\\Roaming\\nltk_data...\n",
      "[nltk_data]   Package stopwords is already up-to-date!\n"
     ]
    }
   ],
   "source": [
    "custom_stop_word_list=[]\n",
    "import nltk\n",
    "nltk.download('stopwords')\n",
    "from nltk.corpus import stopwords\n",
    "NLTK_stop_words_list=stopwords.words('german')\n",
    "de = custom_stop_word_list + NLTK_stop_words_list"
   ]
  },
  {
   "cell_type": "markdown",
   "metadata": {},
   "source": [
    "[Zelle # 8]\n",
    "\n",
    "1-8: Einrichtung einer sciki-learn Pipeline mit Klassen LogisticRegression, TfidVectorizer und GridSearchCV. \n",
    "\n",
    "9-10: Modell auswerten (s. Bester Score aus der Kreuzvalidierung:)."
   ]
  },
  {
   "cell_type": "code",
   "execution_count": 11,
   "metadata": {},
   "outputs": [
    {
     "name": "stdout",
     "output_type": "stream",
     "text": [
      "Bester Score aus der Kreuzvalidierung: 0.94\n"
     ]
    }
   ],
   "source": [
    "from sklearn.feature_extraction.text import TfidfVectorizer\n",
    "from sklearn.linear_model import LogisticRegression\n",
    "from sklearn.model_selection import GridSearchCV\n",
    "from sklearn.pipeline import make_pipeline\n",
    "pipe = make_pipeline(TfidfVectorizer(min_df=2, stop_words=de, ngram_range=(1,1), norm=None), \n",
    "                     LogisticRegression())\n",
    "param_grid = {'logisticregression__C': [0.001, 0.01, 0.1, 1, 10]}     \n",
    "grid = GridSearchCV(pipe, param_grid, cv=5)\n",
    "grid.fit(X_train, y_train)\n",
    "print(\"Bester Score aus der Kreuzvalidierung: {:.2f}\".format(grid.best_score_))"
   ]
  },
  {
   "cell_type": "markdown",
   "metadata": {},
   "source": [
    "[Zelle # 9]\n",
    "\n",
    "1-6: Aus dem Modell die Liste der positiven und negativen Merkmalen extrachieren, Zahl der Merkmalen einblenden (s. Gesamte Anzahl der Wörter:)."
   ]
  },
  {
   "cell_type": "code",
   "execution_count": 12,
   "metadata": {},
   "outputs": [
    {
     "name": "stdout",
     "output_type": "stream",
     "text": [
      "Gesamte Anzahl der Wörter: 3608\n"
     ]
    },
    {
     "name": "stderr",
     "output_type": "stream",
     "text": [
      "C:\\Users\\elguj\\anaconda3\\lib\\site-packages\\sklearn\\utils\\deprecation.py:87: FutureWarning: Function get_feature_names is deprecated; get_feature_names is deprecated in 1.0 and will be removed in 1.2. Please use get_feature_names_out instead.\n",
      "  warnings.warn(msg, category=FutureWarning)\n"
     ]
    }
   ],
   "source": [
    "import numpy as np\n",
    "vectorizer = grid.best_estimator_.named_steps[\"tfidfvectorizer\"]\n",
    "max_value = vectorizer.transform(X_train).max(axis=0).toarray().ravel()\n",
    "sorted_by_tfidf = max_value.argsort()\n",
    "feature_names = np.array(vectorizer.get_feature_names())\n",
    "print(\"Gesamte Anzahl der Wörter: {}\".format(len(vectorizer.vocabulary_)))"
   ]
  },
  {
   "cell_type": "markdown",
   "metadata": {},
   "source": [
    "[Zelle # 10]\n",
    "\n",
    "1-7: Merkmalen mit höchsten Koeffizienten visualisieren (blau=positiv, rot=negativ). Variable 's_zahl' stellt fest wieviel Merkmalen von beiden Kategorien eingeblendet werden muss. "
   ]
  },
  {
   "cell_type": "code",
   "execution_count": 13,
   "metadata": {},
   "outputs": [
    {
     "data": {
      "image/png": "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\n",
      "text/plain": [
       "<Figure size 1080x360 with 1 Axes>"
      ]
     },
     "metadata": {
      "needs_background": "light"
     },
     "output_type": "display_data"
    }
   ],
   "source": [
    "s_zahl = 200\n",
    "import matplotlib.pyplot as plt\n",
    "import mglearn\n",
    "mglearn.tools.visualize_coefficients(\n",
    "    grid.best_estimator_.named_steps[\"logisticregression\"].coef_,\n",
    "    feature_names,  n_top_features=s_zahl)\n",
    "plt.grid()"
   ]
  },
  {
   "cell_type": "markdown",
   "metadata": {},
   "source": [
    "[Zelle # 11]\n",
    "\n",
    "1-5: Anpassung zwischen minimaler und maximaler Koeffizienten für die Merkmalen. Je nach der Episode kann die Kurve der expotentielle Abnahme unterschiedlich sein, dementsprechend entscheidet man für größere oder kleinere Zahl der relevante Merkmale. Diese wird durch die Variable 'n_zahl' einegstellt (Zeile 1).\n",
    "\n",
    "6-7: Visualisierung der ausgewählten Merkmalen. "
   ]
  },
  {
   "cell_type": "code",
   "execution_count": 25,
   "metadata": {
    "scrolled": true
   },
   "outputs": [
    {
     "name": "stdout",
     "output_type": "stream",
     "text": [
      "Positive Merkmale:\n",
      "['ass' 'toedte' 'immer' 'retten' 'loos' 'verhaengt' 'witwe' 'herberge'\n",
      " 'fresse' 'toeten' 'schoene' 'land' 'niemand' 'maedchen' 'gefallen'\n",
      " 'krone' 'wirtshaus' 'meermanne' 'geraubt' 'drei' 'drachen' 'kommt'\n",
      " 'fahnen' 'geb' 'alljaehrlich' 'toechtern' 'damals' 'unsres' 'naehe' 'sei'\n",
      " 'verschlang' 'haeuschen' 'nacheinander' 'voll' 'jungfrau' 'flor'\n",
      " 'koenigreichs' 'ach' 'frassen' 'darum' 'muessten' 'erloesest' 'leute'\n",
      " 'uebergeben' 'drache' 'fragte' 'erloesen' 'befreien' 'naechste'\n",
      " 'schwarzem' 'menschen' 'tochter' 'grade' 'versprochen' 'warum' 'schuster'\n",
      " 'traurig' 'macht' 'behangen' 'schwarz' 'reihe' 'stadt' 'gelesen' 'trauer']\n",
      "Negative Merkmale:\n",
      "['hochzeit' 'geputzt' 'freude' 'schwert' 'kopf' 'schoen' 'befreit' 'vater'\n",
      " 'baum' 'erloest' 'pferd' 'koepfe' 'ueber' 'drauf' 'schlug' 'neun'\n",
      " 'zurueck' 'heraus' 'zungen' 'gerettet' 'messer' 'getoetet' 'schloss'\n",
      " 'kutscher' 'tot' 'hund' 'jaeger' 'wusste' 'weshalb' 'kutsche' 'nahm'\n",
      " 'geht' 'korb' 'glaubte' 'beiden' 'geschieht' 'bruders' 'ab' 'leben'\n",
      " 'hoehle' 'zuerst' 'lakei' 'thiere' 'schwer' 'sah' 'gehn' 'ring' 'brueder'\n",
      " 'ja' 'gingen' 'sagte' 'lief' 'liess' 'schoss' 'nacht' 'lassen' 'koenne'\n",
      " 'goldenen' 'sprach' 'herz' 'gleich' 'jungen' 'erde' 'erzaehlten']\n"
     ]
    }
   ],
   "source": [
    "n_zahl = 64\n",
    "gio=(grid.best_estimator_.named_steps[\"logisticregression\"].coef_[0])\n",
    "n_top=np.argsort(gio)\n",
    "text_pos=feature_names[n_top[-n_zahl:]]\n",
    "text_neg=feature_names[n_top[0:n_zahl]]\n",
    "print(\"Positive Merkmale:\\n{}\".format(text_pos))\n",
    "print (\"Negative Merkmale:\\n{}\".format(text_neg))"
   ]
  },
  {
   "cell_type": "markdown",
   "metadata": {},
   "source": [
    "[Zelle # 12]\n",
    "\n",
    "1-17: Bestimmte Merkmale in die neue txt Datei speichern(1-7) gesamte Information durch die Datenfelder strukturieren (8-12) und  nach dem Löschen der alten Datei (13) in Messdatenordner anlegen (14-17)."
   ]
  },
  {
   "cell_type": "code",
   "execution_count": 26,
   "metadata": {},
   "outputs": [],
   "source": [
    "import csv \n",
    "import shutil, os\n",
    "filename = '0_'+gesep\n",
    "tit=(text_pos)\n",
    "with open (filename+'.txt', 'wt', encoding='utf-8') as f:\n",
    "    writer = csv.writer(f, delimiter=' ')\n",
    "    writer.writerow(tit)\n",
    "with open(filename+'.txt', 'r') as file:\n",
    "    file_contents = file.read().replace(\"\\n\", \"\")\n",
    "    frt_contents = filename+'|'+file_contents+'|0|0'\n",
    "with open(filename+'.txt', 'wt', encoding='utf-8') as f:\n",
    "        f.write(frt_contents)\n",
    "entfernen('Messdaten/'+filename+'.txt')\n",
    "import glob\n",
    "files = glob.glob(filename+'.txt')\n",
    "for f in files:\n",
    "    shutil.move(f, 'Messdaten/')"
   ]
  },
  {
   "cell_type": "markdown",
   "metadata": {},
   "source": [
    "##  Herstellung des Messdatenkorpus "
   ]
  },
  {
   "cell_type": "markdown",
   "metadata": {},
   "source": [
    "[Zelle # 13]\n",
    "\n",
    "1-3: Die Variable 'tupNum', 'repert' und 'ausnahme' gelten für die Auswahl der in dem Messdatenrepositorium angelegte Texte mit dem konkretem Typ und dem Herkunftsrepertoire. Sowohl die Variable 'typNum' ails auch 'repert' kann mit leeren Anführungszeichen dargestellt werden. Für die Variable 'ausnahme' ist entweder ein unwahrscheinlicher Wert (z.B. 'xxyyzz') oder der Wert womit man eine bestimmte Gruppe von Daten aus der Wahl ausschließen kann eine Pflicht.\n",
    "\n",
    "4: Der vorhandene Messdaten-Korpus löschen (falls vorhanden)\n",
    "\n",
    "5-7: In dem Messdatenordner Messdaten parsen und einen 'episode_temp_mess.csv' Korpus aggregieren.\n",
    "\n",
    "8-16: 'episode_temp_mess.csv' von den überflussigen Zeichen bereinigen und ins  Messdatenkorpus - 'episode_binar_mess.csv' umwandeln.\n",
    "\n",
    "17-21: Datenfelder deklarieren und Datensätzen zählen (s. Counter), anschließend unnotige Temp-Aggregation löschen.\n",
    "\n",
    "22-29: Messdatenkopus aus den Epsoden bestimmen und alle andere Datenfelder ignorieren"
   ]
  },
  {
   "cell_type": "code",
   "execution_count": 27,
   "metadata": {},
   "outputs": [
    {
     "name": "stdout",
     "output_type": "stream",
     "text": [
      "Counter({0: 105})\n"
     ]
    }
   ],
   "source": [
    "typNum=''\n",
    "repert=''\n",
    "ausnahme='xxyyzz'\n",
    "entfernen('episode_binar_mess.csv')\n",
    "temp = \"episode_temp_mess.csv\"\n",
    "ordner = \"Messdaten/*.txt\"\n",
    "aggreg(temp, ordner)\n",
    "from collections import Counter\n",
    "fin = open(\"episode_temp_mess.csv\",'r', encoding ='utf-8')\n",
    "fout = open('episode_binar_mess.csv', \"wt\", encoding ='utf-8')\n",
    "for efz in fin:\n",
    "    fout.write(efz.replace(', \"[\"',\"\").replace('\"[', \"\")\n",
    "               .replace(']\"',\"\").replace(\"', '\", \"','\")\n",
    "               .replace(\" '\", \"'\").replace(\"'\",\"\"))   \n",
    "fin.close()\n",
    "fout.close()\n",
    "df = pd.read_csv('episode_binar_mess.csv', encoding='utf-8')\n",
    "from collections import Counter\n",
    "indexliste=Counter(df.index_binar)\n",
    "print(indexliste)\n",
    "entfernen('episode_temp_mess.csv')\n",
    "t_corpus = []\n",
    "file = 'episode_binar_mess.csv'\n",
    "with open(file, \"r\", encoding='utf-8') as maerchen:\n",
    "    maerchen = df.episode\n",
    "    reader = csv.reader(maerchen, delimiter = \"|\") \n",
    "    for row in reader:       \n",
    "        lst = str(row)\n",
    "        t_corpus.append(lst)"
   ]
  },
  {
   "cell_type": "markdown",
   "metadata": {},
   "source": [
    "## Vorhersage durch LOGISTICREGRESSION"
   ]
  },
  {
   "cell_type": "markdown",
   "metadata": {},
   "source": [
    "[Zelle # 14]\n",
    "\n",
    "1-2: Vorhersage treffen.\n",
    "\n",
    "3: Der synthetische Datensätzen wird ausgeschloßen. \n",
    "\n",
    "4: Jeder positiv bewerteter Datensatz wird extra eingebledet."
   ]
  },
  {
   "cell_type": "code",
   "execution_count": 28,
   "metadata": {},
   "outputs": [
    {
     "name": "stdout",
     "output_type": "stream",
     "text": [
      "Positiv bewerteter Datensatz:(28, '1')\n"
     ]
    }
   ],
   "source": [
    "mod_pred=grid.predict(t_corpus)\n",
    "for index in enumerate(mod_pred): \n",
    "    if '1' in (index) and index[0]>0:            \n",
    "        print ('Positiv bewerteter Datensatz:{}'.format(index))"
   ]
  },
  {
   "cell_type": "markdown",
   "metadata": {},
   "source": [
    "[Zelle # 15]\n",
    "\n",
    "1-7: Alle probabilitische Vorhersagen abruffen. Durch das Manipulieren der Variable 'pos>=' in der Zeile 6 wird der minimale Score angepasst."
   ]
  },
  {
   "cell_type": "code",
   "execution_count": 29,
   "metadata": {
    "scrolled": true
   },
   "outputs": [
    {
     "name": "stdout",
     "output_type": "stream",
     "text": [
      "28 - 0.9863838243637645 - mess_47 - dieser aber war in die stadt getreten wo er alles in bestuerzung und trauer fand alle fenster waren mit schwarzen tuechern verhangen er erkundigte sich daher was die ursache solcher trauer waere und erfuhr dass riesen in der naehe wohnten welche die stadt immer in angst und schrecken hielten und dass sieben drachen in einer nahen hoehle hausten welchen sie jeden tag einen menschen opfern muessten  und endlich sey eine schlange nicht weit auf einem baume welche alle menschen verzehre die ungluecklicher weise in ihr bereich kaemen niemand aber waere zu finden welcher die stadt von diesen ungeheuern befreyen wollte \n",
      "\n",
      "46 - 0.14210761352425708 - mess_48 - auf dem wege zu dieser kirche stand ein wirtshaus da hinein ging der soldat und logierte sich ein auf die nacht verlangte er zu trinken da sagte die wirtin das wasser in dem brunnen sei nicht gesund sie wolle ihm zitronenwasser geben sie aber gab ihm einen schlaftrunk er ging zwar hinaus setzte sich an den weg schlief aber ein um 11 uhr kam die koenigstochter gefahren mit vier rappen und die chaise war schwarz behangen \n",
      "\n",
      "56 - 0.05398102528987459 - mess_23 - der grosse teufel zeigte raeume zuerst fuehrte kleiderkammer dort riesige menge kleider weisst du wozu gebraucht werden fragte teufel ihr seid viele leute braucht viele kleider antwortete mann dann besonderes kleidungsstueck weisst du wozu gebraucht wird fragte teufel der soldat antwortete das braucht ihr gewiss selbst da sprach teufel wenn uebeiziehst macht ueber dich flinte nichts dann gingen flintenkammer weisst du gemacht wird fragte teufel wieder ihr seid viele leute braucht viele flinten nun grosse flinte fragte teufel wieder weisst du hiermit gemacht wird  die braucht ihr gewiss selbst antwortete soldat das flinte sagte teufel die schiesst umreisst weit knall hoert \n",
      "\n",
      "84 - 0.05387042075896931 - mess_46 -  ach mein kind wir haben hier kein wasser in dieser gegend hier lebt eine lamia die das wasser unter verschluss haelt wir bekommen nichts wenn sie nicht jeden tag ein maedchen zu fressen bekommt und morgen wird sie die koenigstochter rodanthi fressen \n",
      "\n"
     ]
    }
   ],
   "source": [
    "all_pred=grid.predict_proba(t_corpus) \n",
    "sort_index=np.flip(all_pred[:,1].argsort())\n",
    "for num_pos in sort_index:\n",
    "    pos=all_pred[num_pos][1]\n",
    "    for i,t_corpus_element in enumerate(t_corpus):\n",
    "        if i==num_pos  and num_pos>0 and pos>=0.01:\n",
    "            print(num_pos,'-', pos,'-', df.quelle[num_pos],'-', df.episode[num_pos],'\\n')"
   ]
  },
  {
   "cell_type": "markdown",
   "metadata": {},
   "source": [
    "##  Vorhersage durch die COSINE-SIMILARITY"
   ]
  },
  {
   "cell_type": "markdown",
   "metadata": {},
   "source": [
    "[Zelle # 16]\n",
    "\n",
    "1-14: Daten im Messdatenkorpus Vektorisieren, Transformieren und die Metrik für die Vorhersagefunktion definieren."
   ]
  },
  {
   "cell_type": "code",
   "execution_count": 30,
   "metadata": {},
   "outputs": [],
   "source": [
    "from sklearn.feature_extraction.text import TfidfVectorizer\n",
    "from sklearn.feature_extraction.text import CountVectorizer\n",
    "from sklearn.metrics.pairwise import cosine_similarity\n",
    "vectorizer = TfidfVectorizer\n",
    "vectorizers = vectorizer(analyzer='word', ngram_range=(1,1), \n",
    "                         min_df = 2, stop_words = de)\n",
    "vokabular =  vectorizers.fit_transform(t_corpus)\n",
    "metrik = cosine_similarity\n",
    "def find_similar(vokabular, index, top_n =-1):   \n",
    "    metriks = metrik(vokabular[index:index+1], vokabular).flatten()\n",
    "    related_docs_indices = [i for i in metriks.argsort()[::-1] \n",
    "                            if i != index]\n",
    "    return [(index, metriks[index]) for index \n",
    "            in related_docs_indices][0:top_n]"
   ]
  },
  {
   "cell_type": "markdown",
   "metadata": {},
   "source": [
    "[Zelle # 17]\n",
    "\n",
    "1-3: Gesuchte Episode (Zielepisode) einblenden. Die gesuchte Episode wird wird die 'n_te'-Variable bestimmt. Manuell eingepflegte Zielepisoden sollen deshalb immer in der ersten Reihen der Korpusdatensätzen stehen. Wir empfehlen deshalb, dass diese Daten mit dem Prefix '0_' benannt wird.)\n",
    "\n",
    "4: Synthetische Datei aus dem Messdatenordner entfernen."
   ]
  },
  {
   "cell_type": "code",
   "execution_count": 31,
   "metadata": {
    "scrolled": true
   },
   "outputs": [
    {
     "name": "stdout",
     "output_type": "stream",
     "text": [
      "0_e300_c_anfangssituation_ankunft_und_erkundigung_der_not - ['ass toedte immer retten loos verhaengt witwe herberge fresse toeten schoene land niemand maedchen gefallen krone wirtshaus meermanne geraubt drei drachen kommt fahnen geb alljaehrlich toechtern damals unsres naehe sei verschlang haeuschen nacheinander voll jungfrau flor koenigreichs ach frassen darum muessten erloesest leute uebergeben drache fragte erloesen befreien naechste schwarzem menschen tochter grade versprochen warum schuster traurig macht behangen schwarz reihe stadt gelesen trauer']\n"
     ]
    }
   ],
   "source": [
    "n_te = 0\n",
    "synt = t_corpus[n_te]\n",
    "print(df.quelle[n_te],'-', synt)\n",
    "entfernen('Messdaten/'+'0_'+gesep+'.txt')"
   ]
  },
  {
   "cell_type": "markdown",
   "metadata": {},
   "source": [
    "[Zelle # 18]\n",
    "\n",
    "1-3: Suchen starten und die Ergebnisse einblenden."
   ]
  },
  {
   "cell_type": "code",
   "execution_count": 32,
   "metadata": {
    "scrolled": true
   },
   "outputs": [
    {
     "name": "stdout",
     "output_type": "stream",
     "text": [
      "28 - 0.2980938904489223 - mess_47 - ['dieser aber war in die stadt getreten wo er alles in bestuerzung und trauer fand alle fenster waren mit schwarzen tuechern verhangen er erkundigte sich daher was die ursache solcher trauer waere und erfuhr dass riesen in der naehe wohnten welche die stadt immer in angst und schrecken hielten und dass sieben drachen in einer nahen hoehle hausten welchen sie jeden tag einen menschen opfern muessten  und endlich sey eine schlange nicht weit auf einem baume welche alle menschen verzehre die ungluecklicher weise in ihr bereich kaemen niemand aber waere zu finden welcher die stadt von diesen ungeheuern befreyen wollte'] - 0 - 0 \n",
      "\n",
      "62 - 0.1317629081270375 - mess_23 - ['er ging meeresstrand dort koenigstochter drachen verschlungen sollte der soldat versprach retten das maedchen bat ihn fortzugehen ging nicht er stellte zuerst kleinen hund wache auf geriet grosse not drachen zurueckhalten konnte dann schickte mittleren hund hin konnte nicht da schickte dritten hund hin hielt zurueck der soldat sagte die koepfe drachen duerft zerreissen sollt drachen toeten sie toeteten drachen liessen koepfe ganz da nahm soldat kopfe zunge heraus legte buendel zusammen steckte tasche'] - 0 - 0 \n",
      "\n",
      "17 - 0.13029239678641083 - mess_45 - ['ein jahr war verflossen seit helmerich ausgezogen die prinzess zu erloesen und noch immer war bei den eltern kein sechsspaenniger wagen angelangt ach sprach der vater waere nur der ungeschickte hans ausgezogen statt unsres besten buben da waere das unglueck doch geringer  vater sagte hans lass mich hinziehn ich wills auch probieren aber der vater wollte nicht denn was dem klugen misslingt wie fuehrte das der ungeschickte zu ende da der vater ihm ross und wehr versagte machte hans sich heimlich auf und wanderte wohl drei tage denselben weg zu fuss den der bruder an einem geritten war aber er fuerchtete sich nicht und schlief des nachts auf dem weichen moos unter den gruenen zweigen so sanft wie unter dem dach seiner eltern die voegel des waldes scheuten sich nicht vor ihm sondern sangen ihn in schlaf mit ihren besten weisen als er nun an die ameisen kam die beschaeftigt 47 waren ihren neuen bau zu vollenden stoerte er sie nicht sondern wollte ihnen helfen und die tierchen die an ihm hinaufkrochen las er ab ohne sie zu toeten wenn sie ihn auch bissen die enten lockte er auch ans ufer aber um sie mit brosamen zu fuettern den bienen warf er die frischen blumen hin die er am wege gepflueckt hatte so kam er froehlich an das koenigsschloss und pochte bescheiden am schalter gleich tat die tuere sich auf und die alte fragte nach seinem begehr wenn ich nicht zu gering bin moechte ich es auch versuchen die schoene prinzess zu erloesen sagte er versuche es mein sohn sagte die alte aber wenn du die drei proben nicht bestehst kostet es dein leben wohlan muetterlein sprach hans sage was ich tun soll jetzt gab die alte ihm die probe mit dem leinsamen hans war nicht faul sich zu buecken doch schon schlug es drei viertel und das faesschen war noch nicht halb voll da wollte er schier verzagen aber auf einmal kamen schwarze ameisen mehr als genug und in wenigen minuten lag kein koernlein mehr auf der wiese als die alte kam sagte sie das ist gut und warf die zwoelf schluessel in den teich die sollte er in einer stunde herausholen aber hans brachte keinen schluessel aus der tiefe so tief er auch tauchte er kam nicht an den grund verzweifelnd setzte er sich ans ufer da kamen die zwoelf entchen herangeschwommen jede mit 48 einem goldenen schluesselchen im schnabel die warfen sie ins feuchte gras so war auch diese probe geloest als die alte wiederkam um ihn nun in den saal zu fuehren wo die dritte und schwerste probe seiner harrte verzagend sah hans auf die drei gleichen schleiergestalten wer sollte ihm hier helfen da kam ein bienenschwarm durchs offene fenster geflogen die kreisten durch den saal und summten um den mund der drei verhuellten aber von rechts und links flogen sie schnell wieder zurueck denn die drachen rochen nach pech und schwefel wovon sie leben die gestalt in der mitte umkreisten sie alle und surrten und schwirrten leise die mittle die mittle denn da duftete ihnen der geruch ihres eigenen honigs entgegen den die koenigstochter so gern ass also da die alte wiederkam nach einer stunde sprach hans ganz getrost ich waehle die mittle und da fuhren die boesen drachen zum fenster hinaus die schoene koenigstochter aber warf ihren schleier ab und freute sich der erloesung und ihres schoenen braeutigams und hans sandte dem vater der prinzess den schnellsten boten und zu seinen eltern einen goldenen wagen mit sechs pferden bespannt und sie alle lebten herrlich und in freuden und wenn sie nicht gestorben sind leben sie heute noch'] - 0 - 0 \n",
      "\n",
      "46 - 0.12674891478406947 - mess_48 - ['auf dem wege zu dieser kirche stand ein wirtshaus da hinein ging der soldat und logierte sich ein auf die nacht verlangte er zu trinken da sagte die wirtin das wasser in dem brunnen sei nicht gesund sie wolle ihm zitronenwasser geben sie aber gab ihm einen schlaftrunk er ging zwar hinaus setzte sich an den weg schlief aber ein um 11 uhr kam die koenigstochter gefahren mit vier rappen und die chaise war schwarz behangen'] - 0 - 0 \n",
      "\n",
      "29 - 0.11424896681352119 - mess_47 - ['nun sey das loos auf die koenigstochter gefallen283 dass sie des uebermorgigen tages den drachen geopfert werden solle der koenig habe zwar verkuenden lassen dass wer diese ungeheuer erlegen wuerde die koenigstochter zur ehe und spaeter das koenigreich als erbe haben sollte aber niemand finde sich der ein so gefaehrliches unternehmen wagen wollte'] - 0 - 0 \n",
      "\n",
      "95 - 0.10069997085087096 - mess_46 - ['der junge mann aber beachtete den hinweis nicht weiter den ihm der koenig gegeben hatte und zog am naechsten tag los um alle leute zu befreien die die lamia gefangen hielt'] - 0 - 0 \n",
      "\n",
      "45 - 0.09465411084379294 - mess_48 - ['die drei schwaene unter der stiege aber waren drei verwuenschte koenigstoechter sie kamen jetzt weil sie erloest waren in sein zimmer und sagten zum soldaten er solle nun aufstehen als er aufgestanden war sprachen sie zu ihm er haette jetzt die wahl unter ihnen drei er nahm die vom goldenen berg diese sagte wir sind immer als noch nicht fertig wir muessen in drei naechten zwischen 11 und 12 uhr in jene kirche gehen'] - 0 - 0 \n",
      "\n",
      "15 - 0.09175010548605204 - mess_45 - ['als helmerich nun bei sinkender sonne das praechtige schloss erreicht hatte darin die prinzessin verzaubert war klopfte er gewaltig an die geschlossene pforte alles war still immer heftiger pochte der reiter endlich tat sich ein schiebefenster auf und hervor sah ein altes muetterlein mit spinnewebfarbigem gesichte die fragte verdriesslich was er begehre die prinzess will ich erloesen rief helmerich geschwind macht mir auf eile mit weile mein sohn sprach die alte morgen ist auch ein tag um neun uhr werde ich dich hier erwarten damit schloss sie den schalter'] - 0 - 0 \n",
      "\n",
      "88 - 0.08830374463548527 - mess_46 - [' ich werde dich retten sagte er ihr du musst nicht weinen'] - 0 - 0 \n",
      "\n",
      "38 - 0.08703834669061551 - mess_47 - ['er ertheilte noch am naemlichen tage dem eidam den befehl das heer gegen den feind zu fuehren liess ihm aber doch seiner tochter zu gefallen die schlechteste ruestung und das schlechteste pferd geben zugleich befahl er ihm stets an der spitze des heeres zu bleiben'] - 0 - 0 \n",
      "\n",
      "84 - 0.08473188327880157 - mess_46 - [' ach mein kind wir haben hier kein wasser in dieser gegend hier lebt eine lamia die das wasser unter verschluss haelt wir bekommen nichts wenn sie nicht jeden tag ein maedchen zu fressen bekommt und morgen wird sie die koenigstochter rodanthi fressen'] - 0 - 0 \n",
      "\n",
      "33 - 0.08243128141564066 - mess_47 - ['nun waren die drachen noch uebrig zu erlegen  wohl die schwerste und gefaehrlichste arbeit der schneider liess sich nun einen eisernen wagen machen der bis auf eine kleine oeffnung ganz verschlossen war in diesen stieg er am dritten tage und liess sich zur hoehle der drachen fahren kaum war er dort angekommen so fuhr einer der drachen heraus zerfleischte die beyden rosse vor dem wagen und stuerzte den wagen um da indessen der kopf des drachen in die naehe der oeffnung gekommen war so stiess ihm der schneider sein schwert bis an das heft hinein und toedtete so das unthier da sah er auf sein rothes band welches er um den leib hatte und siehe die worte waren verschwunden statt deren aber stand geschrieben gehe nur in die hoehle hinein die uebrigen sechs drachen koennen dir nichts mehr anhaben weil du den ersten davon erschlagen hast er stieg daher aus dem wagen und trat in die hoehle und toedtete die sechs drachen welche 285 sich wirklich nicht bewegen konnten die koepfe aber brachte er dem koenige welcher ihm nicht dank genug zu beweisen wusste und ihm noch an selbigem abende die koenigstochter zur ehe gab wobey es gar herrlich und froehlich herging weil jeder einwohner an der freude ueber die rettung aus noth und gefahr den innigsten antheil nahm'] - 0 - 0 \n",
      "\n",
      "36 - 0.07963526276523854 - mess_47 - ['der schneider wurde inne dass ihn die koenigstochter hasse und den grund warum wie er daher wieder zu bette ging stellte er sich als traeume er wieder und diesesmal von lauter schlachten und siegen'] - 0 - 0 \n",
      "\n",
      "51 - 0.07770973082873797 - mess_49 - ['als hans ueber den wald hinaus geflogen war guckte er sich um und als er nichts verdaechtiges mehr sah flog er auf die erde und machte sich wieder zu einem menschen als er so dahinging war ihm doch nicht recht wohl denn er dachte sich dass ihn der hexenmeister auf schritt und tritt verfolgen werde auf einmal sah er ueber sich einen geier fliegen und hans erkannte seinen herrn hans machte sich zu einem gaul und fing an und jackte galoppierte was er konnte waehrend er so dahinjackte sah er einen bauern gehen auf diesen hielt er zu und da der bauer dachte es sei ein durchgegangener gaul so fing er ihn was sich hans ruhig gefallen liess als der bauer so mit hans dahin ging kam ein nobler herr zu ihnen der wollte den gaul kaufen dem 16 hans wurde angst und bang er kannte den nobeln herrn es war der hexenmeister hans sagte leis zum bauern verkaufe mich nicht darueber waere der bauer bald omich worn ein gaul der reden konnte war ihm was neues der bauer verkaufte den gaul nun erst recht nicht denn einen gaul der reden konnte hatte nicht jeder mensch er fuehrte also den hans heim in seinen stall im stalle litt es hans nicht lange er machte sich zu einer fliege und flog durch einen fensterritz davon wie er so dahin flog sah er unter sich den hexenmeister gehen aber auch dieser hatte den hans bald bemerkt er machte sich zu einer schwalbe und flog dem hans nach bald haette er den hans erschnappt aber hans machte sich zu einem fingerle fingerringlein und fiel vor einem maedchen nieder das gerade daher ging das maedchen sah das fingerle hob es auf und steckte es an seinen finger wohin es recht schoen passte alle tage kam nun ein mann der dem maedchen das ringlein abkaufen wollte doch das maedchen gab es nicht her eines tages als der mann wieder lange umsonst gehandelt hatte wollte er dem maedchen das ringlein mit gewalt nehmen da fiel das ringlein auf den boden und wurde zu lauter hirsekoernern der fremde mann es war der hexenmeister machte sich zu einem goehger hahn und frass die hirsekoerner auf dann flog er davon die sache hatte aber doch einen haken gehabt der hexenmeister glaubte er haette den hans vertilgt aber der hans lebte noch ein hirsekoernlein welches der hans selbst war hatte der hexenmeister uebersehen dies hirsekoernlein war in des maedchens pantoffel gefallen und dort hatte es der hexenmeister nicht gesehen hans verwandelte sich wieder in seine richtige gestalt und freite um das maedchen das ihn schon als ring an der hand getragen hatte das maedchen fand gefallen an hans und wurde seine frau'] - 0 - 0 \n",
      "\n",
      "16 - 0.07743531747399883 - mess_45 - ['am andern morgen um neun uhr als helmerich wieder 46 erschien stand das muetterchen schon seiner gewaertig mit einem faesschen voll leinsamen den sie ausstreute auf eine schoene wiese lies die koerner zusammen sprach sie zu dem reiter in einer stunde komme ich wieder da muss die arbeit getan sein  helmerich aber dachte das sei ein alberner spass und lohne es nicht sich darum zu buecken er ging derweil spazieren und als die alte wiederkam war das faesschen so leer wie vorher das ist nicht gut sagte sie darauf nahm sie zwoelf goldene schluesselchen aus der tasche und warf sie einzeln in den tiefen dunklen schlossteich hole die schluessel herauf sprach sie in einer stunde komme ich wieder da muss die arbeit getan sein helmerich lachte und tat wie vorher  als die alte wiederkam und auch diese aufgabe nicht geloest war da rief sie zweimal nicht gut nicht gut doch nahm sie ihn bei der hand und fuehrte ihn die treppe hinauf in den grossen saal des schlosses da sassen drei frauenbilder alle drei in dichte schleier verhuellt waehle mein sohn sprach die alte aber sieh dich vor dass du recht waehlst in einer stunde komme ich wieder helmerich war nicht klueger da sie wiederkam als da sie wegging uebermuetig aber rief er aufs geratewohle die zur rechten waehl ich  da warfen alle drei die schleier zurueck in der mitte sass die holdselige prinzess rechts und links zwei scheussliche drachen und der zur rechten packte den helmerich in seine krallen und warf ihn durch das fenster in den tiefen abgrund'] - 0 - 0 \n",
      "\n",
      "43 - 0.0765812787822093 - mess_48 - ['drei desertierte soldaten gingen in eine wildnis hinein in dieser wildnis stand ein schloss die fallbruecke war aber aufgezogen als sie so beim schlosse stehen blieben und es betrachteten gab sich die fallbruecke herunter sie gingen darueber und in das schloss hinein und gelangten in die stube hunger und durst hatten sie auch darum zogen sie den tischkasten auf es lag aber nur ein kartenspiel darinnen und darauf stand geschrieben nikloes da sagten sie zu einander fuer unsern hunger und durst wollen wir einmal karten als sie anfingen zu karten kam so ein altes maennlein hinein und frug was ihr begehren sei sie antworteten ihm sie haetten hunger und durst und weil sonst nichts da sei so wollten sie karten da sagte das maennlein essen koenne er ihnen keines geben aber geld koennten sie haben so viel sie wollten er fuehrte sie darauf in die silbergrube sie steckten ein soviel sie konnten dann fuehrte er sie in die goldgrube da warfen sie das silber weg und steckten dafuer gold ein zuletzt fuehrte er sie zu den edelsteinen nun warfen sie das gold weg und packten edelsteine ein als sie fertig waren sprach das alte maennlein jetzt habt ihr soviel als eine ganze stadt waehrschaft hat kommt aber nicht mehr'] - 0 - 0 \n",
      "\n",
      "47 - 0.07295084600652683 - mess_48 - ['am zweiten tag ging der soldat wieder in das wirtshaus die wirtin machte es ihm gerade so wie das erstemal und gab ihm schlaftrunk er setzte sich darauf an die strasse und schlief wieder ein um 11 uhr kam die koenigstochter gefahren die chaise war mit vier fuchsen bespannt und rot behangen der soldat sah und hoerte aber nichts am dritten abend dachte er heute nacht komme ich doch mit er nahm den knecht mit hinaus dass dieser ihn wecke wenn er wieder schlafe die wirtin hatte ihn nocheinmal betrogen als die prinzessin angefahren kam hingen vier schimmeln an der chaise und diese war weiss behangen er aber sass dort und schlief sie stieg aus wollte ihn wach bringen ebenso der knecht doch sie konnten ihn nicht aufwecken als die prinzessin von der kirche zurueckkam stieg sie wieder aus und gab sich nocheinmal die muehe ihn aufzuwecken doch alles war vergeblich sie zog nun seinen saebel aus der scheide und schrieb mit goldenen buchstaben darauf hier hast du meinen goldenen ring zum andenken dann fuhr sie fort frueh morgens rief der soldat den knecht und fragte wo sein goldener ring sei der knecht musste den goldenen 9 ring hergeben worauf der soldat ihm den kopf abhieb dann rief er der wirtin sagte zu ihr sie sei eine hexe und habe gemacht dass er nicht mit der koenigstochter in die kirche gekommen sei der soldat nahm jetzt seinen saebel wieder und hieb der wirtin auch den kopf ab dann rief er die magd zu dieser sagte er sie solle das anwesen haben darauf machte er sich auf und ging fort'] - 0 - 0 \n",
      "\n",
      "1 - 0.07208629896930141 - mess_43 - ['es war einmal ein koenigssohn der ritt mit seinen dienern auf die jagd er hatte schon den ganzen tag gejagt ohne etwas zu treffen er war im begriffe heimzukehren als eine ricke ihm aufstiess um doch wenigstens etwas nach hause zu bringen setzte er ihr nach aber immer wenn er sie nahe genug glaubte um seinen speer werfen zu koennen war sie ihm wieder entschwunden dabei verlor er seine gefaehrten ganz die denn ohne ihn heimkehrten die ricke lief endlich ueber eine bruecke der koenigssohn hinter ihr her kaum war er hinueber als die bruecke hinter ihm abbrach und vor ihm stand statt der ricke ein altes haessliches weib das ihn aufforderte zu folgen er musste ihr gehorchen er mochte wollen oder nicht sie fuehrte ihn in ein schloss mitten im walde das sie mit ihren drei toechtern bewohnte die beiden aeltesten waren so haesslich wie ihre mutter und ebenso unfreundlich gegen ihn die juengste aber huebsch und freundlich nach einiger zeit forderte die alte ihn auf 477 ihre aelteste tochter zu heiraten dagegen weigerte er sich aber und erbot sich die juengste zu nehmen das wollte jedoch die alte nicht und er wurde von ihr und den beiden aelteren schwestern scharf bewacht damit er nicht entrinne er fand aber doch gelegenheit der juengsten seine liebe zu gestehen die sie ihrerseits herzlich erwiderte beide beschlossen zu entfliehen im herbste liefen sie eines nachts davon aber am morgen setzte ihnen die mittlere schwester nach wie die juengste bemerkte dass sie verfolgt wurden verwandelte sie sich in einen rosenstock und ihren geliebten in eine rose da kehrte die schwester um und erzaehlte sie habe die fluechtlinge nicht finden koennen und zugleich dass sie mitten im walde einen rosenstock gesehen haette da wurde sie von ihrer mutter und schwester gescholten dass sie den rosenstock nicht mitgebracht hatte nun wurde die aelteste tochter nachgeschickt als sie den verfolgten auf die spur kam verwandelte ihre schwester sich in ein caroussel und ihren geliebten in den besitzer desselben der in der mitte sitzend in einem buche las da kehrte die aelteste um und berichtete dass sie nichts gefunden und was sie im walde gesehen nun eilte die alte ihnen selbst nach diesmal verwandelte sich die juengste tochter in einen see und den koenigssohn in eine ente die auf dem see schwamm vorher aber hatte sie ihn gewarnt dem ufer nicht zu nahe zu kommen die alte lockte die ente mit brot und einmal glaubte sie sie so nahe dass sie mit der hand darnach griff da verlor sie aber das gleichgewicht und fiel ins wasser und ertrank'] - 0 - 0 \n",
      "\n",
      "63 - 0.07127748574432635 - mess_23 - ['im gebuesch mann wache als soldat fort war nahm koepfe drachen band buendel zusammen ging hin koenig zeigen und tochter wurde gezwungen mann heiraten'] - 0 - 0 \n",
      "\n",
      "9 - 0.07110951782438846 - mess_44 - ['am naechsten abend wurde wieder getanzt und aschenpuester bat den koch wieder um erlaubniss diesmal zog sie das goldene kleid an und fuhr im wagen dahin der prinz hatte schon nach ihr ausgeschaut und wurde sehr vergnuegt als sie kam beim tanze fragte er sie wo sie zu hause sei in stiefelschmeiss antwortete sie sie blieb eine stunde da dann verschwand sie umsonst fragte der prinz wo stiefelschmeiss laege niemand konnte es ihm sagen'] - 0 - 0 \n",
      "\n",
      "58 - 0.06980669482490755 - mess_23 - ['danach gingen salbenflaschenkammer diese voll salbenflaschen darunter flasche groesser andern weisst du gemacht wird  die braucht ihr gewiss selbst der teufel antwortete die salbe heilt alles menschen ganz stuecke hacktest einsalbst gesund'] - 0 - 0 \n",
      "\n",
      "7 - 0.0685466524646657 - mess_44 - ['dass niemand sehe wohin ich fahr'] - 0 - 0 \n",
      "\n",
      "54 - 0.0669765875146443 - mess_23 - ['ein koenig drei soehne die beschimpften alten bettler frueheren soldaten verzauberte hunde sagte ihr sollt lange hunde bleiben soldaten koenig macht die jungen wurden stelle hunden grossen hund mittleren hund kleinen hund streiften lande umher da kam soldat krieg zurueck ging wald er kam schloss teufels niemand hause dort grosser viehhof schrecklich grossen ochsen er stahl ochsen ging fort da begegnete vogelsteller drei hunde sich der jaeger fragte ihn ochsen drei hunde vertauschen wolle er vertauschte ochsen dachte dass ja teufelsschloss ochsen bekommen koenne'] - 0 - 0 \n",
      "\n",
      "8 - 0.06265353144394267 - mess_44 - ['am andern morgen war der prinz sehr uebler laune er hatte die ganze nacht gewacht und immer an seine schoene taenzerin gedacht aschenpuester musste ihm die stiefel putzen das that sie auch aber ein kleiner flecken an den zehen blieb ungeputzt das bemerkte der prinz kam zornig in die kueche hinein und warf ihr den stiefel an den kopf'] - 0 - 0 \n",
      "\n",
      "56 - 0.059572238667462904 - mess_23 - ['der grosse teufel zeigte raeume zuerst fuehrte kleiderkammer dort riesige menge kleider weisst du wozu gebraucht werden fragte teufel ihr seid viele leute braucht viele kleider antwortete mann dann besonderes kleidungsstueck weisst du wozu gebraucht wird fragte teufel der soldat antwortete das braucht ihr gewiss selbst da sprach teufel wenn uebeiziehst macht ueber dich flinte nichts dann gingen flintenkammer weisst du gemacht wird fragte teufel wieder ihr seid viele leute braucht viele flinten nun grosse flinte fragte teufel wieder weisst du hiermit gemacht wird  die braucht ihr gewiss selbst antwortete soldat das flinte sagte teufel die schiesst umreisst weit knall hoert'] - 0 - 0 \n",
      "\n",
      "14 - 0.058281816248725776 - mess_45 - ['nun begab es sich dass das jahr einmal ein mehr als gewoehnlich teures war und dem meister der beutel leer ward ei dachte er man muss zu leben wissen sind die kunden 44 doch so oft zu dir gekommen nun ist es an dir hoeflich zu sein und dich zu ihnen zu bemuehen gesagt getan frueh morgens zog er aus und klopfte an mancher stattlichen tuer aber wie es sich denn so trifft dass die stattlichsten herren nicht die besten zahler sind die rechnung zu bezahlen hatte niemand lust so kam der handwerksmann muede und matt des abends in seine heimat und truebselig setzte er sich vor die tuere der schenke ganz allein denn er hatte weder das herz mit den zechgaesten zu plaudern noch freute er sich sehr auf das lange gesicht seines weibes aber wie er da sass in gedanken versunken konnte er doch nicht lassen hinzuhoeren auf das gespraech das drinnen gefuehrt ward ein fremder der eben aus der hauptstadt angelangt war erzaehlte dass die schoene koenigstochter von einem boesen zauberer gefangen gesetzt sei und muesse im kerker bleiben ihr lebelang wenn nicht jemand sich faende der die drei proben loeste welche der zauberer gesetzt hatte faende sich aber einer so waere die prinzess sein und ihr ganzes herrliches schloss mit all seinen schaetzen das hoerte der meister an zuerst mit halbem ohr dann mit dem ganzen und zuletzt mit allen beiden denn er dachte mein sohn helmerich ist ein aufgeweckter kopf der wohl den ziegenbock barbieren moechte so das einer von ihm heischte was gilts er loest die proben und wird der gemahl der schoenen prinzess und herr ueber land und leute denn also hatte der koenig ihr vater verkuendigen lassen  schleunig kehrte er nach haus und vergass seine schulden und kunden ueber der neuen maer die er eilig seiner frau hinterbrachte des andern 45 morgens schon sprach er zum helmerich dass er ihn mit ross und wehr ausruesten wolle zu der fahrt und wie schnell machte der sich auf die reise als er abschied nahm versprach er seinen eltern er wolle sie samt dem dummen bruder hans gleich holen lassen in einem sechsspaennigen wagen denn er meinte schon er waere koenig übermuetig wie er dahinzog liess er seinen mutwillen aus an allem was ihm in den weg kam die voegel die auf den zweigen sassen und den herrgott lobten mit gesang wie sie es verstanden scheuchte er mit der gerte von den ästen und kein getier kam ihm in den weg daran er nicht seinen schabernack ausgelassen haetteund zum ersten begegnete er einem ameisenhaufen den liess er sein ross zertreten und die ameisen die erzuernt an sein ross und an ihn selbst krochen und pferd und mann bissen erschlug und erdrueckte er alle weiter kam er an einen klaren teich in dem schwammen zwoelf enten helmerich lockte sie ans ufer und toetete deren elf nur die zwoelfte entkam endlich traf er auch einen schoenen bienenstock da machte er es den bienen wie er es den ameisen gemacht und so war seine freude die unschuldige kreatur nicht sich zum nutzen sondern aus blosser tuecke zu plagen und zu zerstoeren'] - 0 - 0 \n",
      "\n",
      "53 - 0.05523906025871542 - mess_49 - ['seine hexenkunst hat hans nie mehr ausgeuebt da er bei seinem ersten versuch so viel angst hat ausstehen muessen und wenn einmal die rede aufs hexen kam soll hans immer gesagt haben das ist nichts fuer rechtschaffene leute'] - 0 - 0 \n",
      "\n",
      "48 - 0.053456428697046914 - mess_48 - ['der soldat hatte noch drei brueder als er zum ersten kam sagte er zu ihm gruess gott bruder lebst du noch der antwortete ja darauf fragte der soldat ob er nicht wuesste wo der goldene berg sei der bruder antwortete wo der goldene berg sei wuesste er nicht er koenne aber die voegel zitieren wenn die es nicht wuessten er wuesste es nicht jetzt zitierte er die voegel miteinander aber keiner wusste etwas von dem goldenen berg da nahm er den staerksten vogel davon setzte den soldaten darauf und befahl dem vogel ihn so weit zu tragen als er koenne und ihn dann abzusetzen dann reiste der soldat weiter und kam zu seinem zweiten bruder er sagte zu ihm gruess gott bruder lebst du noch der antwortete ja er fragte ihn nun ob er nicht wuesste wo der goldene berg sei der antwortete nein aber das wildbret wilpert koenne er miteinander zitieren wenn das es nicht wuesste er wuesste es nicht jetzt zitierte der bruder das wildbret aber keines wusste etwas vom goldenen berg da nahm er das staerkste getier davon und setzte den soldaten darauf das musste diesen wieder so weit tragen als es konnte hierauf reiste der soldat weiter und kam zu seinem dritten bruder den gruesste er auch wie die andern zwei dann fragte dieser ihn wo er herkomme der soldat legte ihm aus wie es ihm seither erging dann fragte er seinen bruder auch ob er nicht wisse wo der goldene berg sei dieser sagte er wuesste nichts vom goldenen berg aber die wolken koenne er zitieren wenn die es nicht wuessten so sei er angefuehrt jetzt zitierte sein bruder die wolken es kam immer eine um die andere und keine wusste etwas vom goldenen berg hintennach kam noch so ein schwarzes poepela woelkchen sein bruder fragte es ob es nichts vom goldenen berg wuesste das antwortete ja es wuesste wo der goldene berg sei und morgen haette die koenigstochter hochzeit da sagte des soldaten bruder es solle den soldaten aufpacken und solle mit ihm fort so schnell es koenne damit es noch vor der hochzeit ankaeme und es kam auch richtig vor der hochzeit mit dem soldaten hin dieser ging gleich vor die residenz und liess drinnen sagen die koenigstochter solle einmal herausgehen als sie kam zeigte er ihr den saebel mit den goldenen buchstaben und den goldenen ring der andere braeutigam musste darauf fort und der soldat bekam die koenigstochter zur frau'] - 0 - 0 \n",
      "\n",
      "59 - 0.05173620202813586 - mess_23 - ['darauf gingen kammer floeten waren weisst du wozu sind fragte teufel wieder ihr seid viele leute braucht viele floeten unter ganz besonders schoene floete weisst du gemacht wird  die braucht ihr gewiss selbst antwortete soldat das floete dreimal hineinblaest oeffnet jedesmal eiserne tuer da fiel soldaten ein halt hunde muessen irgendeiner eisernen tuere sein nirgends sehe steckte floete heimlich tasche'] - 0 - 0 \n",
      "\n",
      "2 - 0.050526210490839635 - mess_43 - ['die beiden liebenden setzten nun ihren weg fort und kamen auch gluecklich in die heimat des koenigssohns vor dem thore verabredeten sie die braut solle noch draussen bleiben waehrend er hineingehe er traf nur seine mutter noch am leben sein vater war gestorben grosser jubel empfing ihn bei seiner rueckkehr und grosse feste wurden veranstaltet so dass er seine braut ganz vergass und ihm zuletzt sein ganzes erlebniss im walde wie ein traum erschien die braut wartete draussen bis an den verabredeten tag als er da nicht kam verkleidete sie sich und ging ins schloss wo sie sich als kammerzofe verdingte und durch ihre geschicklichkeit und bescheidenheit sich bald die gunst der koenigin erwarb es gelang ihr aber nicht ihren geliebten zu gesicht zu bekommen da wuenschte 478 sie sich eines tages ein prachtvolles kleid auf dem der ganze sternenhimmel zu sehen war und weil sie eine zauberin war bekam sie es auch das zeigte sie der koenigin und diese ganz entzueckt darueber wollte es ihr abkaufen das maedchen aber wollte es fuer geld nicht hergeben sondern es ihr schenken unter der bedingung dass sie eine nacht im schlafgemache des koenigs zubringen duerfe das gewaehrte die koenigin sie gab aber ihrem sohne vorher einen schlaftrunk damit er von der gegenwart der zofe nichts bemerke das maedchen suchte ihn durch weinen und wimmern zuletzt durch schuetteln und ruetteln zu erwecken es gelang ihr aber nicht sondern er schlief bis zum vollen tage wo sie das zimmer wieder verlassen musste da wuenschte sie sich ein prachtvolles tuch mit gold und perlen besetzt dass es wie die sonne leuchtete das zeigte sie wieder der koenigin und schenkte es ihr unter der gleichen bedingung diesmal aber nahm der koenig den schlaftrunk nicht weil ihm einer seiner diener verrathen was die koenigin das vorige mal gethan hatte wie nun das maedchen wieder in seinem zimmer weinte und wimmerte erwachte er und erkannte sie wieder und nun erkannte er auch dass was er im walde erlebt kein traum gewesen war erinnerte sich seines versprechens und nahm am andern tage das maedchen zu seiner frau und beide lebten gluecklich mit einander'] - 0 - 0 \n",
      "\n",
      "27 - 0.05006398286680583 - mess_47 - ['vor seinen augen lag eine stadt er ging also auf sie zu unterdessen waren die riesen nach hause gekommen sie fanden den kleinen mann zwar nicht bekuemmerten sich aber auch nicht viel um sein verschwinden denn sie dachten der erdwurm werde sich irgendwo verkrochen haben und schon wieder zum vorschein kommen wenn ihn hungere'] - 0 - 0 \n",
      "\n",
      "5 - 0.046375093727220734 - mess_44 - ['bald darauf war eine hochzeit auf einem schlosse in der naehe der prinz fuhr auch hin viele leute liefen um dem tanze zuzusehen aschenpuester bat den koch auch um die erlaubniss zusehen zu duerfen da lief sie zu der eiche zog das silberne kleid an und wuenschte sich einen wagen in dem sie nach dem schlosse fuhr der prinz sah sie und tanzte mit ihr aber nach ein paar taenzen war sie verschwunden setzte sich auf ihren wagen und sprach'] - 0 - 0 \n",
      "\n",
      "3 - 0.04492189626091212 - mess_44 - ['ein reicher mann der witwer geworden hatte eine einzige tochter die schoen und lieblich heranwuchs da wurde des vaters herz von unreiner liebe zu ihr entzuendet sie aber widerstand seinem begehren da drohte er ihr mit gewalt und nun sann sie auf list sie versprach ihm zu willen zu sein wenn er ihr ein kleid gebe das von silber stehen koenne als sie das bekommen verlangte sie eins das von golde steif sei und zum drittenmale eins das von gesteinen stehen koenne wie sie auch das erlangt sagte sie nun fehlt mir noch ein kraehenpelz und endlich hatte sie noch einen wunsch eine gluecksruthe auch die bekam sie'] - 0 - 0 \n",
      "\n",
      "85 - 0.04276017623566522 - mess_46 - ['als der junge mann das hoerte fragte er wo denn die lamia waere'] - 0 - 0 \n",
      "\n",
      "68 - 0.040827827348794844 - mess_23 - ['da rannten schleunigst hin dort teufel lebendig geworden vergessen teufels grossmutter toeten salbe lebendig gemacht die hunde bissen tot grossmutter dann nahmen salbenflasche liefen groesster eile koenigsschloss zurueck'] - 0 - 0 \n",
      "\n",
      "70 - 0.037100616393510186 - mess_23 - ['unterdessen koenigstochter tode verurteilt worden gatten getoetet hatte sie eben richtstaette gefuehrt worden pferd mehr hause alter schimmel der soldat nahm schimmel fuhr hin weib retten schon henker beil erhoben brachen gericht ab koenigstochter blieb leben'] - 0 - 0 \n",
      "\n",
      "12 - 0.034200473165995754 - mess_44 - ['als am andern morgen der koch die suppe bereitete liess aschenpuester den ring hineinfallen der prinz fand ihn und fragte wer in der kueche gewesen niemand als ich und aschenpuester erwiderte er er liess aschenpuester kommen mich juckts auf dem kopfe sprach er zu ihr sieh nach ob ungeziefer drauf ist aschenpuester gehorchte wie sie aber vor ihm stand da sah er unter dem abgenutzten kraehenpelz das demantkleid hervorschimmern da erkannte er sie nun bist du mein sprach er und er machte sie zu seiner frau und sie lebten gluecklich zusammen bis an ihr ende'] - 0 - 0 \n",
      "\n",
      "30 - 0.0336625676373276 - mess_47 - ['da meynte der schneider er waere nicht abgeneigt das wagestueck zu unternehmen man moege ihn nur zum koenige fuehren so wurde er denn zum koenige gefuehrt und dieser versprach ihm aufs neue seine tochter und sein reich als lohn wenn ihm die that gelingen wuerde'] - 0 - 0 \n",
      "\n",
      "44 - 0.03337855476139626 - mess_48 - ['die soldaten gingen nun wieder gegen ihre heimat zu und hielten alle tage ball es ging aber ihr geld doch zu ende da hielten sie rat und beschlossen wieder zum schlosse zu gehen und fuehrten den entschluss auch richtig aus als sie hinkamen war die fallbruecke wieder hinaufgezogen nachdem sie ein wenig dagestanden waren ging der verschlag die fallbruecke herunter sie gingen hinein zogen den tischkasten auf und taten die karten heraus als sie diese heraus getan hatten kam das alte maennlein wieder und sagte hab ich es euch nicht gesagt dass ihr nimmer kommen sollt jetzt muss einer da bleiben die drei soldaten losten untereinander und der den das los traf blieb da die anderen steckten soviel edelsteine ein als sie konnten und gingen auf die heimat zu zu dem der dableiben musste sagte das maennlein jetzt muesse er jahr und tag am falltor schildwache stehen die zeit vergehe ihm aber schnell sobald es ihn hungere sei sie herum das war richtig so als ihm der hunger kam war die zeit herum und er ging ins schloss zurueck das maennlein wies ihm ein zimmer an und sagte in dem zimmer muesste er drei naechte liegen dabei sah der soldat unter der bodenstiege drei schwaene sitzen das maennlein sagte noch in der ersten nacht die er in dem zimmer zubringe kaemen maenner die fragen wuerden wie viel schlaege er haben wolle und da solle er sagen einen schlag sie wuerden ihm wohl mehr anbieten er aber solle nicht mehr sagen als einen schlag nachts um 11 uhr kamen sie auch und frugen wie viele schlaege er haben wolle da sagte er einen schlag sie sprachen er muesste mehr annehmen er aber blieb dabei nicht mehr als einen schlag nehmen zu wollen um 12 uhr verliessen ihn die maenner als er frueh herunterkam waren die schwaene schwane unter der bodenstiege schon etwas schoener vor der zweiten nacht sagte das maennlein heute antwortest du zwei schlaege um 11 uhr nachts kamen sie wieder und fragten wie viele schlaege er haben wolle er antwortete zwei schlaege sie boten ihm zwar mehr an er aber blieb auf seiner aussage stehen um 12 uhr gingen sie wieder fort frueh als er herabkam waren die drei schwaene wieder schoener jetzt sagte das maennlein zu ihm heut ist die letzte nacht heute sagst du drei schlaege aber nur fest darauf geblieben sie werden dann messer heraus tuen und sie wetzen als wenn sie dich umbringen wollten um 11 uhr kamen sie wieder miteinander und fragten wieviel schlaege er wolle er sprach drei schlaege sie aber sagten er muesse mehr haben sie taten ihre messer heraus und machten sie scharf aber um 12 uhr nachts gingen sie fort frueh als er erwachte war das zimmer an den waenden golden er blieb noch etwas liegen und betrachtete das veraenderte zimmer'] - 0 - 0 \n",
      "\n",
      "71 - 0.0328009904862253 - mess_23 - ['danach fragte soldat hunde was gutes dafuer tun dass leben gerettet habt sie antworteten nichts weiter dass kopf abschlaegst  einen lohn gebe nicht meinte soldat da sagten hunde wenn tust reissen kopf ab da schlug erst kleinen hund kopf ab wurde kleiner knabe dann schlug schon bereitwilliger beiden koepfe ab auf weise wurden hunden menschen'] - 0 - 0 \n",
      "\n",
      "18 - 0.03125501907953694 - mess_47 - ['es war einmal ein schneider klein von gestalt der auf der welt in der fremde herumwanderte wie er eines tages so dahin ging kam er in einen wald und in diesem zu einer quelle neben welcher er ein rothseidenes band fand auf dem die worte standen sieben auf einen schlag wer macht es mir nach der schneider hob es auf und band es sich um den leib'] - 0 - 0 \n",
      "\n",
      "65 - 0.030234993279579025 - mess_23 - ['nachdem weise weg gereinigt hatte ging kate er sagte kaetner auf weise koennte wohl hochzeitshaus beste essen bekommen haben  rede zeug meinte alte kaetner sorg nur dass frieden bleiben kannst doch soldat steckte kleinen hund taschentuch maul lief braut legte schmeichelnd fuessen die braut erkannte hund sogleich hals goldkette trug angelegt hatte sie band taschentuch beste tische war als hund kate zurueckkam setzten soldat alte kaetner essen soldat schickte kleinen hund fort krug voll getraenke holen auch bekam er aber merkte braeutigam geschichte hund kannte schickte soldaten aus gegner toeten eine ganze kompanie wurde entgegengeschickt liess schwert blinken fielen tot hin'] - 0 - 0 \n",
      "\n",
      "4 - 0.026709739529644297 - mess_44 - ['479 nun wohnte in einem lande ein schoener prinz der hatte von der schoenheit des maedchens vernommen sie nahm die ruthe in die hand die kleider auf die schulter und wuenschte sich in die naehe von dem schloss des prinzen alsbald war sie in dem schlossgarten da wuenschte sie sich einen schrank in einer eiche des gartens that ihre kleider hinein zog den kraehenpelz an und ging in die schlosskueche wo sie sich fuer einen armen knaben ausgab der dienst suche dich kann ich gebrauchen sagte der koch du sollst aschenpuester werden nach ein paar tagen kam der prinz in die kueche und brachte ein erlegtes wild hin sie sah ihn und er gefiel ihr ueber die massen'] - 0 - 0 \n",
      "\n",
      "50 - 0.026542840794947467 - mess_49 - ['als sie in die wirtsstube kamen sassen schon verschiedene leute drin und als die wirtin kam waere hans bald omicht ohnmaechtig geworden so toll sah sie aus das ist eine hexe dachte hans bei sich sein herr tat aber sehr gemeinschaeftlich mit der wirtin die kennen einander gut dachte sich hans no bas kann mir dro gelich nun was kann mir dran liegen er ass und trank was heilges zeug heisst denn so gut hatte er in seinem leben noch nie gegessen und getrunken bald darauf musste er sich niederlegen was ihm ganz recht war in einem so schoenen und weichen bett hatte hans auch in seinem leben nie geschlafen er war also recht zufrieden und dachte es ist doch schoener als bei dir daheim frueh beizeit kam sein herr und weckte ihn auf allo hans raus sprach er jetzt gehts weiter hans riebelte sich die augen aus stand auf und tat zog sich an und als sie gefruehstueckt hatten ging es weiter lange liefen sie im wald fort und hans kannte sie gar nicht mehr aus endlich kamen sie an ein haeuslein so jetzt sind wir daheim das ist mein haus sprach der herr zu hans dann schloss er die tuer auf und ging mit hans ins haeuslein hinein bei mir hast du es gut sprach der herr zu hans essen und trinken darfst du was dir schmeckt und die arbeit ist auch nicht schwer du musst die katz fuettern aber lasse sie ja keinen hunger leiden holz musst du im wald suchen und es klein machen und wenn ich fort bin musst du dir halt selber kochen wenn ich daheim bin koche ich dazu musst 15 du mir bloss holz und wasser beitragen die erdaepfel schaelen und feuer anmachen hans tat alles was ihm sein herr hiess und der herr war zufrieden mit hans eines tages sprach der herr zu hans hoere hans ich gehe fort und du musst allein daheim bleiben schliesse abends immer gut zu und lass keinen menschen ins haus kochen kannst du dir was du willst zeug ist da dazu hans versprach alles richtig zu tun dann ging der herr fort ich werde lange ausbleiben sagte er noch zu hans die erste zeit krabbelte hans so im haus herum aber allmaehlich wurde ihm doch die zeit lang als er nun wieder einmal so alles im hause herumstuerte fand er in einem laedle truehlein buecher gott sei dank sagte hans jetzt hab ich doch aebbes zum lesen hans fing an in den buechern zu lesen aber da ging es ihm nicht zum besten vieles verstand er nicht und dann waren so viel haken und schnoerkel drinnen welche er auch nicht kannte dem hans ging ein licht auf sein herr war ein hexenmeister ein zauberer sobald nun hans allemal seine arbeit getan hatte setzte er sich ueber die buecher simulierte und gruebelte drin rum ueber dem gruebeln verging dem hans die zeit und er wurde es so gar nicht weiss dass er allein war nach einem halben jahre konnte hans die ganzen buecher auswendig und konnte auch das hexen perfekt eines tages ging er ein stueck in den wald hinein um holz zu lesen und als er wieder heimkehrte wunderte er sich dass die tuer auf war er wusste doch dass er zugeschlossen hatte als er in die stube kam stand sein herr darin hatte ein buch in der hand und bitzelte vor zorn du schlingel sprach er du hast in meinen buechern gelesen ich habe es daran gesehen wahrscheinlich hast du auch das hexen gelernt hans spannte dass die geschichte dreckig werden koennte und schlitzte aus er dachte das ausreissen hat kein dummer erdacht aber hier nuetzte es nichts denn hans war noch nicht vor die tuer gekommen so war der hexenmeister hinter ihm hans besann sich nicht lange machte sich zu einem adler und flog auf und davon der hexenmeister ging in die stube holte ein gewehr und schoss auf hans aber hans hatte sich kugelsicher gemacht die kugel tat ihm nichts und er flog ruhig weiter der hexenmeister sprach der kanns besse bi wie ich den muss ich mit list dro krieg gewalt hilft da nichts'] - 0 - 0 \n",
      "\n",
      "19 - 0.024559880149862236 - mess_47 - ['280 da er schon lange weiter gewandert war kam ihm ploetzlich ein riese entgegen der ihn hart anfuhr und ihm fuerchterlich drohte der schneider aber gedachte seines bandes und der worte die darauf standen und machte sich nicht viel aus den drohungen des riesen so zankend und streitend kamen sie zu einem kirschenbaum der voll reifer kirschen hing da sagte der riese hoehnisch halt ich will dir die aeste des baumes herabbiegen damit du von den kirschen essen kannst lass es dir noch schmecken denn wenn du gegessen hast will ich dich umbringen'] - 0 - 0 \n",
      "\n",
      "57 - 0.02313759401659912 - mess_23 - ['dann gingen schwertkammer der teufel sagte wieder weisst du gemacht wird  ihr seid viele leute braucht viele schwerter darunter groesseres schwert weisst du wozu gebraucht wird wurde gefragt das braucht ihr gewiss selbst  das schwert blinken laesst muessen sterben'] - 0 - 0 \n",
      "\n",
      "49 - 0.022858975489254904 - mess_49 - ['es war einmal ein vater der hatte drei soehne joerg michel und hans der joerg und michel waren tuechtige fleissige und vigilante 14 flinke ruehrige kerl aber mit dem hans hatte der vater sein kreuz und quaestion zu allen arbeiten stellte er sich ungeschickt und es war gar nichts rechtes mit ihm anzufangen den ganzen tag strabanzte er herum gaukelte alleweil mit hunden und katzen denen er allerlei kunststuecke lernte oder er guckte den himmel an wobei er sich gern auf den buckel legte deswegen wurde er auch nur der himmelsgucker geheissen der vater waere froh gewesen wenn er den hans vom brote gehabt haette aber kein mensch wollte ihn in den dienst nehmen eines tages musste hans in den wald hinaus um holz zu lesen da kam ein mann zu ihm und fragte ihn nach seinem aus und an verhaeltnissen hans erzaehlte treuherzig wie es mit ihm stehe dass man ihn nur den dummen hans und den himmelsgucker heisse einen solchen kerl kann ich brauchen sagte der mann zu sich den ding ich mir der mann ging mit hans heim und sprach mit seinem vater der alte war froh den hans los zu werden und so war er bald mit dem fremden mann ueberein gekommen und handeleins hans musste nun seinen buendel zusammenpacken und dahin ging er mit dem fremden mann es tat ihm gar nicht leid da er daheim nur gezankt worden war und auch oft hiebe kriegt hatte lange waren hans und der fremde mann gegangen und hans war schon ganz kaput da kamen sie an einen wald hier wollte sich hans niedersetzen gehts nicht noch e bissle sagte sein herr zu hans wir kommen bald zu einem wirtshause dort essen und trinken wir und bleiben auch uebernacht hans schleppte sich fort und war herzlich froh als sie an das wirtshaus kamen'] - 0 - 0 \n",
      "\n",
      "66 - 0.022071382110065804 - mess_23 - ['darauf schrieb koenig brief dass kate kommen moege liess brief hund hinbringen da koenigstochter mitgehen aber koenig sagte was willst dort gewiss ende sein aber maedchen sprang hinten wagen fuhren hin da erzaehlte koenigstochter vater dass soldat gerettet habe wie moeglich sein meinte koenig wo drachenkoepfe hat  die mag haben einzigen zunge sie gingen hin nachzusehen nahmen soldaten mit in einzigen kopf zunge der soldat zog freudig zungenbuendel tasche sagte hier zungen da haengten betrueger feierten neuem hochzeit soldaten'] - 0 - 0 \n",
      "\n",
      "25 - 0.02102419842876284 - mess_47 - ['wieder gingen sie einige zeit des weges da lag ein kaeslaibchen auf der strasse welches der schneider gleichfalls aufhob und in der hand behielt bald darauf hob der riese einen stein auf und drueckte ihn in seiner gewaltigen faust so fest dass wasser heraus trat der schneider bueckte sich nun auch that als naehme er einen stein von der erde auf und drueckte dann das kaeselaibchen das er in der hand trug so fest dass milch herausdrang neckisch frug er den riesen ob er es auch so koenne dieser war nun voll erstaunen ueber die kraft des zwerges wie er meynte'] - 0 - 0 \n",
      "\n",
      "40 - 0.02045250297590826 - mess_47 - ['er zog also getrost aus da sein pferd aber sehr matt ging so blieb er haeufig zurueck und so auch in dem augenblicke wo die feinde lauter heiden an der seite herankamen eben strauchelte das pferd und riss im fallen ein kreuz um welches an dem wege stand das kreuz aber fiel auf den schneider welcher es fasste und weil es nicht schwer war in der hand behielt so ging es gegen den feind dieser aber wurde kaum des kreuzes ansichtig welches der schneider an der spitze des heeres trug als sie in wilder flucht umkehrten und dem schneider den vollstaendigsten sieg ueberliessen sie hatten naemlich vermeynt dass der gott der christen mit diesen streite und gegen einen gott koennten menschen nicht kaempfen'] - 0 - 0 \n",
      "\n",
      "52 - 0.01994541452916161 - mess_49 - ['sie lebten sehr lange und waren gluecklich miteinander aber nie soll hans seiner frau etwas von seiner hexenkunst erzaehlt haben und ihr auch nie gesagt haben dass sie ihn schon als ring an der hand getragen habe gegen seine frau war hans sehr gut da er sich immer dachte hat sie mich als ring schon so gern gehabt so hat sie mich als mensch noch viel lieber'] - 0 - 0 \n",
      "\n",
      "60 - 0.019144119699114382 - mess_23 - ['dann gingen seilkammer da strick ganz besonderer art fragte teufel wieder weisst du wozu gebraucht wird  den braucht ihr gewiss selbst  das strick aufgehaengt wirst sprach teufel warf strick hals dann brachte hof schrecklich kleine teufel warteten'] - 0 - 0 \n",
      "\n",
      "61 - 0.018469481363054353 - mess_23 - ['sie nahmen mann hand fuehrten galgen der grosse teufel guckte bloss treppe zu da fragte soldat darf drei seufzer tun sitte ist das wollten kleinen teufel erlauben grosse teufel gab zu da blies soldat erstenmal floete oeffnete tuer kleinen hundes dieser lief tuer mittleren hundes sagte o weh o weh herr grosser not der hund antwortete was dabei tun eingeschlossen der soldat blies zweitenmal oeffnete tuer als beiden hunde tuer grossen hundes kamen blies soldat drittenmal da liefen hunde davon bissen teufel tot der soldat nahm kleid grossen teufels mit flinte schwert vergass salbenflasche dann ging weg ochsen lag mehr'] - 0 - 0 \n",
      "\n",
      "32 - 0.01650568190177989 - mess_47 - ['des anderen tages liess der schneider ein grosses fass machen aussen voll eiserner spitzen nahm sein schwert und kroch in das fass dieses fass liess er dann unter den baum bringen welcher der schlange als wohnung diente wie die schlange den geruch von menschenfleisch in die nase bekam stuerzte sie vom 284 baume herab und zu dem fasse hin in welchem der schneider ein loch gelassen hatte die schlange bog eben ihren rachen ueber diese oeffnung da nahm der schneider die gelegenheit wahr und stiess ihr das schwert bis in den hals hinein dass sie sich in schmerz und wuth um das fass in vielen ringen herumwand sich aber an jedem eisernen zacken spiesste und bald tod war da stieg der held aus dem fasse schlug der schlange den kopf ab und brachte ihn dem koenige als siegeszeichen welcher heute eine viel groessere freude hatte als gestern'] - 0 - 0 \n",
      "\n",
      "11 - 0.014245927900364734 - mess_44 - ['480 am dritten abend als aschenpuester sich wieder erlaubniss zum zusehen erbeten hatte zog sie ihr kleid mit den edelsteinen an der prinz fragte sie beim tanze wo sie wohne in buerstenschmeiss gab sie zur antwort wer du auch seist sprach er nimm diesen ring von mir sie liess sich den ring an die hand stecken dann wollte sie entschluepfen aber der prinz passte ihr auf und fuhr dicht hinter ihr her sie stieg bei der eiche aus hatte aber nicht zeit das kleid abzulegen sondern zog nur in eile den kraehenpelz drueber'] - 0 - 0 \n",
      "\n",
      "93 - 0.0 - mess_46 - ['dann kam der tag an dem der koenig seinem schwiegersohn das ganze koenigreich zeigen wollte sie reisten fort und kamen eines tages vor eine riesige burg'] - 0 - 0 \n",
      "\n",
      "22 - 0.0 - mess_47 - ['auf diese weise waren sie eine bedeutende strecke gegangen da hob der riese einen stein auf und sagte zu seinem gefaehrten nun wollen wir in die wette werfen und sehen wer weiter wirft und er warf 281 und der stein flog so weit dass ihn die augen des schneiders gerade noch ersehen konnten'] - 0 - 0 \n",
      "\n",
      "21 - 0.0 - mess_47 - ['wie der schneider nun so hinter dem riesen einherging lief ihm ein spatz unter den fuessen herum er bueckte sich ergriff den vogel und trug ihn ohne dass der riese es sah fortan in der hand'] - 0 - 0 \n",
      "\n",
      "20 - 0.0 - mess_47 - ['der riese bog also den baum hernieder und der schneider hielt sich fest an dem gipfel desselben um bequem die ueppigen kirschen verspeisen zu koennen aber zu gleicher zeit liess der riese den baum wieder los und der gute schneider ward hoch in die luft hinaufgeschleudert er hatte es dem bande zu danken dass er unversehrt auf der anderen seite wieder zur erde kam da bekam der schneider muth der riese aber gerieth in erstaunen und liess den kleinen mann von nun an neben sich herziehen'] - 0 - 0 \n",
      "\n",
      "86 - 0.0 - mess_46 - [' dort drueben sagte sie'] - 0 - 0 \n",
      "\n",
      "87 - 0.0 - mess_46 - ['da brach er auf und ging an den ort an dem man die koenigstochter behuetete und wo die lamia sie fressen wuerde'] - 0 - 0 \n",
      "\n",
      "89 - 0.0 - mess_46 - ['kurz darauf hoerte er ein droehnen und sah die lamia kommen'] - 0 - 0 \n",
      "\n",
      "90 - 0.0 - mess_46 - [' oha sagte sie da heute werde ich gleich zwei zu fressen haben'] - 0 - 0 \n",
      "\n",
      "91 - 0.0 - mess_46 - ['sobald sie sich ihnen naeherte nahm der junge mann das schwert das er hinter einigen steinen versteckt hatte warf die lamia zu boden und toetete sie daraufhin ging er und oeffnete die quellen seitdem hatten sie in der gegend wieder wasser'] - 0 - 0 \n",
      "\n",
      "92 - 0.0 - mess_46 - ['dann kehrte er in die huette der alten frau zurueck sie kuesste ihn dankte ihm und schlug ihm vor mit ihr weiter zusammen zu wohnen die koenigstochter aber verliebte sich in ihn und wollte ihn zu ihrem mann haben er war einverstanden sie heirateten und lebten gluecklich miteinander'] - 0 - 0 \n",
      "\n",
      "13 - 0.0 - mess_45 - ['es war einmal ein armer handwerksmann der hatte zwei soehne einen guten der hiess hans und einen boesen der hiess helmerich wie das aber wohl geht in der welt der vater haette den boesen mehr lieb als den guten'] - 0 - 0 \n",
      "\n",
      "103 - 0.0 - mess_46 - ['der junge mann aber trat ein ohne sein schwert draussen zu lassen er zog sein schwert brachte die lamia um und befreite seinen bruder und alle anderen'] - 0 - 0 \n",
      "\n",
      "24 - 0.0 - mess_47 - ['nun bekam der riese schon eine bessere meynung von seinem kleinen reisegefaehrten und bot ihm an ihn in seine hoehle zu nehmen wo ihrer zwoelf beysammen waeren er selber aber sey koenig'] - 0 - 0 \n",
      "\n",
      "10 - 0.0 - mess_44 - ['der prinz that die nacht wieder kein auge zu und war noch verdriesslicher als am tage vorher aschenpuester musste ihm den rock buersten sie konnte es ihm aber nicht recht machen und zuletzt warf er ihr die buerste an den kopf'] - 0 - 0 \n",
      "\n",
      "94 - 0.0 - mess_46 - [' geh niemals in diese burg hinein denn dort versteckt sich eine lamia die alle gefangen nimmt die hineinkommen sagte der koenig zu seinem schwiegersohn'] - 0 - 0 \n",
      "\n",
      "96 - 0.0 - mess_46 - ['er schlug an die pforte und hoerte eine kraeftige stimme von innen'] - 0 - 0 \n",
      "\n",
      "97 - 0.0 - mess_46 - [' wenn du waffen hast dann wirf sie nieder und komm rein'] - 0 - 0 \n",
      "\n",
      "6 - 0.0 - mess_44 - ['hinter mir dunkel und vorne mir klar'] - 0 - 0 \n",
      "\n",
      "98 - 0.0 - mess_46 - ['er legte sein schwert ab trat ein und kaempfte lange zeit erbittert mit der lamia er schaffte es aber nicht sie zu besiegen so wurde auch er einer ihrer gefangenen in dem augenblick in dem der junge mann gefangen genommen wurde fiel zu hause das zeichen von der ablage als das seine mutter sah begann sie zu weinen und alle glaubten dass er verloren gegangen waere'] - 0 - 0 \n",
      "\n",
      "99 - 0.0 - mess_46 - ['da begab sich sein bruder auf den weg um nach ihm zu suchen zufaellig kam auch er an der alten frau vorbei die seinen bruder bewirtet hatte sie dachte dass es sich um seinen bruder handelte der die lamia umgebracht hatte und dankte ihm'] - 0 - 0 \n",
      "\n",
      "100 - 0.0 - mess_46 - ['von dort begab sich der zwillingsbruder zum palast des koenigs als ihn die frau seines bruders sah hielt sie ihn fuer ihren mann am morgen ging er hinaus und tat so als wuerde er auf jagd gehen zufaellig schlug er denselben weg ein der zur burg fuehrte als er nach seinem bruder suchte stand er mit einem mal vor der grossen burg in der die lamia wohnte'] - 0 - 0 \n",
      "\n",
      "101 - 0.0 - mess_46 - ['er klopfte an die pforte und auch er hoerte eine kraeftige stimme'] - 0 - 0 \n",
      "\n",
      "102 - 0.0 - mess_46 - [' wenn du waffen hast leg sie ab und komm herein'] - 0 - 0 \n",
      "\n",
      "23 - 0.0 - mess_47 - ['da bueckte sich auch der schneider als wolle er einen stein aufheben liess aber den vogel fliegen dieser flog so weit dass der riese gar nicht bemerken konnte wo der stein zur erde fiel'] - 0 - 0 \n",
      "\n",
      "26 - 0.0 - mess_47 - ['so kamen sie in die hoehle und der riese erzaehlte seinen genossen was der erdwurm bisher alles gethan habe sie hiessen ihn daher willkommen und behielten ihn bey sich ohne ihm etwas leides zu thun sie gingen oft auf raub aus manchmal nahmen sie ihn auf ihre streifereyen mit meistens aber musste er zurueckbleiben wo sie ihn dann einsperrten alle abende aber mit dem schlage sechs uhr verfielen sie in schlaf aus 282 welchem sie nicht zu wecken waren bis sie nicht volle zwoelf stunden geschlafen hatten so hatte er zwar zu leben aber auch viele langweile als daher einmal die riesen wieder ausgezogen waren besah er sich die hoehle recht genau ob denn kein entkommen moeglich waere da entdeckte er eine thuere welche in einen langen dunklen gang fuehrte er ging hinein und mehrere stunden in grosser finsterniss fort bis endlich helle ihn umfloss und er sich wieder oben auf freyer erde sah'] - 0 - 0 \n",
      "\n",
      "83 - 0.0 - mess_46 - ['er brach auf und zog sehr weit fort unterwegs traf er eine alte frau die ihn in ihrer huette aufnahm und bewirtete als sie ihm zu essen gab bat der junge um etwas wasser und da sagte ihm die alte frau'] - 0 - 0 \n",
      "\n",
      "55 - 0.0 - mess_23 - ['er ging schloss zurueck teufel schon hause im schlosse teufel richtiges altes luder forderte hereinzukommen sie nahmen freundlich auf luden essen ein essen durfte ausruhen aber unterdessen versteckten boesewichte hunde keller die kleinen teufel hofe beschaeftigt galgen fuer bauen'] - 0 - 0 \n",
      "\n",
      "64 - 0.0 - mess_23 - ['aber kam soldat ebenfalls bei hochzeit fuerchtete junge mann dass soldat kommen moechte stellte toren wachen auf sollten niemanden hereinlassen als soldat kam liess bloss schwert blinken lagen wachen wuerste'] - 0 - 0 \n",
      "\n",
      "67 - 0.0 - mess_23 - ['aber koenigstochter verzaubert worden gleich hochzeit toetete gatten schlug schwert kopf ab da erfuhren hunde dass herr getoetet war fiel ein dass salbenflasche teufelsschloss mitgekommen war'] - 0 - 0 \n",
      "\n",
      "69 - 0.0 - mess_23 - ['dann nahm grosse hund koerper soldaten mittlere nahm kopf kleine hund strich salbe risse da lebte soldat wurde gesund'] - 0 - 0 \n",
      "\n",
      "72 - 0.0 - mess_46 - ['es war einmal in einem kleinen fischerdorf ein armer fischer der dort mit seiner frau lebte sie hatten keine kinder'] - 0 - 0 \n",
      "\n",
      "73 - 0.0 - mess_46 - ['eines tages versuchte er fische zu fangen aber es biss einfach keiner an doch so gegen abend schliesslich als er schon seine siebensachen packen und fortgehen wollte ging ihm ein fisch an die angel er zog ihn hinaus und was sah er da ein ganz und gar goldenes fischlein da hoerte er wie der fisch zu ihm sprach'] - 0 - 0 \n",
      "\n",
      "74 - 0.0 - mess_46 - [' lass mich noch einen tag wachsen dann kannst du mich fangen und essen'] - 0 - 0 \n",
      "\n",
      "42 - 0.0 - mess_47 - ['von da an lebten sie noch lange und gluecklich tiefenbach'] - 0 - 0 \n",
      "\n",
      "41 - 0.0 - mess_47 - ['so wurden die feinde geschlagen und ihnen ein grosser theil ihres landes abgenommen der schneider 287 aber kehrte wohlbehalten an ehren reich zurueck und wurde auch von dem koenige mit allen ehren von der koenigstochter aber mit liebe empfangen denn diese hatte nun ihren gatten achten gelernt'] - 0 - 0 \n",
      "\n",
      "75 - 0.0 - mess_46 - [' na gut sagte sich der fischer da ich lass ihn wieder frei'] - 0 - 0 \n",
      "\n",
      "39 - 0.0 - mess_47 - ['der schneider aber machte sich nicht viel daraus sondern band sein rothes band um den leib und wie er es betrachtete las er die worte du wirst sieger seyn'] - 0 - 0 \n",
      "\n"
     ]
    },
    {
     "name": "stdout",
     "output_type": "stream",
     "text": [
      "76 - 0.0 - mess_46 - ['er nahm ihn also vom haken und warf ihn wieder ins meer'] - 0 - 0 \n",
      "\n",
      "37 - 0.0 - mess_47 - ['da wurde die koenigstochter noch trauriger und ging 286 am morgen wieder zum koenige und meldete ihm was ihr gatte heute nacht getraeumt habe worueber aber ihr das herz brechen wollte das erfuellte das herz des koenigs mit freude'] - 0 - 0 \n",
      "\n",
      "77 - 0.0 - mess_46 - ['als er am abend nach hause kam und seiner frau erzaehlte was er gesehen und gehoert hatte wurde sie boese weil sie nichts zu essen hatten'] - 0 - 0 \n",
      "\n",
      "35 - 0.0 - mess_47 - ['der koenig aber troestete sie und sagte er wolle ihn zum feldherrn machen und gegen die feinde schicken und ihn an die aeusserste spitze stellen damit er gleich im anfange zu grunde gehe sein wort aber das er ihm gegeben und wodurch er sein eidam geworden koenne er nicht zuruecknehmen mithin auch die ehe nicht loesen'] - 0 - 0 \n",
      "\n",
      "34 - 0.0 - mess_47 - ['da nun der schneider beylager mit der koenigstochter hielt und eingeschlafen war traeumte ihm von seinem handwerk von nadel scheere buegeleisen und da er laut traeumte hoerte die prinzessin welche wach war alles und gerieth in grosse besorgniss es moege ihr gatte doch wohl nicht mehr als ein schneider seyn kaum war es morgen so ging sie zu dem koenige und klagte diesem ihren argwohn und erklaerte ihm nie und nimmer die schande ertragen zu koennen als koenigstochter die frau eines schneiders zu seyn'] - 0 - 0 \n",
      "\n",
      "78 - 0.0 - mess_46 - ['am naechsten morgen ging der fischer wieder zum fischen und fing das goldene fischchen noch einmal da sagte es ihm'] - 0 - 0 \n",
      "\n",
      "31 - 0.0 - mess_47 - ['der schneider liess sich nun ein schwert geben welches er leicht handhaben konnte und legte den harnisch zur seite womit man ihn bekleiden wollte denn das zeug war sehr schwer und hinderte ihn am gehen darauf ging er der riesenhoehle zu welche er eben verlassen hatte da er auch die zeit wusste wann die riesen in ihren festen schlaf versenkt waeren so betrat er nach sechs uhr die hoehle und schlug ihnen allen den kopf ab die augen und die zungen schnitt er ihnen heraus und brachte sie als wahrzeichen dem koenige welcher grosse freude darueber hatte'] - 0 - 0 \n",
      "\n",
      "79 - 0.0 - mess_46 - [' jetzt gehoere ich dir du kannst mich essen aber bevor du mich isst werde ich dir einen ratschlag geben den du in deinem eigenen interesse befolgen solltest iss ein stueckchen und gib deiner frau auch eines zu essen dann wird sie zwillinge gebaeren danach nimm meine graeten und vergrab sie vor deinem haus dann werden zwei zypressen daraus spriessen dann nimm ein paar von ihren blaettern und fuettere alle tiere die du hast und sie werden auch zwillinge gebaeren'] - 0 - 0 \n",
      "\n",
      "80 - 0.0 - mess_46 - ['und so geschah es nach einiger zeit bekamen sie zwei jungen zwillinge die beiden aehnelten einander so sehr dass man sie nicht voneinander unterscheiden konnte und auch die huendin und die katze bekamen zwillinge'] - 0 - 0 \n",
      "\n",
      "81 - 0.0 - mess_46 - ['eines tages sahen sie noch etwas seltsames zusammen mit den wurzeln der zypressen die vor ihrem hause gewachsen waren sprossen auch zwei schwerter als die kinder groesser waren wollte eines von ihnen auswandern da nahm das kind eines der pferde einen der hunde und eines der schwerter bevor es loszog sagt es zu seiner mutter'] - 0 - 0 \n",
      "\n",
      "82 - 0.0 - mess_46 - [' mutter ich habe ein zeichen in die ablage gemacht solange das zeichen dort ist geht es mir gut wenn es herunterfaellt dann schick meinen bruder um nach mir zu suchen denn dann befinde ich mich in gefahr'] - 0 - 0 \n",
      "\n"
     ]
=======
  "cells": [
    {
      "cell_type": "markdown",
      "metadata": {
        "id": "fJakGHMPdpSE"
      },
      "source": [
        "## Google Colab Arbeitplatz vorbereiten"
      ]
    },
    {
      "cell_type": "code",
      "execution_count": 53,
      "metadata": {
        "id": "Wog2yxiadpSI",
        "outputId": "adfdc761-48ca-4580-ef95-e43be04f1288",
        "colab": {
          "base_uri": "https://localhost:8080/",
          "height": 34
        }
      },
      "outputs": [
        {
          "output_type": "display_data",
          "data": {
            "text/plain": [
              "<IPython.core.display.HTML object>"
            ],
            "text/html": [
              "\n",
              "  <style>\n",
              "    pre {\n",
              "        white-space: pre-wrap;\n",
              "    }\n",
              "  </style>\n",
              "  "
            ]
          },
          "metadata": {}
        },
        {
          "output_type": "stream",
          "name": "stdout",
          "text": [
            "fatal: destination path 'Monographie' already exists and is not an empty directory.\n"
          ]
        }
      ],
      "source": [
        "!git clone https://github.com/edadunashvili/Monographie.git"
      ]
    },
    {
      "cell_type": "code",
      "execution_count": 54,
      "metadata": {
        "id": "n4Szfy6PdpSK",
        "outputId": "5dd85f32-38dd-4754-a90b-ba5ad1b3c929",
        "colab": {
          "base_uri": "https://localhost:8080/",
          "height": 130
        }
      },
      "outputs": [
        {
          "output_type": "display_data",
          "data": {
            "text/plain": [
              "<IPython.core.display.HTML object>"
            ],
            "text/html": [
              "\n",
              "  <style>\n",
              "    pre {\n",
              "        white-space: pre-wrap;\n",
              "    }\n",
              "  </style>\n",
              "  "
            ]
          },
          "metadata": {}
        },
        {
          "output_type": "error",
          "ename": "SyntaxError",
          "evalue": "ignored",
          "traceback": [
            "\u001b[0;36m  File \u001b[0;32m\"<ipython-input-54-1cb8dedaa50e>\"\u001b[0;36m, line \u001b[0;32m2\u001b[0m\n\u001b[0;31m    mkdir cache\u001b[0m\n\u001b[0m          ^\u001b[0m\n\u001b[0;31mSyntaxError\u001b[0m\u001b[0;31m:\u001b[0m invalid syntax\n"
          ]
        }
      ],
      "source": [
        "cd /content/Monographie\n",
        "mkdir cache"
      ]
    },
    {
      "cell_type": "code",
      "source": [],
      "metadata": {
        "id": "iWOcPhbouHor"
      },
      "execution_count": 54,
      "outputs": []
    },
    {
      "cell_type": "code",
      "execution_count": 55,
      "metadata": {
        "id": "EIxvooHEdpSK",
        "outputId": "1b9e7bc1-f3a8-421a-9af2-74e6402e328c",
        "colab": {
          "base_uri": "https://localhost:8080/",
          "height": 17
        }
      },
      "outputs": [
        {
          "output_type": "display_data",
          "data": {
            "text/plain": [
              "<IPython.core.display.HTML object>"
            ],
            "text/html": [
              "\n",
              "  <style>\n",
              "    pre {\n",
              "        white-space: pre-wrap;\n",
              "    }\n",
              "  </style>\n",
              "  "
            ]
          },
          "metadata": {}
        }
      ],
      "source": [
        "from IPython.display import HTML, display\n",
        "\n",
        "def set_css():\n",
        "  display(HTML('''\n",
        "  <style>\n",
        "    pre {\n",
        "        white-space: pre-wrap;\n",
        "    }\n",
        "  </style>\n",
        "  '''))\n",
        "get_ipython().events.register('pre_run_cell', set_css)"
      ]
    },
    {
      "cell_type": "code",
      "execution_count": 56,
      "metadata": {
        "id": "pdneYetodpSL",
        "outputId": "2160878e-2c96-47de-c39f-b83492e2635c",
        "colab": {
          "base_uri": "https://localhost:8080/",
          "height": 312
        }
      },
      "outputs": [
        {
          "output_type": "display_data",
          "data": {
            "text/plain": [
              "<IPython.core.display.HTML object>"
            ],
            "text/html": [
              "\n",
              "  <style>\n",
              "    pre {\n",
              "        white-space: pre-wrap;\n",
              "    }\n",
              "  </style>\n",
              "  "
            ]
          },
          "metadata": {}
        },
        {
          "output_type": "display_data",
          "data": {
            "text/plain": [
              "<IPython.core.display.HTML object>"
            ],
            "text/html": [
              "\n",
              "  <style>\n",
              "    pre {\n",
              "        white-space: pre-wrap;\n",
              "    }\n",
              "  </style>\n",
              "  "
            ]
          },
          "metadata": {}
        },
        {
          "output_type": "stream",
          "name": "stdout",
          "text": [
            "Looking in indexes: https://pypi.org/simple, https://us-python.pkg.dev/colab-wheels/public/simple/\n",
            "Requirement already satisfied: mglearn in /usr/local/lib/python3.8/dist-packages (0.1.9)\n",
            "Requirement already satisfied: pillow in /usr/local/lib/python3.8/dist-packages (from mglearn) (7.1.2)\n",
            "Requirement already satisfied: numpy in /usr/local/lib/python3.8/dist-packages (from mglearn) (1.21.6)\n",
            "Requirement already satisfied: pandas in /usr/local/lib/python3.8/dist-packages (from mglearn) (1.3.5)\n",
            "Requirement already satisfied: cycler in /usr/local/lib/python3.8/dist-packages (from mglearn) (0.11.0)\n",
            "Requirement already satisfied: joblib in /usr/local/lib/python3.8/dist-packages (from mglearn) (1.2.0)\n",
            "Requirement already satisfied: matplotlib in /usr/local/lib/python3.8/dist-packages (from mglearn) (3.2.2)\n",
            "Requirement already satisfied: imageio in /usr/local/lib/python3.8/dist-packages (from mglearn) (2.9.0)\n",
            "Requirement already satisfied: scikit-learn in /usr/local/lib/python3.8/dist-packages (from mglearn) (1.0.2)\n",
            "Requirement already satisfied: python-dateutil>=2.1 in /usr/local/lib/python3.8/dist-packages (from matplotlib->mglearn) (2.8.2)\n",
            "Requirement already satisfied: pyparsing!=2.0.4,!=2.1.2,!=2.1.6,>=2.0.1 in /usr/local/lib/python3.8/dist-packages (from matplotlib->mglearn) (3.0.9)\n",
            "Requirement already satisfied: kiwisolver>=1.0.1 in /usr/local/lib/python3.8/dist-packages (from matplotlib->mglearn) (1.4.4)\n",
            "Requirement already satisfied: pytz>=2017.3 in /usr/local/lib/python3.8/dist-packages (from pandas->mglearn) (2022.7.1)\n",
            "Requirement already satisfied: scipy>=1.1.0 in /usr/local/lib/python3.8/dist-packages (from scikit-learn->mglearn) (1.7.3)\n",
            "Requirement already satisfied: threadpoolctl>=2.0.0 in /usr/local/lib/python3.8/dist-packages (from scikit-learn->mglearn) (3.1.0)\n",
            "Requirement already satisfied: six>=1.5 in /usr/local/lib/python3.8/dist-packages (from python-dateutil>=2.1->matplotlib->mglearn) (1.15.0)\n"
          ]
        }
      ],
      "source": [
        "!pip install mglearn"
      ]
    },
    {
      "cell_type": "markdown",
      "metadata": {
        "id": "XwMwYU8tdpSM"
      },
      "source": [
        "# Elguja Dadunashvili: Machine-Learning-Verfahren für die typologisch-vergleichenden Märchenforschung - Teil 1"
      ]
    },
    {
      "cell_type": "markdown",
      "metadata": {
        "id": "vFqevVgOdpSM"
      },
      "source": [
        "## Modul für die Aggregation des Korpus von Trainingsdaten "
      ]
    },
    {
      "cell_type": "markdown",
      "metadata": {
        "id": "paFtzUVQdpSN"
      },
      "source": [
        "[Zelle # 1]\n",
        "\n",
        "1-3: Die Variable 'tupNum', 'repert' und 'ausnahme' gelten für die Auswahl der in dem Trainingsdatenrepositorium angelegte Texte mit dem gesuchten Typ und dem Herkunftsrepertoire. Sowohl die Variable 'typNum' ails auch 'repert' kann mit leeren Anführungszeichen dargestellt werden, für die Variable 'ausnahme' ist entweder ein unwahrscheinlicher Wert (z.B. 'xxyyzz') oder der Wert womit man eine bestimmte Gruppe  von Daten aus der Wahl ausschließen kann eine Pflicht.\n",
        "\n",
        "4-8: Jedes Mal bei der Aggregation des Korpus von Trainingsdaten wird der gleichnamige alte Korpus gelöscht.\n"
      ]
    },
    {
      "cell_type": "code",
      "execution_count": 57,
      "metadata": {
        "id": "FTJ6xy3DdpSN",
        "outputId": "8d3889ad-5988-44c3-bc73-f31f3e14ef3f",
        "colab": {
          "base_uri": "https://localhost:8080/",
          "height": 17
        }
      },
      "outputs": [
        {
          "output_type": "display_data",
          "data": {
            "text/plain": [
              "<IPython.core.display.HTML object>"
            ],
            "text/html": [
              "\n",
              "  <style>\n",
              "    pre {\n",
              "        white-space: pre-wrap;\n",
              "    }\n",
              "  </style>\n",
              "  "
            ]
          },
          "metadata": {}
        },
        {
          "output_type": "display_data",
          "data": {
            "text/plain": [
              "<IPython.core.display.HTML object>"
            ],
            "text/html": [
              "\n",
              "  <style>\n",
              "    pre {\n",
              "        white-space: pre-wrap;\n",
              "    }\n",
              "  </style>\n",
              "  "
            ]
          },
          "metadata": {}
        }
      ],
      "source": [
        "typNum='300'\n",
        "repert=''\n",
        "ausnahme='xxyyzz'\n",
        "def entfernen(var):\n",
        "    import os\n",
        "    if os.path.exists(var):\n",
        "        os.remove(var)\n",
        "entfernen('episode_binar_train.csv')"
      ]
    },
    {
      "cell_type": "markdown",
      "metadata": {
        "id": "0UGsE2GLdpSO"
      },
      "source": [
        "[Zelle # 2]\n",
        "\n",
        "1-61: Aggregation der Datei 'episode_temp_train.csv' (eine Funktion). Die im Ordner „Trainingsdaten“ angelegte TXT Dateien werden in der CSV Datei aggregiert und in das root Repositorium verlegt. \n",
        "\n",
        "62-68: Umwandlung 'episode_temp_train.csv' in die Datei 'episode_string_train.csv'.\n",
        "\n",
        "69-74: 'episode_string_train.csv' laden, von den überflüssigen Zeichen bereinigen und ins Trainingsdatenkorpus 'episode_binar_train.csv' umwandeln.\n",
        "\n",
        "75-76: Unnotige Aggregationen werden gelöscht."
      ]
    },
    {
      "cell_type": "code",
      "execution_count": 81,
      "metadata": {
        "id": "8rufM2HwdpSP",
        "outputId": "b568fc77-cb89-4dc0-c6ed-1a35674821ec",
        "colab": {
          "base_uri": "https://localhost:8080/",
          "height": 312
        }
      },
      "outputs": [
        {
          "output_type": "display_data",
          "data": {
            "text/plain": [
              "<IPython.core.display.HTML object>"
            ],
            "text/html": [
              "\n",
              "  <style>\n",
              "    pre {\n",
              "        white-space: pre-wrap;\n",
              "    }\n",
              "  </style>\n",
              "  "
            ]
          },
          "metadata": {}
        },
        {
          "output_type": "display_data",
          "data": {
            "text/plain": [
              "<IPython.core.display.HTML object>"
            ],
            "text/html": [
              "\n",
              "  <style>\n",
              "    pre {\n",
              "        white-space: pre-wrap;\n",
              "    }\n",
              "  </style>\n",
              "  "
            ]
          },
          "metadata": {}
        },
        {
          "output_type": "stream",
          "name": "stdout",
          "text": [
            "['Trainingsdaten/300_301_302_513A_516_554_oss_ID22.txt', 'Trainingsdaten/300_301_328_513A_554_CoM_kat_ID21.txt', 'Trainingsdaten/300_301_554_UNDF_ron_ID25.txt', 'Trainingsdaten/300_301_554_kat_ID20.txt', 'Trainingsdaten/300_302_316_554_deu_ID84.txt', 'Trainingsdaten/300_303_314_850_CoM_ron_ID27.txt', 'Trainingsdaten/300_303_315_554_lit_ID16.txt', 'Trainingsdaten/300_303_554_567_deu_ID10.txt', 'Trainingsdaten/300_303_554_567_deu_ID2.txt', 'Trainingsdaten/300_303_554_567_deu_ID32.txt', 'Trainingsdaten/300_303_554_CoM_deu_ID14.txt', 'Trainingsdaten/300_303_554_CoM_deu_ID7.txt', 'Trainingsdaten/300_303_554_deu_ID24.txt', 'Trainingsdaten/300_303_CoM_deu_ID30.txt', 'Trainingsdaten/300_303_CoM_deu_ID33.txt', 'Trainingsdaten/300_303_CoM_deu_ID5.txt', 'Trainingsdaten/300_303_CoM_fra_ID35.txt', 'Trainingsdaten/300_303_CoM_ita_ID8.txt', 'Trainingsdaten/300_303_CoM_lit_ID15.txt', 'Trainingsdaten/300_303_UNDF_spa_ID40.txt', 'Trainingsdaten/300_303_deu_ID34.txt', 'Trainingsdaten/300_303_deu_ID4.txt', 'Trainingsdaten/300_303_ita_ID28.txt', 'Trainingsdaten/300_313_554_562_deu_ID13.txt', 'Trainingsdaten/300_315_UNDF_ita_ID29.txt', 'Trainingsdaten/300_315_lit_ID17.txt', 'Trainingsdaten/300_315_lit_ID18.txt', 'Trainingsdaten/300_550_554_bul_ID1.txt', 'Trainingsdaten/300_550_UNDF_deu_ID12.txt', 'Trainingsdaten/300_554_UNDF_deu_ID11.txt', 'Trainingsdaten/300_554_UNDF_deu_ID85.txt', 'Trainingsdaten/300_562_deu_ID3.txt', 'Trainingsdaten/300_562_deu_ID31.txt', 'Trainingsdaten/300_590_ron_ID26.txt', 'Trainingsdaten/300_UNDF_deu_ID6.txt', 'Trainingsdaten/300_UNDF_deu_ID75.txt', 'Trainingsdaten/300_UNDF_ita_ID9.txt', 'Trainingsdaten/300_UNDF_lit_ID19.txt', 'Trainingsdaten/301_650A_deu_ID68.txt', 'Trainingsdaten/301_650A_deu_ID69.txt', 'Trainingsdaten/301_650A_deu_ID70.txt', 'Trainingsdaten/301_650A_deu_ID73.txt', 'Trainingsdaten/301_650A_deu_ID76.txt', 'Trainingsdaten/301_deu_ID71.txt', 'Trainingsdaten/301_deu_ID72.txt', 'Trainingsdaten/301_deu_ID74.txt', 'Trainingsdaten/301_deu_ID77.txt', 'Trainingsdaten/301_deu_ID78.txt', 'Trainingsdaten/302C_317_554_deu_ID82.txt', 'Trainingsdaten/302_303A_554_deu_ID86.txt', 'Trainingsdaten/302_303A_deu_ID88.txt', 'Trainingsdaten/302_518_deu_ID87.txt', 'Trainingsdaten/302_UNDF_deu_ID89.txt', 'Trainingsdaten/303_550_CoM_deu_ID38.txt', 'Trainingsdaten/303_555_CoM_deu_ID36.txt', 'Trainingsdaten/303_CoM_aae_ID37.txt', 'Trainingsdaten/303_CoM_deu_ID42.txt', 'Trainingsdaten/303_CoM_srp_ID41.txt', 'Trainingsdaten/403_707_ron_ID61.txt', 'Trainingsdaten/554_673_deu_ID80.txt', 'Trainingsdaten/554_deu_ID79.txt', 'Trainingsdaten/554_deu_ID81.txt', 'Trainingsdaten/554_deu_ID83.txt', 'Trainingsdaten/707_aae_ID57.txt', 'Trainingsdaten/707_deu_ID58.txt', 'Trainingsdaten/707_deu_ID59.txt', 'Trainingsdaten/707_deu_ID60.txt', 'Trainingsdaten/707_deu_ID62.txt', 'Trainingsdaten/707_fra_ID63.txt', 'Trainingsdaten/707_ita_ID56.txt', 'Trainingsdaten/707_ita_ID64.txt']\n"
          ]
        }
      ],
      "source": [
        "def clean(line):\n",
        "    line = line.replace(\"\\n\",\" \").strip()\n",
        "    line = line.replace(\"ä\",\"ae\").replace(\"ü\",\"ue\").replace(\"ö\",\"oe\")\n",
        "    line = line.replace(\"ß\",\"ss\").replace(\",\",\"\").replace(\"«\",\"\")\n",
        "    line = line.replace(\"»\",\"\").replace(\".\",\"\").replace(\":\",\"\")\n",
        "    line = line.replace(\";\",\"\").replace('\"',\"\")\n",
        "    line = line.replace(\"?\",\"\").replace(\"!\",\"\").replace(\"á\",\"a\")\n",
        "    line = line.replace(\",\",\"\").replace(\"\\t\",\" \").replace(\"'\",\"\")\n",
        "    line = line.replace(\"‹\",\"\").replace(\"›\",\"\").replace(\"-\",\" \")\n",
        "    line = line.replace(\"'('\",\"\").replace(\"')'\",\"\").replace('>','')\n",
        "    line = line.replace(\"    \",\" \").replace(\"   \",\" \").replace(\"  \",\" \")\n",
        "    line = line.replace('–','').replace('—','').replace('<','')\n",
        "    line = line.replace(\"Â\", \"A\").replace(\"ø\", \"oe\").replace('“','')\n",
        "    line = line.replace('„','').replace('(','').replace(')','')\n",
        "    line = line.replace(\"‚\", \"\").replace(']','').replace('[','')\n",
        "    if line == \"\": \n",
        "        return\n",
        "    line=line.split(\"|\")\n",
        "    line[0]=line[0].split(\"|\")[0]\n",
        "    for i, _ in enumerate(line):\n",
        "        if (i !=0) and (i!=2):\n",
        "            line[i]=line[i].lower()\n",
        "    flex=[]\n",
        "    try:\n",
        "        flex=line[1].split(\"\")\n",
        "    except:\n",
        "        pass\n",
        "    value=str(line)\n",
        "    line=str(line)   \n",
        "    flex.append(line)\n",
        "    ret=[]\n",
        "    for i in flex:\n",
        "        ret.append((i,value[0]))\n",
        "    return ret\n",
        "\n",
        "def write_back(words, temp):\n",
        "    with open(temp, \"a\", encoding='utf-8') as output:      \n",
        "        for word in words:\n",
        "            as_lex = word[0]\n",
        "            full_word = '\"' + as_lex + '\"'\n",
        "            for sub_word in word[1:]:\n",
        "                full_word += \" , \"  '\"' + sub_word + '\"'\n",
        "            full_word +=\"\\n\"\n",
        "            output.write(full_word)\n",
        "\n",
        "def aggreg(temp, ordner):\n",
        "    import glob\n",
        "    # def word_to_lex(word):\n",
        "    #     ret=(word) \n",
        "    #     return ret\n",
        "    \n",
        "    \n",
        "    with open(temp, \"w\", encoding='utf-8') as output:\n",
        "        output.write (\"quelle,episode,index_string,index_binar\\n\")\n",
        "    sorted_files=sorted(glob.glob(ordner))\n",
        "    print(list(sorted_files))\n",
        "    pairs = []\n",
        "    for file in sorted_files:\n",
        "        if typNum in file and repert in file and not ausnahme in file:\n",
        "            with open(file, 'r', encoding='utf-8', errors='ignore') as episode:\n",
        "                for line in episode.readlines():\n",
        "                    clean_words = clean(line)\n",
        "                    pairs = pairs + clean_words\n",
        "    write_back(pairs, temp)\n",
        "\n",
        "temp = \"episode_temp_train.csv\"\n",
        "ordner = \"Trainingsdaten/*.txt\"\n",
        "aggreg(temp, ordner)\n",
        "fin = open('episode_temp_train.csv','r', encoding ='utf-8')\n",
        "fout = open('episode_string_train.csv', \"wt\", encoding ='utf-8')\n",
        "for kfz in fin:\n",
        "    fout.write(kfz.replace(', \"[\"',\"\").replace('\"[', \"\").replace(']\"',\"\")\n",
        "               .replace(\"', '\", \"','\").replace(\" '\", \"'\"))\n",
        "fin.close()\n",
        "fout.close()\n",
        "fin = open('episode_string_train.csv','r', encoding='utf-8') \n",
        "fout = open('episode_binar_train.csv', \"wt\", encoding='utf-8')\n",
        "for efz in fin:\n",
        "    fout.write(efz.replace(\"'\",\"\"))             \n",
        "fin.close()\n",
        "fout.close()\n",
        "entfernen('episode_temp_train.csv')\n",
        "entfernen('episode_string_train.csv')"
      ]
    },
    {
      "cell_type": "markdown",
      "metadata": {
        "id": "eoc8Wrn6dpSR"
      },
      "source": [
        "##  Herstellung des Modells und der prototypischen Metaepisode "
      ]
    },
    {
      "cell_type": "markdown",
      "metadata": {
        "id": "vdv83QFIdpSR"
      },
      "source": [
        "[Zelle # 3]\n",
        "\n",
        "1-5: Trainingdatenkorpus zugreiffen und der im Datenfeld 'index_string' eingetragene Merkmalen mitsamt der Vorkommenshäufigkeitsrate einbelden."
      ]
    },
    {
      "cell_type": "code",
      "execution_count": 59,
      "metadata": {
        "id": "_l5JQ2xRdpSS",
        "outputId": "688af314-9c26-435c-a675-a1fc040ba2c4",
        "colab": {
          "base_uri": "https://localhost:8080/",
          "height": 225
        }
      },
      "outputs": [
        {
          "output_type": "display_data",
          "data": {
            "text/plain": [
              "<IPython.core.display.HTML object>"
            ],
            "text/html": [
              "\n",
              "  <style>\n",
              "    pre {\n",
              "        white-space: pre-wrap;\n",
              "    }\n",
              "  </style>\n",
              "  "
            ]
          },
          "metadata": {}
        },
        {
          "output_type": "display_data",
          "data": {
            "text/plain": [
              "<IPython.core.display.HTML object>"
            ],
            "text/html": [
              "\n",
              "  <style>\n",
              "    pre {\n",
              "        white-space: pre-wrap;\n",
              "    }\n",
              "  </style>\n",
              "  "
            ]
          },
          "metadata": {}
        },
        {
          "output_type": "stream",
          "name": "stdout",
          "text": [
            "Counter({'e300_e_vorfeld_des_kampfes_bis_zum_sieg': 41, 'e300_c_anfangssituation_ankunft_und_erkundigung_der_not': 36, 'e300_o_auftritt_des_HD_vor_dem_AG_bis_zur_erkennung_seiner_heldentat': 34, 'e300_g_nach_dem_sieg_bis_zur_trennung_des_HD_und_des_OB': 29, 'e300_k_misshandlung_des_FH_bis_zur_hochzeit': 27, 'e303_c_eingangssituation_bis_zur_trennung': 18, 'e300_m_rueckkehr_des_HD_und_erkundung_ueber_die_hochzeit_bis_zum_wiedergewinn_der_aufmerksamkeit': 18, 'eUNDF_a_': 16, 'e303_g_erstes_treffen_mit_dem_AN': 16, 'e303_i_von_der_erkundigung_der_not_bis_zum_aufbruch_des_HF_zum_AN': 15, 'e303_k_vom_aufbruch_zum_AN_bis_zum_sieg_ueber_ihn': 15, 'e315_a_': 12, 'e554_e_leistung_des_HD_gegenueber_dem_tier_und_aussprechen_der_dankbarkeit': 12, 'eCoM_c_conceptia_magica': 11, 'e300_l_wiederbelebung_des_HD': 9, 'e300_i_rueckkehr_des_OB_und_die_suche_nach_dem_HD': 7, 'e300_q_von_der_begegnung_mit_dem_vogel_bis_zum_ende_des_fluges': 7, 'e550_a_': 7, 'e303_m_eifersucht': 5, 'e303_q_rueckkehr_und_finale': 4, 'e562_a_': 4, 'e328_a_': 4, 'e301_e_vom_beginn_der_reise_bis_zum_finden_der_raststaette_oder_eines_eingangs': 3, 'e301_k_empfang_des_OB_und_verrat_des_FH': 3, 'e301_o_von_der_rueckkehr_an_die_oberflaeche_bis_zur_loesung_der_durch_den_raub_verursachten_krise': 3, 'e316_a_': 3, 'e567_a_': 3, 'e516_a_': 3, 'e301_i_vom_betreten_des_wohnsitzes_des_AN_bis_zur_befreiehung_des_OB': 2, 'e554_g_verstoss_auf_die_herausforderungen_bis_zum_beginn_der_loesungsmassnahmen': 2, 'e554_k_der_HD_geniesst_die_gegenleistung_des_tieres': 2, 'e302_m_kampf_bis_zum_sieg': 2, 'e513a_a_': 2, 'e301_g_vom_finder_einer_nachtrast_bis_zum_betreten_der_welt_des_AN': 2, 'e303_o_erloesung_des_AN': 1, 'e302_c_verlust_des_OB_wird_artikuliert': 1, 'e314_a_': 1, 'e850_a_': 1, 'e302_k_erkundigung_ueber_den_aufenthaltsort_der_lebensenergie_des_AN': 1, 'e301_m_entkommen_aus_dem_haus_des_AN': 1, 'e590_a_': 1, 'e554_m_nach_der_erfuellung_der_letzten_aufgabe_bis_zum_ende_der_geschichte': 1})\n"
          ]
        }
      ],
      "source": [
        "import pandas as pd\n",
        "from collections import Counter\n",
        "df = pd.read_csv('episode_binar_train.csv',  encoding='utf-8')\n",
        "indexliste=Counter(df.index_string)\n",
        "print(indexliste, sep='\\n')"
      ]
    },
    {
      "cell_type": "markdown",
      "metadata": {
        "id": "LL83wViNdpST"
      },
      "source": [
        "[Zelle # 4]\n",
        "\n",
        "1: In den obeneingeblendete Merkmalen eine Episode Kopieren und hier als Wert der Variable 'gesep' einfügen. "
      ]
    },
    {
      "cell_type": "code",
      "execution_count": 60,
      "metadata": {
        "id": "2ZuspslVdpST",
        "outputId": "3b76a137-6613-4bc4-f329-63c0f23e627f",
        "colab": {
          "base_uri": "https://localhost:8080/",
          "height": 17
        }
      },
      "outputs": [
        {
          "output_type": "display_data",
          "data": {
            "text/plain": [
              "<IPython.core.display.HTML object>"
            ],
            "text/html": [
              "\n",
              "  <style>\n",
              "    pre {\n",
              "        white-space: pre-wrap;\n",
              "    }\n",
              "  </style>\n",
              "  "
            ]
          },
          "metadata": {}
        },
        {
          "output_type": "display_data",
          "data": {
            "text/plain": [
              "<IPython.core.display.HTML object>"
            ],
            "text/html": [
              "\n",
              "  <style>\n",
              "    pre {\n",
              "        white-space: pre-wrap;\n",
              "    }\n",
              "  </style>\n",
              "  "
            ]
          },
          "metadata": {}
        }
      ],
      "source": [
        "gesep = 'e300_c_anfangssituation_ankunft_und_erkundigung_der_not'"
      ]
    },
    {
      "cell_type": "markdown",
      "metadata": {
        "id": "rLU22i0tdpST"
      },
      "source": [
        "[Zelle # 5]\n",
        "\n",
        "1-6: In Trainingsdaten die gesuchte Episode ('gesep') mit Einsen (1), den Rest mit Nullen (0) etikettieren und die Änderung speichern."
      ]
    },
    {
      "cell_type": "code",
      "execution_count": 61,
      "metadata": {
        "id": "atGXZa80dpST",
        "outputId": "debc702b-c0c2-4634-b39d-4833278118ff",
        "colab": {
          "base_uri": "https://localhost:8080/",
          "height": 17
        }
      },
      "outputs": [
        {
          "output_type": "display_data",
          "data": {
            "text/plain": [
              "<IPython.core.display.HTML object>"
            ],
            "text/html": [
              "\n",
              "  <style>\n",
              "    pre {\n",
              "        white-space: pre-wrap;\n",
              "    }\n",
              "  </style>\n",
              "  "
            ]
          },
          "metadata": {}
        },
        {
          "output_type": "display_data",
          "data": {
            "text/plain": [
              "<IPython.core.display.HTML object>"
            ],
            "text/html": [
              "\n",
              "  <style>\n",
              "    pre {\n",
              "        white-space: pre-wrap;\n",
              "    }\n",
              "  </style>\n",
              "  "
            ]
          },
          "metadata": {}
        }
      ],
      "source": [
        "for i, gesuchte_episode in enumerate(df.index_string):\n",
        "    if (gesuchte_episode == gesep):\n",
        "        df.index_binar[i]='1'\n",
        "    else: \n",
        "            df.index_binar[i]='0'\n",
        "df.to_csv('episode_binar_train.csv', encoding='utf-8', index=False)"
      ]
    },
    {
      "cell_type": "markdown",
      "metadata": {
        "id": "aOWIbUfydpSU"
      },
      "source": [
        "[Zelle # 6]\n",
        "\n",
        "1-4: Im Trainingsdatenkorpus die Datenfelder für Probetexte (X_train) und für die Merkmalen (y_train) bestimmen und die Bilanz zwischen negativ (0) und positiv (1) etikettierten Datensätzen betrachten ( s. Counter)."
      ]
    },
    {
      "cell_type": "code",
      "execution_count": 62,
      "metadata": {
        "id": "Vs4iZPCrdpSU",
        "outputId": "38d910ed-74e6-48d7-f510-4146ea3390be",
        "colab": {
          "base_uri": "https://localhost:8080/",
          "height": 34
        }
      },
      "outputs": [
        {
          "output_type": "display_data",
          "data": {
            "text/plain": [
              "<IPython.core.display.HTML object>"
            ],
            "text/html": [
              "\n",
              "  <style>\n",
              "    pre {\n",
              "        white-space: pre-wrap;\n",
              "    }\n",
              "  </style>\n",
              "  "
            ]
          },
          "metadata": {}
        },
        {
          "output_type": "display_data",
          "data": {
            "text/plain": [
              "<IPython.core.display.HTML object>"
            ],
            "text/html": [
              "\n",
              "  <style>\n",
              "    pre {\n",
              "        white-space: pre-wrap;\n",
              "    }\n",
              "  </style>\n",
              "  "
            ]
          },
          "metadata": {}
        },
        {
          "output_type": "stream",
          "name": "stdout",
          "text": [
            "Counter({'0': 349, '1': 36})\n"
          ]
        }
      ],
      "source": [
        "X_train=(df['episode'])\n",
        "y_train=(df['index_binar'])\n",
        "indexliste=Counter(df.index_binar)\n",
        "print(indexliste, sep='\\n')"
      ]
    },
    {
      "cell_type": "markdown",
      "metadata": {
        "id": "HaQqo1i0dpSV"
      },
      "source": [
        "[Zelle # 7]\n",
        "\n",
        "1: Die in die eckige Klammern eingetragene Wörter werden zusätzlich in die vorhandene Stopwörter-Liste eingefügt. Einzelnes Wort muss dabei mit Anführungszeichen umgeschlossen und von andren Wörter durch das Komma getrennt werden, ein Beispiel: ['mein','dein']. \n",
        "\n",
        "2-6: Datenfeld 'episode' von konwentionelen und von uns eingegebenen Stoppwörter bereinigen. "
      ]
    },
    {
      "cell_type": "code",
      "execution_count": 63,
      "metadata": {
        "id": "7V7zfnPFdpSV",
        "outputId": "97f7a1c4-279d-4aa4-ac5c-0e979ee0636d",
        "colab": {
          "base_uri": "https://localhost:8080/",
          "height": 52
        }
      },
      "outputs": [
        {
          "output_type": "display_data",
          "data": {
            "text/plain": [
              "<IPython.core.display.HTML object>"
            ],
            "text/html": [
              "\n",
              "  <style>\n",
              "    pre {\n",
              "        white-space: pre-wrap;\n",
              "    }\n",
              "  </style>\n",
              "  "
            ]
          },
          "metadata": {}
        },
        {
          "output_type": "display_data",
          "data": {
            "text/plain": [
              "<IPython.core.display.HTML object>"
            ],
            "text/html": [
              "\n",
              "  <style>\n",
              "    pre {\n",
              "        white-space: pre-wrap;\n",
              "    }\n",
              "  </style>\n",
              "  "
            ]
          },
          "metadata": {}
        },
        {
          "output_type": "stream",
          "name": "stderr",
          "text": [
            "[nltk_data] Downloading package stopwords to /root/nltk_data...\n",
            "[nltk_data]   Package stopwords is already up-to-date!\n"
          ]
        }
      ],
      "source": [
        "custom_stop_word_list=[]\n",
        "import nltk\n",
        "nltk.download('stopwords')\n",
        "from nltk.corpus import stopwords\n",
        "NLTK_stop_words_list=stopwords.words('german')\n",
        "de = custom_stop_word_list + NLTK_stop_words_list"
      ]
    },
    {
      "cell_type": "markdown",
      "metadata": {
        "id": "FlvQrkwOdpSV"
      },
      "source": [
        "[Zelle # 8]\n",
        "\n",
        "1-8: Einrichtung einer sciki-learn Pipeline mit Klassen LogisticRegression, TfidVectorizer und GridSearchCV. \n",
        "\n",
        "9-10: Modell auswerten (s. Bester Score aus der Kreuzvalidierung:)."
      ]
    },
    {
      "cell_type": "code",
      "execution_count": 64,
      "metadata": {
        "id": "0yOkHKXXdpSW",
        "outputId": "e0cbecdd-862e-4361-9b81-1286795c6c6f",
        "colab": {
          "base_uri": "https://localhost:8080/",
          "height": 34
        }
      },
      "outputs": [
        {
          "output_type": "display_data",
          "data": {
            "text/plain": [
              "<IPython.core.display.HTML object>"
            ],
            "text/html": [
              "\n",
              "  <style>\n",
              "    pre {\n",
              "        white-space: pre-wrap;\n",
              "    }\n",
              "  </style>\n",
              "  "
            ]
          },
          "metadata": {}
        },
        {
          "output_type": "display_data",
          "data": {
            "text/plain": [
              "<IPython.core.display.HTML object>"
            ],
            "text/html": [
              "\n",
              "  <style>\n",
              "    pre {\n",
              "        white-space: pre-wrap;\n",
              "    }\n",
              "  </style>\n",
              "  "
            ]
          },
          "metadata": {}
        },
        {
          "output_type": "stream",
          "name": "stdout",
          "text": [
            "Bester Score aus der Kreuzvalidierung: 0.95\n"
          ]
        }
      ],
      "source": [
        "from sklearn.feature_extraction.text import TfidfVectorizer\n",
        "from sklearn.linear_model import LogisticRegression\n",
        "from sklearn.model_selection import GridSearchCV\n",
        "from sklearn.pipeline import make_pipeline\n",
        "pipe = make_pipeline(TfidfVectorizer(min_df=2, stop_words=de, ngram_range=(1,1), norm=None), \n",
        "                     LogisticRegression())\n",
        "param_grid = {'logisticregression__C': [0.001, 0.01, 0.1, 1, 10]}     \n",
        "grid = GridSearchCV(pipe, param_grid, cv=5)\n",
        "grid.fit(X_train, y_train)\n",
        "print(\"Bester Score aus der Kreuzvalidierung: {:.2f}\".format(grid.best_score_))"
      ]
    },
    {
      "cell_type": "markdown",
      "metadata": {
        "id": "TU8TfrnXdpSW"
      },
      "source": [
        "[Zelle # 9]\n",
        "\n",
        "1-6: Aus dem Modell die Liste der positiven und negativen Merkmalen extrachieren, Zahl der Merkmalen einblenden (s. Gesamte Anzahl der Wörter:)."
      ]
    },
    {
      "cell_type": "code",
      "execution_count": 65,
      "metadata": {
        "id": "h25DrUEFdpSW",
        "outputId": "f773c45e-46b9-4241-c42c-4fe9cdbe3e37",
        "colab": {
          "base_uri": "https://localhost:8080/",
          "height": 86
        }
      },
      "outputs": [
        {
          "output_type": "display_data",
          "data": {
            "text/plain": [
              "<IPython.core.display.HTML object>"
            ],
            "text/html": [
              "\n",
              "  <style>\n",
              "    pre {\n",
              "        white-space: pre-wrap;\n",
              "    }\n",
              "  </style>\n",
              "  "
            ]
          },
          "metadata": {}
        },
        {
          "output_type": "display_data",
          "data": {
            "text/plain": [
              "<IPython.core.display.HTML object>"
            ],
            "text/html": [
              "\n",
              "  <style>\n",
              "    pre {\n",
              "        white-space: pre-wrap;\n",
              "    }\n",
              "  </style>\n",
              "  "
            ]
          },
          "metadata": {}
        },
        {
          "output_type": "stream",
          "name": "stdout",
          "text": [
            "Gesamte Anzahl der Wörter: 3608\n"
          ]
        },
        {
          "output_type": "stream",
          "name": "stderr",
          "text": [
            "/usr/local/lib/python3.8/dist-packages/sklearn/utils/deprecation.py:87: FutureWarning: Function get_feature_names is deprecated; get_feature_names is deprecated in 1.0 and will be removed in 1.2. Please use get_feature_names_out instead.\n",
            "  warnings.warn(msg, category=FutureWarning)\n"
          ]
        }
      ],
      "source": [
        "import numpy as np\n",
        "vectorizer = grid.best_estimator_.named_steps[\"tfidfvectorizer\"]\n",
        "max_value = vectorizer.transform(X_train).max(axis=0).toarray().ravel()\n",
        "sorted_by_tfidf = max_value.argsort()\n",
        "feature_names = np.array(vectorizer.get_feature_names())\n",
        "print(\"Gesamte Anzahl der Wörter: {}\".format(len(vectorizer.vocabulary_)))"
      ]
    },
    {
      "cell_type": "markdown",
      "metadata": {
        "id": "m9Edt8U1dpSW"
      },
      "source": [
        "[Zelle # 10]\n",
        "\n",
        "1-7: Merkmalen mit höchsten Koeffizienten visualisieren (blau=positiv, rot=negativ). Variable 's_zahl' stellt fest wieviel Merkmalen von beiden Kategorien eingeblendet werden muss. "
      ]
    },
    {
      "cell_type": "code",
      "execution_count": 66,
      "metadata": {
        "id": "QCn9PJlPdpSX",
        "outputId": "405c19d2-995f-4f6c-85d2-74474b16f12d",
        "colab": {
          "base_uri": "https://localhost:8080/",
          "height": 380
        }
      },
      "outputs": [
        {
          "output_type": "display_data",
          "data": {
            "text/plain": [
              "<IPython.core.display.HTML object>"
            ],
            "text/html": [
              "\n",
              "  <style>\n",
              "    pre {\n",
              "        white-space: pre-wrap;\n",
              "    }\n",
              "  </style>\n",
              "  "
            ]
          },
          "metadata": {}
        },
        {
          "output_type": "display_data",
          "data": {
            "text/plain": [
              "<IPython.core.display.HTML object>"
            ],
            "text/html": [
              "\n",
              "  <style>\n",
              "    pre {\n",
              "        white-space: pre-wrap;\n",
              "    }\n",
              "  </style>\n",
              "  "
            ]
          },
          "metadata": {}
        },
        {
          "output_type": "error",
          "ename": "TypeError",
          "evalue": "ignored",
          "traceback": [
            "\u001b[0;31m---------------------------------------------------------------------------\u001b[0m",
            "\u001b[0;31mTypeError\u001b[0m                                 Traceback (most recent call last)",
            "\u001b[0;32m<ipython-input-66-372b16c27506>\u001b[0m in \u001b[0;36m<module>\u001b[0;34m\u001b[0m\n\u001b[1;32m      1\u001b[0m \u001b[0ms_zahl\u001b[0m \u001b[0;34m=\u001b[0m \u001b[0;36m200\u001b[0m\u001b[0;34m\u001b[0m\u001b[0;34m\u001b[0m\u001b[0m\n\u001b[1;32m      2\u001b[0m \u001b[0;32mimport\u001b[0m \u001b[0mmatplotlib\u001b[0m\u001b[0;34m.\u001b[0m\u001b[0mpyplot\u001b[0m \u001b[0;32mas\u001b[0m \u001b[0mplt\u001b[0m\u001b[0;34m\u001b[0m\u001b[0;34m\u001b[0m\u001b[0m\n\u001b[0;32m----> 3\u001b[0;31m \u001b[0;32mimport\u001b[0m \u001b[0mmglearn\u001b[0m\u001b[0;34m\u001b[0m\u001b[0;34m\u001b[0m\u001b[0m\n\u001b[0m\u001b[1;32m      4\u001b[0m mglearn.tools.visualize_coefficients(\n\u001b[1;32m      5\u001b[0m     \u001b[0mgrid\u001b[0m\u001b[0;34m.\u001b[0m\u001b[0mbest_estimator_\u001b[0m\u001b[0;34m.\u001b[0m\u001b[0mnamed_steps\u001b[0m\u001b[0;34m[\u001b[0m\u001b[0;34m\"logisticregression\"\u001b[0m\u001b[0;34m]\u001b[0m\u001b[0;34m.\u001b[0m\u001b[0mcoef_\u001b[0m\u001b[0;34m,\u001b[0m\u001b[0;34m\u001b[0m\u001b[0;34m\u001b[0m\u001b[0m\n",
            "\u001b[0;32m/usr/local/lib/python3.8/dist-packages/mglearn/__init__.py\u001b[0m in \u001b[0;36m<module>\u001b[0;34m\u001b[0m\n\u001b[0;32m----> 1\u001b[0;31m \u001b[0;32mfrom\u001b[0m \u001b[0;34m.\u001b[0m \u001b[0;32mimport\u001b[0m \u001b[0mplots\u001b[0m\u001b[0;34m\u001b[0m\u001b[0;34m\u001b[0m\u001b[0m\n\u001b[0m\u001b[1;32m      2\u001b[0m \u001b[0;32mfrom\u001b[0m \u001b[0;34m.\u001b[0m \u001b[0;32mimport\u001b[0m \u001b[0mtools\u001b[0m\u001b[0;34m\u001b[0m\u001b[0;34m\u001b[0m\u001b[0m\n\u001b[1;32m      3\u001b[0m \u001b[0;32mfrom\u001b[0m \u001b[0;34m.\u001b[0m\u001b[0mplots\u001b[0m \u001b[0;32mimport\u001b[0m \u001b[0mcm3\u001b[0m\u001b[0;34m,\u001b[0m \u001b[0mcm2\u001b[0m\u001b[0;34m\u001b[0m\u001b[0;34m\u001b[0m\u001b[0m\n\u001b[1;32m      4\u001b[0m \u001b[0;32mfrom\u001b[0m \u001b[0;34m.\u001b[0m\u001b[0mtools\u001b[0m \u001b[0;32mimport\u001b[0m \u001b[0mdiscrete_scatter\u001b[0m\u001b[0;34m\u001b[0m\u001b[0;34m\u001b[0m\u001b[0m\n\u001b[1;32m      5\u001b[0m \u001b[0;32mfrom\u001b[0m \u001b[0;34m.\u001b[0m\u001b[0mplot_helpers\u001b[0m \u001b[0;32mimport\u001b[0m \u001b[0mReBl\u001b[0m\u001b[0;34m\u001b[0m\u001b[0;34m\u001b[0m\u001b[0m\n",
            "\u001b[0;32m/usr/local/lib/python3.8/dist-packages/mglearn/plots.py\u001b[0m in \u001b[0;36m<module>\u001b[0;34m\u001b[0m\n\u001b[1;32m     12\u001b[0m \u001b[0;32mfrom\u001b[0m \u001b[0;34m.\u001b[0m\u001b[0mplot_tree_nonmonotonous\u001b[0m \u001b[0;32mimport\u001b[0m \u001b[0mplot_tree_not_monotone\u001b[0m\u001b[0;34m\u001b[0m\u001b[0;34m\u001b[0m\u001b[0m\n\u001b[1;32m     13\u001b[0m \u001b[0;32mfrom\u001b[0m \u001b[0;34m.\u001b[0m\u001b[0mplot_scaling\u001b[0m \u001b[0;32mimport\u001b[0m \u001b[0mplot_scaling\u001b[0m\u001b[0;34m\u001b[0m\u001b[0;34m\u001b[0m\u001b[0m\n\u001b[0;32m---> 14\u001b[0;31m \u001b[0;32mfrom\u001b[0m \u001b[0;34m.\u001b[0m\u001b[0mplot_pca\u001b[0m \u001b[0;32mimport\u001b[0m \u001b[0mplot_pca_illustration\u001b[0m\u001b[0;34m,\u001b[0m \u001b[0mplot_pca_whitening\u001b[0m\u001b[0;34m,\u001b[0m \u001b[0mplot_pca_faces\u001b[0m\u001b[0;34m\u001b[0m\u001b[0;34m\u001b[0m\u001b[0m\n\u001b[0m\u001b[1;32m     15\u001b[0m \u001b[0;32mfrom\u001b[0m \u001b[0;34m.\u001b[0m\u001b[0mplot_decomposition\u001b[0m \u001b[0;32mimport\u001b[0m \u001b[0mplot_decomposition\u001b[0m\u001b[0;34m\u001b[0m\u001b[0;34m\u001b[0m\u001b[0m\n\u001b[1;32m     16\u001b[0m \u001b[0;32mfrom\u001b[0m \u001b[0;34m.\u001b[0m\u001b[0mplot_nmf\u001b[0m \u001b[0;32mimport\u001b[0m \u001b[0mplot_nmf_illustration\u001b[0m\u001b[0;34m,\u001b[0m \u001b[0mplot_nmf_faces\u001b[0m\u001b[0;34m\u001b[0m\u001b[0;34m\u001b[0m\u001b[0m\n",
            "\u001b[0;32m/usr/local/lib/python3.8/dist-packages/mglearn/plot_pca.py\u001b[0m in \u001b[0;36m<module>\u001b[0;34m\u001b[0m\n\u001b[1;32m      5\u001b[0m \u001b[0;32mfrom\u001b[0m \u001b[0mjoblib\u001b[0m \u001b[0;32mimport\u001b[0m \u001b[0mMemory\u001b[0m\u001b[0;34m\u001b[0m\u001b[0;34m\u001b[0m\u001b[0m\n\u001b[1;32m      6\u001b[0m \u001b[0;34m\u001b[0m\u001b[0m\n\u001b[0;32m----> 7\u001b[0;31m \u001b[0mmemory\u001b[0m \u001b[0;34m=\u001b[0m \u001b[0mMemory\u001b[0m\u001b[0;34m(\u001b[0m\u001b[0mcachedir\u001b[0m\u001b[0;34m=\u001b[0m\u001b[0;34m\"cache\"\u001b[0m\u001b[0;34m)\u001b[0m\u001b[0;34m\u001b[0m\u001b[0;34m\u001b[0m\u001b[0m\n\u001b[0m\u001b[1;32m      8\u001b[0m \u001b[0;34m\u001b[0m\u001b[0m\n\u001b[1;32m      9\u001b[0m \u001b[0;34m\u001b[0m\u001b[0m\n",
            "\u001b[0;31mTypeError\u001b[0m: __init__() got an unexpected keyword argument 'cachedir'"
          ]
        }
      ],
      "source": [
        "s_zahl = 200\n",
        "import matplotlib.pyplot as plt\n",
        "import mglearn\n",
        "mglearn.tools.visualize_coefficients(\n",
        "    grid.best_estimator_.named_steps[\"logisticregression\"].coef_,\n",
        "    feature_names,  n_top_features=s_zahl)\n",
        "plt.grid()"
      ]
    },
    {
      "cell_type": "markdown",
      "metadata": {
        "id": "eBoFtlvJdpSX"
      },
      "source": [
        "[Zelle # 11]\n",
        "\n",
        "1-5: Anpassung zwischen minimaler und maximaler Koeffizienten für die Merkmalen. Je nach der Episode kann die Kurve der expotentielle Abnahme unterschiedlich sein, dementsprechend entscheidet man für größere oder kleinere Zahl der relevante Merkmale. Diese wird durch die Variable 'n_zahl' einegstellt (Zeile 1).\n",
        "\n",
        "6-7: Visualisierung der ausgewählten Merkmalen. "
      ]
    },
    {
      "cell_type": "code",
      "execution_count": 78,
      "metadata": {
        "scrolled": true,
        "id": "W01w0bcEdpSY",
        "outputId": "2685f155-086b-49d1-f7f7-8f4f79a624e8",
        "colab": {
          "base_uri": "https://localhost:8080/",
          "height": 208
        }
      },
      "outputs": [
        {
          "output_type": "display_data",
          "data": {
            "text/plain": [
              "<IPython.core.display.HTML object>"
            ],
            "text/html": [
              "\n",
              "  <style>\n",
              "    pre {\n",
              "        white-space: pre-wrap;\n",
              "    }\n",
              "  </style>\n",
              "  "
            ]
          },
          "metadata": {}
        },
        {
          "output_type": "display_data",
          "data": {
            "text/plain": [
              "<IPython.core.display.HTML object>"
            ],
            "text/html": [
              "\n",
              "  <style>\n",
              "    pre {\n",
              "        white-space: pre-wrap;\n",
              "    }\n",
              "  </style>\n",
              "  "
            ]
          },
          "metadata": {}
        },
        {
          "output_type": "stream",
          "name": "stdout",
          "text": [
            "Positive Merkmale:\n",
            "['nacheinander' 'koenigreichs' 'haeuschen' 'frassen' 'muessten' 'darum'\n",
            " 'ach' 'flor' 'erloesest' 'jungfrau' 'uebergeben' 'leute' 'drache'\n",
            " 'erloesen' 'naechste' 'befreien' 'fragte' 'schwarzem' 'menschen' 'grade'\n",
            " 'versprochen' 'tochter' 'warum' 'schuster' 'traurig' 'macht' 'behangen'\n",
            " 'schwarz' 'reihe' 'gelesen' 'trauer' 'stadt']\n",
            "Negative Merkmale:\n",
            "['hochzeit' 'schwert' 'geputzt' 'freude' 'kopf' 'vater' 'befreit' 'pferd'\n",
            " 'koepfe' 'baum' 'schoen' 'erloest' 'ueber' 'schlug' 'zungen' 'getoetet'\n",
            " 'schloss' 'heraus' 'gerettet' 'hund' 'neun' 'nahm' 'zurueck' 'kutscher'\n",
            " 'messer' 'kutsche' 'drauf' 'wusste' 'jaeger' 'ab' 'geht' 'tot']\n"
          ]
        }
      ],
      "source": [
        "n_zahl = 32\n",
        "gio=(grid.best_estimator_.named_steps[\"logisticregression\"].coef_[0])\n",
        "n_top=np.argsort(gio)\n",
        "text_pos=feature_names[n_top[-n_zahl:]]\n",
        "text_neg=feature_names[n_top[0:n_zahl]]\n",
        "print(\"Positive Merkmale:\\n{}\".format(text_pos))\n",
        "print (\"Negative Merkmale:\\n{}\".format(text_neg))"
      ]
    },
    {
      "cell_type": "markdown",
      "metadata": {
        "id": "dCpRk37gdpSY"
      },
      "source": [
        "[Zelle # 12]\n",
        "\n",
        "1-17: Bestimmte Merkmale in die neue txt Datei speichern(1-7) gesamte Information durch die Datenfelder strukturieren (8-12) und  nach dem Löschen der alten Datei (13) in Messdatenordner anlegen (14-17)."
      ]
    },
    {
      "cell_type": "code",
      "execution_count": 82,
      "metadata": {
        "id": "ldv5ZzNWdpSY",
        "outputId": "60651e43-e689-4e8a-aeb9-9b461da179a9",
        "colab": {
          "base_uri": "https://localhost:8080/",
          "height": 17
        }
      },
      "outputs": [
        {
          "output_type": "display_data",
          "data": {
            "text/plain": [
              "<IPython.core.display.HTML object>"
            ],
            "text/html": [
              "\n",
              "  <style>\n",
              "    pre {\n",
              "        white-space: pre-wrap;\n",
              "    }\n",
              "  </style>\n",
              "  "
            ]
          },
          "metadata": {}
        },
        {
          "output_type": "display_data",
          "data": {
            "text/plain": [
              "<IPython.core.display.HTML object>"
            ],
            "text/html": [
              "\n",
              "  <style>\n",
              "    pre {\n",
              "        white-space: pre-wrap;\n",
              "    }\n",
              "  </style>\n",
              "  "
            ]
          },
          "metadata": {}
        }
      ],
      "source": [
        "import csv \n",
        "import shutil, os\n",
        "filename = '0_'+gesep\n",
        "tit=(text_pos)\n",
        "with open (filename+'.txt', 'wt', encoding='utf-8') as f:\n",
        "    writer = csv.writer(f, delimiter=' ')\n",
        "    writer.writerow(tit)\n",
        "with open(filename+'.txt', 'r') as file:\n",
        "    file_contents = file.read().replace(\"\\n\", \"\")\n",
        "    frt_contents = filename+'|'+file_contents+'|0|0'\n",
        "with open(filename+'.txt', 'wt', encoding='utf-8') as f:\n",
        "        f.write(frt_contents)\n",
        "entfernen('Messdaten/'+filename+'.txt')\n",
        "import glob\n",
        "files = glob.glob(filename+'.txt')\n",
        "for f in files:\n",
        "    shutil.move(f, 'Messdaten/')"
      ]
    },
    {
      "cell_type": "markdown",
      "metadata": {
        "id": "4bwc1CzbdpSY"
      },
      "source": [
        "##  Herstellung des Messdatenkorpus "
      ]
    },
    {
      "cell_type": "markdown",
      "metadata": {
        "id": "10aH9diudpSZ"
      },
      "source": [
        "[Zelle # 13]\n",
        "\n",
        "1-3: Die Variable 'tupNum', 'repert' und 'ausnahme' gelten für die Auswahl der in dem Messdatenrepositorium angelegte Texte mit dem konkretem Typ und dem Herkunftsrepertoire. Sowohl die Variable 'typNum' ails auch 'repert' kann mit leeren Anführungszeichen dargestellt werden. Für die Variable 'ausnahme' ist entweder ein unwahrscheinlicher Wert (z.B. 'xxyyzz') oder der Wert womit man eine bestimmte Gruppe von Daten aus der Wahl ausschließen kann eine Pflicht.\n",
        "\n",
        "4: Der vorhandene Messdaten-Korpus löschen (falls vorhanden)\n",
        "\n",
        "5-7: In dem Messdatenordner Messdaten parsen und einen 'episode_temp_mess.csv' Korpus aggregieren.\n",
        "\n",
        "8-16: 'episode_temp_mess.csv' von den überflussigen Zeichen bereinigen und ins  Messdatenkorpus - 'episode_binar_mess.csv' umwandeln.\n",
        "\n",
        "17-21: Datenfelder deklarieren und Datensätzen zählen (s. Counter), anschließend unnotige Temp-Aggregation löschen.\n",
        "\n",
        "22-29: Messdatenkopus aus den Epsoden bestimmen und alle andere Datenfelder ignorieren"
      ]
    },
    {
      "cell_type": "code",
      "execution_count": 83,
      "metadata": {
        "id": "7mEZ8yU4dpSZ",
        "outputId": "0948e4f2-d16e-4998-c975-9958ba883bf1",
        "colab": {
          "base_uri": "https://localhost:8080/",
          "height": 69
        }
      },
      "outputs": [
        {
          "output_type": "display_data",
          "data": {
            "text/plain": [
              "<IPython.core.display.HTML object>"
            ],
            "text/html": [
              "\n",
              "  <style>\n",
              "    pre {\n",
              "        white-space: pre-wrap;\n",
              "    }\n",
              "  </style>\n",
              "  "
            ]
          },
          "metadata": {}
        },
        {
          "output_type": "display_data",
          "data": {
            "text/plain": [
              "<IPython.core.display.HTML object>"
            ],
            "text/html": [
              "\n",
              "  <style>\n",
              "    pre {\n",
              "        white-space: pre-wrap;\n",
              "    }\n",
              "  </style>\n",
              "  "
            ]
          },
          "metadata": {}
        },
        {
          "output_type": "stream",
          "name": "stdout",
          "text": [
            "['Messdaten/0_e300_c_anfangssituation_ankunft_und_erkundigung_der_not.txt', 'Messdaten/mess_deu_ID43.txt', 'Messdaten/mess_deu_ID44.txt', 'Messdaten/mess_deu_ID45.txt', 'Messdaten/mess_deu_ID47.txt', 'Messdaten/mess_deu_ID48.txt', 'Messdaten/mess_deu_ID49.txt', 'Messdaten/mess_fin_ID23.txt', 'Messdaten/mess_grc_ID46.txt']\n",
            "Counter({0: 105})\n"
          ]
        }
      ],
      "source": [
        "typNum=''\n",
        "repert=''\n",
        "ausnahme='xxyyzz'\n",
        "entfernen('episode_binar_mess.csv')\n",
        "temp = \"episode_temp_mess.csv\"\n",
        "ordner = \"Messdaten/*.txt\"\n",
        "aggreg(temp, ordner)\n",
        "from collections import Counter\n",
        "fin = open(\"episode_temp_mess.csv\",'r', encoding ='utf-8')\n",
        "fout = open('episode_binar_mess.csv', \"wt\", encoding ='utf-8')\n",
        "for efz in fin:\n",
        "    fout.write(efz.replace(', \"[\"',\"\").replace('\"[', \"\")\n",
        "               .replace(']\"',\"\").replace(\"', '\", \"','\")\n",
        "               .replace(\" '\", \"'\").replace(\"'\",\"\"))   \n",
        "fin.close()\n",
        "fout.close()\n",
        "df = pd.read_csv('episode_binar_mess.csv', encoding='utf-8')\n",
        "from collections import Counter\n",
        "indexliste=Counter(df.index_binar)\n",
        "print(indexliste)\n",
        "entfernen('episode_temp_mess.csv')\n",
        "t_corpus = []\n",
        "file = 'episode_binar_mess.csv'\n",
        "with open(file, \"r\", encoding='utf-8') as maerchen:\n",
        "    maerchen = df.episode\n",
        "    reader = csv.reader(maerchen, delimiter = \"|\") \n",
        "    for row in reader:       \n",
        "        lst = str(row)\n",
        "        t_corpus.append(lst)"
      ]
    },
    {
      "cell_type": "markdown",
      "metadata": {
        "id": "1_rEyleMdpSZ"
      },
      "source": [
        "## Vorhersage durch LOGISTICREGRESSION"
      ]
    },
    {
      "cell_type": "markdown",
      "metadata": {
        "id": "x9pODxFAdpSZ"
      },
      "source": [
        "[Zelle # 14]\n",
        "\n",
        "1-2: Vorhersage treffen.\n",
        "\n",
        "3: Der synthetische Datensätzen wird ausgeschloßen. \n",
        "\n",
        "4: Jeder positiv bewerteter Datensatz wird extra eingebledet."
      ]
    },
    {
      "cell_type": "code",
      "execution_count": 73,
      "metadata": {
        "id": "5qw65kZfdpSZ",
        "outputId": "a9ba705f-dd9b-458a-cc37-a2e824ed2e8b",
        "colab": {
          "base_uri": "https://localhost:8080/",
          "height": 17
        }
      },
      "outputs": [
        {
          "output_type": "display_data",
          "data": {
            "text/plain": [
              "<IPython.core.display.HTML object>"
            ],
            "text/html": [
              "\n",
              "  <style>\n",
              "    pre {\n",
              "        white-space: pre-wrap;\n",
              "    }\n",
              "  </style>\n",
              "  "
            ]
          },
          "metadata": {}
        },
        {
          "output_type": "display_data",
          "data": {
            "text/plain": [
              "<IPython.core.display.HTML object>"
            ],
            "text/html": [
              "\n",
              "  <style>\n",
              "    pre {\n",
              "        white-space: pre-wrap;\n",
              "    }\n",
              "  </style>\n",
              "  "
            ]
          },
          "metadata": {}
        }
      ],
      "source": [
        "# mod_pred=grid.predict(t_corpus)\n",
        "# for index in enumerate(mod_pred): \n",
        "#     if '1' in (index) and index[0]>0:            \n",
        "#         print ('Positiv bewerteter Datensatz:{}'.format(index))"
      ]
    },
    {
      "cell_type": "markdown",
      "metadata": {
        "id": "JUcSX0R6dpSa"
      },
      "source": [
        "[Zelle # 15]\n",
        "\n",
        "1-7: Alle probabilitische Vorhersagen abruffen. Durch das Manipulieren der Variable 'pos>=' in der Zeile 6 wird der minimale Score angepasst."
      ]
    },
    {
      "cell_type": "code",
      "execution_count": 74,
      "metadata": {
        "scrolled": true,
        "id": "Dn0b9Ru9dpSa",
        "outputId": "1f750662-14bb-44e1-f7fd-a31828a40cdb",
        "colab": {
          "base_uri": "https://localhost:8080/",
          "height": 17
        }
      },
      "outputs": [
        {
          "output_type": "display_data",
          "data": {
            "text/plain": [
              "<IPython.core.display.HTML object>"
            ],
            "text/html": [
              "\n",
              "  <style>\n",
              "    pre {\n",
              "        white-space: pre-wrap;\n",
              "    }\n",
              "  </style>\n",
              "  "
            ]
          },
          "metadata": {}
        },
        {
          "output_type": "display_data",
          "data": {
            "text/plain": [
              "<IPython.core.display.HTML object>"
            ],
            "text/html": [
              "\n",
              "  <style>\n",
              "    pre {\n",
              "        white-space: pre-wrap;\n",
              "    }\n",
              "  </style>\n",
              "  "
            ]
          },
          "metadata": {}
        }
      ],
      "source": [
        "# all_pred=grid.predict_proba(t_corpus) \n",
        "# sort_index=np.flip(all_pred[:,1].argsort())\n",
        "# for num_pos in sort_index:\n",
        "#     pos=all_pred[num_pos][1]\n",
        "#     for i,t_corpus_element in enumerate(t_corpus):\n",
        "#         if i==num_pos  and num_pos>0 and pos>=0.01:\n",
        "#             print(num_pos,'-', pos,'-', df.quelle[num_pos],'-', df.episode[num_pos],'\\n')"
      ]
    },
    {
      "cell_type": "markdown",
      "metadata": {
        "id": "2zySrE_3dpSa"
      },
      "source": [
        "##  Vorhersage durch die COSINE-SIMILARITY"
      ]
    },
    {
      "cell_type": "markdown",
      "metadata": {
        "id": "mBFRJxiBdpSa"
      },
      "source": [
        "[Zelle # 16]\n",
        "\n",
        "1-14: Daten im Messdatenkorpus Vektorisieren, Transformieren und die Metrik für die Vorhersagefunktion definieren."
      ]
    },
    {
      "cell_type": "code",
      "execution_count": 75,
      "metadata": {
        "id": "GEdRNWUSdpSa",
        "outputId": "09e9d556-95ed-4b79-cfbc-e1fb353a5922",
        "colab": {
          "base_uri": "https://localhost:8080/",
          "height": 17
        }
      },
      "outputs": [
        {
          "output_type": "display_data",
          "data": {
            "text/plain": [
              "<IPython.core.display.HTML object>"
            ],
            "text/html": [
              "\n",
              "  <style>\n",
              "    pre {\n",
              "        white-space: pre-wrap;\n",
              "    }\n",
              "  </style>\n",
              "  "
            ]
          },
          "metadata": {}
        },
        {
          "output_type": "display_data",
          "data": {
            "text/plain": [
              "<IPython.core.display.HTML object>"
            ],
            "text/html": [
              "\n",
              "  <style>\n",
              "    pre {\n",
              "        white-space: pre-wrap;\n",
              "    }\n",
              "  </style>\n",
              "  "
            ]
          },
          "metadata": {}
        }
      ],
      "source": [
        "from sklearn.feature_extraction.text import TfidfVectorizer\n",
        "from sklearn.feature_extraction.text import CountVectorizer\n",
        "from sklearn.metrics.pairwise import cosine_similarity\n",
        "vectorizer = TfidfVectorizer\n",
        "vectorizers = vectorizer(analyzer='word', ngram_range=(1,1), \n",
        "                         min_df = 2, stop_words = de)\n",
        "vokabular =  vectorizers.fit_transform(t_corpus)\n",
        "metrik = cosine_similarity\n",
        "def find_similar(vokabular, index, top_n =-1):   \n",
        "    metriks = metrik(vokabular[index:index+1], vokabular).flatten()\n",
        "    related_docs_indices = [i for i in metriks.argsort()[::-1] \n",
        "                            if i != index]\n",
        "    return [(index, metriks[index]) for index \n",
        "            in related_docs_indices][0:top_n]"
      ]
    },
    {
      "cell_type": "markdown",
      "metadata": {
        "id": "m28Gqrz-dpSb"
      },
      "source": [
        "[Zelle # 17]\n",
        "\n",
        "1-3: Gesuchte Episode (Zielepisode) einblenden. Die gesuchte Episode wird wird die 'n_te'-Variable bestimmt. Manuell eingepflegte Zielepisoden sollen deshalb immer in der ersten Reihen der Korpusdatensätzen stehen. Wir empfehlen deshalb, dass diese Daten mit dem Prefix '0_' benannt wird.)\n",
        "\n",
        "4: Synthetische Datei aus dem Messdatenordner entfernen."
      ]
    },
    {
      "cell_type": "code",
      "execution_count": 76,
      "metadata": {
        "scrolled": true,
        "id": "dfiB2N0OdpSb",
        "outputId": "9771f931-4099-4f23-847b-8901205a1bf6",
        "colab": {
          "base_uri": "https://localhost:8080/",
          "height": 52
        }
      },
      "outputs": [
        {
          "output_type": "display_data",
          "data": {
            "text/plain": [
              "<IPython.core.display.HTML object>"
            ],
            "text/html": [
              "\n",
              "  <style>\n",
              "    pre {\n",
              "        white-space: pre-wrap;\n",
              "    }\n",
              "  </style>\n",
              "  "
            ]
          },
          "metadata": {}
        },
        {
          "output_type": "display_data",
          "data": {
            "text/plain": [
              "<IPython.core.display.HTML object>"
            ],
            "text/html": [
              "\n",
              "  <style>\n",
              "    pre {\n",
              "        white-space: pre-wrap;\n",
              "    }\n",
              "  </style>\n",
              "  "
            ]
          },
          "metadata": {}
        },
        {
          "output_type": "stream",
          "name": "stdout",
          "text": [
            "mess_47 - ['es war einmal ein schneider klein von gestalt der auf der welt in der fremde herumwanderte wie er eines tages so dahin ging kam er in einen wald und in diesem zu einer quelle neben welcher er ein rothseidenes band fand auf dem die worte standen sieben auf einen schlag wer macht es mir nach der schneider hob es auf und band es sich um den leib']\n"
          ]
        }
      ],
      "source": [
        "n_te = 0\n",
        "synt = t_corpus[n_te]\n",
        "print(df.quelle[n_te],'-', synt)\n",
        "entfernen('Messdaten/'+'0_'+gesep+'.txt')"
      ]
    },
    {
      "cell_type": "markdown",
      "metadata": {
        "id": "cFz6XdijdpSb"
      },
      "source": [
        "[Zelle # 18]\n",
        "\n",
        "1-3: Suchen starten und die Ergebnisse einblenden."
      ]
    },
    {
      "cell_type": "code",
      "execution_count": null,
      "metadata": {
        "scrolled": true,
        "id": "5Bi_VmlmdpSb",
        "outputId": "925826e9-361a-4f98-c367-81160e05e89d"
      },
      "outputs": [
        {
          "name": "stdout",
          "output_type": "stream",
          "text": [
            "1 - 0.16326090582177466 - mess_43 - ['es war einmal ein koenigssohn der ritt mit seinen dienern auf die jagd er hatte schon den ganzen tag gejagt ohne etwas zu treffen er war im begriffe heimzukehren als eine ricke ihm aufstiess um doch wenigstens etwas nach hause zu bringen setzte er ihr nach aber immer wenn er sie nahe genug glaubte um seinen speer werfen zu koennen war sie ihm wieder entschwunden dabei verlor er seine gefaehrten ganz die denn ohne ihn heimkehrten die ricke lief endlich ueber eine bruecke der koenigssohn hinter ihr her kaum war er hinueber als die bruecke hinter ihm abbrach und vor ihm stand statt der ricke ein altes haessliches weib das ihn aufforderte zu folgen er musste ihr gehorchen er mochte wollen oder nicht sie fuehrte ihn in ein schloss mitten im walde das sie mit ihren drei toechtern bewohnte die beiden aeltesten waren so haesslich wie ihre mutter und ebenso unfreundlich gegen ihn die juengste aber huebsch und freundlich nach einiger zeit forderte die alte ihn auf 477 ihre aelteste tochter zu heiraten dagegen weigerte er sich aber und erbot sich die juengste zu nehmen das wollte jedoch die alte nicht und er wurde von ihr und den beiden aelteren schwestern scharf bewacht damit er nicht entrinne er fand aber doch gelegenheit der juengsten seine liebe zu gestehen die sie ihrerseits herzlich erwiderte beide beschlossen zu entfliehen im herbste liefen sie eines nachts davon aber am morgen setzte ihnen die mittlere schwester nach wie die juengste bemerkte dass sie verfolgt wurden verwandelte sie sich in einen rosenstock und ihren geliebten in eine rose da kehrte die schwester um und erzaehlte sie habe die fluechtlinge nicht finden koennen und zugleich dass sie mitten im walde einen rosenstock gesehen haette da wurde sie von ihrer mutter und schwester gescholten dass sie den rosenstock nicht mitgebracht hatte nun wurde die aelteste tochter nachgeschickt als sie den verfolgten auf die spur kam verwandelte ihre schwester sich in ein caroussel und ihren geliebten in den besitzer desselben der in der mitte sitzend in einem buche las da kehrte die aelteste um und berichtete dass sie nichts gefunden und was sie im walde gesehen nun eilte die alte ihnen selbst nach diesmal verwandelte sich die juengste tochter in einen see und den koenigssohn in eine ente die auf dem see schwamm vorher aber hatte sie ihn gewarnt dem ufer nicht zu nahe zu kommen die alte lockte die ente mit brot und einmal glaubte sie sie so nahe dass sie mit der hand darnach griff da verlor sie aber das gleichgewicht und fiel ins wasser und ertrank'] - 0 - 0 \n",
            "\n",
            "83 - 0.13180687454783485 - mess_46 - ['er brach auf und zog sehr weit fort unterwegs traf er eine alte frau die ihn in ihrer huette aufnahm und bewirtete als sie ihm zu essen gab bat der junge um etwas wasser und da sagte ihm die alte frau'] - 0 - 0 \n",
            "\n",
            "28 - 0.11733128313914803 - mess_47 - ['dieser aber war in die stadt getreten wo er alles in bestuerzung und trauer fand alle fenster waren mit schwarzen tuechern verhangen er erkundigte sich daher was die ursache solcher trauer waere und erfuhr dass riesen in der naehe wohnten welche die stadt immer in angst und schrecken hielten und dass sieben drachen in einer nahen hoehle hausten welchen sie jeden tag einen menschen opfern muessten  und endlich sey eine schlange nicht weit auf einem baume welche alle menschen verzehre die ungluecklicher weise in ihr bereich kaemen niemand aber waere zu finden welcher die stadt von diesen ungeheuern befreyen wollte'] - 0 - 0 \n",
            "\n",
            "65 - 0.11182290904359123 - mess_23 - ['nachdem weise weg gereinigt hatte ging kate er sagte kaetner auf weise koennte wohl hochzeitshaus beste essen bekommen haben  rede zeug meinte alte kaetner sorg nur dass frieden bleiben kannst doch soldat steckte kleinen hund taschentuch maul lief braut legte schmeichelnd fuessen die braut erkannte hund sogleich hals goldkette trug angelegt hatte sie band taschentuch beste tische war als hund kate zurueckkam setzten soldat alte kaetner essen soldat schickte kleinen hund fort krug voll getraenke holen auch bekam er aber merkte braeutigam geschichte hund kannte schickte soldaten aus gegner toeten eine ganze kompanie wurde entgegengeschickt liess schwert blinken fielen tot hin'] - 0 - 0 \n",
            "\n",
            "23 - 0.10585826374455413 - mess_47 - ['da bueckte sich auch der schneider als wolle er einen stein aufheben liess aber den vogel fliegen dieser flog so weit dass der riese gar nicht bemerken konnte wo der stein zur erde fiel'] - 0 - 0 \n",
            "\n",
            "14 - 0.10042484420783057 - mess_45 - ['nun begab es sich dass das jahr einmal ein mehr als gewoehnlich teures war und dem meister der beutel leer ward ei dachte er man muss zu leben wissen sind die kunden 44 doch so oft zu dir gekommen nun ist es an dir hoeflich zu sein und dich zu ihnen zu bemuehen gesagt getan frueh morgens zog er aus und klopfte an mancher stattlichen tuer aber wie es sich denn so trifft dass die stattlichsten herren nicht die besten zahler sind die rechnung zu bezahlen hatte niemand lust so kam der handwerksmann muede und matt des abends in seine heimat und truebselig setzte er sich vor die tuere der schenke ganz allein denn er hatte weder das herz mit den zechgaesten zu plaudern noch freute er sich sehr auf das lange gesicht seines weibes aber wie er da sass in gedanken versunken konnte er doch nicht lassen hinzuhoeren auf das gespraech das drinnen gefuehrt ward ein fremder der eben aus der hauptstadt angelangt war erzaehlte dass die schoene koenigstochter von einem boesen zauberer gefangen gesetzt sei und muesse im kerker bleiben ihr lebelang wenn nicht jemand sich faende der die drei proben loeste welche der zauberer gesetzt hatte faende sich aber einer so waere die prinzess sein und ihr ganzes herrliches schloss mit all seinen schaetzen das hoerte der meister an zuerst mit halbem ohr dann mit dem ganzen und zuletzt mit allen beiden denn er dachte mein sohn helmerich ist ein aufgeweckter kopf der wohl den ziegenbock barbieren moechte so das einer von ihm heischte was gilts er loest die proben und wird der gemahl der schoenen prinzess und herr ueber land und leute denn also hatte der koenig ihr vater verkuendigen lassen  schleunig kehrte er nach haus und vergass seine schulden und kunden ueber der neuen maer die er eilig seiner frau hinterbrachte des andern 45 morgens schon sprach er zum helmerich dass er ihn mit ross und wehr ausruesten wolle zu der fahrt und wie schnell machte der sich auf die reise als er abschied nahm versprach er seinen eltern er wolle sie samt dem dummen bruder hans gleich holen lassen in einem sechsspaennigen wagen denn er meinte schon er waere koenig übermuetig wie er dahinzog liess er seinen mutwillen aus an allem was ihm in den weg kam die voegel die auf den zweigen sassen und den herrgott lobten mit gesang wie sie es verstanden scheuchte er mit der gerte von den ästen und kein getier kam ihm in den weg daran er nicht seinen schabernack ausgelassen haetteund zum ersten begegnete er einem ameisenhaufen den liess er sein ross zertreten und die ameisen die erzuernt an sein ross und an ihn selbst krochen und pferd und mann bissen erschlug und erdrueckte er alle weiter kam er an einen klaren teich in dem schwammen zwoelf enten helmerich lockte sie ans ufer und toetete deren elf nur die zwoelfte entkam endlich traf er auch einen schoenen bienenstock da machte er es den bienen wie er es den ameisen gemacht und so war seine freude die unschuldige kreatur nicht sich zum nutzen sondern aus blosser tuecke zu plagen und zu zerstoeren'] - 0 - 0 \n",
            "\n",
            "22 - 0.0930932125032121 - mess_47 - ['auf diese weise waren sie eine bedeutende strecke gegangen da hob der riese einen stein auf und sagte zu seinem gefaehrten nun wollen wir in die wette werfen und sehen wer weiter wirft und er warf 281 und der stein flog so weit dass ihn die augen des schneiders gerade noch ersehen konnten'] - 0 - 0 \n",
            "\n",
            "17 - 0.0900529814879091 - mess_45 - ['ein jahr war verflossen seit helmerich ausgezogen die prinzess zu erloesen und noch immer war bei den eltern kein sechsspaenniger wagen angelangt ach sprach der vater waere nur der ungeschickte hans ausgezogen statt unsres besten buben da waere das unglueck doch geringer  vater sagte hans lass mich hinziehn ich wills auch probieren aber der vater wollte nicht denn was dem klugen misslingt wie fuehrte das der ungeschickte zu ende da der vater ihm ross und wehr versagte machte hans sich heimlich auf und wanderte wohl drei tage denselben weg zu fuss den der bruder an einem geritten war aber er fuerchtete sich nicht und schlief des nachts auf dem weichen moos unter den gruenen zweigen so sanft wie unter dem dach seiner eltern die voegel des waldes scheuten sich nicht vor ihm sondern sangen ihn in schlaf mit ihren besten weisen als er nun an die ameisen kam die beschaeftigt 47 waren ihren neuen bau zu vollenden stoerte er sie nicht sondern wollte ihnen helfen und die tierchen die an ihm hinaufkrochen las er ab ohne sie zu toeten wenn sie ihn auch bissen die enten lockte er auch ans ufer aber um sie mit brosamen zu fuettern den bienen warf er die frischen blumen hin die er am wege gepflueckt hatte so kam er froehlich an das koenigsschloss und pochte bescheiden am schalter gleich tat die tuere sich auf und die alte fragte nach seinem begehr wenn ich nicht zu gering bin moechte ich es auch versuchen die schoene prinzess zu erloesen sagte er versuche es mein sohn sagte die alte aber wenn du die drei proben nicht bestehst kostet es dein leben wohlan muetterlein sprach hans sage was ich tun soll jetzt gab die alte ihm die probe mit dem leinsamen hans war nicht faul sich zu buecken doch schon schlug es drei viertel und das faesschen war noch nicht halb voll da wollte er schier verzagen aber auf einmal kamen schwarze ameisen mehr als genug und in wenigen minuten lag kein koernlein mehr auf der wiese als die alte kam sagte sie das ist gut und warf die zwoelf schluessel in den teich die sollte er in einer stunde herausholen aber hans brachte keinen schluessel aus der tiefe so tief er auch tauchte er kam nicht an den grund verzweifelnd setzte er sich ans ufer da kamen die zwoelf entchen herangeschwommen jede mit 48 einem goldenen schluesselchen im schnabel die warfen sie ins feuchte gras so war auch diese probe geloest als die alte wiederkam um ihn nun in den saal zu fuehren wo die dritte und schwerste probe seiner harrte verzagend sah hans auf die drei gleichen schleiergestalten wer sollte ihm hier helfen da kam ein bienenschwarm durchs offene fenster geflogen die kreisten durch den saal und summten um den mund der drei verhuellten aber von rechts und links flogen sie schnell wieder zurueck denn die drachen rochen nach pech und schwefel wovon sie leben die gestalt in der mitte umkreisten sie alle und surrten und schwirrten leise die mittle die mittle denn da duftete ihnen der geruch ihres eigenen honigs entgegen den die koenigstochter so gern ass also da die alte wiederkam nach einer stunde sprach hans ganz getrost ich waehle die mittle und da fuhren die boesen drachen zum fenster hinaus die schoene koenigstochter aber warf ihren schleier ab und freute sich der erloesung und ihres schoenen braeutigams und hans sandte dem vater der prinzess den schnellsten boten und zu seinen eltern einen goldenen wagen mit sechs pferden bespannt und sie alle lebten herrlich und in freuden und wenn sie nicht gestorben sind leben sie heute noch'] - 0 - 0 \n",
            "\n",
            "69 - 0.08200693876412846 - mess_23 - ['dann nahm grosse hund koerper soldaten mittlere nahm kopf kleine hund strich salbe risse da lebte soldat wurde gesund'] - 0 - 0 \n",
            "\n",
            "25 - 0.0704475756407516 - mess_47 - ['wieder gingen sie einige zeit des weges da lag ein kaeslaibchen auf der strasse welches der schneider gleichfalls aufhob und in der hand behielt bald darauf hob der riese einen stein auf und drueckte ihn in seiner gewaltigen faust so fest dass wasser heraus trat der schneider bueckte sich nun auch that als naehme er einen stein von der erde auf und drueckte dann das kaeselaibchen das er in der hand trug so fest dass milch herausdrang neckisch frug er den riesen ob er es auch so koenne dieser war nun voll erstaunen ueber die kraft des zwerges wie er meynte'] - 0 - 0 \n",
            "\n",
            "92 - 0.07001399573757015 - mess_46 - ['dann kehrte er in die huette der alten frau zurueck sie kuesste ihn dankte ihm und schlug ihm vor mit ihr weiter zusammen zu wohnen die koenigstochter aber verliebte sich in ihn und wollte ihn zu ihrem mann haben er war einverstanden sie heirateten und lebten gluecklich miteinander'] - 0 - 0 \n",
            "\n",
            "16 - 0.06876532329196926 - mess_45 - ['am andern morgen um neun uhr als helmerich wieder 46 erschien stand das muetterchen schon seiner gewaertig mit einem faesschen voll leinsamen den sie ausstreute auf eine schoene wiese lies die koerner zusammen sprach sie zu dem reiter in einer stunde komme ich wieder da muss die arbeit getan sein  helmerich aber dachte das sei ein alberner spass und lohne es nicht sich darum zu buecken er ging derweil spazieren und als die alte wiederkam war das faesschen so leer wie vorher das ist nicht gut sagte sie darauf nahm sie zwoelf goldene schluesselchen aus der tasche und warf sie einzeln in den tiefen dunklen schlossteich hole die schluessel herauf sprach sie in einer stunde komme ich wieder da muss die arbeit getan sein helmerich lachte und tat wie vorher  als die alte wiederkam und auch diese aufgabe nicht geloest war da rief sie zweimal nicht gut nicht gut doch nahm sie ihn bei der hand und fuehrte ihn die treppe hinauf in den grossen saal des schlosses da sassen drei frauenbilder alle drei in dichte schleier verhuellt waehle mein sohn sprach die alte aber sieh dich vor dass du recht waehlst in einer stunde komme ich wieder helmerich war nicht klueger da sie wiederkam als da sie wegging uebermuetig aber rief er aufs geratewohle die zur rechten waehl ich  da warfen alle drei die schleier zurueck in der mitte sass die holdselige prinzess rechts und links zwei scheussliche drachen und der zur rechten packte den helmerich in seine krallen und warf ihn durch das fenster in den tiefen abgrund'] - 0 - 0 \n",
            "\n",
            "85 - 0.06578713466689261 - mess_46 - ['als der junge mann das hoerte fragte er wo denn die lamia waere'] - 0 - 0 \n",
            "\n",
            "26 - 0.06538507642731066 - mess_47 - ['so kamen sie in die hoehle und der riese erzaehlte seinen genossen was der erdwurm bisher alles gethan habe sie hiessen ihn daher willkommen und behielten ihn bey sich ohne ihm etwas leides zu thun sie gingen oft auf raub aus manchmal nahmen sie ihn auf ihre streifereyen mit meistens aber musste er zurueckbleiben wo sie ihn dann einsperrten alle abende aber mit dem schlage sechs uhr verfielen sie in schlaf aus 282 welchem sie nicht zu wecken waren bis sie nicht volle zwoelf stunden geschlafen hatten so hatte er zwar zu leben aber auch viele langweile als daher einmal die riesen wieder ausgezogen waren besah er sich die hoehle recht genau ob denn kein entkommen moeglich waere da entdeckte er eine thuere welche in einen langen dunklen gang fuehrte er ging hinein und mehrere stunden in grosser finsterniss fort bis endlich helle ihn umfloss und er sich wieder oben auf freyer erde sah'] - 0 - 0 \n",
            "\n",
            "54 - 0.06375478830474177 - mess_23 - ['ein koenig drei soehne die beschimpften alten bettler frueheren soldaten verzauberte hunde sagte ihr sollt lange hunde bleiben soldaten koenig macht die jungen wurden stelle hunden grossen hund mittleren hund kleinen hund streiften lande umher da kam soldat krieg zurueck ging wald er kam schloss teufels niemand hause dort grosser viehhof schrecklich grossen ochsen er stahl ochsen ging fort da begegnete vogelsteller drei hunde sich der jaeger fragte ihn ochsen drei hunde vertauschen wolle er vertauschte ochsen dachte dass ja teufelsschloss ochsen bekommen koenne'] - 0 - 0 \n",
            "\n",
            "40 - 0.058329815977586526 - mess_47 - ['er zog also getrost aus da sein pferd aber sehr matt ging so blieb er haeufig zurueck und so auch in dem augenblicke wo die feinde lauter heiden an der seite herankamen eben strauchelte das pferd und riss im fallen ein kreuz um welches an dem wege stand das kreuz aber fiel auf den schneider welcher es fasste und weil es nicht schwer war in der hand behielt so ging es gegen den feind dieser aber wurde kaum des kreuzes ansichtig welches der schneider an der spitze des heeres trug als sie in wilder flucht umkehrten und dem schneider den vollstaendigsten sieg ueberliessen sie hatten naemlich vermeynt dass der gott der christen mit diesen streite und gegen einen gott koennten menschen nicht kaempfen'] - 0 - 0 \n",
            "\n",
            "15 - 0.05562059448361776 - mess_45 - ['als helmerich nun bei sinkender sonne das praechtige schloss erreicht hatte darin die prinzessin verzaubert war klopfte er gewaltig an die geschlossene pforte alles war still immer heftiger pochte der reiter endlich tat sich ein schiebefenster auf und hervor sah ein altes muetterlein mit spinnewebfarbigem gesichte die fragte verdriesslich was er begehre die prinzess will ich erloesen rief helmerich geschwind macht mir auf eile mit weile mein sohn sprach die alte morgen ist auch ein tag um neun uhr werde ich dich hier erwarten damit schloss sie den schalter'] - 0 - 0 \n",
            "\n",
            "62 - 0.05447875891667338 - mess_23 - ['er ging meeresstrand dort koenigstochter drachen verschlungen sollte der soldat versprach retten das maedchen bat ihn fortzugehen ging nicht er stellte zuerst kleinen hund wache auf geriet grosse not drachen zurueckhalten konnte dann schickte mittleren hund hin konnte nicht da schickte dritten hund hin hielt zurueck der soldat sagte die koepfe drachen duerft zerreissen sollt drachen toeten sie toeteten drachen liessen koepfe ganz da nahm soldat kopfe zunge heraus legte buendel zusammen steckte tasche'] - 0 - 0 \n",
            "\n",
            "79 - 0.05103406731229504 - mess_46 - [' jetzt gehoere ich dir du kannst mich essen aber bevor du mich isst werde ich dir einen ratschlag geben den du in deinem eigenen interesse befolgen solltest iss ein stueckchen und gib deiner frau auch eines zu essen dann wird sie zwillinge gebaeren danach nimm meine graeten und vergrab sie vor deinem haus dann werden zwei zypressen daraus spriessen dann nimm ein paar von ihren blaettern und fuettere alle tiere die du hast und sie werden auch zwillinge gebaeren'] - 0 - 0 \n",
            "\n",
            "50 - 0.05055504247675825 - mess_49 - ['als sie in die wirtsstube kamen sassen schon verschiedene leute drin und als die wirtin kam waere hans bald omicht ohnmaechtig geworden so toll sah sie aus das ist eine hexe dachte hans bei sich sein herr tat aber sehr gemeinschaeftlich mit der wirtin die kennen einander gut dachte sich hans no bas kann mir dro gelich nun was kann mir dran liegen er ass und trank was heilges zeug heisst denn so gut hatte er in seinem leben noch nie gegessen und getrunken bald darauf musste er sich niederlegen was ihm ganz recht war in einem so schoenen und weichen bett hatte hans auch in seinem leben nie geschlafen er war also recht zufrieden und dachte es ist doch schoener als bei dir daheim frueh beizeit kam sein herr und weckte ihn auf allo hans raus sprach er jetzt gehts weiter hans riebelte sich die augen aus stand auf und tat zog sich an und als sie gefruehstueckt hatten ging es weiter lange liefen sie im wald fort und hans kannte sie gar nicht mehr aus endlich kamen sie an ein haeuslein so jetzt sind wir daheim das ist mein haus sprach der herr zu hans dann schloss er die tuer auf und ging mit hans ins haeuslein hinein bei mir hast du es gut sprach der herr zu hans essen und trinken darfst du was dir schmeckt und die arbeit ist auch nicht schwer du musst die katz fuettern aber lasse sie ja keinen hunger leiden holz musst du im wald suchen und es klein machen und wenn ich fort bin musst du dir halt selber kochen wenn ich daheim bin koche ich dazu musst 15 du mir bloss holz und wasser beitragen die erdaepfel schaelen und feuer anmachen hans tat alles was ihm sein herr hiess und der herr war zufrieden mit hans eines tages sprach der herr zu hans hoere hans ich gehe fort und du musst allein daheim bleiben schliesse abends immer gut zu und lass keinen menschen ins haus kochen kannst du dir was du willst zeug ist da dazu hans versprach alles richtig zu tun dann ging der herr fort ich werde lange ausbleiben sagte er noch zu hans die erste zeit krabbelte hans so im haus herum aber allmaehlich wurde ihm doch die zeit lang als er nun wieder einmal so alles im hause herumstuerte fand er in einem laedle truehlein buecher gott sei dank sagte hans jetzt hab ich doch aebbes zum lesen hans fing an in den buechern zu lesen aber da ging es ihm nicht zum besten vieles verstand er nicht und dann waren so viel haken und schnoerkel drinnen welche er auch nicht kannte dem hans ging ein licht auf sein herr war ein hexenmeister ein zauberer sobald nun hans allemal seine arbeit getan hatte setzte er sich ueber die buecher simulierte und gruebelte drin rum ueber dem gruebeln verging dem hans die zeit und er wurde es so gar nicht weiss dass er allein war nach einem halben jahre konnte hans die ganzen buecher auswendig und konnte auch das hexen perfekt eines tages ging er ein stueck in den wald hinein um holz zu lesen und als er wieder heimkehrte wunderte er sich dass die tuer auf war er wusste doch dass er zugeschlossen hatte als er in die stube kam stand sein herr darin hatte ein buch in der hand und bitzelte vor zorn du schlingel sprach er du hast in meinen buechern gelesen ich habe es daran gesehen wahrscheinlich hast du auch das hexen gelernt hans spannte dass die geschichte dreckig werden koennte und schlitzte aus er dachte das ausreissen hat kein dummer erdacht aber hier nuetzte es nichts denn hans war noch nicht vor die tuer gekommen so war der hexenmeister hinter ihm hans besann sich nicht lange machte sich zu einem adler und flog auf und davon der hexenmeister ging in die stube holte ein gewehr und schoss auf hans aber hans hatte sich kugelsicher gemacht die kugel tat ihm nichts und er flog ruhig weiter der hexenmeister sprach der kanns besse bi wie ich den muss ich mit list dro krieg gewalt hilft da nichts'] - 0 - 0 \n",
            "\n",
            "38 - 0.04923638924295579 - mess_47 - ['er ertheilte noch am naemlichen tage dem eidam den befehl das heer gegen den feind zu fuehren liess ihm aber doch seiner tochter zu gefallen die schlechteste ruestung und das schlechteste pferd geben zugleich befahl er ihm stets an der spitze des heeres zu bleiben'] - 0 - 0 \n",
            "\n",
            "100 - 0.04478672777908662 - mess_46 - ['von dort begab sich der zwillingsbruder zum palast des koenigs als ihn die frau seines bruders sah hielt sie ihn fuer ihren mann am morgen ging er hinaus und tat so als wuerde er auf jagd gehen zufaellig schlug er denselben weg ein der zur burg fuehrte als er nach seinem bruder suchte stand er mit einem mal vor der grossen burg in der die lamia wohnte'] - 0 - 0 \n",
            "\n",
            "4 - 0.044323477773356296 - mess_44 - ['479 nun wohnte in einem lande ein schoener prinz der hatte von der schoenheit des maedchens vernommen sie nahm die ruthe in die hand die kleider auf die schulter und wuenschte sich in die naehe von dem schloss des prinzen alsbald war sie in dem schlossgarten da wuenschte sie sich einen schrank in einer eiche des gartens that ihre kleider hinein zog den kraehenpelz an und ging in die schlosskueche wo sie sich fuer einen armen knaben ausgab der dienst suche dich kann ich gebrauchen sagte der koch du sollst aschenpuester werden nach ein paar tagen kam der prinz in die kueche und brachte ein erlegtes wild hin sie sah ihn und er gefiel ihr ueber die massen'] - 0 - 0 \n",
            "\n",
            "70 - 0.041179583970492595 - mess_23 - ['unterdessen koenigstochter tode verurteilt worden gatten getoetet hatte sie eben richtstaette gefuehrt worden pferd mehr hause alter schimmel der soldat nahm schimmel fuhr hin weib retten schon henker beil erhoben brachen gericht ab koenigstochter blieb leben'] - 0 - 0 \n",
            "\n",
            "49 - 0.03959224563156083 - mess_49 - ['es war einmal ein vater der hatte drei soehne joerg michel und hans der joerg und michel waren tuechtige fleissige und vigilante 14 flinke ruehrige kerl aber mit dem hans hatte der vater sein kreuz und quaestion zu allen arbeiten stellte er sich ungeschickt und es war gar nichts rechtes mit ihm anzufangen den ganzen tag strabanzte er herum gaukelte alleweil mit hunden und katzen denen er allerlei kunststuecke lernte oder er guckte den himmel an wobei er sich gern auf den buckel legte deswegen wurde er auch nur der himmelsgucker geheissen der vater waere froh gewesen wenn er den hans vom brote gehabt haette aber kein mensch wollte ihn in den dienst nehmen eines tages musste hans in den wald hinaus um holz zu lesen da kam ein mann zu ihm und fragte ihn nach seinem aus und an verhaeltnissen hans erzaehlte treuherzig wie es mit ihm stehe dass man ihn nur den dummen hans und den himmelsgucker heisse einen solchen kerl kann ich brauchen sagte der mann zu sich den ding ich mir der mann ging mit hans heim und sprach mit seinem vater der alte war froh den hans los zu werden und so war er bald mit dem fremden mann ueberein gekommen und handeleins hans musste nun seinen buendel zusammenpacken und dahin ging er mit dem fremden mann es tat ihm gar nicht leid da er daheim nur gezankt worden war und auch oft hiebe kriegt hatte lange waren hans und der fremde mann gegangen und hans war schon ganz kaput da kamen sie an einen wald hier wollte sich hans niedersetzen gehts nicht noch e bissle sagte sein herr zu hans wir kommen bald zu einem wirtshause dort essen und trinken wir und bleiben auch uebernacht hans schleppte sich fort und war herzlich froh als sie an das wirtshaus kamen'] - 0 - 0 \n",
            "\n",
            "55 - 0.039165084144135116 - mess_23 - ['er ging schloss zurueck teufel schon hause im schlosse teufel richtiges altes luder forderte hereinzukommen sie nahmen freundlich auf luden essen ein essen durfte ausruhen aber unterdessen versteckten boesewichte hunde keller die kleinen teufel hofe beschaeftigt galgen fuer bauen'] - 0 - 0 \n",
            "\n",
            "18 - 0.035076222997393006 - mess_47 - ['es war einmal ein schneider klein von gestalt der auf der welt in der fremde herumwanderte wie er eines tages so dahin ging kam er in einen wald und in diesem zu einer quelle neben welcher er ein rothseidenes band fand auf dem die worte standen sieben auf einen schlag wer macht es mir nach der schneider hob es auf und band es sich um den leib'] - 0 - 0 \n",
            "\n",
            "98 - 0.03042307292474276 - mess_46 - ['er legte sein schwert ab trat ein und kaempfte lange zeit erbittert mit der lamia er schaffte es aber nicht sie zu besiegen so wurde auch er einer ihrer gefangenen in dem augenblick in dem der junge mann gefangen genommen wurde fiel zu hause das zeichen von der ablage als das seine mutter sah begann sie zu weinen und alle glaubten dass er verloren gegangen waere'] - 0 - 0 \n",
            "\n",
            "30 - 0.029934702051743468 - mess_47 - ['da meynte der schneider er waere nicht abgeneigt das wagestueck zu unternehmen man moege ihn nur zum koenige fuehren so wurde er denn zum koenige gefuehrt und dieser versprach ihm aufs neue seine tochter und sein reich als lohn wenn ihm die that gelingen wuerde'] - 0 - 0 \n",
            "\n",
            "43 - 0.028462175355950792 - mess_48 - ['drei desertierte soldaten gingen in eine wildnis hinein in dieser wildnis stand ein schloss die fallbruecke war aber aufgezogen als sie so beim schlosse stehen blieben und es betrachteten gab sich die fallbruecke herunter sie gingen darueber und in das schloss hinein und gelangten in die stube hunger und durst hatten sie auch darum zogen sie den tischkasten auf es lag aber nur ein kartenspiel darinnen und darauf stand geschrieben nikloes da sagten sie zu einander fuer unsern hunger und durst wollen wir einmal karten als sie anfingen zu karten kam so ein altes maennlein hinein und frug was ihr begehren sei sie antworteten ihm sie haetten hunger und durst und weil sonst nichts da sei so wollten sie karten da sagte das maennlein essen koenne er ihnen keines geben aber geld koennten sie haben so viel sie wollten er fuehrte sie darauf in die silbergrube sie steckten ein soviel sie konnten dann fuehrte er sie in die goldgrube da warfen sie das silber weg und steckten dafuer gold ein zuletzt fuehrte er sie zu den edelsteinen nun warfen sie das gold weg und packten edelsteine ein als sie fertig waren sprach das alte maennlein jetzt habt ihr soviel als eine ganze stadt waehrschaft hat kommt aber nicht mehr'] - 0 - 0 \n",
            "\n",
            "66 - 0.02335908699000014 - mess_23 - ['darauf schrieb koenig brief dass kate kommen moege liess brief hund hinbringen da koenigstochter mitgehen aber koenig sagte was willst dort gewiss ende sein aber maedchen sprang hinten wagen fuhren hin da erzaehlte koenigstochter vater dass soldat gerettet habe wie moeglich sein meinte koenig wo drachenkoepfe hat  die mag haben einzigen zunge sie gingen hin nachzusehen nahmen soldaten mit in einzigen kopf zunge der soldat zog freudig zungenbuendel tasche sagte hier zungen da haengten betrueger feierten neuem hochzeit soldaten'] - 0 - 0 \n",
            "\n",
            "71 - 0.023001909039516023 - mess_23 - ['danach fragte soldat hunde was gutes dafuer tun dass leben gerettet habt sie antworteten nichts weiter dass kopf abschlaegst  einen lohn gebe nicht meinte soldat da sagten hunde wenn tust reissen kopf ab da schlug erst kleinen hund kopf ab wurde kleiner knabe dann schlug schon bereitwilliger beiden koepfe ab auf weise wurden hunden menschen'] - 0 - 0 \n",
            "\n",
            "51 - 0.022849042010824286 - mess_49 - ['als hans ueber den wald hinaus geflogen war guckte er sich um und als er nichts verdaechtiges mehr sah flog er auf die erde und machte sich wieder zu einem menschen als er so dahinging war ihm doch nicht recht wohl denn er dachte sich dass ihn der hexenmeister auf schritt und tritt verfolgen werde auf einmal sah er ueber sich einen geier fliegen und hans erkannte seinen herrn hans machte sich zu einem gaul und fing an und jackte galoppierte was er konnte waehrend er so dahinjackte sah er einen bauern gehen auf diesen hielt er zu und da der bauer dachte es sei ein durchgegangener gaul so fing er ihn was sich hans ruhig gefallen liess als der bauer so mit hans dahin ging kam ein nobler herr zu ihnen der wollte den gaul kaufen dem 16 hans wurde angst und bang er kannte den nobeln herrn es war der hexenmeister hans sagte leis zum bauern verkaufe mich nicht darueber waere der bauer bald omich worn ein gaul der reden konnte war ihm was neues der bauer verkaufte den gaul nun erst recht nicht denn einen gaul der reden konnte hatte nicht jeder mensch er fuehrte also den hans heim in seinen stall im stalle litt es hans nicht lange er machte sich zu einer fliege und flog durch einen fensterritz davon wie er so dahin flog sah er unter sich den hexenmeister gehen aber auch dieser hatte den hans bald bemerkt er machte sich zu einer schwalbe und flog dem hans nach bald haette er den hans erschnappt aber hans machte sich zu einem fingerle fingerringlein und fiel vor einem maedchen nieder das gerade daher ging das maedchen sah das fingerle hob es auf und steckte es an seinen finger wohin es recht schoen passte alle tage kam nun ein mann der dem maedchen das ringlein abkaufen wollte doch das maedchen gab es nicht her eines tages als der mann wieder lange umsonst gehandelt hatte wollte er dem maedchen das ringlein mit gewalt nehmen da fiel das ringlein auf den boden und wurde zu lauter hirsekoernern der fremde mann es war der hexenmeister machte sich zu einem goehger hahn und frass die hirsekoerner auf dann flog er davon die sache hatte aber doch einen haken gehabt der hexenmeister glaubte er haette den hans vertilgt aber der hans lebte noch ein hirsekoernlein welches der hans selbst war hatte der hexenmeister uebersehen dies hirsekoernlein war in des maedchens pantoffel gefallen und dort hatte es der hexenmeister nicht gesehen hans verwandelte sich wieder in seine richtige gestalt und freite um das maedchen das ihn schon als ring an der hand getragen hatte das maedchen fand gefallen an hans und wurde seine frau'] - 0 - 0 \n",
            "\n",
            "47 - 0.018040612555775395 - mess_48 - ['am zweiten tag ging der soldat wieder in das wirtshaus die wirtin machte es ihm gerade so wie das erstemal und gab ihm schlaftrunk er setzte sich darauf an die strasse und schlief wieder ein um 11 uhr kam die koenigstochter gefahren die chaise war mit vier fuchsen bespannt und rot behangen der soldat sah und hoerte aber nichts am dritten abend dachte er heute nacht komme ich doch mit er nahm den knecht mit hinaus dass dieser ihn wecke wenn er wieder schlafe die wirtin hatte ihn nocheinmal betrogen als die prinzessin angefahren kam hingen vier schimmeln an der chaise und diese war weiss behangen er aber sass dort und schlief sie stieg aus wollte ihn wach bringen ebenso der knecht doch sie konnten ihn nicht aufwecken als die prinzessin von der kirche zurueckkam stieg sie wieder aus und gab sich nocheinmal die muehe ihn aufzuwecken doch alles war vergeblich sie zog nun seinen saebel aus der scheide und schrieb mit goldenen buchstaben darauf hier hast du meinen goldenen ring zum andenken dann fuhr sie fort frueh morgens rief der soldat den knecht und fragte wo sein goldener ring sei der knecht musste den goldenen 9 ring hergeben worauf der soldat ihm den kopf abhieb dann rief er der wirtin sagte zu ihr sie sei eine hexe und habe gemacht dass er nicht mit der koenigstochter in die kirche gekommen sei der soldat nahm jetzt seinen saebel wieder und hieb der wirtin auch den kopf ab dann rief er die magd zu dieser sagte er sie solle das anwesen haben darauf machte er sich auf und ging fort'] - 0 - 0 \n",
            "\n",
            "61 - 0.015343175278233373 - mess_23 - ['sie nahmen mann hand fuehrten galgen der grosse teufel guckte bloss treppe zu da fragte soldat darf drei seufzer tun sitte ist das wollten kleinen teufel erlauben grosse teufel gab zu da blies soldat erstenmal floete oeffnete tuer kleinen hundes dieser lief tuer mittleren hundes sagte o weh o weh herr grosser not der hund antwortete was dabei tun eingeschlossen der soldat blies zweitenmal oeffnete tuer als beiden hunde tuer grossen hundes kamen blies soldat drittenmal da liefen hunde davon bissen teufel tot der soldat nahm kleid grossen teufels mit flinte schwert vergass salbenflasche dann ging weg ochsen lag mehr'] - 0 - 0 \n",
            "\n",
            "44 - 0.006441134801097249 - mess_48 - ['die soldaten gingen nun wieder gegen ihre heimat zu und hielten alle tage ball es ging aber ihr geld doch zu ende da hielten sie rat und beschlossen wieder zum schlosse zu gehen und fuehrten den entschluss auch richtig aus als sie hinkamen war die fallbruecke wieder hinaufgezogen nachdem sie ein wenig dagestanden waren ging der verschlag die fallbruecke herunter sie gingen hinein zogen den tischkasten auf und taten die karten heraus als sie diese heraus getan hatten kam das alte maennlein wieder und sagte hab ich es euch nicht gesagt dass ihr nimmer kommen sollt jetzt muss einer da bleiben die drei soldaten losten untereinander und der den das los traf blieb da die anderen steckten soviel edelsteine ein als sie konnten und gingen auf die heimat zu zu dem der dableiben musste sagte das maennlein jetzt muesse er jahr und tag am falltor schildwache stehen die zeit vergehe ihm aber schnell sobald es ihn hungere sei sie herum das war richtig so als ihm der hunger kam war die zeit herum und er ging ins schloss zurueck das maennlein wies ihm ein zimmer an und sagte in dem zimmer muesste er drei naechte liegen dabei sah der soldat unter der bodenstiege drei schwaene sitzen das maennlein sagte noch in der ersten nacht die er in dem zimmer zubringe kaemen maenner die fragen wuerden wie viel schlaege er haben wolle und da solle er sagen einen schlag sie wuerden ihm wohl mehr anbieten er aber solle nicht mehr sagen als einen schlag nachts um 11 uhr kamen sie auch und frugen wie viele schlaege er haben wolle da sagte er einen schlag sie sprachen er muesste mehr annehmen er aber blieb dabei nicht mehr als einen schlag nehmen zu wollen um 12 uhr verliessen ihn die maenner als er frueh herunterkam waren die schwaene schwane unter der bodenstiege schon etwas schoener vor der zweiten nacht sagte das maennlein heute antwortest du zwei schlaege um 11 uhr nachts kamen sie wieder und fragten wie viele schlaege er haben wolle er antwortete zwei schlaege sie boten ihm zwar mehr an er aber blieb auf seiner aussage stehen um 12 uhr gingen sie wieder fort frueh als er herabkam waren die drei schwaene wieder schoener jetzt sagte das maennlein zu ihm heut ist die letzte nacht heute sagst du drei schlaege aber nur fest darauf geblieben sie werden dann messer heraus tuen und sie wetzen als wenn sie dich umbringen wollten um 11 uhr kamen sie wieder miteinander und fragten wieviel schlaege er wolle er sprach drei schlaege sie aber sagten er muesse mehr haben sie taten ihre messer heraus und machten sie scharf aber um 12 uhr nachts gingen sie fort frueh als er erwachte war das zimmer an den waenden golden er blieb noch etwas liegen und betrachtete das veraenderte zimmer'] - 0 - 0 \n",
            "\n",
            "32 - 0.0 - mess_47 - ['des anderen tages liess der schneider ein grosses fass machen aussen voll eiserner spitzen nahm sein schwert und kroch in das fass dieses fass liess er dann unter den baum bringen welcher der schlange als wohnung diente wie die schlange den geruch von menschenfleisch in die nase bekam stuerzte sie vom 284 baume herab und zu dem fasse hin in welchem der schneider ein loch gelassen hatte die schlange bog eben ihren rachen ueber diese oeffnung da nahm der schneider die gelegenheit wahr und stiess ihr das schwert bis in den hals hinein dass sie sich in schmerz und wuth um das fass in vielen ringen herumwand sich aber an jedem eisernen zacken spiesste und bald tod war da stieg der held aus dem fasse schlug der schlange den kopf ab und brachte ihn dem koenige als siegeszeichen welcher heute eine viel groessere freude hatte als gestern'] - 0 - 0 \n",
            "\n",
            "35 - 0.0 - mess_47 - ['der koenig aber troestete sie und sagte er wolle ihn zum feldherrn machen und gegen die feinde schicken und ihn an die aeusserste spitze stellen damit er gleich im anfange zu grunde gehe sein wort aber das er ihm gegeben und wodurch er sein eidam geworden koenne er nicht zuruecknehmen mithin auch die ehe nicht loesen'] - 0 - 0 \n",
            "\n",
            "37 - 0.0 - mess_47 - ['da wurde die koenigstochter noch trauriger und ging 286 am morgen wieder zum koenige und meldete ihm was ihr gatte heute nacht getraeumt habe worueber aber ihr das herz brechen wollte das erfuellte das herz des koenigs mit freude'] - 0 - 0 \n",
            "\n",
            "39 - 0.0 - mess_47 - ['der schneider aber machte sich nicht viel daraus sondern band sein rothes band um den leib und wie er es betrachtete las er die worte du wirst sieger seyn'] - 0 - 0 \n",
            "\n",
            "2 - 0.0 - mess_43 - ['die beiden liebenden setzten nun ihren weg fort und kamen auch gluecklich in die heimat des koenigssohns vor dem thore verabredeten sie die braut solle noch draussen bleiben waehrend er hineingehe er traf nur seine mutter noch am leben sein vater war gestorben grosser jubel empfing ihn bei seiner rueckkehr und grosse feste wurden veranstaltet so dass er seine braut ganz vergass und ihm zuletzt sein ganzes erlebniss im walde wie ein traum erschien die braut wartete draussen bis an den verabredeten tag als er da nicht kam verkleidete sie sich und ging ins schloss wo sie sich als kammerzofe verdingte und durch ihre geschicklichkeit und bescheidenheit sich bald die gunst der koenigin erwarb es gelang ihr aber nicht ihren geliebten zu gesicht zu bekommen da wuenschte 478 sie sich eines tages ein prachtvolles kleid auf dem der ganze sternenhimmel zu sehen war und weil sie eine zauberin war bekam sie es auch das zeigte sie der koenigin und diese ganz entzueckt darueber wollte es ihr abkaufen das maedchen aber wollte es fuer geld nicht hergeben sondern es ihr schenken unter der bedingung dass sie eine nacht im schlafgemache des koenigs zubringen duerfe das gewaehrte die koenigin sie gab aber ihrem sohne vorher einen schlaftrunk damit er von der gegenwart der zofe nichts bemerke das maedchen suchte ihn durch weinen und wimmern zuletzt durch schuetteln und ruetteln zu erwecken es gelang ihr aber nicht sondern er schlief bis zum vollen tage wo sie das zimmer wieder verlassen musste da wuenschte sie sich ein prachtvolles tuch mit gold und perlen besetzt dass es wie die sonne leuchtete das zeigte sie wieder der koenigin und schenkte es ihr unter der gleichen bedingung diesmal aber nahm der koenig den schlaftrunk nicht weil ihm einer seiner diener verrathen was die koenigin das vorige mal gethan hatte wie nun das maedchen wieder in seinem zimmer weinte und wimmerte erwachte er und erkannte sie wieder und nun erkannte er auch dass was er im walde erlebt kein traum gewesen war erinnerte sich seines versprechens und nahm am andern tage das maedchen zu seiner frau und beide lebten gluecklich mit einander'] - 0 - 0 \n",
            "\n",
            "34 - 0.0 - mess_47 - ['da nun der schneider beylager mit der koenigstochter hielt und eingeschlafen war traeumte ihm von seinem handwerk von nadel scheere buegeleisen und da er laut traeumte hoerte die prinzessin welche wach war alles und gerieth in grosse besorgniss es moege ihr gatte doch wohl nicht mehr als ein schneider seyn kaum war es morgen so ging sie zu dem koenige und klagte diesem ihren argwohn und erklaerte ihm nie und nimmer die schande ertragen zu koennen als koenigstochter die frau eines schneiders zu seyn'] - 0 - 0 \n",
            "\n",
            "33 - 0.0 - mess_47 - ['nun waren die drachen noch uebrig zu erlegen  wohl die schwerste und gefaehrlichste arbeit der schneider liess sich nun einen eisernen wagen machen der bis auf eine kleine oeffnung ganz verschlossen war in diesen stieg er am dritten tage und liess sich zur hoehle der drachen fahren kaum war er dort angekommen so fuhr einer der drachen heraus zerfleischte die beyden rosse vor dem wagen und stuerzte den wagen um da indessen der kopf des drachen in die naehe der oeffnung gekommen war so stiess ihm der schneider sein schwert bis an das heft hinein und toedtete so das unthier da sah er auf sein rothes band welches er um den leib hatte und siehe die worte waren verschwunden statt deren aber stand geschrieben gehe nur in die hoehle hinein die uebrigen sechs drachen koennen dir nichts mehr anhaben weil du den ersten davon erschlagen hast er stieg daher aus dem wagen und trat in die hoehle und toedtete die sechs drachen welche 285 sich wirklich nicht bewegen konnten die koepfe aber brachte er dem koenige welcher ihm nicht dank genug zu beweisen wusste und ihm noch an selbigem abende die koenigstochter zur ehe gab wobey es gar herrlich und froehlich herging weil jeder einwohner an der freude ueber die rettung aus noth und gefahr den innigsten antheil nahm'] - 0 - 0 \n",
            "\n",
            "36 - 0.0 - mess_47 - ['der schneider wurde inne dass ihn die koenigstochter hasse und den grund warum wie er daher wieder zu bette ging stellte er sich als traeume er wieder und diesesmal von lauter schlachten und siegen'] - 0 - 0 \n",
            "\n",
            "13 - 0.0 - mess_45 - ['es war einmal ein armer handwerksmann der hatte zwei soehne einen guten der hiess hans und einen boesen der hiess helmerich wie das aber wohl geht in der welt der vater haette den boesen mehr lieb als den guten'] - 0 - 0 \n",
            "\n",
            "31 - 0.0 - mess_47 - ['der schneider liess sich nun ein schwert geben welches er leicht handhaben konnte und legte den harnisch zur seite womit man ihn bekleiden wollte denn das zeug war sehr schwer und hinderte ihn am gehen darauf ging er der riesenhoehle zu welche er eben verlassen hatte da er auch die zeit wusste wann die riesen in ihren festen schlaf versenkt waeren so betrat er nach sechs uhr die hoehle und schlug ihnen allen den kopf ab die augen und die zungen schnitt er ihnen heraus und brachte sie als wahrzeichen dem koenige welcher grosse freude darueber hatte'] - 0 - 0 \n",
            "\n",
            "21 - 0.0 - mess_47 - ['wie der schneider nun so hinter dem riesen einherging lief ihm ein spatz unter den fuessen herum er bueckte sich ergriff den vogel und trug ihn ohne dass der riese es sah fortan in der hand'] - 0 - 0 \n",
            "\n",
            "11 - 0.0 - mess_44 - ['480 am dritten abend als aschenpuester sich wieder erlaubniss zum zusehen erbeten hatte zog sie ihr kleid mit den edelsteinen an der prinz fragte sie beim tanze wo sie wohne in buerstenschmeiss gab sie zur antwort wer du auch seist sprach er nimm diesen ring von mir sie liess sich den ring an die hand stecken dann wollte sie entschluepfen aber der prinz passte ihr auf und fuhr dicht hinter ihr her sie stieg bei der eiche aus hatte aber nicht zeit das kleid abzulegen sondern zog nur in eile den kraehenpelz drueber'] - 0 - 0 \n",
            "\n",
            "10 - 0.0 - mess_44 - ['der prinz that die nacht wieder kein auge zu und war noch verdriesslicher als am tage vorher aschenpuester musste ihm den rock buersten sie konnte es ihm aber nicht recht machen und zuletzt warf er ihr die buerste an den kopf'] - 0 - 0 \n",
            "\n",
            "9 - 0.0 - mess_44 - ['am naechsten abend wurde wieder getanzt und aschenpuester bat den koch wieder um erlaubniss diesmal zog sie das goldene kleid an und fuhr im wagen dahin der prinz hatte schon nach ihr ausgeschaut und wurde sehr vergnuegt als sie kam beim tanze fragte er sie wo sie zu hause sei in stiefelschmeiss antwortete sie sie blieb eine stunde da dann verschwand sie umsonst fragte der prinz wo stiefelschmeiss laege niemand konnte es ihm sagen'] - 0 - 0 \n",
            "\n",
            "8 - 0.0 - mess_44 - ['am andern morgen war der prinz sehr uebler laune er hatte die ganze nacht gewacht und immer an seine schoene taenzerin gedacht aschenpuester musste ihm die stiefel putzen das that sie auch aber ein kleiner flecken an den zehen blieb ungeputzt das bemerkte der prinz kam zornig in die kueche hinein und warf ihr den stiefel an den kopf'] - 0 - 0 \n",
            "\n",
            "19 - 0.0 - mess_47 - ['280 da er schon lange weiter gewandert war kam ihm ploetzlich ein riese entgegen der ihn hart anfuhr und ihm fuerchterlich drohte der schneider aber gedachte seines bandes und der worte die darauf standen und machte sich nicht viel aus den drohungen des riesen so zankend und streitend kamen sie zu einem kirschenbaum der voll reifer kirschen hing da sagte der riese hoehnisch halt ich will dir die aeste des baumes herabbiegen damit du von den kirschen essen kannst lass es dir noch schmecken denn wenn du gegessen hast will ich dich umbringen'] - 0 - 0 \n",
            "\n",
            "20 - 0.0 - mess_47 - ['der riese bog also den baum hernieder und der schneider hielt sich fest an dem gipfel desselben um bequem die ueppigen kirschen verspeisen zu koennen aber zu gleicher zeit liess der riese den baum wieder los und der gute schneider ward hoch in die luft hinaufgeschleudert er hatte es dem bande zu danken dass er unversehrt auf der anderen seite wieder zur erde kam da bekam der schneider muth der riese aber gerieth in erstaunen und liess den kleinen mann von nun an neben sich herziehen'] - 0 - 0 \n",
            "\n",
            "7 - 0.0 - mess_44 - ['dass niemand sehe wohin ich fahr'] - 0 - 0 \n",
            "\n",
            "29 - 0.0 - mess_47 - ['nun sey das loos auf die koenigstochter gefallen283 dass sie des uebermorgigen tages den drachen geopfert werden solle der koenig habe zwar verkuenden lassen dass wer diese ungeheuer erlegen wuerde die koenigstochter zur ehe und spaeter das koenigreich als erbe haben sollte aber niemand finde sich der ein so gefaehrliches unternehmen wagen wollte'] - 0 - 0 \n",
            "\n",
            "6 - 0.0 - mess_44 - ['hinter mir dunkel und vorne mir klar'] - 0 - 0 \n",
            "\n",
            "41 - 0.0 - mess_47 - ['so wurden die feinde geschlagen und ihnen ein grosser theil ihres landes abgenommen der schneider 287 aber kehrte wohlbehalten an ehren reich zurueck und wurde auch von dem koenige mit allen ehren von der koenigstochter aber mit liebe empfangen denn diese hatte nun ihren gatten achten gelernt'] - 0 - 0 \n",
            "\n",
            "5 - 0.0 - mess_44 - ['bald darauf war eine hochzeit auf einem schlosse in der naehe der prinz fuhr auch hin viele leute liefen um dem tanze zuzusehen aschenpuester bat den koch auch um die erlaubniss zusehen zu duerfen da lief sie zu der eiche zog das silberne kleid an und wuenschte sich einen wagen in dem sie nach dem schlosse fuhr der prinz sah sie und tanzte mit ihr aber nach ein paar taenzen war sie verschwunden setzte sich auf ihren wagen und sprach'] - 0 - 0 \n",
            "\n",
            "27 - 0.0 - mess_47 - ['vor seinen augen lag eine stadt er ging also auf sie zu unterdessen waren die riesen nach hause gekommen sie fanden den kleinen mann zwar nicht bekuemmerten sich aber auch nicht viel um sein verschwinden denn sie dachten der erdwurm werde sich irgendwo verkrochen haben und schon wieder zum vorschein kommen wenn ihn hungere'] - 0 - 0 \n",
            "\n",
            "3 - 0.0 - mess_44 - ['ein reicher mann der witwer geworden hatte eine einzige tochter die schoen und lieblich heranwuchs da wurde des vaters herz von unreiner liebe zu ihr entzuendet sie aber widerstand seinem begehren da drohte er ihr mit gewalt und nun sann sie auf list sie versprach ihm zu willen zu sein wenn er ihr ein kleid gebe das von silber stehen koenne als sie das bekommen verlangte sie eins das von golde steif sei und zum drittenmale eins das von gesteinen stehen koenne wie sie auch das erlangt sagte sie nun fehlt mir noch ein kraehenpelz und endlich hatte sie noch einen wunsch eine gluecksruthe auch die bekam sie'] - 0 - 0 \n",
            "\n",
            "12 - 0.0 - mess_44 - ['als am andern morgen der koch die suppe bereitete liess aschenpuester den ring hineinfallen der prinz fand ihn und fragte wer in der kueche gewesen niemand als ich und aschenpuester erwiderte er er liess aschenpuester kommen mich juckts auf dem kopfe sprach er zu ihr sieh nach ob ungeziefer drauf ist aschenpuester gehorchte wie sie aber vor ihm stand da sah er unter dem abgenutzten kraehenpelz das demantkleid hervorschimmern da erkannte er sie nun bist du mein sprach er und er machte sie zu seiner frau und sie lebten gluecklich zusammen bis an ihr ende'] - 0 - 0 \n",
            "\n",
            "24 - 0.0 - mess_47 - ['nun bekam der riese schon eine bessere meynung von seinem kleinen reisegefaehrten und bot ihm an ihn in seine hoehle zu nehmen wo ihrer zwoelf beysammen waeren er selber aber sey koenig'] - 0 - 0 \n",
            "\n",
            "104 - 0.0 - mess_46 - ['sie kehrten in den palast zurueck auch ihre eltern kamen dorthin und sie lebten alle zusammen gut und wir leben noch besser'] - 0 - 0 \n",
            "\n",
            "42 - 0.0 - mess_47 - ['von da an lebten sie noch lange und gluecklich tiefenbach'] - 0 - 0 \n",
            "\n",
            "78 - 0.0 - mess_46 - ['am naechsten morgen ging der fischer wieder zum fischen und fing das goldene fischchen noch einmal da sagte es ihm'] - 0 - 0 \n",
            "\n",
            "81 - 0.0 - mess_46 - ['eines tages sahen sie noch etwas seltsames zusammen mit den wurzeln der zypressen die vor ihrem hause gewachsen waren sprossen auch zwei schwerter als die kinder groesser waren wollte eines von ihnen auswandern da nahm das kind eines der pferde einen der hunde und eines der schwerter bevor es loszog sagt es zu seiner mutter'] - 0 - 0 \n",
            "\n",
            "82 - 0.0 - mess_46 - [' mutter ich habe ein zeichen in die ablage gemacht solange das zeichen dort ist geht es mir gut wenn es herunterfaellt dann schick meinen bruder um nach mir zu suchen denn dann befinde ich mich in gefahr'] - 0 - 0 \n",
            "\n",
            "84 - 0.0 - mess_46 - [' ach mein kind wir haben hier kein wasser in dieser gegend hier lebt eine lamia die das wasser unter verschluss haelt wir bekommen nichts wenn sie nicht jeden tag ein maedchen zu fressen bekommt und morgen wird sie die koenigstochter rodanthi fressen'] - 0 - 0 \n",
            "\n",
            "86 - 0.0 - mess_46 - [' dort drueben sagte sie'] - 0 - 0 \n",
            "\n",
            "87 - 0.0 - mess_46 - ['da brach er auf und ging an den ort an dem man die koenigstochter behuetete und wo die lamia sie fressen wuerde'] - 0 - 0 \n",
            "\n",
            "88 - 0.0 - mess_46 - [' ich werde dich retten sagte er ihr du musst nicht weinen'] - 0 - 0 \n",
            "\n",
            "89 - 0.0 - mess_46 - ['kurz darauf hoerte er ein droehnen und sah die lamia kommen'] - 0 - 0 \n",
            "\n",
            "90 - 0.0 - mess_46 - [' oha sagte sie da heute werde ich gleich zwei zu fressen haben'] - 0 - 0 \n",
            "\n",
            "91 - 0.0 - mess_46 - ['sobald sie sich ihnen naeherte nahm der junge mann das schwert das er hinter einigen steinen versteckt hatte warf die lamia zu boden und toetete sie daraufhin ging er und oeffnete die quellen seitdem hatten sie in der gegend wieder wasser'] - 0 - 0 \n",
            "\n",
            "93 - 0.0 - mess_46 - ['dann kam der tag an dem der koenig seinem schwiegersohn das ganze koenigreich zeigen wollte sie reisten fort und kamen eines tages vor eine riesige burg'] - 0 - 0 \n",
            "\n",
            "94 - 0.0 - mess_46 - [' geh niemals in diese burg hinein denn dort versteckt sich eine lamia die alle gefangen nimmt die hineinkommen sagte der koenig zu seinem schwiegersohn'] - 0 - 0 \n",
            "\n",
            "95 - 0.0 - mess_46 - ['der junge mann aber beachtete den hinweis nicht weiter den ihm der koenig gegeben hatte und zog am naechsten tag los um alle leute zu befreien die die lamia gefangen hielt'] - 0 - 0 \n",
            "\n",
            "96 - 0.0 - mess_46 - ['er schlug an die pforte und hoerte eine kraeftige stimme von innen'] - 0 - 0 \n",
            "\n",
            "97 - 0.0 - mess_46 - [' wenn du waffen hast dann wirf sie nieder und komm rein'] - 0 - 0 \n",
            "\n",
            "99 - 0.0 - mess_46 - ['da begab sich sein bruder auf den weg um nach ihm zu suchen zufaellig kam auch er an der alten frau vorbei die seinen bruder bewirtet hatte sie dachte dass es sich um seinen bruder handelte der die lamia umgebracht hatte und dankte ihm'] - 0 - 0 \n",
            "\n",
            "101 - 0.0 - mess_46 - ['er klopfte an die pforte und auch er hoerte eine kraeftige stimme'] - 0 - 0 \n",
            "\n",
            "102 - 0.0 - mess_46 - [' wenn du waffen hast leg sie ab und komm herein'] - 0 - 0 \n",
            "\n",
            "80 - 0.0 - mess_46 - ['und so geschah es nach einiger zeit bekamen sie zwei jungen zwillinge die beiden aehnelten einander so sehr dass man sie nicht voneinander unterscheiden konnte und auch die huendin und die katze bekamen zwillinge'] - 0 - 0 \n",
            "\n",
            "77 - 0.0 - mess_46 - ['als er am abend nach hause kam und seiner frau erzaehlte was er gesehen und gehoert hatte wurde sie boese weil sie nichts zu essen hatten'] - 0 - 0 \n",
            "\n",
            "45 - 0.0 - mess_48 - ['die drei schwaene unter der stiege aber waren drei verwuenschte koenigstoechter sie kamen jetzt weil sie erloest waren in sein zimmer und sagten zum soldaten er solle nun aufstehen als er aufgestanden war sprachen sie zu ihm er haette jetzt die wahl unter ihnen drei er nahm die vom goldenen berg diese sagte wir sind immer als noch nicht fertig wir muessen in drei naechten zwischen 11 und 12 uhr in jene kirche gehen'] - 0 - 0 \n",
            "\n",
            "76 - 0.0 - mess_46 - ['er nahm ihn also vom haken und warf ihn wieder ins meer'] - 0 - 0 \n",
            "\n",
            "46 - 0.0 - mess_48 - ['auf dem wege zu dieser kirche stand ein wirtshaus da hinein ging der soldat und logierte sich ein auf die nacht verlangte er zu trinken da sagte die wirtin das wasser in dem brunnen sei nicht gesund sie wolle ihm zitronenwasser geben sie aber gab ihm einen schlaftrunk er ging zwar hinaus setzte sich an den weg schlief aber ein um 11 uhr kam die koenigstochter gefahren mit vier rappen und die chaise war schwarz behangen'] - 0 - 0 \n",
            "\n",
            "48 - 0.0 - mess_48 - ['der soldat hatte noch drei brueder als er zum ersten kam sagte er zu ihm gruess gott bruder lebst du noch der antwortete ja darauf fragte der soldat ob er nicht wuesste wo der goldene berg sei der bruder antwortete wo der goldene berg sei wuesste er nicht er koenne aber die voegel zitieren wenn die es nicht wuessten er wuesste es nicht jetzt zitierte er die voegel miteinander aber keiner wusste etwas von dem goldenen berg da nahm er den staerksten vogel davon setzte den soldaten darauf und befahl dem vogel ihn so weit zu tragen als er koenne und ihn dann abzusetzen dann reiste der soldat weiter und kam zu seinem zweiten bruder er sagte zu ihm gruess gott bruder lebst du noch der antwortete ja er fragte ihn nun ob er nicht wuesste wo der goldene berg sei der antwortete nein aber das wildbret wilpert koenne er miteinander zitieren wenn das es nicht wuesste er wuesste es nicht jetzt zitierte der bruder das wildbret aber keines wusste etwas vom goldenen berg da nahm er das staerkste getier davon und setzte den soldaten darauf das musste diesen wieder so weit tragen als es konnte hierauf reiste der soldat weiter und kam zu seinem dritten bruder den gruesste er auch wie die andern zwei dann fragte dieser ihn wo er herkomme der soldat legte ihm aus wie es ihm seither erging dann fragte er seinen bruder auch ob er nicht wisse wo der goldene berg sei dieser sagte er wuesste nichts vom goldenen berg aber die wolken koenne er zitieren wenn die es nicht wuessten so sei er angefuehrt jetzt zitierte sein bruder die wolken es kam immer eine um die andere und keine wusste etwas vom goldenen berg hintennach kam noch so ein schwarzes poepela woelkchen sein bruder fragte es ob es nichts vom goldenen berg wuesste das antwortete ja es wuesste wo der goldene berg sei und morgen haette die koenigstochter hochzeit da sagte des soldaten bruder es solle den soldaten aufpacken und solle mit ihm fort so schnell es koenne damit es noch vor der hochzeit ankaeme und es kam auch richtig vor der hochzeit mit dem soldaten hin dieser ging gleich vor die residenz und liess drinnen sagen die koenigstochter solle einmal herausgehen als sie kam zeigte er ihr den saebel mit den goldenen buchstaben und den goldenen ring der andere braeutigam musste darauf fort und der soldat bekam die koenigstochter zur frau'] - 0 - 0 \n",
            "\n",
            "103 - 0.0 - mess_46 - ['der junge mann aber trat ein ohne sein schwert draussen zu lassen er zog sein schwert brachte die lamia um und befreite seinen bruder und alle anderen'] - 0 - 0 \n",
            "\n",
            "53 - 0.0 - mess_49 - ['seine hexenkunst hat hans nie mehr ausgeuebt da er bei seinem ersten versuch so viel angst hat ausstehen muessen und wenn einmal die rede aufs hexen kam soll hans immer gesagt haben das ist nichts fuer rechtschaffene leute'] - 0 - 0 \n",
            "\n",
            "56 - 0.0 - mess_23 - ['der grosse teufel zeigte raeume zuerst fuehrte kleiderkammer dort riesige menge kleider weisst du wozu gebraucht werden fragte teufel ihr seid viele leute braucht viele kleider antwortete mann dann besonderes kleidungsstueck weisst du wozu gebraucht wird fragte teufel der soldat antwortete das braucht ihr gewiss selbst da sprach teufel wenn uebeiziehst macht ueber dich flinte nichts dann gingen flintenkammer weisst du gemacht wird fragte teufel wieder ihr seid viele leute braucht viele flinten nun grosse flinte fragte teufel wieder weisst du hiermit gemacht wird  die braucht ihr gewiss selbst antwortete soldat das flinte sagte teufel die schiesst umreisst weit knall hoert'] - 0 - 0 \n",
            "\n",
            "57 - 0.0 - mess_23 - ['dann gingen schwertkammer der teufel sagte wieder weisst du gemacht wird  ihr seid viele leute braucht viele schwerter darunter groesseres schwert weisst du wozu gebraucht wird wurde gefragt das braucht ihr gewiss selbst  das schwert blinken laesst muessen sterben'] - 0 - 0 \n",
            "\n",
            "58 - 0.0 - mess_23 - ['danach gingen salbenflaschenkammer diese voll salbenflaschen darunter flasche groesser andern weisst du gemacht wird  die braucht ihr gewiss selbst der teufel antwortete die salbe heilt alles menschen ganz stuecke hacktest einsalbst gesund'] - 0 - 0 \n",
            "\n",
            "59 - 0.0 - mess_23 - ['darauf gingen kammer floeten waren weisst du wozu sind fragte teufel wieder ihr seid viele leute braucht viele floeten unter ganz besonders schoene floete weisst du gemacht wird  die braucht ihr gewiss selbst antwortete soldat das floete dreimal hineinblaest oeffnet jedesmal eiserne tuer da fiel soldaten ein halt hunde muessen irgendeiner eisernen tuere sein nirgends sehe steckte floete heimlich tasche'] - 0 - 0 \n",
            "\n",
            "60 - 0.0 - mess_23 - ['dann gingen seilkammer da strick ganz besonderer art fragte teufel wieder weisst du wozu gebraucht wird  den braucht ihr gewiss selbst  das strick aufgehaengt wirst sprach teufel warf strick hals dann brachte hof schrecklich kleine teufel warteten'] - 0 - 0 \n",
            "\n",
            "63 - 0.0 - mess_23 - ['im gebuesch mann wache als soldat fort war nahm koepfe drachen band buendel zusammen ging hin koenig zeigen und tochter wurde gezwungen mann heiraten'] - 0 - 0 \n",
            "\n",
            "64 - 0.0 - mess_23 - ['aber kam soldat ebenfalls bei hochzeit fuerchtete junge mann dass soldat kommen moechte stellte toren wachen auf sollten niemanden hereinlassen als soldat kam liess bloss schwert blinken lagen wachen wuerste'] - 0 - 0 \n",
            "\n",
            "67 - 0.0 - mess_23 - ['aber koenigstochter verzaubert worden gleich hochzeit toetete gatten schlug schwert kopf ab da erfuhren hunde dass herr getoetet war fiel ein dass salbenflasche teufelsschloss mitgekommen war'] - 0 - 0 \n",
            "\n",
            "68 - 0.0 - mess_23 - ['da rannten schleunigst hin dort teufel lebendig geworden vergessen teufels grossmutter toeten salbe lebendig gemacht die hunde bissen tot grossmutter dann nahmen salbenflasche liefen groesster eile koenigsschloss zurueck'] - 0 - 0 \n",
            "\n",
            "72 - 0.0 - mess_46 - ['es war einmal in einem kleinen fischerdorf ein armer fischer der dort mit seiner frau lebte sie hatten keine kinder'] - 0 - 0 \n",
            "\n",
            "73 - 0.0 - mess_46 - ['eines tages versuchte er fische zu fangen aber es biss einfach keiner an doch so gegen abend schliesslich als er schon seine siebensachen packen und fortgehen wollte ging ihm ein fisch an die angel er zog ihn hinaus und was sah er da ein ganz und gar goldenes fischlein da hoerte er wie der fisch zu ihm sprach'] - 0 - 0 \n",
            "\n",
            "74 - 0.0 - mess_46 - [' lass mich noch einen tag wachsen dann kannst du mich fangen und essen'] - 0 - 0 \n",
            "\n",
            "75 - 0.0 - mess_46 - [' na gut sagte sich der fischer da ich lass ihn wieder frei'] - 0 - 0 \n",
            "\n"
          ]
        }
      ],
      "source": [
        "for index, score in (find_similar(vokabular, n_te)):\n",
        "     if (df.index_string[index]==0 and index>0):\n",
        "        print(index,'-', score,'-', df.quelle[index],'-', \n",
        "           t_corpus[index], '-',  df.index_binar[index],'-', df.index_binar[index],'\\n' )"
      ]
    },
    {
      "cell_type": "markdown",
      "metadata": {
        "id": "uRlhDWU2dpSb"
      },
      "source": [
        "## Ende "
      ]
    },
    {
      "cell_type": "code",
      "execution_count": null,
      "metadata": {
        "id": "4iEEm0xRdpSc"
      },
      "outputs": [],
      "source": []
    }
  ],
  "metadata": {
    "kernelspec": {
      "display_name": "Python 3 (ipykernel)",
      "language": "python",
      "name": "python3"
    },
    "language_info": {
      "codemirror_mode": {
        "name": "ipython",
        "version": 3
      },
      "file_extension": ".py",
      "mimetype": "text/x-python",
      "name": "python",
      "nbconvert_exporter": "python",
      "pygments_lexer": "ipython3",
      "version": "3.9.7"
    },
    "colab": {
      "provenance": []
>>>>>>> 61f1d408d6c3f7df87b281f4d48a036a442fa2c4
    }
  },
  "nbformat": 4,
  "nbformat_minor": 0
}