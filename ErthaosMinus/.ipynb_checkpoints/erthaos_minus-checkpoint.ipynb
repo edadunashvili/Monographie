{
 "cells": [
  {
   "cell_type": "markdown",
   "metadata": {},
   "source": [
    "## Google Colab Arbeitplatz vorbereiten"
   ]
  },
  {
   "cell_type": "code",
   "execution_count": null,
   "metadata": {},
   "outputs": [],
   "source": [
    "!git clone https://github.com/edadunashvili/Monographie.git"
   ]
  },
  {
   "cell_type": "code",
   "execution_count": null,
   "metadata": {},
   "outputs": [],
   "source": [
    "cd /content/Monographie/ErthaosMinus"
   ]
  },
  {
   "cell_type": "code",
   "execution_count": null,
   "metadata": {},
   "outputs": [],
   "source": [
    "from IPython.display import HTML, display\n",
    "\n",
    "def set_css():\n",
    "  display(HTML('''\n",
    "  <style>\n",
    "    pre {\n",
    "        white-space: pre-wrap;\n",
    "    }\n",
    "  </style>\n",
    "  '''))\n",
    "get_ipython().events.register('pre_run_cell', set_css)"
   ]
  },
  {
   "cell_type": "markdown",
   "metadata": {},
   "source": [
    "# Elguja Dadunashvili: Machine-Learning-Verfahren für die typologisch-vergleichenden Märchenforschung - Teil 2"
   ]
  },
  {
   "cell_type": "markdown",
   "metadata": {},
   "source": [
    "## Modul für die Aggregation des Korpus von unbekannten Daten "
   ]
  },
  {
   "cell_type": "markdown",
   "metadata": {},
   "source": [
    "[Zelle # 1]\n",
    "\n",
    "1-5: Der vorhandene Daten-Korpus löschen (falls vorhanden). Die Funktion wird im Folgenden zwecks Beseitigung von weiteren Aggregationen verwendet.\n",
    "\n",
    "6-61: Aggregation des Rohdatenkorpus.\n",
    "\n",
    "62-70: Aggregation der \"episode_string_such.csv\" Datei.\n",
    "\n",
    "71-76: 'episode_string_such.csv' laden, von den überflüssigen Zeichen bereinigen, fehlende Feldwerte auffüllen und in 'episode_binar_such.csv' umwandeln.\n",
    "\n",
    "77-78: Unnotige Aggregationen werden gelöscht."
   ]
  },
  {
   "cell_type": "code",
   "execution_count": 2,
   "metadata": {},
   "outputs": [],
   "source": [
    "def entfernen(var):\n",
    "    import os\n",
    "    if os.path.exists(var):\n",
    "        os.remove(var)\n",
    "entfernen('episode_binar_roh.csv')"
   ]
  },
  {
   "cell_type": "code",
   "execution_count": 3,
   "metadata": {},
   "outputs": [],
   "source": [
    "def clean(line):\n",
    "    line = line.replace(\"\\n\",\" \").strip()\n",
    "    line = line.replace(\"ä\",\"ae\").replace(\"ü\",\"ue\").replace(\"ö\",\"oe\")\n",
    "    line = line.replace(\"ß\",\"ss\").replace(\",\",\"\").replace(\"«\",\"\")\n",
    "    line = line.replace(\"»\",\"\").replace(\".\",\"\").replace(\":\",\"\")\n",
    "    line = line.replace(\";\",\"\").replace('\"',\"\")\n",
    "    line = line.replace(\"?\",\"\").replace(\"!\",\"\").replace(\"á\",\"a\")\n",
    "    line = line.replace(\",\",\"\").replace(\"\\t\",\" \").replace(\"'\",\"\")\n",
    "    line = line.replace(\"‹\",\"\").replace(\"›\",\"\").replace(\"-\",\" \")\n",
    "    line = line.replace(\"'('\",\"\").replace(\"')'\",\"\").replace('>','')\n",
    "    line = line.replace(\"    \",\" \").replace(\"   \",\" \").replace(\"  \",\" \")\n",
    "    line = line.replace('–','').replace('—','').replace('<','')\n",
    "    line = line.replace(\"Â\", \"A\").replace(\"ø\", \"oe\").replace('“','')\n",
    "    line = line.replace('„','').replace('(','').replace(')','')\n",
    "    line = line.replace(\"‚\", \"\").replace(']','').replace('[','')\n",
    "    if line == \"\": \n",
    "        return\n",
    "    line=line.split(\"|\")\n",
    "    line[0]=line[0].split(\"|\")[0]\n",
    "    for i, _ in enumerate(line):\n",
    "        if (i !=0) and (i!=2):\n",
    "            line[i]=line[i].lower()\n",
    "    flex=[]\n",
    "    try:\n",
    "        flex=line[1].split(\"\")\n",
    "    except:\n",
    "        pass\n",
    "    value=str(line)\n",
    "    line=str(line)   \n",
    "    flex.append(line)\n",
    "    ret=[]\n",
    "    for i in flex:\n",
    "        ret.append((i,value[0]))\n",
    "    return ret\n",
    "def write_back(words, temp):\n",
    "    with open(temp, \"a\", encoding='utf-8') as output:      \n",
    "        for word in words:\n",
    "            as_lex = word[0]\n",
    "            full_word = '\"' + as_lex + '\"'\n",
    "            for sub_word in word[1:]:\n",
    "                full_word += \" , \"  '\"' + sub_word + '\"'\n",
    "            full_word +=\"\\n\"\n",
    "            output.write(full_word)\n",
    "def aggreg(temp, ordner):\n",
    "    import glob\n",
    "    with open(temp, \"w\", encoding='utf-8') as output:\n",
    "        output.write (\"quelle,episode,index_string,index_binar\\n\")\n",
    "    sorted_files=sorted(glob.glob(ordner))\n",
    "    pairs = []\n",
    "    for file in sorted_files:\n",
    "        with open(file, 'r', encoding='utf-8', errors='ignore') as episode:\n",
    "            for line in episode.readlines():\n",
    "                clean_words = clean(line)\n",
    "                pairs = pairs + clean_words\n",
    "    write_back(pairs, temp)\n",
    "temp = \"episode_temp_roh.csv\"\n",
    "ordner = \"Datendepot/*.txt\"\n",
    "aggreg(temp, ordner)\n",
    "fin = open('episode_temp_roh.csv','r', encoding ='utf-8')\n",
    "fout = open('episode_string_roh.csv', \"wt\", encoding ='utf-8')\n",
    "for kfz in fin:\n",
    "    fout.write(kfz.replace(', \"[\"',\"\").replace('\"[', \"\").replace(']\"',\"\")\n",
    "               .replace(\"', '\", \"','\").replace(\" '\", \"'\"))\n",
    "fin.close()\n",
    "fout.close()\n",
    "\n",
    "fin = open('episode_string_roh.csv','r', encoding='utf-8') \n",
    "fout = open('episode_binar_roh.csv', \"wt\", encoding='utf-8')\n",
    "for efz in fin:\n",
    "    fout.write(efz.replace(\"'\",\"\").replace(',,0,0',',test,0,0'))             \n",
    "fin.close()\n",
    "fout.close()\n",
    "entfernen('episode_temp_roh.csv')\n",
    "entfernen('episode_string_roh.csv')"
   ]
  },
  {
   "cell_type": "markdown",
   "metadata": {},
   "source": [
    "## Modul für die Suche nach den Trainingsdaten"
   ]
  },
  {
   "cell_type": "markdown",
   "metadata": {},
   "source": [
    "[Zelle # 2]\n",
    "\n",
    "1-11: Rohdatenkopus aus dem Datenfeld 'epsode' bestimmen und alle andere Felder ignorieren.\n",
    "\n",
    "12-17: Datenfeld 'episode' von Stoppwörter bereinigen, zur Auffüllung der fehlende Werte eingesetzte synthetischer Stoff (hier das Wort 'test') entfernen.  "
   ]
  },
  {
   "cell_type": "code",
   "execution_count": 4,
   "metadata": {},
   "outputs": [
    {
     "name": "stderr",
     "output_type": "stream",
     "text": [
      "[nltk_data] Downloading package stopwords to\n",
      "[nltk_data]     C:\\Users\\elguj\\AppData\\Roaming\\nltk_data...\n",
      "[nltk_data]   Package stopwords is already up-to-date!\n"
     ]
    }
   ],
   "source": [
    "import csv\n",
    "import pandas as pd\n",
    "df = pd.read_csv('episode_binar_roh.csv', encoding='utf-8')\n",
    "t_corpus = []\n",
    "file = 'episode_binar_roh.csv'\n",
    "with open(file, \"r\", encoding='utf-8') as maerchen:\n",
    "    maerchen = df.episode\n",
    "    reader = csv.reader(maerchen, delimiter = ',')\n",
    "    for row in reader:\n",
    "        lst = str(row)\n",
    "        t_corpus.append(lst)\n",
    "custom_stop_word_list=['test']\n",
    "import nltk\n",
    "nltk.download('stopwords')\n",
    "from nltk.corpus import stopwords\n",
    "NLTK_stop_words_list=stopwords.words('german')\n",
    "de = custom_stop_word_list + NLTK_stop_words_list"
   ]
  },
  {
   "cell_type": "markdown",
   "metadata": {},
   "source": [
    "[Zelle # 3]\n",
    "\n",
    "1-14: Vektorisieren, Transformieren und die Metrik für die Vorhersagefunktion definieren"
   ]
  },
  {
   "cell_type": "code",
   "execution_count": 5,
   "metadata": {},
   "outputs": [],
   "source": [
    "from sklearn.feature_extraction.text import TfidfVectorizer\n",
    "from sklearn.feature_extraction.text import CountVectorizer\n",
    "from sklearn.metrics.pairwise import cosine_similarity\n",
    "vectorizer = TfidfVectorizer\n",
    "vectorizers = vectorizer(analyzer='word', ngram_range=(1,1), \n",
    "                         min_df = 2, stop_words = de)\n",
    "vokabular =  vectorizers.fit_transform(t_corpus)\n",
    "metrik = cosine_similarity\n",
    "def find_similar(vokabular, index, top_n =-1):   \n",
    "    metriks = metrik(vokabular[index:index+1], vokabular).flatten()\n",
    "    related_docs_indices = [i for i in metriks.argsort()[::-1] \n",
    "                            if i != index]\n",
    "    return [(index, metriks[index]) for index \n",
    "            in related_docs_indices][0:top_n]"
   ]
  },
  {
   "cell_type": "markdown",
   "metadata": {},
   "source": [
    "## Nach den inhaltlich ähnlichen Datensätzen suchen"
   ]
  },
  {
   "cell_type": "markdown",
   "metadata": {},
   "source": [
    "[Zelle # 4]\n",
    "\n",
    "1-3: Gesuchte Episode (Zielepisode) eingeben und einblenden lassen.\n",
    "\n",
    "Anmerkung: Die gesuchte Episode wird über die 'n_te'-Variable eingegeben (manuell eingepflegte Zielepisoden sollen deshalb immer in der ersten Reihen der Korpusdatensätzen stehen und alphanummerisch angeordnet sein. Wir bevorzugen, dass diese Daten mit dem Prefix '!_' + Kleinbuchstabe benannt wird.)\n"
   ]
  },
  {
   "cell_type": "code",
   "execution_count": 6,
   "metadata": {
    "scrolled": true
   },
   "outputs": [
    {
     "name": "stdout",
     "output_type": "stream",
     "text": [
      "_a - [' als nun der jaeger mit den drei thieren weiter zog kam er in eine stadt die mit schwarzem flor umzogen war er vernahm dass ein drache in der gegend hause der alljaehrlich eine jungfrau verlange in diesem jahre sei die reihe an des koenigs tochter und darum trauere alles der koenig habe sie demjenigen zur frau versprochen der den drachen toedte']\n"
     ]
    }
   ],
   "source": [
    "n_te = 0\n",
    "synt = t_corpus[n_te]\n",
    "print(df.quelle[n_te],'-', synt)"
   ]
  },
  {
   "cell_type": "markdown",
   "metadata": {},
   "source": [
    "[Zelle # 5]\n",
    "\n",
    "1-3: Suchen starten und die Ergebnisse einblenden lassen"
   ]
  },
  {
   "cell_type": "code",
   "execution_count": 7,
   "metadata": {
    "scrolled": true
   },
   "outputs": [
    {
     "name": "stdout",
     "output_type": "stream",
     "text": [
      "4541 - 0.28798370561836417 -  60_Die_zwei_Bruedertxt - ['der jaeger aber war traurig zog in der welt herum und liess seine tiere vor den leuten tanzen es trug sich zu dass er gerade nach verlauf eines jahres wieder in dieselbe stadt kam wo er die koenigstochter vom drachen erloest hatte und die stadt war diesmal ganz mit rotem scharlach ausgehaengt da sprach er zum wirt was will das sagen vorm jahr war die stadt mit schwarzem flor ueberzogen was soll heute der rote scharlach der wirt antwortete vorm jahr sollte unsers koenigs tochter dem drachen ausgeliefert werden aber der marschall hat mit ihm gekaempft und ihn getoetet und da soll morgen ihre vermaehlung gefeiert werden darum war die stadt damals mit schwarzem flor zur trauer und ist heute mit rotem scharlach zur freude ausgehaengt'] - 0 - 0 \n",
      "\n",
      "3016 - 0.26564266112602974 -  4_Der_Jaeger_ueber_alle_Jaegertxt - ['damit war die muehle und die heerde von den riesen erloest und der jaeger ueber alle jaeger setzte seine reise fort er kam in eine stadt die ganz mit flor ueberzogen war weil ein drache die koenigstochter vom markte abholen wollte da stellte der jaeger ueber alle jaeger sich mit seinen treuen hunden neben die prinzessin und als der drache kam rief er ihm zu was du an den koenig zu fordern hast kannst du auch an mich fordern in demselben augenblicke sprangen die drei hunde stahl eisen und hille gegen den drachen an und zerrissen ihn'] - 0 - 0 \n",
      "\n",
      "4537 - 0.23435430199976348 -  60_Die_zwei_Bruedertxt - ['als die koenigstochter oben auf den berg kam stand da nicht der drache sondern der junge jaeger der sprach ihr trost ein und sagte er wollte sie retten fuehrte sie in die kirche und verschloss sie darin gar nicht lange so kam mit grossem gebraus der siebenkoepfige drache dahergefahren als er den jaeger erblickte verwunderte er sich und sprach was hast du hier auf dem berge zu schaffen der jaeger antwortete ich will mit dir kaempfen sprach der drache so mancher rittersmann hat hier sein leben gelassen mit dir will ich auch fertig werden und atmete feuer aus sieben rachen das feuer sollte das trockene gras anzuenden und der jaeger sollte in der glut und dem dampf ersticken aber die tiere kamen herbeigelaufen und traten das feuer aus da fuhr der drache gegen den jaeger aber er schwang sein schwert dass es in der luft sang und schlug ihm drei koepfe ab da ward der drache erst recht wuetend erhob sich in die luft spie die feuerflammen ueber den jaeger aus und wollte sich auf ihn stuerzen aber der jaeger zueckte nochmals sein schwert und hieb ihm wieder drei koepfe ab das untier ward matt und sank nieder und wollte doch wieder auf den jaeger los aber er schlug ihm mit der letzten kraft den schweif ab und weil er nicht mehr kaempfen konnte rief er seine tiere herbei die zerrissen es in stuecke als der kampf zu ende war schloss der jaeger die kirche auf und fand die koenigstochter auf der erde liegen weil ihr die sinne vor angst und schrecken waehrend des streites vergangen waren er trug sie heraus und als sie wieder zu sich selbst kam und die augen aufschlug zeigte er ihr den zerrissenen drachen und sagte ihr dass sie nun erloest waere sie freute sich und sprach nun wirst du mein liebster gemahl werden denn mein vater hat mich demjenigen versprochen der den drachen toetet darauf hing sie ihr halsband von korallen ab und verteilte es unter die tiere um sie zu belohnen und der loewe erhielt das goldene schloesschen davon ihr taschentuch aber in dem ihr name stand schenkte sie dem jaeger der ging hin und schnitt aus den sieben drachenkoepfen die zungen aus wickelte sie in das tuch und verwahrte sie wohl'] - 0 - 0 \n",
      "\n",
      "4535 - 0.21128602112011696 -  60_Die_zwei_Bruedertxt - ['da liess sie der wirt hinbringen wo eben eine kuh auf dem rasen lag dass sie sich satt frassen und als der jaeger fuer seine tiere gesorgt hatte fragte er erst den wirt warum die stadt so mit trauerflor ausgehaengt waere sprach der wirt weil morgen unseres koenigs einzige tochter sterben wird fragte der jaeger ist sie sterbenskrank nein antwortete der wirt sie ist frisch und gesund aber sie muss doch sterben wie geht das zu fragte der jaeger draussen vor der stadt ist ein hoher berg darauf wohnt ein drache der muss alle jahr eine reine jungfrau haben sonst verwuestet er das ganze land nun sind schon alle jungfrauen hingegeben und ist niemand mehr uebrig als die koenigstochter dennoch ist keine gnade sie muss ihm ueberliefert werden und das soll morgen geschehen sprach der jaeger warum wird der drache nicht getoetet ach antwortete der wirt so viele ritter habens versucht aber allesamt ihr leben eingebuesst der koenig hat dem der den drachen besiegt seine tochter zur frau versprochen und er soll auch nach seinem tode das reich erben'] - 0 - 0 \n",
      "\n",
      "4539 - 0.19950102039950418 -  60_Die_zwei_Bruedertxt - ['der marschall aber der von weitem hatte zuschauen sollen als er den drachen nicht mit der jungfrau fortfliegen sah und alles auf dem berg ruhig ward nahm sich ein herz und stieg hinauf da lag der drache zerstueckt und zerrissen auf der erde und nicht weit davon die koenigstochter und ein jaeger mit seinen tieren die waren alle in tiefen schlaf versunken und weil er boes und gottlos war so nahm er sein schwert und hieb dem jaeger das haupt ab und fasste die jungfrau auf den arm und trug sie den berg hinab da erwachte sie und erschrak aber der marschall sprach du bist in meinen haenden du sollst sagen dass ich es gewesen bin der den drachen getoetet hat das kann ich nicht antwortete sie denn ein jaeger mit seinen tieren hats getan da zog er sein schwert und drohte sie zu toeten wo sie ihm nicht gehorchte und zwang sie damit dass sie es versprach darauf brachte er sie vor den koenig der sich vor freude nicht zu lassen wusste als er sein liebes kind wieder lebend erblickte das er von dem untier zerrissen glaubte der marschall sprach zu ihm ich habe den drachen getoetet und die jungfrau und das ganze reich befreit darum fordere ich sie zur gemahlin so wie es zugesagt ist der koenig fragte die jungfrau ist das wahr was er spricht ach ja antwortete sie es muss wohl wahr sein aber ich halte mir aus dass erst ueber jahr und tag die hochzeit gefeiert wird denn sie dachte in der zeit etwas von ihrem lieben jaeger zu hoeren'] - 0 - 0 \n",
      "\n",
      "7402 - 0.18874004382153445 -  Die_Wuenschdingertxt - ['versprochen'] - 0 - 0 \n",
      "\n",
      "4543 - 0.17434847197381279 -  60_Die_zwei_Bruedertxt - ['nun sprach der koenig an der koeniglichen tafel zu seiner tochter was haben die wilden tiere alle gewollt die zu dir gekommen und in mein schloss ein und ausgegangen sind da antwortete sie ich darfs nicht sagen aber schickt hin und lasst den herrn dieser tiere holen so werdet ihr wohl tun der koenig schickte einen diener ins wirtshaus und liess den fremden mann einladen und der diener kam gerade wie der jaeger mit dem wirt gewettet hatte da sprach er sieht er herr wirt da schickt der koenig einen diener und laesst mich einladen aber ich gehe so noch nicht und zu dem diener sagte er ich lasse den herrn koenig bitten dass er mir koenigliche kleider schickt einen wagen mit sechs pferden und diener die mir aufwarten als der koenig die antwort hoerte sprach er zu seiner tochter was soll ich tun sagte sie lasst ihn holen wie ers verlangt so werdet ihr wohl tun da schickte der koenig koenigliche kleider einen wagen mit sechs pferden und diener die ihm aufwarten sollten als der jaeger sie kommen sah sprach er sieht er herr wirt nun werde ich abgeholt wie ich es verlangt habe und zog die koeniglichen kleider an nahm das tuch mit den drachenzungen und fuhr zum koenig als ihn der koenig kommen sah sprach er zu seiner tochter wie soll ich ihn empfangen antwortete sie geht ihm entgegen so werdet ihr wohl tun da ging ihm der koenig entgegen und fuehrte ihn herauf und seine tiere folgten ihm nach der koenig wies ihm einen platz an neben sich und seiner tochter der marschall sass auf der andern seite als braeutigam aber der kannte ihn nicht mehr nun wurden gerade die sieben haeupter des drachen zur schau aufgetragen und der koenig sprach die sieben haeupter hat der marschall dem drachen abgeschlagen darum geb ich ihm heute meine tochter zur gemahlin da stand der jaeger auf oeffnete die sieben rachen und sprach wo sind die sieben zungen des drachen da erschrak der marschall ward bleich und wusste nicht was er antworten sollte endlich sagte er in der angst drachen haben keine zungen sprach der jaeger die luegner sollten keine haben aber die drachenzungen sind das wahrzeichen des siegers und wickelte das tuch auf da lagen sie alle siebene darin und dann steckte er jede zunge in den rachen in den sie gehoerte und sie passte genau darauf nahm er das tuch in welches der name der koenigstochter gestickt war und zeigte es der jungfrau und fragte sie wem sie es gegeben haette da antwortete sie dem der den drachen getoetet hat und dann rief er sein getier nahm jedem das halsband und dem loewen das goldene schloss ab und zeigte es der jungfrau und fragte wem es angehoerte antwortete sie das halsband und das goldene schloss waren mein ich habe es unter die tiere verteilt die den drachen besiegen halfen da sprach der jaeger als ich muede von dem kampf geruht und geschlafen habe da ist der marschall gekommen und hat mir den kopf abgehauen dann hat er die koenigstochter fortgetragen und vorgegeben er sei es gewesen der den drachen getoetet habe und dass er gelogen hat beweise ich mit den zungen dem tuch und dem halsband und dann erzaehlte er wie ihn seine tiere durch eine wunderbare wurzel geheilt haetten und dass er ein jahr lang mit ihnen herumgezogen und endlich wieder hierher gekommen waere wo er den betrug des marschalls durch die erzaehlung des wirtes erfahren haette da fragte der koenig seine tochter ist es wahr dass dieser den drachen getoetet hat da antwortete sie ja es ist wahr jetzt darf ich die schandtat des marschalls offenbaren weil sie ohne mein zutun an den tag gekommen ist denn er hat mir das versprechen zu schweigen abgezwungen darum aber habe ich mir ausgehalten dass erst in jahr und tag die hochzeit sollte gefeiert werden da liess der koenig zwoelf ratsherren rufen die sollten ueber den marschall urteil sprechen und die urteilten dass er muesste von vier ochsen zerrissen werden also ward der marschall gerichtet der koenig aber uebergab seine tochter dem jaeger und ernannte ihn zu seinem statthalter im ganzen reich die hochzeit ward mit grossen freuden gefeiert und der junge koenig liess seinen vater und pflegevater holen und ueberhaeufte sie mit schaetzen den wirt vergass er auch nicht und liess ihn kommen und sprach zu ihm sieht er herr wirt die koenigstochter habe ich geheiratet und sein haus und hof sind mein sprach der wirt ja das waere nach dem rechten der junge koenig aber sagte es soll nach gnaden gehen haus und hof soll er behalten und die tausend goldstuecke schenke ich ihm noch dazu'] - 0 - 0 \n",
      "\n",
      "5772 - 0.158506244420044 -  B_Literarische_und_mythologische_Anmerkungen_zu_den_Maerchentxt - ['der jaeger und die drei brueder'] - 0 - 0 \n",
      "\n",
      "3005 - 0.15245385985697638 -  4_Der_Jaeger_ueber_alle_Jaegertxt - ['4 der jaeger ueber alle jaeger'] - 0 - 0 \n",
      "\n",
      "4427 - 0.15066091994450942 -  59_Prinz_Schwantxt - ['durch loewen und durch drachen'] - 0 - 0 \n",
      "\n",
      "4415 - 0.15066091994450942 -  59_Prinz_Schwantxt - ['durch loewen und durch drachen'] - 0 - 0 \n",
      "\n",
      "4421 - 0.15066091994450942 -  59_Prinz_Schwantxt - ['durch loewen und durch drachen'] - 0 - 0 \n",
      "\n",
      "130 - 0.149220916629626 -  1_Dank_ist_der_Welt_Lohntxt - ['einst erzaehlte der koenig von den drei thieren welche sich nun bald wieder unter dem baume treffen mussten um sich zu sagen was sie wuessten weil in einigen tagen die sieben jahre wieder herum waeren'] - 0 - 0 \n",
      "\n",
      "4536 - 0.1392822222007703 -  60_Die_zwei_Bruedertxt - ['der jaeger sagte dazu weiter nichts aber am andern morgen nahm er seine tiere und stieg mit ihnen auf den drachenberg da stand oben eine kleine kirche und auf dem altar standen drei gefuellte becher und dabei war die schrift wer die becher austrinkt wird der staerkste mann auf erden und wird das schwert fuehren das vor der tuerschwelle vergraben liegt der jaeger trank da nicht ging hinaus und suchte das schwert in der erde vermochte aber nicht es von der stelle zu bewegen da ging er hin und trank die becher aus und war nun stark genug das schwert aufzunehmen und seine hand konnte es ganz leicht fuehren als die stunde kam wo die jungfrau dem drachen sollte ausgeliefert werden begleitete sie der koenig der marschall und die hofleute hinaus sie sah von weitem den jaeger oben auf dem drachenberg und meinte der drache staende da und erwartete sie und wollte nicht hinaufgehen endlich aber weil die ganze stadt sonst waere verloren gewesen musste sie den schweren gang tun der koenig und die hofleute kehrten voll grosser trauer heim des koenigs marschall aber sollte stehen bleiben und aus der ferne alles mit ansehen'] - 0 - 0 \n",
      "\n",
      "7631 - 0.137670326499968 -  Die_goldene_Schaefereitxt - ['es war einmal eine schoene jungfrau'] - 0 - 0 \n",
      "\n",
      "5071 - 0.13399141395564096 -  77_Der_Stab_die_wildlederne_Hose_und_das_Jubelhorntxt - ['mit diesen neuen geschenken ging der bauernsohn weiter kam zu dem jaeger des koenigs und bot sich ihm als jaegerburschen an der jaeger des koenigs aber sprach es fehlt bei uns nicht an jaegern sondern am wild wenn einer kaeme der wild herbeischaffen koennte den wuerde ich sogleich in dienst nehmen denke nur bis morgen mittag soll ich eine ungeheure menge wild geschossen haben fuer die tafel des koenigs und es ist nicht einmal ein alter hase aufzutreiben in der ganzen gegend'] - 0 - 0 \n",
      "\n",
      "3747 - 0.13273871570820892 -  5_Gluecksvogel_und_Pechvogeltxt - ['in einem holze wohnte ein mann der hatte zwei zwillinge von denen war der eine ein gluecksvogel der andere ein pechvogel der mann aber saeete auf ein stuecklein landes eine saat daraus wuchsen auf zwei schwerter zwei pudelhunde und zwei schimmel als seine soehne nun funfzehn jahre alt waren gab er jedem eins von den schwertern einen von den pudelhunden und einen von den schimmeln und damit zogen sie in die weite welt wie sie an den kreuzweg kamen nahmen sie abschied und verabredeten dass sie einander durch die hunde nachricht geben wollten wer zuerst sein glueck in einer stadt machte solle seinen hund an diesen kreuzweg bringen dann werde der schon aufspueren wo der andere bruder sei nun kommt aber der pechvogel in ein wirthshaus wo die wirthin eine hexe ist die erwuergt ihn schneidet seinen leib entzwei und steckt ihn in einen tubben dann erwuergt sie auch seinen hund wiewol der den namen hatte brichstahlundeisen schneidet ihn auch auseinander und steckt ihn auch in den tubben der gluecksvogel kommt in eine stadt die stadt ist ganz mit schwarzem flor ueberzogen an diesem tage holt naemlich ein drache eine prinzessin ab weil er jedes jahr an diesem tage ein maedchen von funfzehn jahren wegholen muss und weil diesmal kein maedchen von funfzehn jahren da ist als die prinzessin er beschliesst die prinzessin zu retten und mit dem drachen zu kaempfen er geht also auf den drachenberg ein diener des koenigs fuehrt die prinzessin dahin wie der drache die prinzessin sieht kommt er ploetzlich aus der luft geschossen der gluecksvogel haut muthig auf den drachen los sein kluger hund der den namen hatte bringspeise und sein treues pferd helfen ihm dabei so kriegt er den drachen mit sieben koepfen nieder und schneidet aus den sieben koepfen die zungen heraus die prinzessin aber gibt ihm einen ring und ein tuch worin ihr name steht sie will ihn sogleich mit aufs schloss nehmen er aber gedenkt seines bruders und reitet mit seinem treuen hunde bringspeise zuerst nach dem kreuzwege zu der diener welcher die prinzessin bis vor den berg in der kutsche begleitet hat haelt noch dort da er nun den abschied der prinzessin von dem ritter gehoert hat droht er ihr unterwegs sie zu toedten wenn sie nicht sagen wolle dass er sie erloest habe aus angst schwoert sie ihm endlich dies zu er nimmt sieben hunde und schneidet ihnen die zungen aus um sie dem koenige als die zungen des drachen vorzulegen das geschieht der koenig aber ist hocherfreut und verspricht dem diener die krone bald danach wird die verlobung der prinzessin gehalten der edle ritter ist aber nun auf den kreuzweg gekommen von dort verfolgt der treue hund die spur in ein wirthshaus und der ritter folgt ihm auf seinem pferde dahin dort winselt sein hund und wie er sein pferd in den stall zieht da meckert es ordentlich vor freude und daraus merkt er dass seines bruders pferd daneben im stalle steht'] - 0 - 0 \n",
      "\n",
      "4534 - 0.13258290891867303 -  60_Die_zwei_Bruedertxt - ['der juengste aber kam mit seinen tieren in eine stadt die war ganz mit schwarzem flor ueberzogen er ging in ein wirtshaus und fragte den wirt ob er nicht seine tiere beherbergen koennte der wirt gab ihnen einen stall wo in der wand ein loch war da kroch der hase hinaus und holte sich ein kohlhaupt und der fuchs holte sich ein huhn und als er das gefressen hatte auch den hahn dazu der wolf aber der baer und der loewe weil sie zu gross waren konnten nicht hinaus'] - 0 - 0 \n",
      "\n",
      "2093 - 0.13245005510545294 -  25_Der_gelernte_Jaegertxt - ['zog'] - 0 - 0 \n",
      "\n",
      "5419 - 0.13194572912335453 -  9_Von_dem_Schaaf_das_eine_Koenigstochter_trugtxt - ['das maedchen ritt eine strecke weit legte dem schaaf den schluessel ins ohr und sogleich sprach es o koenigstochter juengste schliesse mit dem schluessel den kasten auf darin sind so praechtige koenigskleider dass die drachen wenn du sie angelegt hast nicht anders meinen werden als du seiest ein koenig und mit nichten ein maegdelein da schloss das maedchen den kasten auf und zog gar herrliche koenigskleider hervor wie vor alters die koenige trugen und viel praechtiger als sie jetzt ein sterblich auge sieht legte sie an und ritt auf dem schaafe zu den drachen da sie also gezogen kam sprachen sie das ist gewiss und wahrhaftig der koenig selbst und mit nichten ein maegdelein und ward ihnen angst und setzten den kampf auf eine spaetere zeit fest die koenigstochter blieb allda im reiche und ritt taeglich als ein maechtiger koenig auf dem schaafe umher als aber die drachen fort und fort aufschub des kampfes verlangten legte es wieder dem schaafe den schluessel ins ohr und das schaaf sprach ich will den teich aussaufen zu dem die drachen jeden mittag kommen und saufen alsdann streue gift auf seinen grund und alsbald wird der regen den teich wieder fuellen also geschah es auch und als die drachen das naechstemal kamen und aus dem teich soffen fielen sie todt nieder da ging die prinzessin hin schnitt dem drachenkoenig den mittelsten kopf aus und da sie auf ihrem schaafe hinreiten wollte kam der koenig des landes in dem die drachen gewohnt hatten und trug ihr aus dankbarkeit sein reich an da lachte ihr das herz denn der koenig war jung und sie nahm das koenigreich an gab sich zu erkennen und der koenig musste koenig bleiben sie aber wurde die frau koenigin'] - 0 - 0 \n",
      "\n",
      "7263 - 0.13054034325515154 -  Die_Hexe_und_die_Koenigskindertxt - ['bin ich weg sei du mein ich'] - 0 - 0 \n",
      "\n",
      "7529 - 0.12631217188147573 -  Die_drei_Hundetxt - ['euer retter ist fort und begehrt eures dankes nicht es waere schoen von euch wenn ihr einen armen menschen gluecklich machtet saget deshalb eurem vater dass ich den drachen umgebracht habe wollt ihr aber das nicht so werf ich euch hier in den strom und niemand wird nach euch fragen denn es heisst der drache habe euch verschlungen die jungfrau wehklagte und flehte aber vergeblich sie musste endlich schwoeren den kutscher fuer ihren retter auszugeben und keiner seele das geheimnis zu verraten so fuhren sie in die stadt zurueck wo alles ausser sich vor entzuecken war die schwarzen fahnen wurden von den tuermen genommen und bunte darauf gesteckt und der koenig umarmte mit freudentraenen seine tochter und ihren vermeintlichen retter du hast nicht nur mein kind sondern das ganze land von einer grossen plage errettet sprach er darum ist es auch billig dass ich dich belohne meine tochter soll deine gemahlin werden da sie aber noch allzu jung ist so soll die hochzeit erst in einem jahre sein der kutscher dankte ward praechtig gekleidet zum edelmanne gemacht und in allen feinen sitten die sein nunmehriger stand erforderte unterwiesen die koenigstochter aber erschrak heftig und weinte bitterlich als sie dies vernahm und wagte doch nicht ihren schwur zu brechen als das jahr um war konnte sie nichts erreichen als die frist noch eines jahres auch dies ging zu ende und sie warf sich dem vater zu fuessen und bat um noch ein jahr denn sie dachte an das versprechen ihres wirklichen erretters der koenig konnte ihrem flehen nicht widerstehen und gewaehrte ihr die bitte mit dem zusatz jedoch dass dies die letzte frist sei die er ihr gestatte wie schnell verrann die zeit der trauungstag war nun festgesetzt auf den tuermen wehten rote fahnen und das ganze volk war im jubel'] - 0 - 0 \n",
      "\n",
      "6287 - 0.12575169415463786 -  Das_winzige_winzige_Maennleintxt - ['jaeger jaeger jaegerlein'] - 0 - 0 \n",
      "\n",
      "394 - 0.12038739669534598 -  11_Das_Wasser_des_Lebenstxt - ['der alte koenig aber war zornig ueber seinen juengsten sohn und glaubte er haette ihm nach dem leben getrachtet also liess er den hof versammeln und das urtheil ueber ihn sprechen dass er heimlich sollte er schossen werden als der prinz nun einmal auf die jagd ritt und nichts davon wusste musste des koenigs jaeger mitgehen draussen als sie ganz allein im wald waren und der jaeger so traurig aussah sagte der prinz zu ihm lieber jaeger was fehlt dir der jaeger sprach ich kanns nicht sagen und soll es doch da sprach der prinz sags nur heraus was es ist ich will dirs verzeihen  ach sagte der jaeger ich soll euch todt schiessen der koenig hat mirs befohlen da erschrack der prinz und sprach lieber jaeger lass mich leben da geb ich dir mein koenigliches kleid gib mir dafuer dein schlechtes der jaeger sagte das will ich gern thun ich haette doch nicht nach euch schiessen koennen da nahm der jaeger des prinzen kleid und der prinz das schlechte vom jaeger und ging fort in den wald hinein'] - 0 - 0 \n",
      "\n",
      "2262 - 0.11855158933853048 -  29_Der_Teufel_mit_den_drei_goldenen_Haarentxt - ['es war einmal eine arme frau die gebar ein soehnlein und weil es eine glueckshaut umhatte als es zur welt kam so ward ihm geweissagt es werde im vierzehnten jahr die tochter des koenigs zur frau haben es trug sich zu dass der koenig bald darauf ins dorf kam und niemand wusste dass es der koenig war und als er die leute fragte was es neues gaebe so antworteten sie es ist in diesen tagen ein kind mit einer glueckshaut geboren was so einer unternimmt das schlaegt ihm zum glueck aus es ist ihm auch vorausgesagt in seinem vierzehnten jahre solle er die tochter des koenigs zur frau haben der koenig der ein boeses herz hatte und ueber die weissagung sich aergerte ging zu den eltern tat ganz freundlich und sagte ihr armen leute ueberlasst mir euer kind ich will es versorgen anfangs weigerten sie sich da aber der fremde mann schweres gold dafuer bot und sie dachten es ist ein glueckskind es muss doch zu seinem besten ausschlagen so willigten sie endlich ein und gaben ihm das kind'] - 0 - 0 \n",
      "\n",
      "648 - 0.11743909690187242 -  129_Die_vier_kunstreichen_Bruedertxt - ['als der koenig seine tochter wieder erblickte war grosse freude er sprach zu den vier bruedern einer von euch soll sie zur gemahlin haben aber welcher das ist macht unter euch aus da entstand ein heftiger streit unter ihnen denn jeder machte ansprueche der sterngucker sprach haett ich nicht die koenigstochter gesehen so waeren alle eure kuenste umsonst gewesen darum ist sie mein der dieb sprach was haette das sehen geholfen wenn ich sie nicht unter dem drachen weggeholt haette darum ist sie mein der jaeger sprach ihr waert doch samt der koenigstochter von dem untier zerrissen worden haette es meine kugel nicht getroffen darum ist sie mein der schneider sprach und haette ich euch mit meiner kunst nicht das schiff wieder zusammengeflickt ihr waert alle jaemmerlich ertrunken darum ist sie mein da tat der koenig den ausspruch jeder von euch hat ein gleiches recht und weil ein jeder die jungfrau nicht haben kann so soll sie keiner von euch haben aber ich will jedem zur belohnung ein halbes koenigreich geben den bruedern gefiel diese entscheidung und sie sprachen es ist besser so als dass wir uneins werden da erhielt jeder ein halbes koenigreich und sie lebten mit ihrem vater in aller glueckseligkeit solange es gott gefiel'] - 0 - 0 \n",
      "\n",
      "647 - 0.1166708464747322 -  129_Die_vier_kunstreichen_Bruedertxt - ['ja sprach der alte zu seinen soehnen ich muss euch ueber den gruenen klee loben ihr habt eure zeit wohl benutzt und was rechtschaffenes gelernt ich kann nicht sagen wem von euch der vorzug gebuehrt wenn ihr nur bald gelegenheit habt eure kunst anzuwenden da wird sichs ausweisen nicht lange da nach kam grosser laerm ins land die koenigstochter waere von einem drachen entfuehrt worden der koenig war tag und nacht darueber in sorgen und liess bekanntmachen wer sie zurueckbraechte sollte sie zur gemahlin haben die vier brueder sprachen untereinander das waere eine gelegenheit wo wir uns koennten sehen lassen wollten zusammen ausziehen und die koenigstochter befreien wo sie ist will ich bald wissen sprach der sterngucker schaute durch sein fernrohr und sprach ich sehe sie schon sie sitzt weit von hier auf einem felsen im meer und neben ihr der drache der sie bewacht da ging er zu dem koenig und bat um ein schiff fuer sich und seine brueder und fuhr mit ihnen ueber das meer bis sie zu dem felsen hinkamen die koenigstochter sass da aber der drache lag in ihrem schoss und schlief der jaeger sprach ich darf nicht schiessen ich wuerde die schoene jungfrau zugleich toeten so will ich mein heil versuchen sagte der dieb schlich sich heran und stahl sie unter dem drachen weg aber so leis und behend dass das untier nichts merkte sondern fortschnarchte sie eilten voll freude mit ihr aufs schiff und steuerten in die offene see aber der drache der bei seinem erwachen die koenigstochter nicht mehr gefunden hatte hinter ihnen her und schnaubte wuetend durch die luft als er gerade ueber dem schiff schwebte und sich herablassen wollte legte der jaeger seine buechse an und schoss ihm mitten ins herz das untier fiel tot herab war aber so gross und gewaltig dass es im herabfallen das ganze schiff zertruemmerte sie erhaschten gluecklich noch ein paar bretter und schwammen auf dem weiten meer umher da war wieder grosse not aber der schneider nicht faul nahm seine wunderbare nadel naehte die bretter mit ein paar grossen stichen in der eile zusammen setzte sich darauf und sammelte alle stuecke des schiffs dann naehte er auch diese so geschickt zusammen dass in kurzer zeit das schiff wieder segelfertig war und sie gluecklich heimfahren konnten'] - 0 - 0 \n",
      "\n",
      "2697 - 0.11666642831080035 -  34_Die_drei_Handwerkspurschentxt - ['die drei handwerkspurschen'] - 0 - 0 \n",
      "\n",
      "2699 - 0.11666642831080035 -  34_Die_drei_Handwerkspurschentxt - ['wir alle drei'] - 0 - 0 \n",
      "\n",
      "7240 - 0.11666642831080035 -  Die_Adler_und_die_Rabentxt - ['drei'] - 0 - 0 \n",
      "\n",
      "5501 - 0.1163160201146447 -  97_Das_Wasser_des_Lebenstxt - ['der alte koenig war zornig ueber seinen juengsten sohn und glaubte er haette ihm nach dem leben getrachtet also liess er den hof versammeln und das urteil ueber ihn sprechen dass er heimlich sollte erschossen werden als der prinz nun einmal auf die jagd ritt und nichts boeses vermutete musste des koenigs jaeger mitgehen draussen als sie ganz allein im wald waren und der jaeger so traurig aussah sagte der prinz zu ihm lieber jaeger was fehlt dir der jaeger sprach ich kanns nicht sagen und soll es doch da sprach der prinz sage heraus was es ist ich will dirs verzeihen ach sagte der jaeger ich soll euch totschiessen der koenig hat mirs befohlen da erschrak der prinz und sprach lieber jaeger lass mich leben da geb ich dir mein koenigliches kleid gib mir dafuer dein schlechtes der jaeger sagte das will ich gerne tun ich haette doch nicht nach euch schiessen koennen da tauschten sie die kleider und der jaeger ging heim der prinz aber ging weiter in den wald hinein'] - 0 - 0 \n",
      "\n",
      "881 - 0.11585353125005096 -  136_Der_Eisenhanstxt - ['es war einmal ein koenig der hatte einen grossen wald bei seinem schloss darin lief wild aller art herum zu einer zeit schickte er einen jaeger hinaus der sollte ein reh schiessen aber er kam nicht wieder vielleicht ist ihm ein unglueck zugestossen sagte der koenig und schickte den folgenden tag zwei andere jaeger hinaus die sollten ihn aufsuchen aber die blieben auch weg da liess er am dritten tag alle seine jaeger kommen und sprach streift durch den ganzen wald und lasst nicht ab bis ihr sie alle drei gefunden habt aber auch von diesen kam keiner wieder heim und von der meute hunde die sie mitgenommen hatten liess sich keiner wieder sehen von der zeit an wollte sich niemand mehr in den wald wagen und er lag da in tiefer stille und einsamkeit und man sah nur zuweilen einen adler oder habicht darueber hinfliegen das dauerte viele jahre da meldete sich ein fremder jaeger bei dem koenig suchte eine versorgung und erbot sich in den gefaehrlichen wald zu gehen der koenig aber wollte seine einwilligung nicht geben und sprach es ist nicht geheuer darin ich fuerchte es geht dir nicht besser als den andern und du kommst nicht wieder heraus der jaeger antwortete herr ich wills auf meine gefahr wagen von furcht weiss ich nichts'] - 0 - 0 \n",
      "\n",
      "5021 - 0.11480498812759703 -  74_Von_Johannes Wassersprung_und_Caspar Wassersprungtxt - ['johannes wassersprung kam in eine stadt da war alles still und traurig weil die prinzessin einem drachen sollte geopfert werden der das ganze land verwuestete und anders nicht konnte besaenftigt werden es war bekannt gemacht wer sein leben daran wagen wolle und den drachen toedte der solle die prinzessin zur gemahlin haben niemand aber hatte sich gefunden auch hatte man das unthier hintergehen wollen und die kammerjungfer der prinzessin hinausgeschickt aber die hatte es gleich erkannt und nicht gewollt johannes wassersprung dachte du musst dein glueck auf die probe stellen vielleicht gelingt dirs und machte sich mit seiner begleitung auf gegen das drachennest der kampf war gewaltig der drache spie feuer und flammen und zuendete das gras rings herum an so dass johannes wassersprung gewiss erstickt waere wenn nicht has hund und baer das feuer ausgetreten und gedaempft haetten endlich musste der drache aber unterliegen und johannes wassersprung hieb ihm seine sieben koepfe herunter dann schnitt er die zungen heraus und steckte sie zu sich nun aber war er so mued dass er sich auf der stelle niederlegte und einschlief waehrend er da schlief kam der kutscher der prinzessin und als er den mann da liegen sah und die sieben drachenkoepfe daneben dachte er das musst du dir zu nutz machen stach den johannes wassersprung todt und nahm die sieben drachenkoepfe mit damit ging er zum koenig sagte er habe das ungeheuer getoedtet die sieben koepfe bringe er zum wahrzeichen und die prinzessin ward seine braut'] - 0 - 0 \n",
      "\n",
      "475 - 0.11399116602776964 -  119_Die_sieben_Schwabentxt - ['drauf kam an den jergli die reihe der sprach'] - 0 - 0 \n",
      "\n",
      "5418 - 0.11371488710049155 -  9_Von_dem_Schaaf_das_eine_Koenigstochter_trugtxt - ['ein koenig war alt und schwach aber seine toechter waren jung und schoen und bluethen nicht anders als drei rothe rosen der alte koenig wurde von den drachen zum kampfe gefordert da sagte seine aelteste tochter ich bin jung und stark vater lass mich fuer dich in den kampf ziehen also geschah es auch sie legte koenigskleider an und zog aus unterwegs aber kam die aelteste prinzessin an eine bruecke davor stand ein altes weib die hatte ein schaaf in den graben fallen lassen und bat dass sie ihr helfen moege es heraus ziehen ich habe keine zeit antwortete sie denn in einer stunde schon muss ich die drachen getoedtet haben so zog sie weiter aber die drachen sagten sogleich du bist mit nichten ein koenig sondern ein maedchen und mit weibern kaempfen wir nicht so musste die prinzessin unverrichteter sache zurueckkehren die zweite koenigstochter aber legte koenigskleider an und sprach ihr werdet sehen dass ich besser mit den drachen fertig werde bei der bruecke traf sie wieder das alte weib welches das schaaf aus dem graben ziehen wollte und bat dass sie ihr helfen moege sie aber weigerte sich dess weil sie in einer stunde schon die drachen getoedtet haben muesse und die erkannten sogleich dass sie ein maedchen sei und weigerten ihr den kampf da legte die dritte koenigstochter koenigskleidung an kam zu der bruecke wo die alte sich noch immer muehte das schaaf aus dem graben zu heben griff unaufgefordert mit an und half bis das schaaf aus dem wasser war da sprach die alte dir kann ich helfen denn du bist mir gefaellig gewesen nimm diesen schluessel und diesen kasten setze dich auf das schaaf und reite fort legst du dem schaaf den schluessel ins ohr so gibt es dir rath'] - 0 - 0 \n",
      "\n",
      "7527 - 0.11113498521656362 -  Die_drei_Hundetxt - ['einst begegnete ihm ein wagen mit zwei pferden bespannt und ganz mit schwarzen decken bekleidet und auch der kutscher war schwarz angetan in dem wagen sass ein wunderschoenes maedchen in einem schwarzen gewande das weinte bitterlich die pferde trabten traurig und langsam und hingen die koepfe kutscher was bedeutet das fragte der schaefer der kutscher antwortete unwirsch jener aber liess nicht nach zu fragen bis der kutscher erzaehlte es hause ein grosser drache in der gegend dem habe man um sich vor seinen verwuestungen zu sichern eine jungfrau als jaehrlichen tribut versprechen muessen die er mit haut und haar verschlinge das los entscheide allemal unter den vierzehnjaehrigen jungfrauen und diesmal habe es die koenigstochter betroffen darueber sei der koenig und das ganze land in tiefster betruebnis und doch muesse der drache sein opfer erhalten der schaefer fuehlte mitleid mit dem schoenen jungen maedchen und folgte dem wagen dieser hielt endlich an einem hohen berge die jungfrau stieg aus und schritt langsam ihrem schrecklichen schicksal entgegen der kutscher sah nun dass der fremde mann ihr folgen wollte und warnte ihn der schaefer liess sich jedoch nicht abwendig machen als sie die haelfte des berges erstiegen hatten kam vom gipfel herab ein schreckliches untier mit einem schuppenleib fluegeln und ungeheuren krallen an den fuessen aus seinem rachen loderte ein gluehender schwefelstrom und schon wollte es sich auf seine beute stuerzen da rief der schaefer zerreissn und der zweite seiner hunde stuerzte sich auf den drachen biss sich in der weiche desselben fest und setzte ihm so zu dass das ungeheuer endlich niedersank und sein giftiges leben aushauchte der hund aber frass ihn voellig auf dass nichts uebrig blieb als ein paar zaehne die steckte der schaefer zu sich die koenigstochter war ganz ohnmaechtig vor schreck und vor freude der schaefer erweckte sie wieder zum leben und nun sank sie ihrem retter zu fuessen und bat ihn flehentlich mit zu ihrem vater zu kommen der ihn reich belohnen werde der juengling antwortete er wolle sich erst in der welt umsehen nach drei jahren aber wieder kommen und bei diesem entschluss blieb er die jungfrau setzte sich wieder in den wagen und der schaefer ging eines andern weges fort'] - 0 - 0 \n",
      "\n",
      "6321 - 0.10970325512298525 -  Der_Fischkoenigtxt - ['koenig bin ich koenig bin ich'] - 0 - 0 \n",
      "\n",
      "6166 - 0.10970325512298525 -  Das_klagende_Liedtxt - ['koenig'] - 0 - 0 \n",
      "\n",
      "6170 - 0.10970325512298525 -  Das_klagende_Liedtxt - ['koenig'] - 0 - 0 \n",
      "\n",
      "6162 - 0.10970325512298525 -  Das_klagende_Liedtxt - ['muss koenig werden'] - 0 - 0 \n",
      "\n",
      "8453 - 0.10968580681157775 -  Siebenschoentxt - ['da fragte der prinz noch einmal ob das wirklich niemand anders sei als des koenigs diener und der koenig sagte er wisse es nicht anders'] - 0 - 0 \n",
      "\n",
      "3182 - 0.10943297800580531 -  42_Der_Jaeger_und_die_drei_Bruedertxt - ['42 der jaeger und die drei brueder'] - 0 - 0 \n",
      "\n",
      "3011 - 0.10852955124736645 -  4_Der_Jaeger_ueber_alle_Jaegertxt - ['am andern tage ging er mit seinen hunden wieder in den wald da trat der zwerg wieder zu ihm und fuehrte ihn in eine hoehle wo tsackos flinten und allerlei jaegerkram darin war von diesen dingen soll er sich etwas waehlen und er nimmt eine buechse und einen tsako woran geschrieben steht ich bin jaeger ueber alle jaeger und wie er den tsacko aufsetzte da war er auch ein jaeger ueber alle jaeger und die drei hunde heulten so freudig nun ging er fort und kam in ein foersterhaus da nahm ihn der foerster in dienst und er schoss mehr wild als alle andern jaeger zusammengenommen'] - 0 - 0 \n",
      "\n",
      "875 - 0.10694139720358783 -  135_Die_weisse_und_die_schwarze_Brauttxt - ['ins koenigs arm'] - 0 - 0 \n",
      "\n",
      "7472 - 0.1052118459359478 -  Die_beiden_Bruedertxt - ['ei die liegen ja praechtig nach der reihe'] - 0 - 0 \n",
      "\n",
      "6219 - 0.10497012377965961 -  Das_klagende_Liedtxt - ['und sagte sie sei die seine'] - 0 - 0 \n",
      "\n",
      "6177 - 0.10497012377965961 -  Das_klagende_Liedtxt - ['und sagte sie sei die seine'] - 0 - 0 \n",
      "\n",
      "3707 - 0.1043859274516973 -  5_Die_Goldtochter_und_die_Hoernertochtertxt - ['einem manne starb seine frau und hinterliess ihm eine vierzehnjaehrige tochter seinem hause gegenueber aber wohnte eine wittwe die hatte auch eine vierzehnjaehrige tochter und die beiden maedchen waren gespielinnen wenn nun des mannes tochter in ihrem hause war dann sprach sie immer zu ihr sage deinem vater doch dass er mich heirathet dann sollst du es gut haben und wiewohl die frau so haesslich war dass sie sich taeglich mit suesser milch wusch damit ihr gesicht schoener aussah so liess der mann sich von seinem unschuldigen toechterlein doch bereden und freite sie diese erhielt von der zeit an mehr schlaege als brod und das fruehstueck gab ihr die frau jeden morgen mit einer haselruthe ihrer rechten tochter aber setzte sie vor vom schoensten und besten'] - 0 - 0 \n",
      "\n",
      "593 - 0.10416926047382068 -  125_Der_Teufel_und_seine_Grossmuttertxt - ['es war ein grosser krieg und der koenig hatte viel soldaten gab ihnen aber wenig sold so dass sie nicht davon leben konnten da taten sich drei zusammen und wollten ausreissen einer sprach zum andern wenn wir erwischt werden so haengt man uns an den galgenbaum wie wollen wirs machen sprach der andere seht dort das grosse kornfeld wenn wir uns da verstecken so findet uns kein mensch das heer darf nicht hinein und muss morgen weiterziehen sie krochen in das korn aber das heer zog nicht weiter sondern blieb rund herum liegen sie sassen zwei tage und zwei naechte im korn und hatten so grossen hunger dass sie beinah gestorben waeren gingen sie aber heraus so war ihnen der tod gewiss da sprachen sie was hilft uns unser ausreissen wir muessen hier elendig sterben indem kam ein feuriger drache durch die luft geflogen der senkte sich zu ihnen herab und fragte sie warum sie sich da versteckt haetten sie antworteten wir sind drei soldaten und sind ausgerissen weil unser sold gering war nun muessen wir hier hungers sterben wenn wir liegen bleiben oder wir muessen am galgen baumeln wenn wir herausgehen wollt ihr mir sieben jahre dienen sagte der drache so will ich euch mitten durchs heer fuehren dass euch niemand erwischen soll wir haben keine wahl und muessens annehmen antworteten sie da packte sie der drache in seine klauen fuehrte sie durch die luft ueber das heer hinweg und setzte sie weit davon wieder auf die erde der drache war aber niemand als der teufel er gab ihnen ein kleines peitschchen und sprach peitscht und knallt ihr damit so wird so viel geld vor euch herumspringen als ihr verlangt ihr koennt dann wie grosse herren leben pferde halten und in wagen fahren nach verlauf der sieben jahre aber seid ihr mein eigen dann hielt er ihnen ein buch vor in das mussten sie sich alle drei unterschreiben doch will ich euch sprach er erst noch ein raetsel aufgeben koennt ihr das raten sollt ihr frei sein und aus meiner gewalt entlassen da flog der drache von ihnen weg und sie reisten fort mit ihren peitschchen hatten geld die fuelle liessen sich herrenkleider machen und zogen in der welt herum wo sie waren lebten sie in freuden und herrlichkeit fuhren mit pferden und wagen assen und tranken taten aber nichts boeses die zeit verstrich ihnen schnell und als es mit den sieben jahren zu ende ging ward zweien gewaltig angst und bang der dritte aber nahms auf die leichte schulter und sprach brueder fuerchtet nichts ich bin nicht auf den kopf gefallen ich errate das raetsel sie gingen hinaus aufs feld sassen da und die zwei machten betruebte gesichter da kam eine alte frau daher die fragte warum sie so traurig waeren ach was liegt euch daran ihr koennt uns doch nicht helfen wer weiss antwortete sie vertraut mir nur euren kummer da erzaehlten sie ihr sie waeren des teufels diener gewesen fast sieben jahre lang der haette ihnen geld wie heu geschafft sie haetten sich ihm aber verschrieben und waeren ihm verfallen wenn sie nach den sieben jahren nicht ein raetsel aufloesen koennten die alte sprach soll euch geholfen werden so muss einer von euch in den wald gehen da wird er an eine eingestuerzte felsenwand kommen die aussieht wie ein haeuschen in das muss er eintreten dann wird er hilfe finden die zwei traurigen dachten das wird uns doch nicht retten und blieben sitzen der dritte aber der lustige machte sich auf und ging so weit in den wald bis er die felsenhuette fand in dem haeuschen aber sass eine steinalte frau die war des teufels grossmutter und fragte ihn woher er kaeme und was er hier wollte er erzaehlte ihr alles was geschehen war und weil er ihr wohl gefiel hatte sie erbarmen und sagte sie wollte ihm helfen sie hob einen grossen stein auf der ueber einem keller lag und sagte da verstecke dich du kannst alles hoeren was hier gesprochen wird sitz nur still und rege dich nicht wann der drache kommt will ich ihn wegen der raetsel befragen mir sagt er alles und dann achte auf das was er antwortet um zwoelf uhr nachts kam der drache angeflogen und verlangte sein essen die grossmutter deckte den tisch und trug trank und speise auf dass er vergnuegt war und sie assen und tranken zusammen da fragte sie ihn im gespraech wies den tag ergangen waere und wie viel seelen er kriegt haette es wollte mir heute nicht recht gluecken antwortete er aber ich habe drei soldaten gepackt die sind mir sicher ja drei soldaten sagte sie die haben etwas an sich die koennen dir noch entkommen sprach der teufel hoehnisch die sind mein denen gebe ich noch ein raetsel auf das sie nimmermehr raten koennen was ist das fuer ein raetsel fragte sie das will ich dir sagen in der grossen nordsee liegt eine tote meerkatze das soll ihr braten sein und von einem walfisch die rippe das soll ihr silberner loeffel sein und ein alter hohler pferdefuss das soll ihr weinglas sein als der teufel zu bett gegangen war hob die alte grossmutter den stein auf und liess den soldaten heraus hast du auch alles wohl in acht genommen ja sprach er ich weiss genug und will mir schon helfen darauf musste er auf einem andern weg durchs fenster heimlich und in aller eile zu seinen gesellen zurueckgehen er erzaehlte ihnen wie der teufel von der alten grossmutter waere ueberlistet worden und wie er die aufloesung des raetsels von ihm vernommen haette da waren sie alle froehlich und guter dinge nahmen die peitsche und schlugen sich so viel geld dass es auf der erde herumsprang als die sieben jahre voellig herum waren kam der teufel mit dem buche zeigte die unterschriften und sprach ich will euch mit in die hoelle nehmen da sollt ihr eine mahlzeit haben koennt ihr mir raten was ihr fuer einen braten werdet zu essen kriegen so sollt ihr frei und los sein und duerft auch das peitschchen behalten da fing der erste soldat an in der grossen nordsee liegt eine tote meerkatze das wird wohl der braten sein der teufel aergerte sich machte hm hm hm und fragte den zweiten was soll aber euer loeffel sein von einem walfisch die rippe das soll unser silberner loeffel sein der teufel schnitt ein gesicht knurrte wieder dreimal hm hm hm und sprach zum dritten wisst ihr auch was euer weinglas sein soll ein alter pferdefuss das soll unser weinglas sein da flog der teufel mit einem lauten schrei fort und hatte keine gewalt mehr ueber sie aber die drei behielten das peitschchen schlugen geld hervor soviel sie wollten und lebten vergnuegt bis an ihr ende'] - 0 - 0 \n",
      "\n",
      "4225 - 0.10372753089939825 -  57_Der_goldene_Vogeltxt - ['der juengste bruder war aber nicht umgekommen der brunnen war zum glueck trocken und er fiel auf weiches moos ohne schaden zu nehmen konnte aber nicht wieder heraus auch in dieser not verliess ihn der treue fuchs nicht kam zu ihm herabgesprungen und schalt ihn dass er seinen rat vergessen haette ich kanns aber doch nicht lassen sagte er ich will dir wieder an das tageslicht helfen er sagte ihm er sollte seinen schwanz anpacken und sich fest daran halten und zog ihn dann in die hoehe noch bist du nicht aus aller gefahr sagte der fuchs deine brueder waren deines todes nicht gewiss und haben den wald mit waechtern umstellt die sollen dich toeten wenn du dich sehen liessest da sass ein armer mann am weg mit dem vertauschte der juengling die kleider und gelangte auf diese weise an des koenigs hof niemand erkannte ihn aber der vogel fing an zu pfeifen das pferd fing an zu fressen und die schoene jungfrau hoerte weinens auf der koenig fragte verwundert was hat das zu bedeuten da sprach die jungfrau ich weiss es nicht aber ich war so traurig und nun bin ich so froehlich es ist mir als waere mein rechter braeutigam gekommen sie erzaehlte ihm alles was geschehen war obgleich die andern brueder ihr den tod angedroht hatten wenn sie etwas verraten wuerde der koenig hiess alle leute vor sich bringen die in seinem schloss waren da kam auch der juengling als ein armer mann in seinen lumpenkleidern aber die jungfrau erkannte ihn gleich und fiel ihm um den hals die gottlosen brueder wurden ergriffen und hingerichtet er aber ward mit der schoenen jungfrau vermaehlt und zum erben des koenigs bestimmt'] - 0 - 0 \n",
      "\n",
      "4542 - 0.10295035231928829 -  60_Die_zwei_Bruedertxt - ['am andern tag wo die hochzeit sein sollte sprach der jaeger um mittagszeit zum wirt glaubt er wohl herr wirt dass ich heut brot von des koenigs tisch hier bei ihm essen will ja sprach der wirt da wollt ich doch noch hundert goldstuecke dran setzen dass das nicht wahr ist der jaeger nahm die wette an und setzte einen beutel mit ebenso viel goldstuecken dagegen dann rief er den hasen und sprach geh hin lieber springer und hol mir von dem brot das der koenig isst nun war das haeslein das geringste und konnte es keinem andern wieder auftragen sondern musste sich selbst auf die beine machen ei dachte es wann ich so allein durch die strassen springe da werden die metzgerhunde hinter mir drein sein wie es dachte so geschah es auch und die hunde kamen hinter ihm drein und wollten ihm sein gutes fell flicken es sprang aber hast du nicht gesehen und fluechtete sich in ein schilderhaus ohne dass es der soldat gewahr wurde da kamen die hunde und wollten es heraushaben aber der soldat verstand keinen spass und schlug mit dem kolben drein dass sie schreiend und heulend fortliefen als der hase merkte dass die luft rein war sprang er zum schloss hinein und gerade zur koenigstochter setzte sich unter ihren stuhl und kratzte sie am fuss da sagte sie willst du fort und meinte es waere ihr hund der hase kratzte zum zweitenmal am fuss da sagte sie wieder willst du fort und meinte es waere ihr hund aber der hase liess sich nicht irre machen und kratzte zum drittenmal da guckte sie herab und erkannte den hasen an seinem halsband nun nahm sie ihn auf ihren schoss trug ihn in ihre kammer und sprach lieber hase was willst du antwortete er mein herr der den drachen getoetet hat ist hier und schickt mich ich soll um ein brot bitten wie es der koenig isst da war sie voll freude und liess den baecker kommen und befahl ihm ein brot zu bringen wie es der koenig ass sprach das haeslein aber der baecker muss mirs auch hintragen damit mir die metzgerhunde nichts tun der baecker trug es ihm bis an die tuere der wirtsstube da stellte sich der hase auf die hinterbeine nahm alsbald das brot in die vorderpfoten und brachte es seinem herrn da sprach der jaeger sieht er herr wirt die hundert goldstuecke sind mein der wirt wunderte sich aber der jaeger sagte weiter ja herr wirt das brot haett ich nun will ich aber auch von des koenigs braten essen der wirt sagte das moecht ich sehen aber wetten wollte er nicht mehr rief der jaeger den fuchs und sprach mein fuechslein geh hin und hol mir braten wie ihn der koenig isst der rotfuchs wusste die schliche besser ging an den ecken und durch die winkel ohne dass ihn ein hund sah setzte sich unter der koenigstochter stuhl und kratzte an ihrem fuss da sah sie herab und erkannte den fuchs am halsband nahm ihn mit in ihre kammer und sprach lieber fuchs was willst du antwortete er mein herr der den drachen getoetet hat ist hier und schickt mich ich soll bitten um einen braten wie ihn der koenig isst da liess sie den koch kommen der musste einen braten wie ihn der koenig ass anrichten und dem fuchs bis an die tuere tragen da nahm ihm der fuchs die schuessel ab wedelte mit seinem schwanz erst die fliegen weg die sich auf den braten gesetzt hatten und brachte ihn dann seinem herrn sieht er herr wirt sprach der jaeger brot und fleisch ist da nun will ich auch zugemues essen wie es der koenig isst da rief er den wolf und sprach lieber wolf geh hin und hol mir zugemues wies der koenig isst da ging der wolf geradezu ins schloss weil er sich vor niemand fuerchtete und als er in der koenigstochter zimmer kam da zupfte er sie hinten am kleid dass sie sich umschauen musste sie erkannte ihn am halsband und nahm ihn mit in ihre kammer und sprach lieber wolf was willst du antwortete er mein herr der den drachen getoetet hat ist hier ich soll bitten um ein zugemues wie es der koenig isst da liess sie den koch kommen der musste ein zugemues bereiten wie es der koenig ass und musste es dem wolf bis vor die tuere tragen da nahm ihm der wolf die schuessel ab und brachte sie seinem herrn sieht er herr wirt sprach der jaeger nun hab ich brot fleisch und zugemues aber ich will auch zuckerwerk essen wie es der koenig isst rief er den baeren und sprach lieber baer du leckst doch gern etwas suesses geh hin und hol mir zuckerwerk wies der koenig isst da trabte der baer nach dem schlosse und ging ihm jedermann aus dem wege als er aber zu der wache kam hielt sie die flinten vor und wollte ihn nicht ins koenigliche schloss lassen aber er hob sich in die hoehe und gab mit seinen tatzen links und rechts ein paar ohrfeigen dass die ganze wache zusammenfiel und darauf ging er geradesweges zu der koenigstochter stellte sich hinter sie und brummte ein wenig da schaute sie rueckwaerts und erkannte den baeren und hiess ihn mitgehen in ihre kammer und sprach lieber baer was willst du antwortete er mein herr der den drachen getoetet hat ist hier ich soll bitten um zuckerwerk wies der koenig isst da liess sie den zuckerbaecker kommen der musste zuckerwerk backen wies der koenig ass und dem baeren vor die tuere tragen da leckte der baer erst die zuckererbsen auf die heruntergerollt waren dann stellte er sich aufrecht nahm die schuessel und brachte sie seinem herrn sieht er herr wirt sprach der jaeger nun habe ich brot fleisch zugemues und zuckerwerk aber ich will auch wein trinken wie ihn der koenig trinkt er rief seinen loewen herbei und sprach lieber loewe du trinkst dir doch gerne einen rausch geh und hol mir wein wie ihn der koenig trinkt da schritt der loewe ueber die strasse und die leute liefen vor ihm und als er an die wache kam wollte sie den weg sperren aber er bruellte nur einmal so sprang alles fort nun ging der loewe vor das koenigliche zimmer und klopfte mit seinem schweif an die tuere da kam die koenigstochter heraus und waere fast ueber den loewen erschrocken aber sie erkannte ihn an dem goldenen schloss von ihrem halsbande und hiess ihn mit in ihre kammer gehen und sprach lieber loewe was willst du antwortete er mein herr der den drachen getoetet hat ist hier ich soll bitten um wein wie ihn der koenig trinkt da liess sie den mundschenk kommen der sollte dem loewen wein geben wie ihn der koenig traenke sprach der loewe ich will mitgehen und sehen dass ich den rechten kriege da ging er mit dem mundschenk hinab und als sie unten hinkamen wollte ihm dieser von dem gewoehnlichen wein zapfen wie ihn des koenigs diener tranken aber der loewe sprach halt ich will den wein erst versuchen zapfte sich ein halbes mass und schluckte es auf einmal hinab nein sagte er das ist nicht der rechte der mundschenk sah ihn schief an ging aber und wollte ihm aus einem andern fass geben das fuer des koenigs marschall war sprach der loewe halt erst will ich den wein versuchen zapfte sich ein halbes mass und trank es der ist besser aber noch nicht der rechte da ward der mundschenk boes und sprach was so ein dummes vieh vom wein verstehen will aber der loewe gab ihm einen schlag hinter die ohren dass er unsanft zur erde fiel und als er sich wieder aufgemacht hatte fuehrte er den loewen ganz stillschweigens in einen kleinen besonderen keller wo des koenigs wein lag von dem sonst kein mensch zu trinken bekam der loewe zapfte sich erst ein halbes mass und versuchte den wein dann sprach er das kann von dem rechten sein und hiess den mundschenk sechs flaschen fuellen nun stiegen sie herauf wie der loewe aber aus dem keller ins freie kam schwankte er hin und her und war ein wenig trunken und der mundschenk musste ihm den wein bis vor die tuere tragen da nahm der loewe den henkelkorb in das maul und brachte ihn seinem herrn sprach der jaeger sieht er herr wirt da hab ich brot fleisch zugemues zuckerwerk und wein wie es der koenig hat nun will ich mit meinen tieren mahlzeit halten und setzte sich hin ass und trank und gab dem hasen dem fuchs dem wolf dem baer und dem loewen auch davon zu essen und zu trinken und war guter dinge denn er sah dass ihn die koenigstochter noch lieb hatte und als er mahlzeit gehalten hatte sprach er herr wirt nun hab ich gegessen und getrunken wie der koenig isst und trinkt jetzt will ich an des koenigs hof gehen und die koenigs tochter heiraten fragte der wirt wie soll das zugehen da sie schon einen braeutigam hat und heute die vermaehlung gefeiert wird da zog der jaeger das taschentuch heraus das ihm die koenigstochter auf dem drachenberg gegeben hatte und worin die sieben zungen des untiers eingewickelt waren und sprach dazu soll mir helfen was ich da in der hand halte da sah der wirt das tuch an und sprach wenn ich alles glaube so glaube ich das nicht und will wohl haus und hof dran setzen der jaeger aber nahm einen beutel mit tausend goldstuecken stellte ihn auf den tisch und sagte das setze ich dagegen'] - 0 - 0 \n",
      "\n",
      "2537 - 0.10242351871572455 -  31_Das_Maedchen_ohne_Haendetxt - ['darauf zog der koenig umher an die sieben jahre lang und suchte sie in allen steinklippen und felsenhoehlen aber er fand sie nicht und dachte sie waere verschmachtet er ass nicht und trank nicht waehrend dieser ganzen zeit aber gott erhielt ihn endlich kam er in einen grossen wald und fand darin das kleine haeuschen daran das schildchen war mit den worten hier wohnt jeder frei da kam die weisse jungfrau heraus nahm ihn bei der hand fuehrte ihn hinein und sprach seid willkommen herr koenig und fragte ihn wo er herkaeme er antwortete ich bin bald sieben jahre umhergezogen und suche meine frau mit ihrem kinde ich kann sie aber nicht finden der engel bot ihm essen und trinken an er nahm es aber nicht und wollte nur ein wenig ruhen da legte er sich schlafen und deckte ein tuch ueber sein gesicht'] - 0 - 0 \n",
      "\n",
      "3580 - 0.10174473663002366 -  48_Der_Koenig_von_Papierland_und_von_Kummerlandtxt - ['waehrend der koenig aber so mit seiner tochter gesprochen hatte der student gerade den ring am finger den ihm die hexe gegeben hatte und da wusste er jedes wort das der koenig zu der prinzessin sprach auf den abend als es dunkelte gingen alle in den lustgarten des koenigs um zu lustwandeln und da ging immer ein hofherr mit einer hofdame und selbst der alte koenig fuehrte seine frau koenigin am arm'] - 0 - 0 \n",
      "\n",
      "4708 - 0.10096648594036377 -  65_Allerleirauhtxt - ['nun hatte der koenig eine tochter die war gerade so schoen wie ihre verstorbene mutter und hatte auch solche goldene haare als sie herangewachsen war sah sie der koenig einmal an und sah dass sie in allem seiner verstorbenen gemahlin aehnlich war und fuehlte ploetzlich eine heftige liebe zu ihr da sprach er zu seinen raeten ich will meine tochter heiraten denn sie ist das ebenbild meiner verstorbenen frau und sonst kann ich doch keine braut finden die ihr gleicht als die raete das hoerten erschraken sie und sprachen gott hat verboten dass der vater seine tochter heirate aus der suende kann nichts gutes entspringen und das reich wird mit ins verderben gezogen die tochter erschrak noch mehr als sie den entschluss ihres vaters vernahm hoffte aber ihn von seinem vorhaben noch abzubringen da sagte sie zu ihm eh ich euren wunsch erfuelle muss ich erst drei kleider haben eins so golden wie die sonne eins so silbern wie der mond und eins so glaenzend wie die sterne ferner verlange ich einen mantel von tausenderlei pelz und rauhwerk zusammengesetzt und ein jedes tier in eurem reich muss ein stueck von seiner haut dazu geben sie dachte aber das anzuschaffen ist ganz unmoeglich und ich bringe damit meinen vater von seinen boesen gedanken ab der koenig liess aber nicht ab und die geschicktesten jungfrauen in seinem reiche mussten die drei kleider weben eins so golden wie die sonne eins so silbern wie der mond und eins so glaenzend wie die sterne und seine jaeger mussten alle tiere im ganzen reiche auffangen und ihnen ein stueck von ihrer haut abziehen daraus ward ein mantel von tausenderlei rauhwerk gemacht endlich als alles fertig war liess der koenig den mantel herbeiholen breitete ihn vor ihr aus und sprach morgen soll die hochzeit sein'] - 0 - 0 \n",
      "\n",
      "1643 - 0.10050839616715875 -  198_Jungfrau_Maleentxt - ['198 jungfrau maleen'] - 0 - 0 \n",
      "\n",
      "2983 - 0.09976183859656301 -  39_Der_Teufel_und_seine_Grossmuttertxt - ['es war ein grosser krieg und der koenig gab seinen soldaten wenig gold so dass sie nicht davon leben konnten da thaten sich drei zusammen und wollten ausreissen einer sprach zum andern wenn wir aber gekriegt werden haengt man uns an den galgenbaum wie wollen wir das machen sprach der andere da steht ein grosses kornfeld wenn wir hinein kriechen findet uns kein mensch das herr kommt nicht hinein das thaten sie und sassen zwei tage und zwei naechte im korn hatten aber so grossen hunger dass sie beinah gestorben waeren denn sie durften nicht heraus da sprachen sie was hilft uns unser ausreissen wir muessen elendig im korn sterben indem kam ein feuriger drache ueber das kornfeld durch die luft geflogen der sah sie liegen und fragte was thut ihr drei da im korn sie antworteten wir sind drei ausgerissene soldaten wir konnten von unserm gold nicht laenger im heer leben nun muessen wir hier hungers sterben weil das heer rund herum liegt und wir nicht entrinnen koennen wollt ihr mir sieben jahre dienen sagte der drache so will ich euch mitten durchs herr fuehren dass euch niemand kriegen soll wir haben keine wahl sprachen sie und sinds zufrieden da nahm sie der drache in seine klauen und unter seine fittiche und brachte sie durch die luft ueber das herr weg in sicherheit darnach liess er sie wieder zur erde er war aber der teufel und gab ihnen ein kleines peitschgen womit sie sich geld peitschen konnten soviel sie wollten damit sprach er koennt ihr grosse herren werden und in wagen fahren nach verlauf der sieben jahre aber seyd ihr mein eigen und hielt ihnen ein buch vor in das mussten sie alle drei unterschreiben doch will ich euch sagte er dann erst noch ein raethsel geben koennt ihr das rathen sollt ihr frei und aus meiner gewalt seyn da ging der drache von ihnen ab und sie reisten fort mit ihren peitschgen hatten geld die fuelle liessen sich herrenkleider machen und zogen in der welt herum wo sie waren lebten sie in freuden und herrlichkeit fuhren mit pferden und wagen assen und tranken und die sieben jahre strichen in kurzer zeit um als es nun bald ans ende kam wurde ihnen angst und bang zwei waren ganz betruebt der dritte aber nahms leichter und sprach brueder fuerchtet nichts vielleicht koennen wir das raethsel rathen wie sie so zusammensassen kam eine alte frau daher die fragte warum sie so traurig waeren ach was liegt euch daran ihr koennt uns doch nicht helfen wer weiss das erzaehlt mirs nur da erzaehlten sies ihr dass sie fast sieben jahr dem teufel gedient der haette ihnen geld wie heu geschafft sie haetten sich ihm aber verschrieben und waeren sein eigenthum wenn sie nach den sieben jahren nicht ein raethsel aufloesen koennten die alte sprach soll euch geholfen werden so muss einer von euch zum wald hinein gehen und da wird er an eine zerfallene klippe kommen die aussieht wie ein haeuschen die zwei traurigen dachten das wird uns doch nicht retten und blieben vor dem wald der dritte lustige machte sich auf und fand alles so wie die frau gesagt hatte in dem haeuschen aber sass eine steinalte frau die war des teufels grossmutter und fragte ihn woher er kaeme und was er wollte da erzaehlte er ihr alles und weil er ein gar schoener mensch war hatte sie erbarmen und hob einen grossen stein auf darunter sitz ganz still wann der drache kommt will ich ihn um die raethselfragen um zwoelf uhr nachts kam der drache geflogen und wollte sein essen da deckte ihm seine grossmutter den tisch und trug trank und speise auf dass er vergnuegt war und sie assen und tranken zusammen da fragte sie ihn im gespraech wies den tag ergangen waere wie viel seelen er kriegt haette ich hab noch drei soldaten die sind mein sprach er ja drei soldaten sagte sie haben etwas an sich die koennen dir noch entkommen sprach der teufel hoehnisch die sind mir gewiss denen gebe ich ein raethsel auf das sie nimmermehr rathen koennen was ist das fuer ein raethsel fragte sie das will ich dir sagen in der grossen nordsee liegt eine todte meerkatze das soll ihr braten seyn und von einem wallfisch die rippe das soll ihr silberner loeffel seyn und ein alter pferdefuss das soll ihr weinglas seyn da ging der teufel fort zu schlafen und die alte grossmutter hob den stein auf und liess den soldaten heraus hast du auch alles wohl in acht genommen ja sprach er und musste auf einem andern weg durchs fenster schnell zu seinen gesellen gehen damit ihn der teufel nicht merkte  wie er nun zu den andern kam erzaehlte er ihnen was er gehoert hatte und nun koennten sie rathen was sonst keine seele gerathen haette da waren sie alle froehlich und guter dinge und peitschten sich geld genug als nun die sieben jahre voellig herum waren kam der teufel mit dem buche zeigte die unterschriften und sprach ich will euch nun in die hoelle mitnehmen da sollt ihr eine mahlzeit haben koennt ihr mir rathen was ihr fuer einen braten werdet zu essen kriegen so sollt ihr frei und los seyn und das peitschgen dazubehalten da fing der erste soldat an in der grossen nordsee liegt eine todte meerkatze das wird wohl der braten seyn der teufel aergerte sich machte hm hm hm und fragte den zweiten was soll euer loeffel seyn da antwortete er von einem wallfisch die rippe das soll unser silberner loeffel seyn der teufel schnitt ein gesicht knurrte wieder dreimal hm hm hm und sprach zum dritten was soll euer weinglas seyn ein alter pferdefuss das soll unser weinglas seyn da flog der teufel fort liess sie im stich und hatte keine gewalt mehr ueber sie aber die drei behielten das peitschgen schlugen geld hervor soviel sie wollten und lebten vergnuegt bis an ihs ende'] - 0 - 0 \n",
      "\n",
      "436 - 0.09945313250281487 -  111_Der_gelernte_Jaegertxt - ['es war einmal ein junger bursch der hatte die schlosserhantierung gelernt und sprach zu seinem vater er wollte jetzt in die welt gehen und sich versuchen ja sagte der vater das bin ich zufrieden und gab ihm etwas geld auf die reise also zog er herum und suchte arbeit auf eine zeit da wollt ihm das schlosserwerk nicht mehr folgen und stand ihm auch nicht mehr an aber er kriegte lust zur jaegerei da begegnete ihm auf der wanderschaft ein jaeger in gruenem kleide der fragte wo er herkaeme und wo er hin wollte er waer ein schlossergesell sagte der bursch aber das handwerk gefiele ihm nicht mehr und haette lust zur jaegerei ob er ihn als lehrling annehmen wollte o ja wenn du mit mir gehen willst da ging der junge bursch mit vermietete sich etliche jahre bei ihm und lernte die jaegerei danach wollte er sich weiter versuchen und der jaeger gab ihm nichts zum lohn als eine windbuechse die hatte aber die eigenschaft wenn er damit einen schuss tat so traf er ohnfehlbar da ging er fort und kam in einen sehr grossen wald von dem konnte er in einem tag das ende nicht finden wies abend war setzte er sich auf einen hohen baum damit er aus den wilden tieren kaeme gegen mitternacht zu deuchte ihn schimmerte ein kleines lichtchen von weitem da sah er durch die äste darauf hin und behielt in acht wo es war doch nahm er erst noch seinen hut und warf ihn nach dem licht zu herunter dass er danach gehen wollte wann er herabgestiegen waere als nach einem zeichen nun kletterte er herunter ging auf seinen hut los setzte ihn wieder auf und zog geradewegs fort je weiter er ging je groesser ward das licht und wie er nahe dabeikam sah er dass es ein gewaltiges feuer war und sassen drei riesen dabei und hatten einen ochsen am spiess und liessen ihn braten nun sprach der eine ich muss doch schmecken ob das fleisch bald zu essen ist riss ein stueck herab und wollt es in den mund stecken aber der jaeger schoss es ihm aus der hand nun ja sprach der riese da weht mir der wind das stueck aus der hand und nahm sich ein anderes wie er eben anbeissen wollte schoss es ihm der jaeger abermals weg da gab der riese dem der neben ihm sass eine ohrfeige und rief zornig was reisst du mir mein stueck weg ich habe es nicht weggerissen sprach der andere es wird dirs ein scharfschuetz weggeschossen haben der riese nahm sich das dritte stueck konnte es aber nicht in der hand behalten der jaeger schoss es ihm heraus da sprachen die riesen das muss ein guter schuetze sein der den bissen vor dem maul wegschiesst so einer waere uns nuetzlich und riefen laut komm herbei du scharfschuetze setze dich zu uns ans feuer und iss dich satt wir wollen dir nichts tun aber kommst du nicht und wir holen dich mit gewalt so bist du verloren da trat der bursch herzu und sagte er waere ein gelernter jaeger und wonach er mit seiner buechse ziele das treffe er auch sicher und gewiss da sprachen sie wenn er mit ihnen gehen wollte sollte ers gut haben und erzaehlten ihm vor dem wald sei ein grosses wasser dahinter staend ein turm und in dem turm saess eine schoene koenigstochter die wollten sie gern rauben ja sprach er die will ich bald geschafft haben sagten sie weiter es ist aber noch etwas dabei es liegt ein kleines huendchen dort das faengt gleich an zu bellen wann sich jemand naehert und sobald das bellt wacht auch alles am koeniglichen hofe auf und deshalb koennen wir nicht hineinkommen unterstehst du dich das huendchen totzuschiessen ja sprach er das ist mir ein kleiner spass danach setzte er sich auf ein schiff und fuhr ueber das wasser und wie er bald beim land war kam das huendlein gelaufen und wollte bellen aber er kriegte seine windbuechse und schoss es tot wie die riesen das sahen freuten sie sich und meinten sie haetten die koenigstochter schon gewiss aber der jaeger wollte erst sehen wie die sache beschaffen war und sprach sie sollten haussen bleiben bis er sie riefe da ging er in das schloss und es war maeuschenstill darin und schlief alles wie er das erste zimmer aufmachte hing da ein saebel an der wand der war von purem silber und war ein goldener stern darauf und des koenigs name daneben aber lag auf einem tisch ein versiegelter brief den brach er auf und es stand darin wer den saebel haette koennte alles ums leben bringen was ihm vorkaeme da nahm er den saebel von der wand hing ihn um und ging weiter da kam er in das zimmer wo die koenigstochter lag und schlief und sie war so schoen dass er still stand und sie betrachtete und den atem anhielt er dachte bei sich selbst wie darf ich eine unschuldige jungfrau in die gewalt der wilden riesen bringen die haben boeses im sinn er schaute sich weiter um da standen unter dem bett ein paar pantoffeln auf dem rechten stand ihres vaters name mit einem stern und auf dem linken ihr eigener name mit einem stern sie hatte auch ein grosses halstuch um von seide mit gold ausgestickt auf der rechten seite ihres vaters name auf der linken ihr name alles mit goldenen buchstaben da nahm der jaeger eine schere und schnitt den rechten schlippen ab und tat ihn in seinen ranzen und dann nahm er auch den rechten pantoffel mit des koenigs namen und steckte ihn hinein nun lag die jungfrau noch immer und schlief und sie war ganz in ihr hemd eingenaeht da schnitt er auch ein stueckchen von dem hemd ab und steckte es zu dem andern doch tat er das alles ohne sie anzuruehren dann ging er fort und liess sie ungestoert schlafen und als er wieder ans tor kam standen die riesen noch draussen warteten auf ihn und dachten er wuerde die koenigstochter bringen er rief ihnen aber zu sie sollten hereinkommen die jungfrau waere schon in seiner gewalt die tuere koennte er ihnen aber nicht aufmachen aber da waere ein loch durch welches sie kriechen muessten nun kam der erste naeher da wickelte der jaeger des riesen haar um seine hand zog den kopf herein und hieb ihn mit seinem saebel in einem streich ab und duns zog ihn dann vollends hinein dann rief er den zweiten und hieb ihm gleichfalls das haupt ab und endlich auch dem dritten und war froh dass er die schoene jungfrau von ihren feinden befreit hatte und schnitt ihnen die zungen aus und steckte sie in seinen ranzen da dachte er ich will heim gehen zu meinem vater und ihm zeigen was ich schon getan habe dann will ich in der welt herumziehen das glueck das mir gott bescheren will wird mich schon erreichen'] - 0 - 0 \n",
      "\n",
      "235 - 0.09900875342399809 -  10_Das_Rauhthiertxt - ['den andern abend ging der jaeger noch einmal zur hochzeit denn sie dauerte zwei tage lang da kam das rauhthierchen in seinem goldnen kleid und der jaeger tanzte wieder den ganzen abend mit ihr und dann liefs wieder durch dornen und gestruepp auf dem naechsten wege heim als der jaeger nach haus kam kroch es schon wieder auf allen vieren in der stube herum in seinem bueffelochsenfell brachte ihm die pantoffeln und zog ihm die stiefel aus dabei that es einen fehltritt und weil es in der eile heute das bueffelochsenfell noch nicht ordentlich befestigt hatte so fiel ihm das vom leibe und das maegdlein lag in der goldnen kleidung da da hiess der jaeger es aufstehen als einer schoenen jungfrau geziemt und nicht mehr auf vieren gehen und lud am andern tage alle die hochzeitsgaeste zu sich und freite sie'] - 0 - 0 \n",
      "\n",
      "6998 - 0.09833502122604643 -  Der_starke_Gottliebtxt - ['unter uns erwiderte die frau das heisst ich muss darum wissen'] - 0 - 0 \n",
      "\n",
      "2761 - 0.09802065154667913 -  36_Die_schoene_Magdalenetxt - ['so wuerde alles ankommen was nur ihr herz begehre das that sie auch und so oft sie es sagte kamen die leckersten speisen und die kostbarsten weine und obenein stand noch etwas marzipan auf dem tische so lebte sie einige zeit in dem hause und war in der regel dort ganz einsam denn das weisse maennchen war meistens auswaerts unterdess kam ihr gemahl wieder aus dem kriege und vernahm alles was mit ihr geschehen war nun stellte der koenig der um seine magdalene keine ruhe hatte eine grosse jagd an hatte auch selbst das glueck am abende in jenem hause das licht schimmern zu sehen nachdem er sich von seinen dienern und genossen verirrt hatte so kam er vor das haus klopfte an und die schoene magdalene erkannte ihn sogleich an der stimme allein der loewe wollte nicht leiden dass der koenig zu der jungen frau hereinkaeme da schlug sie den loewen da wurde er still und der koenig trat herein der fragte woher sie sei und warum sie in diesem kleinen hause wohne sie aber bekannte alles was mit ihr geschehen war da erkannte sie der koenig als seine gemahlin und war voller freude dass mit der schoenen magdalene ein wunder geschehen war und dass sie ihre arme wieder erhalten hatte und nun erst eine rechte frau mit zwei schoenen runden armen aus ihr geworden war die arme kuesste er ihr inbruenstiglich und dann kuesste er die koenigin wieder auf den mund und so trieben sie es gar lange'] - 0 - 0 \n",
      "\n",
      "5058 - 0.09643123585483798 -  76_Die_Nelke1txt - ['da zog er fort und der pudelhund musste mitlaufen und zog in sein vaterland nun ging er zu dem turm wo seine mutter darinsass und weil der turm so hoch war wuenschte er eine leiter herbei die bis obenhin reichte da stieg er hinauf und sah hinein und rief herzliebste mutter frau koenigin seid ihr noch am leben oder seid ihr tot sie antwortete ich habe ja eben gegessen und bin noch satt und meinte die engel waeren da sprach er ich bin euer lieber sohn den die wilden tiere euch sollen vom schoss geraubt haben aber ich bin noch am leben und will euch bald erretten nun stieg er herab und ging zu seinem herrn vater und liess sich anmelden als ein fremder jaeger ob er koennte dienste bei ihm haben antwortete der koenig ja wenn er gelernt waere und ihm wildbret schaffen koennte sollte er herkommen es hatte sich aber auf der ganzen grenze und gegend niemals wild aufgehalten da sprach der jaeger er wollte ihm so viel wild schaffen als er nur auf der koeniglichen tafel brauchen koennte dann hiess er die jaegerei zusammenkommen sie sollten alle mit ihm hinaus in den wald gehen da gingen sie mit und draussen hiess er sie einen grossen kreis schliessen der an einem ende offen blieb und dann stellte er sich hinein und fing an zu wuenschen alsbald kamen zweihundert und etliche stueck wildbret in den kreis gelaufen und die jaeger mussten es schiessen da ward alles auf sechzig bauernwagen geladen und dem koenig heim gefahren da konnte er einmal seine tafel mit wildbret zieren nachdem er lange jahre keins gehabt hatte'] - 0 - 0 \n",
      "\n",
      "7743 - 0.09625756821310545 -  Die_scharfe_Scheretxt - ['ist mein tempel  und hier ist eine schoene gegend nicht wahr meister'] - 0 - 0 \n",
      "\n",
      "7335 - 0.09566524956996542 -  Die_Lebensgeschichte_der_Maus_Sambartxt - ['dieser ratschlag ward schnell ausgefuehrt der hirsch und der rabe eilten auf einem umweg dem jaeger voraus und taten wie die maus geraten der jaeger war gierig den hirsch zu erreichen und warf alles was er trug von sich der hirsch kroch ins dickicht der rabe flog nach und der jaeger lief nach und die maus zernagte das netz der schildkroete und ging mit ihr nach hause dort fanden sie schon den raben und den hirsch die schnell dem jaeger aus den augen gekommen waren wie dieser nun zurueckkehrte an den ort wo er seine sachen hingeworfen hatte die er noch dazu eine gute laenge suchen musste so fand er das netz zernagt und konnte sich nicht genug wundern das muss der boese teufel getan haben und kein guter geist fluchte er und dachte dass boese geister und zauberer diese gegend inne haben muessten welche die jaeger in tiergestalten aefften ging furchtsam nach hause und jagte nie mehr in diesem walde und da wohnten nun die befreundeten tiere miteinander in ruhe eintracht und glueckseligkeit und von zeit zu zeit kam auch die taube in diese schoene einsamkeit und besuchte die kluge maus sambar ihre liebe freundin und brachte neuigkeiten aus der welt und allerlei schoene geschichten daran alle ihre freude hatten'] - 0 - 0 \n",
      "\n",
      "3858 - 0.0952301657803872 -  52_Koenig_Drosselbart1txt - ['endlich kamen sie durch eine stadt'] - 0 - 0 \n",
      "\n",
      "6168 - 0.09520590550041538 -  Das_klagende_Liedtxt - ['und da sind viele jahre hingegangen und die alte koenigin hat fort und fort getrauert ueber die verlorene tochter die sie im ganzen walde fruchtlos suchen liess und hat sich den tod gewuenscht weil sie selbst die geliebte tochter fortgeschickt hatte und als ihr sohn nun die jahre seiner muendigkeit erreicht hatte so ward'] - 0 - 0 \n",
      "\n",
      "2266 - 0.09492417003468952 -  29_Der_Teufel_mit_den_drei_goldenen_Haarentxt - ['nach einiger zeit kam der koenig wieder in sein schloss und sah dass die weissagung erfuellt und das glueckskind mit seiner tochter vermaehlt war wie ist das zugegangen sprach er ich habe in meinem brief einen ganz andern befehl erteilt da reichte ihm die koenigin den brief und sagte er moechte selbst sehen was darin staende der koenig las den brief und merkte wohl dass er mit einem andern war vertauscht worden er fragte den juengling wie es mit dem anvertrauten briefe zugegangen waere warum er einen andern dafuer gebracht haette ich weiss von nichts antwortete er er muss mir in der nacht vertauscht sein als ich im walde geschlafen habe voll zorn sprach der koenig so leicht soll es dir nicht werden wer meine tochter haben will der muss mir aus der hoelle drei goldene haare von dem haupte des teufels holen bringst du mir was ich verlange so sollst du meine tochter behalten damit hoffte der koenig ihn auf immer los zu werden das glueckskind aber antwortete die goldenen haare will ich wohl holen ich fuerchte mich vor dem teufel nicht darauf nahm er abschied und begann seine wanderschaft'] - 0 - 0 \n",
      "\n",
      "2894 - 0.09364434969121543 -  38_Die_drei_Gaehnertxt - ['es war einmal eine frau welche die angewohnheit hatte an jedem abend erst dann zu bette zu gehen wenn sie dreimal vor muedigkeit hatte gaehnen muessen diese frau sass eines abends an ihrem spinnrocken da kletterte ein dieb am hause in die hoehe und sah vorsichtig durch die fensterscheibe denn er hatte sich mit zwei andern dieben verabredet in der nacht hier einzubrechen in diesem augenblicke musste die frau zum ersten male gaehnen und dabei zaehlte sie und sagte vor sich hin das war der erste sie meinte eigentlich das sei der erste gaehner gewesen aber der dieb vor dem fenster meinte sie zaehle die diebe die hier in der nacht einbrechen wollten und es sei alles verrathen darum sprang er rasch wieder an dem hause herunter und lief davon nicht lange so kam der zweite dieb kletterte auch an dem hause in die hoehe und sah ebenfalls durch die fensterscheibe in dem augenblicke musste die frau zum zweiten male gaehnen und da zaehlte sie wieder und sprach das war der zweite da war der zweite dieb sehr erschrocken sprang an dem hause herunter und lief davon nach einiger zeit kam der dritte dieb der wollte sich auch vorher ueberzeugen wies in der stube aussah kletterte deshalb ebenfalls an dem hause in die hoehe und blickte durch die fensterscheibe da musste die frau zum dritten male gaehnen und da zaehlte sie das war der dritte auch dieser dieb meinte nicht anders als dass die frau die spitzbuben zaehlte die bei ihr einbrechen wollten und dass das ganze haus inwendig voll gendarmen sei um ihn mit seinen kameraden in der nacht zu empfangen er sprang also schnell an dem hause herunter und lief davon die frau aber weil sie drei mal gegaehnt hatte stand nun auf legte sich zu bette und schlief die ganze nacht hindurch sanft und ungestoert'] - 0 - 0 \n",
      "\n",
      "3480 - 0.09198851695607749 -  47_Vom_Schneider_Hosenblanktxt - ['und thaete es nur wenn er seine tochter haben solle so verspricht ihm der koenig seine tochter zur gemahlin wenn er die raeuber toedten koenne gibt ihm ein pferd pistolen und einen degen als er in die gegend kommt wo die bande sich gemeiniglich aufhaelt sitzen die raeuber alle an einem wasser und essen gerade mittagsbrot da sie aber von ferne an seinem hute lesen dass er neun im unzorn todtgeschlagen hat sagt der raeuberhauptmann das sei ihr todtmacher und da springen alle vor angst ins wasser da haengt er einige davon wie sie als leichen wieder im wasser empor kommen im walde bei den beinen auf und den andern schneidet er die koepfe ab und sagt zum koenige einigen von den raeubern haette er lebendig den kopf abgehauen und die andern lebendig bei den beinen aufgehaengt da gibt ihm der koenig seine tochter zur frau'] - 0 - 0 \n",
      "\n",
      "5904 - 0.09150814963695458 -  Das_Gruselntxt - ['am andern morgen kam der koenig und fragte nun'] - 0 - 0 \n",
      "\n",
      "437 - 0.09045530010411969 -  111_Der_gelernte_Jaegertxt - ['der koenig in dem schloss aber als er aufwachte erblickte er die drei riesen die da tot lagen dann ging er in die schlafkammer seiner tochter weckte sie auf und fragte wer das wohl gewesen waere der die riesen ums leben gebracht haette da sagte sie lieber vater ich weiss es nicht ich habe geschlafen wie sie nun aufstand und ihre pantoffeln anziehen wollte da war der rechte weg und wie sie ihr halstuch betrachtete war es durchschnitten und fehlte der rechte schlippen und wie sie ihr hemd ansah war ein stueckchen heraus der koenig liess den ganzen hof zusammenkommen soldaten und alles was da war und fragte wer seine tochter befreit und die riesen ums leben gebracht haette nun hatte er einen hauptmann der war einaeugig und ein haesslicher mensch der sagte er haette es getan da sprach der alte koenig so er das vollbracht haette sollte er seine tochter auch heiraten die jungfrau aber sagte lieber vater dafuer dass ich den heiraten soll will ich lieber in die welt gehen so weit als mich meine beine tragen da sprach der koenig wenn sie den nicht heiraten wollte sollte sie die koeniglichen kleider ausziehen und bauernkleider antun und fortgehen und sie sollte zu einem toepfer gehen und einen handel mit irdenem geschirr anfangen da tat sie ihre koeniglichen kleider aus und ging zu einem toepfer und borgte sich einen kram irden werk sie versprach ihm auch wenn sies am abend verkauft haette wollte sie es bezahlen nun sagte der koenig sie sollte sich an eine ecke damit setzen und es verkaufen dann bestellte er etliche bauerwagen die sollten mitten durchfahren dass alles in tausend stuecke ginge wie nun die koenigstochter ihren kram auf die strasse hingestellt hatte kamen die wagen und zerbrachen ihn zu lauter scherben sie fing an zu weinen und sprach ach gott wie will ich nun dem toepfer bezahlen der koenig aber hatte sie damit zwingen wollen den hauptmann zu heiraten statt dessen ging sie wieder zum toepfer und fragte ihn ob er ihr noch einmal borgen wollte er antwortete nein sie sollte erst das vorige bezahlen da ging sie zu ihrem vater schrie und jammerte und sagte sie wollte in die welt hineingehen da sprach er ich will dir draussen in dem wald ein haeuschen bauen lassen darin sollst du dein lebtag sitzen und fuer jedermann kochen du darfst aber kein geld nehmen als das haeuschen fertig war ward vor die tuere ein schild gehaengt darauf stand geschrieben heute umsonst morgen fuer geld da sass sie lange zeit und sprach es sich in der welt herum da saesse eine jungfrau die kochte umsonst und das staende vor der tuere an einem schild das hoerte auch der jaeger und dachte das waer etwas fuer dich du bist doch arm und hast kein geld er nahm also seine windbuechse und seinen ranzen worin noch alles steckte was er damals im schloss als wahrzeichen mitgenommen hatte ging in den wald und fand auch das haeuschen mit dem schild heute umsonst morgen fuer geld er hatte aber den degen umhaengen womit er den drei riesen den kopf abgehauen hatte trat so in das haeuschen hinein und liess sich etwas zu essen geben er freute sich ueber das schoene maedchen es war aber auch bildschoen sie fragte wo er herkaeme und hin wollte da sagte er ich reise in der welt herum da fragte sie ihn wo er den degen her haette da staende ja ihres vaters name darauf fragte er ob sie des koenigs tochter waere ja antwortete sie mit diesem saebel sprach er habe ich drei riesen den kopf abgehauen und holte zum zeichen ihre zungen aus dem ranzen dann zeigte er ihr auch den pantoffel den schlippen vom halstuch und das stueck vom hemd da war sie voll freude und sagte er waere derjenige der sie erloest haette darauf gingen sie zusammen zum alten koenig und holten ihn herbei und sie fuehrte ihn in ihre kammer und sagte ihm der jaeger waere der rechte der sie von den riesen erloest haette und wie der alte koenig die wahrzeichen alle sah da konnte er nicht mehr zweifeln und sagte es waere ihm lieb dass er wuesste wie alles zugegangen waere und er sollte sie nun auch zur gemahlin haben darueber freute sich die jungfrau von herzen darauf kleideten sie ihn als wenn er ein fremder herr waere und der koenig liess ein gastmahl anstellen als sie nun zu tisch gingen kam der hauptmann auf die linke seite der koenigstochter zu sitzen der jaeger aber auf die rechte und der hauptmann meinte das waere ein fremder herr und waere zum besuch gekommen wie sie gegessen und getrunken hatten sprach der alte koenig zum hauptmann er wollte ihm etwas aufgeben das sollte er erraten wenn einer spraeche er haette drei riesen ums leben gebracht und er gefragt wuerde wo die zungen der riesen waeren und er muesste zusehen und waeren keine in ihren koepfen wie das zuginge da sagte der hauptmann sie werden keine gehabt haben nicht so sagte der koenig jedes getier hat eine zunge und fragte weiter was der wert waere dass ihm widerfuehre antwortete der hauptmann der gehoert in stuecken zerrissen zu werden da sagte der koenig er haette sich selber sein urteil gesprochen und ward der hauptmann gefaenglich gesetzt und dann in vier stuecke zerrissen die koenigstochter aber mit dem jaeger vermaehlt danach holte er seinen vater und seine mutter herbei und die lebten in freude bei ihrem sohn und nach des alten koenigs tod bekam er das reich'] - 0 - 0 \n",
      "\n"
     ]
    }
   ],
   "source": [
    "for index, score in (find_similar(vokabular, n_te)):\n",
    "    if (df.index_string[index]==0 and score>0.09):\n",
    "        print(index,'-', score,'-', df.quelle[index],'-', \n",
    "           t_corpus[index], '-',  df.index_binar[index],'-', df.index_binar[index],'\\n' )"
   ]
  },
  {
   "cell_type": "markdown",
   "metadata": {},
   "source": [
    "## Ende "
   ]
  },
  {
   "cell_type": "code",
   "execution_count": null,
   "metadata": {},
   "outputs": [],
   "source": []
  }
 ],
 "metadata": {
  "kernelspec": {
   "display_name": "Python 3 (ipykernel)",
   "language": "python",
   "name": "python3"
  },
  "language_info": {
   "codemirror_mode": {
    "name": "ipython",
    "version": 3
   },
   "file_extension": ".py",
   "mimetype": "text/x-python",
   "name": "python",
   "nbconvert_exporter": "python",
   "pygments_lexer": "ipython3",
   "version": "3.9.7"
  }
 },
 "nbformat": 4,
 "nbformat_minor": 2
}
