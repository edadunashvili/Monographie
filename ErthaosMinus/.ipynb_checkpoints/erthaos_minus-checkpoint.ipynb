{
 "cells": [
  {
   "cell_type": "markdown",
   "metadata": {},
   "source": [
    "# Künstlicher Assistent für die Suche nach den Trainingsdaten"
   ]
  },
  {
   "cell_type": "markdown",
   "metadata": {},
   "source": [
    "## Google Colab Arbeitplatz vorbereiten"
   ]
  },
  {
   "cell_type": "code",
   "execution_count": null,
   "metadata": {},
   "outputs": [],
   "source": [
    "!git clone https://github.com/edadunashvili/Monographie.git"
   ]
  },
  {
   "cell_type": "code",
   "execution_count": null,
   "metadata": {},
   "outputs": [],
   "source": [
    "cd /content/Monographie/ErthaosMinus"
   ]
  },
  {
   "cell_type": "code",
   "execution_count": null,
   "metadata": {},
   "outputs": [],
   "source": [
    "from IPython.display import HTML, display\n",
    "\n",
    "def set_css():\n",
    "  display(HTML('''\n",
    "  <style>\n",
    "    pre {\n",
    "        white-space: pre-wrap;\n",
    "    }\n",
    "  </style>\n",
    "  '''))\n",
    "get_ipython().events.register('pre_run_cell', set_css)"
   ]
  },
  {
   "cell_type": "markdown",
   "metadata": {},
   "source": [
    "## Aggregation des Korpus von unbekannten Daten "
   ]
  },
  {
   "cell_type": "markdown",
   "metadata": {},
   "source": [
    "[Zelle # 1]\n",
    "\n",
    "1-5: Der vorhandene Daten-Korpus löschen (falls vorhanden). Die Funktion wird im Folgenden zwecks Beseitigung von weiteren Aggregationen verwendet.\n",
    "\n",
    "6-61: Aggregation des Rohdatenkorpus.\n",
    "\n",
    "62-70: Aggregation der \"episode_string_such.csv\" Datei.\n",
    "\n",
    "71-76: 'episode_string_such.csv' laden, von den überflüssigen Zeichen bereinigen, fehlende Feldwerte auffüllen und in 'episode_binar_such.csv' umwandeln.\n",
    "\n",
    "77-78: Unnotige Aggregationen werden gelöscht."
   ]
  },
  {
   "cell_type": "code",
   "execution_count": 8,
   "metadata": {},
   "outputs": [],
   "source": [
    "def entfernen(var):\n",
    "    import os\n",
    "    if os.path.exists(var):\n",
    "        os.remove(var)\n",
    "entfernen('episode_binar_roh.csv')"
   ]
  },
  {
   "cell_type": "code",
   "execution_count": 9,
   "metadata": {},
   "outputs": [],
   "source": [
    "def clean(line):\n",
    "    line = line.replace(\"\\n\",\" \").strip()\n",
    "    line = line.replace(\"ä\",\"ae\").replace(\"ü\",\"ue\").replace(\"ö\",\"oe\")\n",
    "    line = line.replace(\"ß\",\"ss\").replace(\",\",\"\").replace(\"«\",\"\")\n",
    "    line = line.replace(\"»\",\"\").replace(\".\",\"\").replace(\":\",\"\")\n",
    "    line = line.replace(\";\",\"\").replace('\"',\"\")\n",
    "    line = line.replace(\"?\",\"\").replace(\"!\",\"\").replace(\"á\",\"a\")\n",
    "    line = line.replace(\",\",\"\").replace(\"\\t\",\" \").replace(\"'\",\"\")\n",
    "    line = line.replace(\"‹\",\"\").replace(\"›\",\"\").replace(\"-\",\" \")\n",
    "    line = line.replace(\"'('\",\"\").replace(\"')'\",\"\").replace('>','')\n",
    "    line = line.replace(\"    \",\" \").replace(\"   \",\" \").replace(\"  \",\" \")\n",
    "    line = line.replace('–','').replace('—','').replace('<','')\n",
    "    line = line.replace(\"Â\", \"A\").replace(\"ø\", \"oe\").replace('“','')\n",
    "    line = line.replace('„','').replace('(','').replace(')','')\n",
    "    line = line.replace(\"‚\", \"\").replace(']','').replace('[','')\n",
    "    if line == \"\": \n",
    "        return\n",
    "    line=line.split(\"|\")\n",
    "    line[0]=line[0].split(\"|\")[0]\n",
    "    for i, _ in enumerate(line):\n",
    "        if (i !=0) and (i!=2):\n",
    "            line[i]=line[i].lower()\n",
    "    flex=[]\n",
    "    try:\n",
    "        flex=line[1].split(\"\")\n",
    "    except:\n",
    "        pass\n",
    "    value=str(line)\n",
    "    line=str(line)   \n",
    "    flex.append(line)\n",
    "    ret=[]\n",
    "    for i in flex:\n",
    "        ret.append((i,value[0]))\n",
    "    return ret\n",
    "def write_back(words, temp):\n",
    "    with open(temp, \"a\", encoding='utf-8') as output:      \n",
    "        for word in words:\n",
    "            as_lex = word[0]\n",
    "            full_word = '\"' + as_lex + '\"'\n",
    "            for sub_word in word[1:]:\n",
    "                full_word += \" , \"  '\"' + sub_word + '\"'\n",
    "            full_word +=\"\\n\"\n",
    "            output.write(full_word)\n",
    "def aggreg(temp, ordner):\n",
    "    import glob\n",
    "    with open(temp, \"w\", encoding='utf-8') as output:\n",
    "        output.write (\"quelle,episode,index_string,index_binar\\n\")\n",
    "    sorted_files=sorted(glob.glob(ordner))\n",
    "    pairs = []\n",
    "    for file in sorted_files:\n",
    "        with open(file, 'r', encoding='utf-8', errors='ignore') as episode:\n",
    "            for line in episode.readlines():\n",
    "                clean_words = clean(line)\n",
    "                pairs = pairs + clean_words\n",
    "    write_back(pairs, temp)\n",
    "temp = \"episode_temp_roh.csv\"\n",
    "ordner = \"Datendepot/*.txt\"\n",
    "aggreg(temp, ordner)\n",
    "fin = open('episode_temp_roh.csv','r', encoding ='utf-8')\n",
    "fout = open('episode_string_roh.csv', \"wt\", encoding ='utf-8')\n",
    "for kfz in fin:\n",
    "    fout.write(kfz.replace(', \"[\"',\"\").replace('\"[', \"\").replace(']\"',\"\")\n",
    "               .replace(\"', '\", \"','\").replace(\" '\", \"'\"))\n",
    "fin.close()\n",
    "fout.close()\n",
    "\n",
    "fin = open('episode_string_roh.csv','r', encoding='utf-8') \n",
    "fout = open('episode_binar_roh.csv', \"wt\", encoding='utf-8')\n",
    "for efz in fin:\n",
    "    fout.write(efz.replace(\"'\",\"\").replace(',,0,0',',test,0,0'))             \n",
    "fin.close()\n",
    "fout.close()\n",
    "entfernen('episode_temp_roh.csv')\n",
    "entfernen('episode_string_roh.csv')"
   ]
  },
  {
   "cell_type": "markdown",
   "metadata": {},
   "source": [
    "[Zelle # 2]\n",
    "\n",
    "1-11: Rohdatenkopus aus dem Datenfeld 'epsode' bestimmen und alle andere Felder ignorieren.\n",
    "\n",
    "12-17: Datenfeld 'episode' von Stoppwörter bereinigen, zur Auffüllung der fehlende Werte eingesetzte synthetischer Stoff (hier das Wort 'test') entfernen.  "
   ]
  },
  {
   "cell_type": "code",
   "execution_count": 10,
   "metadata": {},
   "outputs": [
    {
     "name": "stderr",
     "output_type": "stream",
     "text": [
      "[nltk_data] Downloading package stopwords to\n",
      "[nltk_data]     C:\\Users\\elguj\\AppData\\Roaming\\nltk_data...\n",
      "[nltk_data]   Package stopwords is already up-to-date!\n"
     ]
    }
   ],
   "source": [
    "import csv\n",
    "import pandas as pd\n",
    "df = pd.read_csv('episode_binar_roh.csv', encoding='utf-8')\n",
    "t_corpus = []\n",
    "file = 'episode_binar_roh.csv'\n",
    "with open(file, \"r\", encoding='utf-8') as maerchen:\n",
    "    maerchen = df.episode\n",
    "    reader = csv.reader(maerchen, delimiter = ',')\n",
    "    for row in reader:\n",
    "        lst = str(row)\n",
    "        t_corpus.append(lst)\n",
    "custom_stop_word_list=['test']\n",
    "import nltk\n",
    "nltk.download('stopwords')\n",
    "from nltk.corpus import stopwords\n",
    "NLTK_stop_words_list=stopwords.words('german')\n",
    "de = custom_stop_word_list + NLTK_stop_words_list"
   ]
  },
  {
   "cell_type": "markdown",
   "metadata": {},
   "source": [
    "## Suche nach den Trainigsdaten mit Hife COSINE-SIMILARITY"
   ]
  },
  {
   "cell_type": "markdown",
   "metadata": {},
   "source": [
    "[Zelle # 3]\n",
    "\n",
    "1-14: Vektorisieren, Transformieren und die Metrik für die Vorhersagefunktion definieren"
   ]
  },
  {
   "cell_type": "code",
   "execution_count": 11,
   "metadata": {},
   "outputs": [],
   "source": [
    "from sklearn.feature_extraction.text import TfidfVectorizer\n",
    "from sklearn.feature_extraction.text import CountVectorizer\n",
    "from sklearn.metrics.pairwise import cosine_similarity\n",
    "vectorizer = TfidfVectorizer\n",
    "vectorizers = vectorizer(analyzer='word', ngram_range=(1,1), \n",
    "                         min_df = 2, stop_words = de)\n",
    "vokabular =  vectorizers.fit_transform(t_corpus)\n",
    "metrik = cosine_similarity\n",
    "def find_similar(vokabular, index, top_n =-1):   \n",
    "    metriks = metrik(vokabular[index:index+1], vokabular).flatten()\n",
    "    related_docs_indices = [i for i in metriks.argsort()[::-1] \n",
    "                            if i != index]\n",
    "    return [(index, metriks[index]) for index \n",
    "            in related_docs_indices][0:top_n]"
   ]
  },
  {
   "cell_type": "markdown",
   "metadata": {},
   "source": [
    "[Zelle # 4]\n",
    "\n",
    "1-3: Gesuchte Episode (Zielepisode) eingeben und einblenden lassen.\n",
    "\n",
    "Anmerkung: Die gesuchte Episode wird über die 'n_te'-Variable eingegeben (manuell eingepflegte Zielepisoden sollen deshalb immer in der ersten Reihen der Korpusdatensätzen stehen und alphanummerisch angeordnet sein. Wir bevorzugen, dass diese Daten mit dem Prefix '!_' + Kleinbuchstabe benannt wird.)\n"
   ]
  },
  {
   "cell_type": "code",
   "execution_count": 12,
   "metadata": {
    "scrolled": true
   },
   "outputs": [
    {
     "name": "stdout",
     "output_type": "stream",
     "text": [
      "_a - [' als nun der jaeger mit den drei thieren weiter zog kam er in eine stadt die mit schwarzem flor umzogen war er vernahm dass ein drache in der gegend hause der alljaehrlich eine jungfrau verlange in diesem jahre sei die reihe an des koenigs tochter und darum trauere alles der koenig habe sie demjenigen zur frau versprochen der den drachen toedte']\n"
     ]
    }
   ],
   "source": [
    "n_te = 0\n",
    "synt = t_corpus[n_te]\n",
    "print(df.quelle[n_te],'-', synt)"
   ]
  },
  {
   "cell_type": "markdown",
   "metadata": {},
   "source": [
    "[Zelle # 5]\n",
    "\n",
    "1-3: Suchen starten und die Ergebnisse einblenden lassen"
   ]
  },
  {
   "cell_type": "code",
   "execution_count": 13,
   "metadata": {
    "scrolled": true
   },
   "outputs": [
    {
     "name": "stdout",
     "output_type": "stream",
     "text": [
      "3 - 0.6011660954020697 -  1_siegfried_maerchen - ['dem juengsten kam nicht lange drauf ein loewe in den weg gelaufen er wollte seine buechse anlegen da erhob der loewe seine stimme er solle ihn leben lassen er wolle ihm auch in jeder noth und gefahr beistehen nun dann sprach der jaeger so wende dich hinter mich bald darauf kam ein fuchs gelaufen mit dem ging es ebenso wie mit dem loewen und zuletzt ein hase als nun der jaeger mit den drei thieren weiter zog kam er in eine stadt die mit schwarzem flor umzogen war er vernahm dass ein drache in der gegend hause der alljaehrlich eine jungfrau verlange in diesem jahre sei die reihe an des koenigs tochter und darum trauere alles der koenig habe sie demjenigen zur frau versprochen der den drachen toedte am andern morgen machte sich der jaeger nach dem orte auf wo der drache hauste schon hielt der wagen des koenigs dort in dem die koenigstochter sass nicht lange so kam auch der drache hergefahren er hatte einen langen schweif und sieben koepfe da sprach der jaeger zu seinen thieren nun allesammt und reisst was ihr koennt die thiere packten den drachen an und der jaeger schlug wacker drauf los dass der drache bald todt dalag todtmuede ruhte der jaeger am boden da nahm der kutscher der prinzessin das schwert und schlug dem jaeger den kopf ab und sagte zur prinzessin wenn du mir nicht schwoerst mich als den zu bezeichnen der den drachen getoedtet hat so toedte ich dich da schwur ihm die prinzessin was er verlangte'] - 0 - 0 \n",
      "\n",
      "4549 - 0.2644087807881567 -  60_Die_zwei_Bruedertxt - ['der jaeger aber war traurig zog in der welt herum und liess seine tiere vor den leuten tanzen es trug sich zu dass er gerade nach verlauf eines jahres wieder in dieselbe stadt kam wo er die koenigstochter vom drachen erloest hatte und die stadt war diesmal ganz mit rotem scharlach ausgehaengt da sprach er zum wirt was will das sagen vorm jahr war die stadt mit schwarzem flor ueberzogen was soll heute der rote scharlach der wirt antwortete vorm jahr sollte unsers koenigs tochter dem drachen ausgeliefert werden aber der marschall hat mit ihm gekaempft und ihn getoetet und da soll morgen ihre vermaehlung gefeiert werden darum war die stadt damals mit schwarzem flor zur trauer und ist heute mit rotem scharlach zur freude ausgehaengt'] - 0 - 0 \n",
      "\n",
      "3024 - 0.24436105085914195 -  4_Der_Jaeger_ueber_alle_Jaegertxt - ['damit war die muehle und die heerde von den riesen erloest und der jaeger ueber alle jaeger setzte seine reise fort er kam in eine stadt die ganz mit flor ueberzogen war weil ein drache die koenigstochter vom markte abholen wollte da stellte der jaeger ueber alle jaeger sich mit seinen treuen hunden neben die prinzessin und als der drache kam rief er ihm zu was du an den koenig zu fordern hast kannst du auch an mich fordern in demselben augenblicke sprangen die drei hunde stahl eisen und hille gegen den drachen an und zerrissen ihn'] - 0 - 0 \n",
      "\n",
      "4545 - 0.21607070472599227 -  60_Die_zwei_Bruedertxt - ['als die koenigstochter oben auf den berg kam stand da nicht der drache sondern der junge jaeger der sprach ihr trost ein und sagte er wollte sie retten fuehrte sie in die kirche und verschloss sie darin gar nicht lange so kam mit grossem gebraus der siebenkoepfige drache dahergefahren als er den jaeger erblickte verwunderte er sich und sprach was hast du hier auf dem berge zu schaffen der jaeger antwortete ich will mit dir kaempfen sprach der drache so mancher rittersmann hat hier sein leben gelassen mit dir will ich auch fertig werden und atmete feuer aus sieben rachen das feuer sollte das trockene gras anzuenden und der jaeger sollte in der glut und dem dampf ersticken aber die tiere kamen herbeigelaufen und traten das feuer aus da fuhr der drache gegen den jaeger aber er schwang sein schwert dass es in der luft sang und schlug ihm drei koepfe ab da ward der drache erst recht wuetend erhob sich in die luft spie die feuerflammen ueber den jaeger aus und wollte sich auf ihn stuerzen aber der jaeger zueckte nochmals sein schwert und hieb ihm wieder drei koepfe ab das untier ward matt und sank nieder und wollte doch wieder auf den jaeger los aber er schlug ihm mit der letzten kraft den schweif ab und weil er nicht mehr kaempfen konnte rief er seine tiere herbei die zerrissen es in stuecke als der kampf zu ende war schloss der jaeger die kirche auf und fand die koenigstochter auf der erde liegen weil ihr die sinne vor angst und schrecken waehrend des streites vergangen waren er trug sie heraus und als sie wieder zu sich selbst kam und die augen aufschlug zeigte er ihr den zerrissenen drachen und sagte ihr dass sie nun erloest waere sie freute sich und sprach nun wirst du mein liebster gemahl werden denn mein vater hat mich demjenigen versprochen der den drachen toetet darauf hing sie ihr halsband von korallen ab und verteilte es unter die tiere um sie zu belohnen und der loewe erhielt das goldene schloesschen davon ihr taschentuch aber in dem ihr name stand schenkte sie dem jaeger der ging hin und schnitt aus den sieben drachenkoepfen die zungen aus wickelte sie in das tuch und verwahrte sie wohl'] - 0 - 0 \n",
      "\n",
      "4543 - 0.19559510335680227 -  60_Die_zwei_Bruedertxt - ['da liess sie der wirt hinbringen wo eben eine kuh auf dem rasen lag dass sie sich satt frassen und als der jaeger fuer seine tiere gesorgt hatte fragte er erst den wirt warum die stadt so mit trauerflor ausgehaengt waere sprach der wirt weil morgen unseres koenigs einzige tochter sterben wird fragte der jaeger ist sie sterbenskrank nein antwortete der wirt sie ist frisch und gesund aber sie muss doch sterben wie geht das zu fragte der jaeger draussen vor der stadt ist ein hoher berg darauf wohnt ein drache der muss alle jahr eine reine jungfrau haben sonst verwuestet er das ganze land nun sind schon alle jungfrauen hingegeben und ist niemand mehr uebrig als die koenigstochter dennoch ist keine gnade sie muss ihm ueberliefert werden und das soll morgen geschehen sprach der jaeger warum wird der drache nicht getoetet ach antwortete der wirt so viele ritter habens versucht aber allesamt ihr leben eingebuesst der koenig hat dem der den drachen besiegt seine tochter zur frau versprochen und er soll auch nach seinem tode das reich erben'] - 0 - 0 \n",
      "\n"
     ]
    }
   ],
   "source": [
    "for index, score in (find_similar(vokabular, n_te)):\n",
    "    if (df.index_string[index]==0 and score>0.19):\n",
    "        print(index,'-', score,'-', df.quelle[index],'-', \n",
    "           t_corpus[index], '-',  df.index_binar[index],'-', df.index_binar[index],'\\n' )"
   ]
  },
  {
   "cell_type": "markdown",
   "metadata": {},
   "source": [
    "## Ende "
   ]
  }
 ],
 "metadata": {
  "kernelspec": {
   "display_name": "Python 3 (ipykernel)",
   "language": "python",
   "name": "python3"
  },
  "language_info": {
   "codemirror_mode": {
    "name": "ipython",
    "version": 3
   },
   "file_extension": ".py",
   "mimetype": "text/x-python",
   "name": "python",
   "nbconvert_exporter": "python",
   "pygments_lexer": "ipython3",
   "version": "3.9.7"
  }
 },
 "nbformat": 4,
 "nbformat_minor": 2
}
