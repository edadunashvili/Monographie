{
 "cells": [
  {
   "cell_type": "code",
   "execution_count": 90,
   "id": "61a17e1c",
   "metadata": {},
   "outputs": [],
   "source": [
    "import io \n",
    "from nltk.corpus import stopwords \n",
    "from nltk.tokenize import word_tokenize \n",
    "fname=\"300_301_302_513A_516_554_oss_ID22.txt\"\n",
    "stop_words = set(stopwords.words('german')) \n",
    "file1 = open(fname) \n",
    "line=file1.read()\n",
    "words = line.split(' ')\n",
    "for r in words: \n",
    "    if not r in stop_words: \n",
    "        appendFile = open('SW/'+fname,'a') \n",
    "        appendFile.write(\" \"+r) \n",
    "        appendFile.close() \n"
   ]
  },
  {
   "cell_type": "code",
   "execution_count": null,
   "id": "1041634b",
   "metadata": {},
   "outputs": [],
   "source": []
  },
  {
   "cell_type": "code",
   "execution_count": null,
   "id": "625a9f9c",
   "metadata": {},
   "outputs": [],
   "source": []
  },
  {
   "cell_type": "code",
   "execution_count": null,
   "id": "7ce2535d",
   "metadata": {},
   "outputs": [],
   "source": []
  },
  {
   "cell_type": "code",
   "execution_count": null,
   "id": "4de61a11",
   "metadata": {},
   "outputs": [],
   "source": []
  },
  {
   "cell_type": "code",
   "execution_count": 2,
   "id": "f9625725",
   "metadata": {},
   "outputs": [],
   "source": [
    "# fin = open('300_301_302_513A_516_554_oss_ID22.txt','r', encoding='utf-8') \n",
    "# fout = open('300_301_302_513A_516_554_oss_ID22.csv', \"wt\", encoding='utf-8')\n",
    "# for efz in fin:\n",
    "#     fout.write(efz.replace(\"\\n\",\" \").lower().strip().replace(\"ä\",\"ae\").replace(\"ü\",\"ue\").replace(\"ö\",\"oe\").replace(\"ß\",\"ss\").replace(\",\",\"\").replace(\"«\",\"\").replace(\"»\",\"\").replace(\".\",\"\").replace(\":\",\"\").replace(\";\",\"\").replace('\"',\"\").replace(\"?\",\"\").replace(\"!\",\"\").replace(\"á\",\"a\").replace(\",\",\"\").replace(\"\\t\",\" \").replace(\"'\",\"\").replace(\"‹\",\"\").replace(\"›\",\"\").replace(\"-\",\" \").replace(\"'('\",\"\").replace(\"')'\",\"\").replace('>','').replace(\"    \",\" \").replace(\"   \",\" \").replace(\"  \",\" \").replace('–','').replace('—','').replace('<','').replace(\"Â\", \"A\").replace(\"ø\", \"oe\").replace('“','').replace('„','').replace('(','').replace(')','').replace(\"‚\", \"\").replace(']','').replace('[',''))        \n",
    "# fin.close()\n",
    "# fout.close()"
   ]
  }
 ],
 "metadata": {
  "kernelspec": {
   "display_name": "Python 3 (ipykernel)",
   "language": "python",
   "name": "python3"
  },
  "language_info": {
   "codemirror_mode": {
    "name": "ipython",
    "version": 3
   },
   "file_extension": ".py",
   "mimetype": "text/x-python",
   "name": "python",
   "nbconvert_exporter": "python",
   "pygments_lexer": "ipython3",
   "version": "3.9.7"
  }
 },
 "nbformat": 4,
 "nbformat_minor": 5
}
